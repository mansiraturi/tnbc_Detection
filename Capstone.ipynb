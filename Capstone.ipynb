{
  "cells": [
    {
      "cell_type": "markdown",
      "metadata": {
        "id": "view-in-github",
        "colab_type": "text"
      },
      "source": [
        "<a href=\"https://colab.research.google.com/github/mansiraturi/tnbc_Detection/blob/main/Capstone.ipynb\" target=\"_parent\"><img src=\"https://colab.research.google.com/assets/colab-badge.svg\" alt=\"Open In Colab\"/></a>"
      ]
    },
    {
      "cell_type": "code",
      "execution_count": null,
      "metadata": {
        "id": "_RdaRrnZnuLU"
      },
      "outputs": [],
      "source": [
        "import pandas as pd\n",
        "import numpy as np\n",
        "import matplotlib.pyplot as plt\n",
        "%matplotlib inline\n",
        "\n",
        "from sklearn.datasets import load_breast_cancer\n",
        "from sklearn.preprocessing import StandardScaler\n",
        "\n",
        "import sklearn.linear_model as skl_lm\n",
        "from sklearn import preprocessing\n",
        "from sklearn import neighbors\n",
        "from sklearn.metrics import confusion_matrix, classification_report, precision_score\n",
        "from sklearn.model_selection import train_test_split\n",
        "\n",
        "import pickle"
      ]
    },
    {
      "cell_type": "code",
      "source": [
        "import warnings\n",
        "warnings.filterwarnings(\"ignore\")"
      ],
      "metadata": {
        "id": "eIH99SCNK3e3"
      },
      "execution_count": null,
      "outputs": []
    },
    {
      "cell_type": "code",
      "execution_count": null,
      "metadata": {
        "colab": {
          "base_uri": "https://localhost:8080/"
        },
        "id": "J-K0SY2kvLXf",
        "outputId": "2333fc42-25fc-40e5-911a-4d3beb07862b"
      },
      "outputs": [
        {
          "output_type": "stream",
          "name": "stdout",
          "text": [
            "Drive already mounted at /content/drive; to attempt to forcibly remount, call drive.mount(\"/content/drive\", force_remount=True).\n"
          ]
        }
      ],
      "source": [
        "from google.colab import drive\n",
        "drive.mount(\"/content/drive\")"
      ]
    },
    {
      "cell_type": "markdown",
      "metadata": {
        "id": "EsDi3uz3n_KW"
      },
      "source": [
        "# Data Preprocessing"
      ]
    },
    {
      "cell_type": "markdown",
      "source": [
        "**Load & Handle Gene Features**"
      ],
      "metadata": {
        "id": "k8rrggwrB39X"
      }
    },
    {
      "cell_type": "code",
      "execution_count": null,
      "metadata": {
        "id": "2DL1aJu4O-Ul"
      },
      "outputs": [],
      "source": [
        "clinical= pd.read_csv('/content/drive/MyDrive/TNBC/brca_tcga_clinical_data.tsv', delimiter=\"\\t\")"
      ]
    },
    {
      "cell_type": "code",
      "execution_count": null,
      "metadata": {
        "id": "k2kGU3ZQPDWf"
      },
      "outputs": [],
      "source": [
        "genes = genes = pd.read_csv('/content/drive/MyDrive/TNBC/data_mrna_seq_v2_rsem_zscores_ref_all_samples.txt', delimiter=\"\\t\")"
      ]
    },
    {
      "cell_type": "code",
      "execution_count": null,
      "metadata": {
        "colab": {
          "base_uri": "https://localhost:8080/"
        },
        "id": "bQcmrB89v1WT",
        "outputId": "c399549d-b034-4321-e66f-cf32b0f9bdf2"
      },
      "outputs": [
        {
          "output_type": "execute_result",
          "data": {
            "text/plain": [
              "(20531, 1102)"
            ]
          },
          "metadata": {},
          "execution_count": 7
        }
      ],
      "source": [
        "genes.shape"
      ]
    },
    {
      "cell_type": "code",
      "execution_count": null,
      "metadata": {
        "colab": {
          "base_uri": "https://localhost:8080/",
          "height": 351
        },
        "id": "rk3gdXy1v56s",
        "outputId": "f509c9d7-4933-45e4-87a6-44605bb8e8f4"
      },
      "outputs": [
        {
          "output_type": "execute_result",
          "data": {
            "text/plain": [
              "    Hugo_Symbol  Entrez_Gene_Id  TCGA-3C-AAAU-01  TCGA-3C-AALI-01  \\\n",
              "0  LOC100130426       100130426          -1.7608          -1.7608   \n",
              "1      UBE2Q2P3       100133144           1.0944           0.3540   \n",
              "2      UBE2Q2P3       100134869           1.0230           1.4736   \n",
              "3       HMGB1P1           10357          -1.7033          -1.0056   \n",
              "4        TIMM23           10431          -2.5248          -1.6307   \n",
              "\n",
              "   TCGA-3C-AALJ-01  TCGA-3C-AALK-01  TCGA-4H-AAAK-01  TCGA-5L-AAT0-01  \\\n",
              "0           1.1240          -1.7608          -1.7608          -1.7608   \n",
              "1           0.6451           0.6963          -0.0246          -0.6627   \n",
              "2           0.5206           0.7910           1.1891           1.1002   \n",
              "3           0.9114           0.7418          -0.5522           0.1842   \n",
              "4           0.8069          -0.4455          -0.7821          -0.6367   \n",
              "\n",
              "   TCGA-5L-AAT1-01  TCGA-5T-A9QA-01  ...  TCGA-UL-AAZ6-01  TCGA-UU-A93S-01  \\\n",
              "0          -1.7608          -1.7608  ...          -1.7608          -1.7608   \n",
              "1          -2.9270          -1.6563  ...          -2.4538          -0.5741   \n",
              "2           0.7244           0.4830  ...           1.1830           0.7643   \n",
              "3           0.2208           0.0383  ...           0.5990           0.6079   \n",
              "4           0.2389           0.9257  ...           1.2029           2.8887   \n",
              "\n",
              "   TCGA-V7-A7HQ-01  TCGA-W8-A86G-01  TCGA-WT-AB41-01  TCGA-WT-AB44-01  \\\n",
              "0          -1.7608          -1.7608          -1.7608          -1.7608   \n",
              "1          -2.9270          -0.2765          -2.9270          -2.9270   \n",
              "2          -0.9748           1.1829          -0.0262          -0.9051   \n",
              "3          -3.0182           0.4649          -1.6364          -2.2051   \n",
              "4           1.4583          -1.0420           0.5612           1.6977   \n",
              "\n",
              "   TCGA-XX-A899-01  TCGA-XX-A89A-01  TCGA-Z7-A8R5-01  TCGA-Z7-A8R6-01  \n",
              "0          -1.7608          -1.7608          -1.7608          -1.7608  \n",
              "1           0.9240           1.5101          -1.2605          -0.0175  \n",
              "2           1.7984           2.1743           0.1793           2.0240  \n",
              "3           0.6371          -1.2071          -0.5285           1.1111  \n",
              "4          -1.2260          -0.9444           0.3174          -0.0360  \n",
              "\n",
              "[5 rows x 1102 columns]"
            ],
            "text/html": [
              "\n",
              "  <div id=\"df-76189d17-70c4-48d2-888f-8c369218fd7c\">\n",
              "    <div class=\"colab-df-container\">\n",
              "      <div>\n",
              "<style scoped>\n",
              "    .dataframe tbody tr th:only-of-type {\n",
              "        vertical-align: middle;\n",
              "    }\n",
              "\n",
              "    .dataframe tbody tr th {\n",
              "        vertical-align: top;\n",
              "    }\n",
              "\n",
              "    .dataframe thead th {\n",
              "        text-align: right;\n",
              "    }\n",
              "</style>\n",
              "<table border=\"1\" class=\"dataframe\">\n",
              "  <thead>\n",
              "    <tr style=\"text-align: right;\">\n",
              "      <th></th>\n",
              "      <th>Hugo_Symbol</th>\n",
              "      <th>Entrez_Gene_Id</th>\n",
              "      <th>TCGA-3C-AAAU-01</th>\n",
              "      <th>TCGA-3C-AALI-01</th>\n",
              "      <th>TCGA-3C-AALJ-01</th>\n",
              "      <th>TCGA-3C-AALK-01</th>\n",
              "      <th>TCGA-4H-AAAK-01</th>\n",
              "      <th>TCGA-5L-AAT0-01</th>\n",
              "      <th>TCGA-5L-AAT1-01</th>\n",
              "      <th>TCGA-5T-A9QA-01</th>\n",
              "      <th>...</th>\n",
              "      <th>TCGA-UL-AAZ6-01</th>\n",
              "      <th>TCGA-UU-A93S-01</th>\n",
              "      <th>TCGA-V7-A7HQ-01</th>\n",
              "      <th>TCGA-W8-A86G-01</th>\n",
              "      <th>TCGA-WT-AB41-01</th>\n",
              "      <th>TCGA-WT-AB44-01</th>\n",
              "      <th>TCGA-XX-A899-01</th>\n",
              "      <th>TCGA-XX-A89A-01</th>\n",
              "      <th>TCGA-Z7-A8R5-01</th>\n",
              "      <th>TCGA-Z7-A8R6-01</th>\n",
              "    </tr>\n",
              "  </thead>\n",
              "  <tbody>\n",
              "    <tr>\n",
              "      <th>0</th>\n",
              "      <td>LOC100130426</td>\n",
              "      <td>100130426</td>\n",
              "      <td>-1.7608</td>\n",
              "      <td>-1.7608</td>\n",
              "      <td>1.1240</td>\n",
              "      <td>-1.7608</td>\n",
              "      <td>-1.7608</td>\n",
              "      <td>-1.7608</td>\n",
              "      <td>-1.7608</td>\n",
              "      <td>-1.7608</td>\n",
              "      <td>...</td>\n",
              "      <td>-1.7608</td>\n",
              "      <td>-1.7608</td>\n",
              "      <td>-1.7608</td>\n",
              "      <td>-1.7608</td>\n",
              "      <td>-1.7608</td>\n",
              "      <td>-1.7608</td>\n",
              "      <td>-1.7608</td>\n",
              "      <td>-1.7608</td>\n",
              "      <td>-1.7608</td>\n",
              "      <td>-1.7608</td>\n",
              "    </tr>\n",
              "    <tr>\n",
              "      <th>1</th>\n",
              "      <td>UBE2Q2P3</td>\n",
              "      <td>100133144</td>\n",
              "      <td>1.0944</td>\n",
              "      <td>0.3540</td>\n",
              "      <td>0.6451</td>\n",
              "      <td>0.6963</td>\n",
              "      <td>-0.0246</td>\n",
              "      <td>-0.6627</td>\n",
              "      <td>-2.9270</td>\n",
              "      <td>-1.6563</td>\n",
              "      <td>...</td>\n",
              "      <td>-2.4538</td>\n",
              "      <td>-0.5741</td>\n",
              "      <td>-2.9270</td>\n",
              "      <td>-0.2765</td>\n",
              "      <td>-2.9270</td>\n",
              "      <td>-2.9270</td>\n",
              "      <td>0.9240</td>\n",
              "      <td>1.5101</td>\n",
              "      <td>-1.2605</td>\n",
              "      <td>-0.0175</td>\n",
              "    </tr>\n",
              "    <tr>\n",
              "      <th>2</th>\n",
              "      <td>UBE2Q2P3</td>\n",
              "      <td>100134869</td>\n",
              "      <td>1.0230</td>\n",
              "      <td>1.4736</td>\n",
              "      <td>0.5206</td>\n",
              "      <td>0.7910</td>\n",
              "      <td>1.1891</td>\n",
              "      <td>1.1002</td>\n",
              "      <td>0.7244</td>\n",
              "      <td>0.4830</td>\n",
              "      <td>...</td>\n",
              "      <td>1.1830</td>\n",
              "      <td>0.7643</td>\n",
              "      <td>-0.9748</td>\n",
              "      <td>1.1829</td>\n",
              "      <td>-0.0262</td>\n",
              "      <td>-0.9051</td>\n",
              "      <td>1.7984</td>\n",
              "      <td>2.1743</td>\n",
              "      <td>0.1793</td>\n",
              "      <td>2.0240</td>\n",
              "    </tr>\n",
              "    <tr>\n",
              "      <th>3</th>\n",
              "      <td>HMGB1P1</td>\n",
              "      <td>10357</td>\n",
              "      <td>-1.7033</td>\n",
              "      <td>-1.0056</td>\n",
              "      <td>0.9114</td>\n",
              "      <td>0.7418</td>\n",
              "      <td>-0.5522</td>\n",
              "      <td>0.1842</td>\n",
              "      <td>0.2208</td>\n",
              "      <td>0.0383</td>\n",
              "      <td>...</td>\n",
              "      <td>0.5990</td>\n",
              "      <td>0.6079</td>\n",
              "      <td>-3.0182</td>\n",
              "      <td>0.4649</td>\n",
              "      <td>-1.6364</td>\n",
              "      <td>-2.2051</td>\n",
              "      <td>0.6371</td>\n",
              "      <td>-1.2071</td>\n",
              "      <td>-0.5285</td>\n",
              "      <td>1.1111</td>\n",
              "    </tr>\n",
              "    <tr>\n",
              "      <th>4</th>\n",
              "      <td>TIMM23</td>\n",
              "      <td>10431</td>\n",
              "      <td>-2.5248</td>\n",
              "      <td>-1.6307</td>\n",
              "      <td>0.8069</td>\n",
              "      <td>-0.4455</td>\n",
              "      <td>-0.7821</td>\n",
              "      <td>-0.6367</td>\n",
              "      <td>0.2389</td>\n",
              "      <td>0.9257</td>\n",
              "      <td>...</td>\n",
              "      <td>1.2029</td>\n",
              "      <td>2.8887</td>\n",
              "      <td>1.4583</td>\n",
              "      <td>-1.0420</td>\n",
              "      <td>0.5612</td>\n",
              "      <td>1.6977</td>\n",
              "      <td>-1.2260</td>\n",
              "      <td>-0.9444</td>\n",
              "      <td>0.3174</td>\n",
              "      <td>-0.0360</td>\n",
              "    </tr>\n",
              "  </tbody>\n",
              "</table>\n",
              "<p>5 rows × 1102 columns</p>\n",
              "</div>\n",
              "      <button class=\"colab-df-convert\" onclick=\"convertToInteractive('df-76189d17-70c4-48d2-888f-8c369218fd7c')\"\n",
              "              title=\"Convert this dataframe to an interactive table.\"\n",
              "              style=\"display:none;\">\n",
              "        \n",
              "  <svg xmlns=\"http://www.w3.org/2000/svg\" height=\"24px\"viewBox=\"0 0 24 24\"\n",
              "       width=\"24px\">\n",
              "    <path d=\"M0 0h24v24H0V0z\" fill=\"none\"/>\n",
              "    <path d=\"M18.56 5.44l.94 2.06.94-2.06 2.06-.94-2.06-.94-.94-2.06-.94 2.06-2.06.94zm-11 1L8.5 8.5l.94-2.06 2.06-.94-2.06-.94L8.5 2.5l-.94 2.06-2.06.94zm10 10l.94 2.06.94-2.06 2.06-.94-2.06-.94-.94-2.06-.94 2.06-2.06.94z\"/><path d=\"M17.41 7.96l-1.37-1.37c-.4-.4-.92-.59-1.43-.59-.52 0-1.04.2-1.43.59L10.3 9.45l-7.72 7.72c-.78.78-.78 2.05 0 2.83L4 21.41c.39.39.9.59 1.41.59.51 0 1.02-.2 1.41-.59l7.78-7.78 2.81-2.81c.8-.78.8-2.07 0-2.86zM5.41 20L4 18.59l7.72-7.72 1.47 1.35L5.41 20z\"/>\n",
              "  </svg>\n",
              "      </button>\n",
              "      \n",
              "  <style>\n",
              "    .colab-df-container {\n",
              "      display:flex;\n",
              "      flex-wrap:wrap;\n",
              "      gap: 12px;\n",
              "    }\n",
              "\n",
              "    .colab-df-convert {\n",
              "      background-color: #E8F0FE;\n",
              "      border: none;\n",
              "      border-radius: 50%;\n",
              "      cursor: pointer;\n",
              "      display: none;\n",
              "      fill: #1967D2;\n",
              "      height: 32px;\n",
              "      padding: 0 0 0 0;\n",
              "      width: 32px;\n",
              "    }\n",
              "\n",
              "    .colab-df-convert:hover {\n",
              "      background-color: #E2EBFA;\n",
              "      box-shadow: 0px 1px 2px rgba(60, 64, 67, 0.3), 0px 1px 3px 1px rgba(60, 64, 67, 0.15);\n",
              "      fill: #174EA6;\n",
              "    }\n",
              "\n",
              "    [theme=dark] .colab-df-convert {\n",
              "      background-color: #3B4455;\n",
              "      fill: #D2E3FC;\n",
              "    }\n",
              "\n",
              "    [theme=dark] .colab-df-convert:hover {\n",
              "      background-color: #434B5C;\n",
              "      box-shadow: 0px 1px 3px 1px rgba(0, 0, 0, 0.15);\n",
              "      filter: drop-shadow(0px 1px 2px rgba(0, 0, 0, 0.3));\n",
              "      fill: #FFFFFF;\n",
              "    }\n",
              "  </style>\n",
              "\n",
              "      <script>\n",
              "        const buttonEl =\n",
              "          document.querySelector('#df-76189d17-70c4-48d2-888f-8c369218fd7c button.colab-df-convert');\n",
              "        buttonEl.style.display =\n",
              "          google.colab.kernel.accessAllowed ? 'block' : 'none';\n",
              "\n",
              "        async function convertToInteractive(key) {\n",
              "          const element = document.querySelector('#df-76189d17-70c4-48d2-888f-8c369218fd7c');\n",
              "          const dataTable =\n",
              "            await google.colab.kernel.invokeFunction('convertToInteractive',\n",
              "                                                     [key], {});\n",
              "          if (!dataTable) return;\n",
              "\n",
              "          const docLinkHtml = 'Like what you see? Visit the ' +\n",
              "            '<a target=\"_blank\" href=https://colab.research.google.com/notebooks/data_table.ipynb>data table notebook</a>'\n",
              "            + ' to learn more about interactive tables.';\n",
              "          element.innerHTML = '';\n",
              "          dataTable['output_type'] = 'display_data';\n",
              "          await google.colab.output.renderOutput(dataTable, element);\n",
              "          const docLink = document.createElement('div');\n",
              "          docLink.innerHTML = docLinkHtml;\n",
              "          element.appendChild(docLink);\n",
              "        }\n",
              "      </script>\n",
              "    </div>\n",
              "  </div>\n",
              "  "
            ]
          },
          "metadata": {},
          "execution_count": 8
        }
      ],
      "source": [
        "genes.head()"
      ]
    },
    {
      "cell_type": "code",
      "execution_count": null,
      "metadata": {
        "id": "Ydye31kbv8UD"
      },
      "outputs": [],
      "source": [
        "## Set aside gene name to numerical id\n",
        "## Will be exported for reuse\n",
        "gene_map = genes.iloc[:, 0:2]"
      ]
    },
    {
      "cell_type": "markdown",
      "source": [
        "**Drop ESR1 (estrogen receptor), PGR (progesterone receptor), ERBB2 (HER2 receptor) genes to prevent data leakage**"
      ],
      "metadata": {
        "id": "KDm7KQlIpaom"
      }
    },
    {
      "cell_type": "code",
      "execution_count": null,
      "metadata": {
        "colab": {
          "base_uri": "https://localhost:8080/"
        },
        "id": "CldYVTzbwank",
        "outputId": "f2bc1f18-70a0-4d4e-bdef-f368cacb0c75"
      },
      "outputs": [
        {
          "output_type": "execute_result",
          "data": {
            "text/plain": [
              "[True, True, True]"
            ]
          },
          "metadata": {},
          "execution_count": 10
        }
      ],
      "source": [
        "## First check if the 3 genes are in the data\n",
        "GENES_TO_DROP = [\"ESR1\", \"PGR\", \"ERBB2\"]\n",
        "[g in genes[\"Hugo_Symbol\"].values for g in GENES_TO_DROP]"
      ]
    },
    {
      "cell_type": "code",
      "execution_count": null,
      "metadata": {
        "id": "41ZiItN-waqk"
      },
      "outputs": [],
      "source": [
        "## Next, drop the 3 genes from the dataframe\n",
        "genes = genes.loc[~genes[\"Hugo_Symbol\"].isin(GENES_TO_DROP), :]"
      ]
    },
    {
      "cell_type": "code",
      "execution_count": null,
      "metadata": {
        "colab": {
          "base_uri": "https://localhost:8080/"
        },
        "id": "cpCTBzbuwatZ",
        "outputId": "4c6e20c4-1624-44a5-eadb-d12f004c4148"
      },
      "outputs": [
        {
          "output_type": "execute_result",
          "data": {
            "text/plain": [
              "[False, False, False]"
            ]
          },
          "metadata": {},
          "execution_count": 12
        }
      ],
      "source": [
        "## Check: all should be False\n",
        "[g in genes[\"Hugo_Symbol\"].values for g in GENES_TO_DROP]"
      ]
    },
    {
      "cell_type": "code",
      "execution_count": null,
      "metadata": {
        "id": "RMLntnGowi0d"
      },
      "outputs": [],
      "source": [
        "# assert not any(genes.duplicated(\"Entrez_Gene_Id\"))  #ensure no duplicate id\n",
        "genes.index = genes[\"Entrez_Gene_Id\"]\n",
        "genes = genes.iloc[:, 2:] #drop gene id cols"
      ]
    },
    {
      "cell_type": "code",
      "execution_count": null,
      "metadata": {
        "colab": {
          "base_uri": "https://localhost:8080/",
          "height": 386
        },
        "id": "8pw1u-Nzwi3y",
        "outputId": "e40796be-4ea5-43a2-baab-05ca73f541de"
      },
      "outputs": [
        {
          "output_type": "execute_result",
          "data": {
            "text/plain": [
              "Entrez_Gene_Id   100130426  100133144  100134869  10357      10431      \\\n",
              "TCGA-3C-AAAU-01    -1.7608     1.0944     1.0230    -1.7033    -2.5248   \n",
              "TCGA-3C-AALI-01    -1.7608     0.3540     1.4736    -1.0056    -1.6307   \n",
              "TCGA-3C-AALJ-01     1.1240     0.6451     0.5206     0.9114     0.8069   \n",
              "TCGA-3C-AALK-01    -1.7608     0.6963     0.7910     0.7418    -0.4455   \n",
              "TCGA-4H-AAAK-01    -1.7608    -0.0246     1.1891    -0.5522    -0.7821   \n",
              "\n",
              "Entrez_Gene_Id   136542     155060     26823      280660     317712     ...  \\\n",
              "TCGA-3C-AAAU-01        NaN     2.6672    -1.9754    -1.0239    -3.8503  ...   \n",
              "TCGA-3C-AALI-01        NaN     1.4841     0.6553    -0.5570    -3.8503  ...   \n",
              "TCGA-3C-AALJ-01        NaN     1.6791    -1.9754    -1.0239    -3.8503  ...   \n",
              "TCGA-3C-AALK-01        NaN     1.5817    -0.7379    -1.0239    -3.8503  ...   \n",
              "TCGA-4H-AAAK-01        NaN     0.5166    -0.7082    -1.0239    -3.8503  ...   \n",
              "\n",
              "Entrez_Gene_Id   7789       158586     79364      440590     79699      \\\n",
              "TCGA-3C-AAAU-01     1.6674     1.3652     1.7323     1.1787     1.0112   \n",
              "TCGA-3C-AALI-01     0.0469    -0.2845     0.8841     0.9389    -0.8990   \n",
              "TCGA-3C-AALJ-01    -1.0439     0.0704    -1.3588     1.4057    -1.2453   \n",
              "TCGA-3C-AALK-01    -0.1270    -0.3346    -0.8902     0.8269    -0.8818   \n",
              "TCGA-4H-AAAK-01    -0.3710    -0.3982    -0.1067    -1.4182    -0.2086   \n",
              "\n",
              "Entrez_Gene_Id   7791       23140      26009      387590     389932     \n",
              "TCGA-3C-AAAU-01     0.0077     1.2480     0.7011    -2.2857    -1.0151  \n",
              "TCGA-3C-AALI-01     0.9335     0.3568    -1.8110     1.7416    -1.0151  \n",
              "TCGA-3C-AALJ-01     0.9163    -0.4675    -1.2802    -0.4957    -1.0151  \n",
              "TCGA-3C-AALK-01     1.0020    -0.9299    -0.5286    -0.0672    -1.0151  \n",
              "TCGA-4H-AAAK-01     0.2990    -0.7752     0.0127     0.6400    -1.0151  \n",
              "\n",
              "[5 rows x 20528 columns]"
            ],
            "text/html": [
              "\n",
              "  <div id=\"df-ebe73763-8e46-4a05-ac9e-05dca8e11e97\">\n",
              "    <div class=\"colab-df-container\">\n",
              "      <div>\n",
              "<style scoped>\n",
              "    .dataframe tbody tr th:only-of-type {\n",
              "        vertical-align: middle;\n",
              "    }\n",
              "\n",
              "    .dataframe tbody tr th {\n",
              "        vertical-align: top;\n",
              "    }\n",
              "\n",
              "    .dataframe thead th {\n",
              "        text-align: right;\n",
              "    }\n",
              "</style>\n",
              "<table border=\"1\" class=\"dataframe\">\n",
              "  <thead>\n",
              "    <tr style=\"text-align: right;\">\n",
              "      <th>Entrez_Gene_Id</th>\n",
              "      <th>100130426</th>\n",
              "      <th>100133144</th>\n",
              "      <th>100134869</th>\n",
              "      <th>10357</th>\n",
              "      <th>10431</th>\n",
              "      <th>136542</th>\n",
              "      <th>155060</th>\n",
              "      <th>26823</th>\n",
              "      <th>280660</th>\n",
              "      <th>317712</th>\n",
              "      <th>...</th>\n",
              "      <th>7789</th>\n",
              "      <th>158586</th>\n",
              "      <th>79364</th>\n",
              "      <th>440590</th>\n",
              "      <th>79699</th>\n",
              "      <th>7791</th>\n",
              "      <th>23140</th>\n",
              "      <th>26009</th>\n",
              "      <th>387590</th>\n",
              "      <th>389932</th>\n",
              "    </tr>\n",
              "  </thead>\n",
              "  <tbody>\n",
              "    <tr>\n",
              "      <th>TCGA-3C-AAAU-01</th>\n",
              "      <td>-1.7608</td>\n",
              "      <td>1.0944</td>\n",
              "      <td>1.0230</td>\n",
              "      <td>-1.7033</td>\n",
              "      <td>-2.5248</td>\n",
              "      <td>NaN</td>\n",
              "      <td>2.6672</td>\n",
              "      <td>-1.9754</td>\n",
              "      <td>-1.0239</td>\n",
              "      <td>-3.8503</td>\n",
              "      <td>...</td>\n",
              "      <td>1.6674</td>\n",
              "      <td>1.3652</td>\n",
              "      <td>1.7323</td>\n",
              "      <td>1.1787</td>\n",
              "      <td>1.0112</td>\n",
              "      <td>0.0077</td>\n",
              "      <td>1.2480</td>\n",
              "      <td>0.7011</td>\n",
              "      <td>-2.2857</td>\n",
              "      <td>-1.0151</td>\n",
              "    </tr>\n",
              "    <tr>\n",
              "      <th>TCGA-3C-AALI-01</th>\n",
              "      <td>-1.7608</td>\n",
              "      <td>0.3540</td>\n",
              "      <td>1.4736</td>\n",
              "      <td>-1.0056</td>\n",
              "      <td>-1.6307</td>\n",
              "      <td>NaN</td>\n",
              "      <td>1.4841</td>\n",
              "      <td>0.6553</td>\n",
              "      <td>-0.5570</td>\n",
              "      <td>-3.8503</td>\n",
              "      <td>...</td>\n",
              "      <td>0.0469</td>\n",
              "      <td>-0.2845</td>\n",
              "      <td>0.8841</td>\n",
              "      <td>0.9389</td>\n",
              "      <td>-0.8990</td>\n",
              "      <td>0.9335</td>\n",
              "      <td>0.3568</td>\n",
              "      <td>-1.8110</td>\n",
              "      <td>1.7416</td>\n",
              "      <td>-1.0151</td>\n",
              "    </tr>\n",
              "    <tr>\n",
              "      <th>TCGA-3C-AALJ-01</th>\n",
              "      <td>1.1240</td>\n",
              "      <td>0.6451</td>\n",
              "      <td>0.5206</td>\n",
              "      <td>0.9114</td>\n",
              "      <td>0.8069</td>\n",
              "      <td>NaN</td>\n",
              "      <td>1.6791</td>\n",
              "      <td>-1.9754</td>\n",
              "      <td>-1.0239</td>\n",
              "      <td>-3.8503</td>\n",
              "      <td>...</td>\n",
              "      <td>-1.0439</td>\n",
              "      <td>0.0704</td>\n",
              "      <td>-1.3588</td>\n",
              "      <td>1.4057</td>\n",
              "      <td>-1.2453</td>\n",
              "      <td>0.9163</td>\n",
              "      <td>-0.4675</td>\n",
              "      <td>-1.2802</td>\n",
              "      <td>-0.4957</td>\n",
              "      <td>-1.0151</td>\n",
              "    </tr>\n",
              "    <tr>\n",
              "      <th>TCGA-3C-AALK-01</th>\n",
              "      <td>-1.7608</td>\n",
              "      <td>0.6963</td>\n",
              "      <td>0.7910</td>\n",
              "      <td>0.7418</td>\n",
              "      <td>-0.4455</td>\n",
              "      <td>NaN</td>\n",
              "      <td>1.5817</td>\n",
              "      <td>-0.7379</td>\n",
              "      <td>-1.0239</td>\n",
              "      <td>-3.8503</td>\n",
              "      <td>...</td>\n",
              "      <td>-0.1270</td>\n",
              "      <td>-0.3346</td>\n",
              "      <td>-0.8902</td>\n",
              "      <td>0.8269</td>\n",
              "      <td>-0.8818</td>\n",
              "      <td>1.0020</td>\n",
              "      <td>-0.9299</td>\n",
              "      <td>-0.5286</td>\n",
              "      <td>-0.0672</td>\n",
              "      <td>-1.0151</td>\n",
              "    </tr>\n",
              "    <tr>\n",
              "      <th>TCGA-4H-AAAK-01</th>\n",
              "      <td>-1.7608</td>\n",
              "      <td>-0.0246</td>\n",
              "      <td>1.1891</td>\n",
              "      <td>-0.5522</td>\n",
              "      <td>-0.7821</td>\n",
              "      <td>NaN</td>\n",
              "      <td>0.5166</td>\n",
              "      <td>-0.7082</td>\n",
              "      <td>-1.0239</td>\n",
              "      <td>-3.8503</td>\n",
              "      <td>...</td>\n",
              "      <td>-0.3710</td>\n",
              "      <td>-0.3982</td>\n",
              "      <td>-0.1067</td>\n",
              "      <td>-1.4182</td>\n",
              "      <td>-0.2086</td>\n",
              "      <td>0.2990</td>\n",
              "      <td>-0.7752</td>\n",
              "      <td>0.0127</td>\n",
              "      <td>0.6400</td>\n",
              "      <td>-1.0151</td>\n",
              "    </tr>\n",
              "  </tbody>\n",
              "</table>\n",
              "<p>5 rows × 20528 columns</p>\n",
              "</div>\n",
              "      <button class=\"colab-df-convert\" onclick=\"convertToInteractive('df-ebe73763-8e46-4a05-ac9e-05dca8e11e97')\"\n",
              "              title=\"Convert this dataframe to an interactive table.\"\n",
              "              style=\"display:none;\">\n",
              "        \n",
              "  <svg xmlns=\"http://www.w3.org/2000/svg\" height=\"24px\"viewBox=\"0 0 24 24\"\n",
              "       width=\"24px\">\n",
              "    <path d=\"M0 0h24v24H0V0z\" fill=\"none\"/>\n",
              "    <path d=\"M18.56 5.44l.94 2.06.94-2.06 2.06-.94-2.06-.94-.94-2.06-.94 2.06-2.06.94zm-11 1L8.5 8.5l.94-2.06 2.06-.94-2.06-.94L8.5 2.5l-.94 2.06-2.06.94zm10 10l.94 2.06.94-2.06 2.06-.94-2.06-.94-.94-2.06-.94 2.06-2.06.94z\"/><path d=\"M17.41 7.96l-1.37-1.37c-.4-.4-.92-.59-1.43-.59-.52 0-1.04.2-1.43.59L10.3 9.45l-7.72 7.72c-.78.78-.78 2.05 0 2.83L4 21.41c.39.39.9.59 1.41.59.51 0 1.02-.2 1.41-.59l7.78-7.78 2.81-2.81c.8-.78.8-2.07 0-2.86zM5.41 20L4 18.59l7.72-7.72 1.47 1.35L5.41 20z\"/>\n",
              "  </svg>\n",
              "      </button>\n",
              "      \n",
              "  <style>\n",
              "    .colab-df-container {\n",
              "      display:flex;\n",
              "      flex-wrap:wrap;\n",
              "      gap: 12px;\n",
              "    }\n",
              "\n",
              "    .colab-df-convert {\n",
              "      background-color: #E8F0FE;\n",
              "      border: none;\n",
              "      border-radius: 50%;\n",
              "      cursor: pointer;\n",
              "      display: none;\n",
              "      fill: #1967D2;\n",
              "      height: 32px;\n",
              "      padding: 0 0 0 0;\n",
              "      width: 32px;\n",
              "    }\n",
              "\n",
              "    .colab-df-convert:hover {\n",
              "      background-color: #E2EBFA;\n",
              "      box-shadow: 0px 1px 2px rgba(60, 64, 67, 0.3), 0px 1px 3px 1px rgba(60, 64, 67, 0.15);\n",
              "      fill: #174EA6;\n",
              "    }\n",
              "\n",
              "    [theme=dark] .colab-df-convert {\n",
              "      background-color: #3B4455;\n",
              "      fill: #D2E3FC;\n",
              "    }\n",
              "\n",
              "    [theme=dark] .colab-df-convert:hover {\n",
              "      background-color: #434B5C;\n",
              "      box-shadow: 0px 1px 3px 1px rgba(0, 0, 0, 0.15);\n",
              "      filter: drop-shadow(0px 1px 2px rgba(0, 0, 0, 0.3));\n",
              "      fill: #FFFFFF;\n",
              "    }\n",
              "  </style>\n",
              "\n",
              "      <script>\n",
              "        const buttonEl =\n",
              "          document.querySelector('#df-ebe73763-8e46-4a05-ac9e-05dca8e11e97 button.colab-df-convert');\n",
              "        buttonEl.style.display =\n",
              "          google.colab.kernel.accessAllowed ? 'block' : 'none';\n",
              "\n",
              "        async function convertToInteractive(key) {\n",
              "          const element = document.querySelector('#df-ebe73763-8e46-4a05-ac9e-05dca8e11e97');\n",
              "          const dataTable =\n",
              "            await google.colab.kernel.invokeFunction('convertToInteractive',\n",
              "                                                     [key], {});\n",
              "          if (!dataTable) return;\n",
              "\n",
              "          const docLinkHtml = 'Like what you see? Visit the ' +\n",
              "            '<a target=\"_blank\" href=https://colab.research.google.com/notebooks/data_table.ipynb>data table notebook</a>'\n",
              "            + ' to learn more about interactive tables.';\n",
              "          element.innerHTML = '';\n",
              "          dataTable['output_type'] = 'display_data';\n",
              "          await google.colab.output.renderOutput(dataTable, element);\n",
              "          const docLink = document.createElement('div');\n",
              "          docLink.innerHTML = docLinkHtml;\n",
              "          element.appendChild(docLink);\n",
              "        }\n",
              "      </script>\n",
              "    </div>\n",
              "  </div>\n",
              "  "
            ]
          },
          "metadata": {},
          "execution_count": 14
        }
      ],
      "source": [
        "## Transpose dataframe such that each row=patient(observation), each col=gene(feature)\n",
        "genes = genes.transpose()\n",
        "genes.head() #preview again"
      ]
    },
    {
      "cell_type": "markdown",
      "source": [],
      "metadata": {
        "id": "dp_ykG7IqVEw"
      }
    },
    {
      "cell_type": "code",
      "execution_count": null,
      "metadata": {
        "colab": {
          "base_uri": "https://localhost:8080/",
          "height": 354
        },
        "id": "wVTb3u0awi7a",
        "outputId": "908e948f-369f-4ac7-a5aa-58539dd48344"
      },
      "outputs": [
        {
          "output_type": "execute_result",
          "data": {
            "text/plain": [
              "         Sample ID Sample Type  Fraction Genome Altered  Diagnosis Age  \\\n",
              "0  TCGA-3C-AAAU-01     Primary                   0.7787           55.0   \n",
              "1  TCGA-3C-AALI-01     Primary                   0.7164           50.0   \n",
              "2  TCGA-3C-AALJ-01     Primary                   0.5340           62.0   \n",
              "3  TCGA-3C-AALK-01     Primary                   0.0764           52.0   \n",
              "4  TCGA-4H-AAAK-01     Primary                   0.2364           50.0   \n",
              "\n",
              "      Sex              Race Category      Ethnicity Category  \\\n",
              "0  Female                      WHITE  NOT HISPANIC OR LATINO   \n",
              "1  Female  BLACK OR AFRICAN AMERICAN  NOT HISPANIC OR LATINO   \n",
              "2  Female  BLACK OR AFRICAN AMERICAN  NOT HISPANIC OR LATINO   \n",
              "3  Female  BLACK OR AFRICAN AMERICAN  NOT HISPANIC OR LATINO   \n",
              "4  Female                      WHITE  NOT HISPANIC OR LATINO   \n",
              "\n",
              "  Informed consent verified ER Status By IHC PR status by ihc       IHC-HER2  \n",
              "0                       YES         Positive         Positive       Negative  \n",
              "1                       YES         Positive         Positive       Positive  \n",
              "2                       YES         Positive         Positive  Indeterminate  \n",
              "3                       YES         Positive         Positive       Positive  \n",
              "4                       YES         Positive         Positive      Equivocal  "
            ],
            "text/html": [
              "\n",
              "  <div id=\"df-494ac55f-f8d4-48d4-9132-6339c523009b\">\n",
              "    <div class=\"colab-df-container\">\n",
              "      <div>\n",
              "<style scoped>\n",
              "    .dataframe tbody tr th:only-of-type {\n",
              "        vertical-align: middle;\n",
              "    }\n",
              "\n",
              "    .dataframe tbody tr th {\n",
              "        vertical-align: top;\n",
              "    }\n",
              "\n",
              "    .dataframe thead th {\n",
              "        text-align: right;\n",
              "    }\n",
              "</style>\n",
              "<table border=\"1\" class=\"dataframe\">\n",
              "  <thead>\n",
              "    <tr style=\"text-align: right;\">\n",
              "      <th></th>\n",
              "      <th>Sample ID</th>\n",
              "      <th>Sample Type</th>\n",
              "      <th>Fraction Genome Altered</th>\n",
              "      <th>Diagnosis Age</th>\n",
              "      <th>Sex</th>\n",
              "      <th>Race Category</th>\n",
              "      <th>Ethnicity Category</th>\n",
              "      <th>Informed consent verified</th>\n",
              "      <th>ER Status By IHC</th>\n",
              "      <th>PR status by ihc</th>\n",
              "      <th>IHC-HER2</th>\n",
              "    </tr>\n",
              "  </thead>\n",
              "  <tbody>\n",
              "    <tr>\n",
              "      <th>0</th>\n",
              "      <td>TCGA-3C-AAAU-01</td>\n",
              "      <td>Primary</td>\n",
              "      <td>0.7787</td>\n",
              "      <td>55.0</td>\n",
              "      <td>Female</td>\n",
              "      <td>WHITE</td>\n",
              "      <td>NOT HISPANIC OR LATINO</td>\n",
              "      <td>YES</td>\n",
              "      <td>Positive</td>\n",
              "      <td>Positive</td>\n",
              "      <td>Negative</td>\n",
              "    </tr>\n",
              "    <tr>\n",
              "      <th>1</th>\n",
              "      <td>TCGA-3C-AALI-01</td>\n",
              "      <td>Primary</td>\n",
              "      <td>0.7164</td>\n",
              "      <td>50.0</td>\n",
              "      <td>Female</td>\n",
              "      <td>BLACK OR AFRICAN AMERICAN</td>\n",
              "      <td>NOT HISPANIC OR LATINO</td>\n",
              "      <td>YES</td>\n",
              "      <td>Positive</td>\n",
              "      <td>Positive</td>\n",
              "      <td>Positive</td>\n",
              "    </tr>\n",
              "    <tr>\n",
              "      <th>2</th>\n",
              "      <td>TCGA-3C-AALJ-01</td>\n",
              "      <td>Primary</td>\n",
              "      <td>0.5340</td>\n",
              "      <td>62.0</td>\n",
              "      <td>Female</td>\n",
              "      <td>BLACK OR AFRICAN AMERICAN</td>\n",
              "      <td>NOT HISPANIC OR LATINO</td>\n",
              "      <td>YES</td>\n",
              "      <td>Positive</td>\n",
              "      <td>Positive</td>\n",
              "      <td>Indeterminate</td>\n",
              "    </tr>\n",
              "    <tr>\n",
              "      <th>3</th>\n",
              "      <td>TCGA-3C-AALK-01</td>\n",
              "      <td>Primary</td>\n",
              "      <td>0.0764</td>\n",
              "      <td>52.0</td>\n",
              "      <td>Female</td>\n",
              "      <td>BLACK OR AFRICAN AMERICAN</td>\n",
              "      <td>NOT HISPANIC OR LATINO</td>\n",
              "      <td>YES</td>\n",
              "      <td>Positive</td>\n",
              "      <td>Positive</td>\n",
              "      <td>Positive</td>\n",
              "    </tr>\n",
              "    <tr>\n",
              "      <th>4</th>\n",
              "      <td>TCGA-4H-AAAK-01</td>\n",
              "      <td>Primary</td>\n",
              "      <td>0.2364</td>\n",
              "      <td>50.0</td>\n",
              "      <td>Female</td>\n",
              "      <td>WHITE</td>\n",
              "      <td>NOT HISPANIC OR LATINO</td>\n",
              "      <td>YES</td>\n",
              "      <td>Positive</td>\n",
              "      <td>Positive</td>\n",
              "      <td>Equivocal</td>\n",
              "    </tr>\n",
              "  </tbody>\n",
              "</table>\n",
              "</div>\n",
              "      <button class=\"colab-df-convert\" onclick=\"convertToInteractive('df-494ac55f-f8d4-48d4-9132-6339c523009b')\"\n",
              "              title=\"Convert this dataframe to an interactive table.\"\n",
              "              style=\"display:none;\">\n",
              "        \n",
              "  <svg xmlns=\"http://www.w3.org/2000/svg\" height=\"24px\"viewBox=\"0 0 24 24\"\n",
              "       width=\"24px\">\n",
              "    <path d=\"M0 0h24v24H0V0z\" fill=\"none\"/>\n",
              "    <path d=\"M18.56 5.44l.94 2.06.94-2.06 2.06-.94-2.06-.94-.94-2.06-.94 2.06-2.06.94zm-11 1L8.5 8.5l.94-2.06 2.06-.94-2.06-.94L8.5 2.5l-.94 2.06-2.06.94zm10 10l.94 2.06.94-2.06 2.06-.94-2.06-.94-.94-2.06-.94 2.06-2.06.94z\"/><path d=\"M17.41 7.96l-1.37-1.37c-.4-.4-.92-.59-1.43-.59-.52 0-1.04.2-1.43.59L10.3 9.45l-7.72 7.72c-.78.78-.78 2.05 0 2.83L4 21.41c.39.39.9.59 1.41.59.51 0 1.02-.2 1.41-.59l7.78-7.78 2.81-2.81c.8-.78.8-2.07 0-2.86zM5.41 20L4 18.59l7.72-7.72 1.47 1.35L5.41 20z\"/>\n",
              "  </svg>\n",
              "      </button>\n",
              "      \n",
              "  <style>\n",
              "    .colab-df-container {\n",
              "      display:flex;\n",
              "      flex-wrap:wrap;\n",
              "      gap: 12px;\n",
              "    }\n",
              "\n",
              "    .colab-df-convert {\n",
              "      background-color: #E8F0FE;\n",
              "      border: none;\n",
              "      border-radius: 50%;\n",
              "      cursor: pointer;\n",
              "      display: none;\n",
              "      fill: #1967D2;\n",
              "      height: 32px;\n",
              "      padding: 0 0 0 0;\n",
              "      width: 32px;\n",
              "    }\n",
              "\n",
              "    .colab-df-convert:hover {\n",
              "      background-color: #E2EBFA;\n",
              "      box-shadow: 0px 1px 2px rgba(60, 64, 67, 0.3), 0px 1px 3px 1px rgba(60, 64, 67, 0.15);\n",
              "      fill: #174EA6;\n",
              "    }\n",
              "\n",
              "    [theme=dark] .colab-df-convert {\n",
              "      background-color: #3B4455;\n",
              "      fill: #D2E3FC;\n",
              "    }\n",
              "\n",
              "    [theme=dark] .colab-df-convert:hover {\n",
              "      background-color: #434B5C;\n",
              "      box-shadow: 0px 1px 3px 1px rgba(0, 0, 0, 0.15);\n",
              "      filter: drop-shadow(0px 1px 2px rgba(0, 0, 0, 0.3));\n",
              "      fill: #FFFFFF;\n",
              "    }\n",
              "  </style>\n",
              "\n",
              "      <script>\n",
              "        const buttonEl =\n",
              "          document.querySelector('#df-494ac55f-f8d4-48d4-9132-6339c523009b button.colab-df-convert');\n",
              "        buttonEl.style.display =\n",
              "          google.colab.kernel.accessAllowed ? 'block' : 'none';\n",
              "\n",
              "        async function convertToInteractive(key) {\n",
              "          const element = document.querySelector('#df-494ac55f-f8d4-48d4-9132-6339c523009b');\n",
              "          const dataTable =\n",
              "            await google.colab.kernel.invokeFunction('convertToInteractive',\n",
              "                                                     [key], {});\n",
              "          if (!dataTable) return;\n",
              "\n",
              "          const docLinkHtml = 'Like what you see? Visit the ' +\n",
              "            '<a target=\"_blank\" href=https://colab.research.google.com/notebooks/data_table.ipynb>data table notebook</a>'\n",
              "            + ' to learn more about interactive tables.';\n",
              "          element.innerHTML = '';\n",
              "          dataTable['output_type'] = 'display_data';\n",
              "          await google.colab.output.renderOutput(dataTable, element);\n",
              "          const docLink = document.createElement('div');\n",
              "          docLink.innerHTML = docLinkHtml;\n",
              "          element.appendChild(docLink);\n",
              "        }\n",
              "      </script>\n",
              "    </div>\n",
              "  </div>\n",
              "  "
            ]
          },
          "metadata": {},
          "execution_count": 15
        }
      ],
      "source": [
        "COLUMNS_CLIN = [\n",
        "    'Sample ID', #ids\n",
        "    'Sample Type','Fraction Genome Altered', #tumor info\n",
        "    'Diagnosis Age','Sex','Race Category','Ethnicity Category', #patient info\n",
        "    'Informed consent verified', #ethics\n",
        "    'ER Status By IHC','PR status by ihc','IHC-HER2' #required for CLASS LABEL\n",
        "]\n",
        "\n",
        "clinical = clinical[COLUMNS_CLIN]\n",
        "clinical.head()"
      ]
    },
    {
      "cell_type": "markdown",
      "source": [
        "**Subset data & re-group features**"
      ],
      "metadata": {
        "id": "1olmFgYFBDaX"
      }
    },
    {
      "cell_type": "code",
      "execution_count": null,
      "metadata": {
        "id": "zjVkCGl20WSn"
      },
      "outputs": [],
      "source": [
        "clinical = clinical[(clinical[\"Sex\"]==\"Female\") & (clinical[\"Sample Type\"]==\"Primary\")]"
      ]
    },
    {
      "cell_type": "code",
      "execution_count": null,
      "metadata": {
        "colab": {
          "base_uri": "https://localhost:8080/"
        },
        "id": "M2j8PXvs0XeP",
        "outputId": "9000323a-e7f6-4403-865f-748a69595221"
      },
      "outputs": [
        {
          "output_type": "stream",
          "name": "stdout",
          "text": [
            "Number of NaNs: 94\n"
          ]
        }
      ],
      "source": [
        "print(\"Number of NaNs: %d\" % sum(clinical['Race Category'].isna()))\n",
        "clinical['RaceWhite'] = (clinical['Race Category']==\"WHITE\")"
      ]
    },
    {
      "cell_type": "markdown",
      "source": [
        "**Define class labels, 1 if a cancer is ER-negative, PR-negative, and HER2-negative; 0 otherwise**"
      ],
      "metadata": {
        "id": "ALHFkBp3BOqC"
      }
    },
    {
      "cell_type": "code",
      "execution_count": null,
      "metadata": {
        "colab": {
          "base_uri": "https://localhost:8080/"
        },
        "id": "c9ve5SiK0Xbl",
        "outputId": "48be55dc-61e7-49c1-8891-2e6242152ea0"
      },
      "outputs": [
        {
          "output_type": "execute_result",
          "data": {
            "text/plain": [
              "94"
            ]
          },
          "metadata": {},
          "execution_count": 18
        }
      ],
      "source": [
        "clinical.loc[clinical['Race Category'].isna(), \"RaceWhite\"] = None\n",
        "sum(clinical['RaceWhite'].isna()) #should be same as above"
      ]
    },
    {
      "cell_type": "code",
      "execution_count": null,
      "metadata": {
        "colab": {
          "base_uri": "https://localhost:8080/"
        },
        "id": "l4LhhV3j0XUy",
        "outputId": "3b7ed036-79d5-4c27-f976-76e94b09231e"
      },
      "outputs": [
        {
          "output_type": "execute_result",
          "data": {
            "text/plain": [
              "[0, 0, 18, 1, 0, 94, 171, 0, 49, 50, 176]"
            ]
          },
          "metadata": {},
          "execution_count": 19
        }
      ],
      "source": [
        "## The last 3 integers indicate missing receptors required to define labels\n",
        "[sum(clinical[col].isna()) for col in COLUMNS_CLIN]"
      ]
    },
    {
      "cell_type": "code",
      "execution_count": null,
      "metadata": {
        "id": "h0kPfVGo0XQp"
      },
      "outputs": [],
      "source": [
        "## Initialize the label definition:\n",
        "clinical['Label'] = (clinical['ER Status By IHC']=='Negative') & \\\n",
        "                    (clinical['PR status by ihc']=='Negative') & \\\n",
        "                    (clinical['IHC-HER2']=='Negative')"
      ]
    },
    {
      "cell_type": "code",
      "execution_count": null,
      "metadata": {
        "colab": {
          "base_uri": "https://localhost:8080/",
          "height": 423
        },
        "id": "96wWwNuC0W71",
        "outputId": "5eaa966e-f746-43ab-d67c-a7ae3183fe56"
      },
      "outputs": [
        {
          "output_type": "execute_result",
          "data": {
            "text/plain": [
              "      ER Status By IHC  PR status by ihc  IHC-HER2\n",
              "0                False             False     False\n",
              "1                False             False     False\n",
              "2                False             False     False\n",
              "3                False             False     False\n",
              "4                False             False     False\n",
              "...                ...               ...       ...\n",
              "1103             False             False     False\n",
              "1104             False             False     False\n",
              "1105             False             False     False\n",
              "1106             False             False     False\n",
              "1107             False             False     False\n",
              "\n",
              "[1085 rows x 3 columns]"
            ],
            "text/html": [
              "\n",
              "  <div id=\"df-f897b85e-f1fe-478c-b88a-0f3cb995005f\">\n",
              "    <div class=\"colab-df-container\">\n",
              "      <div>\n",
              "<style scoped>\n",
              "    .dataframe tbody tr th:only-of-type {\n",
              "        vertical-align: middle;\n",
              "    }\n",
              "\n",
              "    .dataframe tbody tr th {\n",
              "        vertical-align: top;\n",
              "    }\n",
              "\n",
              "    .dataframe thead th {\n",
              "        text-align: right;\n",
              "    }\n",
              "</style>\n",
              "<table border=\"1\" class=\"dataframe\">\n",
              "  <thead>\n",
              "    <tr style=\"text-align: right;\">\n",
              "      <th></th>\n",
              "      <th>ER Status By IHC</th>\n",
              "      <th>PR status by ihc</th>\n",
              "      <th>IHC-HER2</th>\n",
              "    </tr>\n",
              "  </thead>\n",
              "  <tbody>\n",
              "    <tr>\n",
              "      <th>0</th>\n",
              "      <td>False</td>\n",
              "      <td>False</td>\n",
              "      <td>False</td>\n",
              "    </tr>\n",
              "    <tr>\n",
              "      <th>1</th>\n",
              "      <td>False</td>\n",
              "      <td>False</td>\n",
              "      <td>False</td>\n",
              "    </tr>\n",
              "    <tr>\n",
              "      <th>2</th>\n",
              "      <td>False</td>\n",
              "      <td>False</td>\n",
              "      <td>False</td>\n",
              "    </tr>\n",
              "    <tr>\n",
              "      <th>3</th>\n",
              "      <td>False</td>\n",
              "      <td>False</td>\n",
              "      <td>False</td>\n",
              "    </tr>\n",
              "    <tr>\n",
              "      <th>4</th>\n",
              "      <td>False</td>\n",
              "      <td>False</td>\n",
              "      <td>False</td>\n",
              "    </tr>\n",
              "    <tr>\n",
              "      <th>...</th>\n",
              "      <td>...</td>\n",
              "      <td>...</td>\n",
              "      <td>...</td>\n",
              "    </tr>\n",
              "    <tr>\n",
              "      <th>1103</th>\n",
              "      <td>False</td>\n",
              "      <td>False</td>\n",
              "      <td>False</td>\n",
              "    </tr>\n",
              "    <tr>\n",
              "      <th>1104</th>\n",
              "      <td>False</td>\n",
              "      <td>False</td>\n",
              "      <td>False</td>\n",
              "    </tr>\n",
              "    <tr>\n",
              "      <th>1105</th>\n",
              "      <td>False</td>\n",
              "      <td>False</td>\n",
              "      <td>False</td>\n",
              "    </tr>\n",
              "    <tr>\n",
              "      <th>1106</th>\n",
              "      <td>False</td>\n",
              "      <td>False</td>\n",
              "      <td>False</td>\n",
              "    </tr>\n",
              "    <tr>\n",
              "      <th>1107</th>\n",
              "      <td>False</td>\n",
              "      <td>False</td>\n",
              "      <td>False</td>\n",
              "    </tr>\n",
              "  </tbody>\n",
              "</table>\n",
              "<p>1085 rows × 3 columns</p>\n",
              "</div>\n",
              "      <button class=\"colab-df-convert\" onclick=\"convertToInteractive('df-f897b85e-f1fe-478c-b88a-0f3cb995005f')\"\n",
              "              title=\"Convert this dataframe to an interactive table.\"\n",
              "              style=\"display:none;\">\n",
              "        \n",
              "  <svg xmlns=\"http://www.w3.org/2000/svg\" height=\"24px\"viewBox=\"0 0 24 24\"\n",
              "       width=\"24px\">\n",
              "    <path d=\"M0 0h24v24H0V0z\" fill=\"none\"/>\n",
              "    <path d=\"M18.56 5.44l.94 2.06.94-2.06 2.06-.94-2.06-.94-.94-2.06-.94 2.06-2.06.94zm-11 1L8.5 8.5l.94-2.06 2.06-.94-2.06-.94L8.5 2.5l-.94 2.06-2.06.94zm10 10l.94 2.06.94-2.06 2.06-.94-2.06-.94-.94-2.06-.94 2.06-2.06.94z\"/><path d=\"M17.41 7.96l-1.37-1.37c-.4-.4-.92-.59-1.43-.59-.52 0-1.04.2-1.43.59L10.3 9.45l-7.72 7.72c-.78.78-.78 2.05 0 2.83L4 21.41c.39.39.9.59 1.41.59.51 0 1.02-.2 1.41-.59l7.78-7.78 2.81-2.81c.8-.78.8-2.07 0-2.86zM5.41 20L4 18.59l7.72-7.72 1.47 1.35L5.41 20z\"/>\n",
              "  </svg>\n",
              "      </button>\n",
              "      \n",
              "  <style>\n",
              "    .colab-df-container {\n",
              "      display:flex;\n",
              "      flex-wrap:wrap;\n",
              "      gap: 12px;\n",
              "    }\n",
              "\n",
              "    .colab-df-convert {\n",
              "      background-color: #E8F0FE;\n",
              "      border: none;\n",
              "      border-radius: 50%;\n",
              "      cursor: pointer;\n",
              "      display: none;\n",
              "      fill: #1967D2;\n",
              "      height: 32px;\n",
              "      padding: 0 0 0 0;\n",
              "      width: 32px;\n",
              "    }\n",
              "\n",
              "    .colab-df-convert:hover {\n",
              "      background-color: #E2EBFA;\n",
              "      box-shadow: 0px 1px 2px rgba(60, 64, 67, 0.3), 0px 1px 3px 1px rgba(60, 64, 67, 0.15);\n",
              "      fill: #174EA6;\n",
              "    }\n",
              "\n",
              "    [theme=dark] .colab-df-convert {\n",
              "      background-color: #3B4455;\n",
              "      fill: #D2E3FC;\n",
              "    }\n",
              "\n",
              "    [theme=dark] .colab-df-convert:hover {\n",
              "      background-color: #434B5C;\n",
              "      box-shadow: 0px 1px 3px 1px rgba(0, 0, 0, 0.15);\n",
              "      filter: drop-shadow(0px 1px 2px rgba(0, 0, 0, 0.3));\n",
              "      fill: #FFFFFF;\n",
              "    }\n",
              "  </style>\n",
              "\n",
              "      <script>\n",
              "        const buttonEl =\n",
              "          document.querySelector('#df-f897b85e-f1fe-478c-b88a-0f3cb995005f button.colab-df-convert');\n",
              "        buttonEl.style.display =\n",
              "          google.colab.kernel.accessAllowed ? 'block' : 'none';\n",
              "\n",
              "        async function convertToInteractive(key) {\n",
              "          const element = document.querySelector('#df-f897b85e-f1fe-478c-b88a-0f3cb995005f');\n",
              "          const dataTable =\n",
              "            await google.colab.kernel.invokeFunction('convertToInteractive',\n",
              "                                                     [key], {});\n",
              "          if (!dataTable) return;\n",
              "\n",
              "          const docLinkHtml = 'Like what you see? Visit the ' +\n",
              "            '<a target=\"_blank\" href=https://colab.research.google.com/notebooks/data_table.ipynb>data table notebook</a>'\n",
              "            + ' to learn more about interactive tables.';\n",
              "          element.innerHTML = '';\n",
              "          dataTable['output_type'] = 'display_data';\n",
              "          await google.colab.output.renderOutput(dataTable, element);\n",
              "          const docLink = document.createElement('div');\n",
              "          docLink.innerHTML = docLinkHtml;\n",
              "          element.appendChild(docLink);\n",
              "        }\n",
              "      </script>\n",
              "    </div>\n",
              "  </div>\n",
              "  "
            ]
          },
          "metadata": {},
          "execution_count": 21
        }
      ],
      "source": [
        "clinical.loc[:,['ER Status By IHC','PR status by ihc','IHC-HER2']].isna()"
      ]
    },
    {
      "cell_type": "code",
      "execution_count": null,
      "metadata": {
        "colab": {
          "base_uri": "https://localhost:8080/"
        },
        "id": "0VNAsUBU1E7M",
        "outputId": "4d136cbe-a25c-486b-965d-1787ee3274cd"
      },
      "outputs": [
        {
          "output_type": "execute_result",
          "data": {
            "text/plain": [
              "{0, 1, 2, 3}"
            ]
          },
          "metadata": {},
          "execution_count": 22
        }
      ],
      "source": [
        "## Count the number of missing receptors in each patient or sample\n",
        "clinical['num_receptor_missing'] = clinical.loc[:,['ER Status By IHC','PR status by ihc','IHC-HER2']].isna().sum(axis=1)\n",
        "set(clinical['num_receptor_missing'].to_list()) #few as 0, up to all 3 missing"
      ]
    },
    {
      "cell_type": "code",
      "execution_count": null,
      "metadata": {
        "colab": {
          "base_uri": "https://localhost:8080/"
        },
        "id": "13LkzIQ01E4P",
        "outputId": "5a62f0d0-6b5a-45fd-ca76-467627c71fb6"
      },
      "outputs": [
        {
          "output_type": "execute_result",
          "data": {
            "text/plain": [
              "178"
            ]
          },
          "metadata": {},
          "execution_count": 23
        }
      ],
      "source": [
        "## Begin by setting any patient with 1+ receptor missing has having Label=None\n",
        "clinical.loc[clinical['num_receptor_missing']>0, \"Label\"] = None\n",
        "sum(clinical['Label'].isna())"
      ]
    },
    {
      "cell_type": "code",
      "execution_count": null,
      "metadata": {
        "colab": {
          "base_uri": "https://localhost:8080/"
        },
        "id": "lzA3p1z91E1S",
        "outputId": "bfb3a1aa-73da-40b7-b5b7-ad7060b1ea3c"
      },
      "outputs": [
        {
          "output_type": "execute_result",
          "data": {
            "text/plain": [
              "83"
            ]
          },
          "metadata": {},
          "execution_count": 24
        }
      ],
      "source": [
        "## Then, re-set Label=0 from NaN if at least 1 receptor is NOT negative\n",
        "label0_indicator = ['Positive','Intermediate','Equivocal']\n",
        "\n",
        "clinical.loc[clinical['ER Status By IHC'].isin(label0_indicator) | \\\n",
        "         clinical['PR status by ihc'].isin(label0_indicator) | \\\n",
        "         clinical['IHC-HER2'].isin(label0_indicator), \"Label\"] = 0\n",
        "\n",
        "sum(clinical['Label'].isna())"
      ]
    },
    {
      "cell_type": "code",
      "execution_count": null,
      "metadata": {
        "id": "4uhK6JSy1Evk"
      },
      "outputs": [],
      "source": [
        "## Finally, exclude label-less rows (patients)\n",
        "clinical = clinical.loc[~clinical['Label'].isna(), :]"
      ]
    },
    {
      "cell_type": "code",
      "execution_count": null,
      "metadata": {
        "colab": {
          "base_uri": "https://localhost:8080/"
        },
        "id": "qsv6011e1Ehn",
        "outputId": "bb26a438-1231-413f-f012-8adb6d735e16"
      },
      "outputs": [
        {
          "output_type": "stream",
          "name": "stdout",
          "text": [
            "Looking in indexes: https://pypi.org/simple, https://us-python.pkg.dev/colab-wheels/public/simple/\n",
            "Requirement already satisfied: tableone in /usr/local/lib/python3.10/dist-packages (0.8.0)\n",
            "Requirement already satisfied: jinja2 in /usr/local/lib/python3.10/dist-packages (from tableone) (3.1.2)\n",
            "Requirement already satisfied: numpy in /usr/local/lib/python3.10/dist-packages (from tableone) (1.22.4)\n",
            "Requirement already satisfied: openpyxl in /usr/local/lib/python3.10/dist-packages (from tableone) (3.0.10)\n",
            "Requirement already satisfied: pandas in /usr/local/lib/python3.10/dist-packages (from tableone) (1.5.3)\n",
            "Requirement already satisfied: scipy in /usr/local/lib/python3.10/dist-packages (from tableone) (1.10.1)\n",
            "Requirement already satisfied: statsmodels in /usr/local/lib/python3.10/dist-packages (from tableone) (0.13.5)\n",
            "Requirement already satisfied: tabulate in /usr/local/lib/python3.10/dist-packages (from tableone) (0.8.10)\n",
            "Requirement already satisfied: MarkupSafe>=2.0 in /usr/local/lib/python3.10/dist-packages (from jinja2->tableone) (2.1.2)\n",
            "Requirement already satisfied: et-xmlfile in /usr/local/lib/python3.10/dist-packages (from openpyxl->tableone) (1.1.0)\n",
            "Requirement already satisfied: python-dateutil>=2.8.1 in /usr/local/lib/python3.10/dist-packages (from pandas->tableone) (2.8.2)\n",
            "Requirement already satisfied: pytz>=2020.1 in /usr/local/lib/python3.10/dist-packages (from pandas->tableone) (2022.7.1)\n",
            "Requirement already satisfied: patsy>=0.5.2 in /usr/local/lib/python3.10/dist-packages (from statsmodels->tableone) (0.5.3)\n",
            "Requirement already satisfied: packaging>=21.3 in /usr/local/lib/python3.10/dist-packages (from statsmodels->tableone) (23.1)\n",
            "Requirement already satisfied: six in /usr/local/lib/python3.10/dist-packages (from patsy>=0.5.2->statsmodels->tableone) (1.16.0)\n"
          ]
        }
      ],
      "source": [
        "!pip install tableone"
      ]
    },
    {
      "cell_type": "code",
      "execution_count": null,
      "metadata": {
        "id": "uw4Va1Kb1ntu"
      },
      "outputs": [],
      "source": [
        "from tableone import TableOne\n",
        "\n",
        "selected_cols = ['Sex','RaceWhite','num_receptor_missing','Informed consent verified']\n",
        "\n",
        "myTable1 = TableOne(\n",
        "    clinical,\n",
        "    columns = selected_cols,\n",
        "    groupby = 'Label'\n",
        ")"
      ]
    },
    {
      "cell_type": "code",
      "execution_count": null,
      "metadata": {
        "colab": {
          "base_uri": "https://localhost:8080/"
        },
        "id": "ZLdxeWgY1nq6",
        "outputId": "d7c3399c-6c05-4777-eebf-7bbd069c10fa"
      },
      "outputs": [
        {
          "output_type": "stream",
          "name": "stdout",
          "text": [
            "================================  ======  =========  ============  ===========  ===========\n",
            "..                                        Missing    Overall       0            True\n",
            "================================  ======  =========  ============  ===========  ===========\n",
            "n                                                    1002          886          116\n",
            "Sex, n (%)                        Female  0          1002 (100.0)  886 (100.0)  116 (100.0)\n",
            "RaceWhite, n (%)                  False   94         216 (23.8)    176 (22.0)   40 (36.7)\n",
            "..                                True               692 (76.2)    623 (78.0)   69 (63.3)\n",
            "num_receptor_missing, n (%)       0       0          907 (90.5)    791 (89.3)   116 (100.0)\n",
            "..                                1                  95 (9.5)      95 (10.7)\n",
            "Informed consent verified, n (%)  YES     0          1002 (100.0)  886 (100.0)  116 (100.0)\n",
            "================================  ======  =========  ============  ===========  ===========\n"
          ]
        },
        {
          "output_type": "stream",
          "name": "stderr",
          "text": [
            "/usr/local/lib/python3.10/dist-packages/ipykernel/ipkernel.py:283: DeprecationWarning: `should_run_async` will not call `transform_cell` automatically in the future. Please pass the result to `transformed_cell` argument and any exception that happen during thetransform in `preprocessing_exc_tuple` in IPython 7.17 and above.\n",
            "  and should_run_async(code)\n"
          ]
        }
      ],
      "source": [
        "## Column 'True' or '1.0' means Class=1, i.e. the triple negative cancers\n",
        "print(myTable1.tabulate(tablefmt=\"rst\"))"
      ]
    },
    {
      "cell_type": "code",
      "execution_count": null,
      "metadata": {
        "colab": {
          "base_uri": "https://localhost:8080/"
        },
        "id": "Cu11ks9r1noe",
        "outputId": "18cb969a-38a0-452e-f75c-52458cafbc3f"
      },
      "outputs": [
        {
          "output_type": "stream",
          "name": "stderr",
          "text": [
            "/usr/local/lib/python3.10/dist-packages/ipykernel/ipkernel.py:283: DeprecationWarning: `should_run_async` will not call `transform_cell` automatically in the future. Please pass the result to `transformed_cell` argument and any exception that happen during thetransform in `preprocessing_exc_tuple` in IPython 7.17 and above.\n",
            "  and should_run_async(code)\n"
          ]
        },
        {
          "output_type": "execute_result",
          "data": {
            "text/plain": [
              "999"
            ]
          },
          "metadata": {},
          "execution_count": 29
        }
      ],
      "source": [
        "sum(clinical['Sample ID'].isin(genes.index))"
      ]
    },
    {
      "cell_type": "code",
      "execution_count": null,
      "metadata": {
        "colab": {
          "base_uri": "https://localhost:8080/"
        },
        "id": "HNSFa0Df1nmH",
        "outputId": "d5199cc9-4c09-4601-e8d5-3b0481163a49"
      },
      "outputs": [
        {
          "output_type": "stream",
          "name": "stderr",
          "text": [
            "/usr/local/lib/python3.10/dist-packages/ipykernel/ipkernel.py:283: DeprecationWarning: `should_run_async` will not call `transform_cell` automatically in the future. Please pass the result to `transformed_cell` argument and any exception that happen during thetransform in `preprocessing_exc_tuple` in IPython 7.17 and above.\n",
            "  and should_run_async(code)\n"
          ]
        },
        {
          "output_type": "execute_result",
          "data": {
            "text/plain": [
              "999"
            ]
          },
          "metadata": {},
          "execution_count": 30
        }
      ],
      "source": [
        "sum(genes.index.isin(clinical['Sample ID'])) #should match cell above"
      ]
    },
    {
      "cell_type": "code",
      "execution_count": null,
      "metadata": {
        "colab": {
          "base_uri": "https://localhost:8080/"
        },
        "id": "1cwsmXS61nkR",
        "outputId": "3bc65b05-b823-4b17-fde4-ac0a9918c9c0"
      },
      "outputs": [
        {
          "output_type": "stream",
          "name": "stderr",
          "text": [
            "/usr/local/lib/python3.10/dist-packages/ipykernel/ipkernel.py:283: DeprecationWarning: `should_run_async` will not call `transform_cell` automatically in the future. Please pass the result to `transformed_cell` argument and any exception that happen during thetransform in `preprocessing_exc_tuple` in IPython 7.17 and above.\n",
            "  and should_run_async(code)\n"
          ]
        },
        {
          "output_type": "execute_result",
          "data": {
            "text/plain": [
              "(999, 14)"
            ]
          },
          "metadata": {},
          "execution_count": 31
        }
      ],
      "source": [
        "clinical = clinical.loc[clinical['Sample ID'].isin(genes.index), :]\n",
        "clinical.shape"
      ]
    },
    {
      "cell_type": "code",
      "execution_count": null,
      "metadata": {
        "colab": {
          "base_uri": "https://localhost:8080/"
        },
        "id": "kvzb8cNh1nhf",
        "outputId": "e95fb15d-1cc5-41f8-f692-ef3fa4a6ae80"
      },
      "outputs": [
        {
          "output_type": "stream",
          "name": "stderr",
          "text": [
            "/usr/local/lib/python3.10/dist-packages/ipykernel/ipkernel.py:283: DeprecationWarning: `should_run_async` will not call `transform_cell` automatically in the future. Please pass the result to `transformed_cell` argument and any exception that happen during thetransform in `preprocessing_exc_tuple` in IPython 7.17 and above.\n",
            "  and should_run_async(code)\n"
          ]
        },
        {
          "output_type": "execute_result",
          "data": {
            "text/plain": [
              "(999, 20528)"
            ]
          },
          "metadata": {},
          "execution_count": 32
        }
      ],
      "source": [
        "genes = genes.loc[clinical['Sample ID'],:]\n",
        "genes.shape"
      ]
    },
    {
      "cell_type": "code",
      "execution_count": null,
      "metadata": {
        "colab": {
          "base_uri": "https://localhost:8080/"
        },
        "id": "DlHteo392jZi",
        "outputId": "8993b803-11d6-4b42-db3d-811b7279b68f"
      },
      "outputs": [
        {
          "output_type": "stream",
          "name": "stderr",
          "text": [
            "/usr/local/lib/python3.10/dist-packages/ipykernel/ipkernel.py:283: DeprecationWarning: `should_run_async` will not call `transform_cell` automatically in the future. Please pass the result to `transformed_cell` argument and any exception that happen during thetransform in `preprocessing_exc_tuple` in IPython 7.17 and above.\n",
            "  and should_run_async(code)\n"
          ]
        },
        {
          "output_type": "execute_result",
          "data": {
            "text/plain": [
              "True"
            ]
          },
          "metadata": {},
          "execution_count": 33
        }
      ],
      "source": [
        "## Bonus: Confirm mutually subsetted dataframes are also matched\n",
        "all(genes.index == clinical['Sample ID'])"
      ]
    },
    {
      "cell_type": "code",
      "execution_count": null,
      "metadata": {
        "colab": {
          "base_uri": "https://localhost:8080/"
        },
        "id": "MoUIQmvL2jWd",
        "outputId": "219f7bbb-9da2-40ce-a2e8-0626b65bacf9"
      },
      "outputs": [
        {
          "output_type": "stream",
          "name": "stderr",
          "text": [
            "/usr/local/lib/python3.10/dist-packages/ipykernel/ipkernel.py:283: DeprecationWarning: `should_run_async` will not call `transform_cell` automatically in the future. Please pass the result to `transformed_cell` argument and any exception that happen during thetransform in `preprocessing_exc_tuple` in IPython 7.17 and above.\n",
            "  and should_run_async(code)\n"
          ]
        },
        {
          "output_type": "execute_result",
          "data": {
            "text/plain": [
              "(999, 14)"
            ]
          },
          "metadata": {},
          "execution_count": 34
        }
      ],
      "source": [
        "clinical.shape"
      ]
    },
    {
      "cell_type": "code",
      "execution_count": null,
      "metadata": {
        "colab": {
          "base_uri": "https://localhost:8080/"
        },
        "id": "xWoUKN_A2jTT",
        "outputId": "ad74042d-4c50-49c4-8eba-dac72858d66c"
      },
      "outputs": [
        {
          "output_type": "stream",
          "name": "stderr",
          "text": [
            "/usr/local/lib/python3.10/dist-packages/ipykernel/ipkernel.py:283: DeprecationWarning: `should_run_async` will not call `transform_cell` automatically in the future. Please pass the result to `transformed_cell` argument and any exception that happen during thetransform in `preprocessing_exc_tuple` in IPython 7.17 and above.\n",
            "  and should_run_async(code)\n"
          ]
        },
        {
          "output_type": "execute_result",
          "data": {
            "text/plain": [
              "319"
            ]
          },
          "metadata": {},
          "execution_count": 35
        }
      ],
      "source": [
        "genesWithNan = genes.columns[genes.isna().any()].tolist()\n",
        "len(genesWithNan)"
      ]
    },
    {
      "cell_type": "code",
      "execution_count": null,
      "metadata": {
        "colab": {
          "base_uri": "https://localhost:8080/"
        },
        "id": "McaqmBqT2jQM",
        "outputId": "e70a90a1-917d-4dd1-d773-b842a3c8c7bf"
      },
      "outputs": [
        {
          "output_type": "stream",
          "name": "stderr",
          "text": [
            "/usr/local/lib/python3.10/dist-packages/ipykernel/ipkernel.py:283: DeprecationWarning: `should_run_async` will not call `transform_cell` automatically in the future. Please pass the result to `transformed_cell` argument and any exception that happen during thetransform in `preprocessing_exc_tuple` in IPython 7.17 and above.\n",
            "  and should_run_async(code)\n"
          ]
        },
        {
          "output_type": "execute_result",
          "data": {
            "text/plain": [
              "(999, 20209)"
            ]
          },
          "metadata": {},
          "execution_count": 36
        }
      ],
      "source": [
        "gene = genes.dropna(axis=1)\n",
        "gene.shape"
      ]
    },
    {
      "cell_type": "markdown",
      "source": [
        "#Explore Data via Unsupervised Learning"
      ],
      "metadata": {
        "id": "QsMN5BEzCgeX"
      }
    },
    {
      "cell_type": "code",
      "execution_count": null,
      "metadata": {
        "colab": {
          "base_uri": "https://localhost:8080/"
        },
        "id": "U640d0gk2jMK",
        "outputId": "d51b277f-d51d-4214-9bdb-e72066017939"
      },
      "outputs": [
        {
          "output_type": "stream",
          "name": "stderr",
          "text": [
            "/usr/local/lib/python3.10/dist-packages/ipykernel/ipkernel.py:283: DeprecationWarning: `should_run_async` will not call `transform_cell` automatically in the future. Please pass the result to `transformed_cell` argument and any exception that happen during thetransform in `preprocessing_exc_tuple` in IPython 7.17 and above.\n",
            "  and should_run_async(code)\n"
          ]
        }
      ],
      "source": [
        "def plot_dimred(X_r, y, title, labels=[0,1],\n",
        "                target_names=[\"Other\",\"Triple Neg.\"], colors=['navy','darkorange']):\n",
        "    \"\"\" Plots dimensionality reduced data \"\"\"\n",
        "    plt.figure(dpi=100)\n",
        "\n",
        "    for color, label, target_name in zip(colors, labels, target_names):\n",
        "        plt.scatter(\n",
        "            X_r[y == label, 0],\n",
        "            X_r[y == label, 1],\n",
        "            color=color,\n",
        "            label=target_name\n",
        "        )\n",
        "\n",
        "    plt.legend(loc='best', shadow=False, scatterpoints=1)\n",
        "    plt.xlabel(\"Dimension 1\")\n",
        "    plt.ylabel(\"Dimension 2\")\n",
        "\n",
        "    plt.show()"
      ]
    },
    {
      "cell_type": "code",
      "execution_count": null,
      "metadata": {
        "colab": {
          "base_uri": "https://localhost:8080/",
          "height": 131
        },
        "id": "pYGqU1lB2jIM",
        "outputId": "fac55b82-53f6-4bd9-b3cb-fb01c1e5435a"
      },
      "outputs": [
        {
          "output_type": "stream",
          "name": "stderr",
          "text": [
            "/usr/local/lib/python3.10/dist-packages/ipykernel/ipkernel.py:283: DeprecationWarning: `should_run_async` will not call `transform_cell` automatically in the future. Please pass the result to `transformed_cell` argument and any exception that happen during thetransform in `preprocessing_exc_tuple` in IPython 7.17 and above.\n",
            "  and should_run_async(code)\n"
          ]
        },
        {
          "output_type": "execute_result",
          "data": {
            "text/plain": [
              "PCA(n_components=2)"
            ],
            "text/html": [
              "<style>#sk-container-id-1 {color: black;background-color: white;}#sk-container-id-1 pre{padding: 0;}#sk-container-id-1 div.sk-toggleable {background-color: white;}#sk-container-id-1 label.sk-toggleable__label {cursor: pointer;display: block;width: 100%;margin-bottom: 0;padding: 0.3em;box-sizing: border-box;text-align: center;}#sk-container-id-1 label.sk-toggleable__label-arrow:before {content: \"▸\";float: left;margin-right: 0.25em;color: #696969;}#sk-container-id-1 label.sk-toggleable__label-arrow:hover:before {color: black;}#sk-container-id-1 div.sk-estimator:hover label.sk-toggleable__label-arrow:before {color: black;}#sk-container-id-1 div.sk-toggleable__content {max-height: 0;max-width: 0;overflow: hidden;text-align: left;background-color: #f0f8ff;}#sk-container-id-1 div.sk-toggleable__content pre {margin: 0.2em;color: black;border-radius: 0.25em;background-color: #f0f8ff;}#sk-container-id-1 input.sk-toggleable__control:checked~div.sk-toggleable__content {max-height: 200px;max-width: 100%;overflow: auto;}#sk-container-id-1 input.sk-toggleable__control:checked~label.sk-toggleable__label-arrow:before {content: \"▾\";}#sk-container-id-1 div.sk-estimator input.sk-toggleable__control:checked~label.sk-toggleable__label {background-color: #d4ebff;}#sk-container-id-1 div.sk-label input.sk-toggleable__control:checked~label.sk-toggleable__label {background-color: #d4ebff;}#sk-container-id-1 input.sk-hidden--visually {border: 0;clip: rect(1px 1px 1px 1px);clip: rect(1px, 1px, 1px, 1px);height: 1px;margin: -1px;overflow: hidden;padding: 0;position: absolute;width: 1px;}#sk-container-id-1 div.sk-estimator {font-family: monospace;background-color: #f0f8ff;border: 1px dotted black;border-radius: 0.25em;box-sizing: border-box;margin-bottom: 0.5em;}#sk-container-id-1 div.sk-estimator:hover {background-color: #d4ebff;}#sk-container-id-1 div.sk-parallel-item::after {content: \"\";width: 100%;border-bottom: 1px solid gray;flex-grow: 1;}#sk-container-id-1 div.sk-label:hover label.sk-toggleable__label {background-color: #d4ebff;}#sk-container-id-1 div.sk-serial::before {content: \"\";position: absolute;border-left: 1px solid gray;box-sizing: border-box;top: 0;bottom: 0;left: 50%;z-index: 0;}#sk-container-id-1 div.sk-serial {display: flex;flex-direction: column;align-items: center;background-color: white;padding-right: 0.2em;padding-left: 0.2em;position: relative;}#sk-container-id-1 div.sk-item {position: relative;z-index: 1;}#sk-container-id-1 div.sk-parallel {display: flex;align-items: stretch;justify-content: center;background-color: white;position: relative;}#sk-container-id-1 div.sk-item::before, #sk-container-id-1 div.sk-parallel-item::before {content: \"\";position: absolute;border-left: 1px solid gray;box-sizing: border-box;top: 0;bottom: 0;left: 50%;z-index: -1;}#sk-container-id-1 div.sk-parallel-item {display: flex;flex-direction: column;z-index: 1;position: relative;background-color: white;}#sk-container-id-1 div.sk-parallel-item:first-child::after {align-self: flex-end;width: 50%;}#sk-container-id-1 div.sk-parallel-item:last-child::after {align-self: flex-start;width: 50%;}#sk-container-id-1 div.sk-parallel-item:only-child::after {width: 0;}#sk-container-id-1 div.sk-dashed-wrapped {border: 1px dashed gray;margin: 0 0.4em 0.5em 0.4em;box-sizing: border-box;padding-bottom: 0.4em;background-color: white;}#sk-container-id-1 div.sk-label label {font-family: monospace;font-weight: bold;display: inline-block;line-height: 1.2em;}#sk-container-id-1 div.sk-label-container {text-align: center;}#sk-container-id-1 div.sk-container {/* jupyter's `normalize.less` sets `[hidden] { display: none; }` but bootstrap.min.css set `[hidden] { display: none !important; }` so we also need the `!important` here to be able to override the default hidden behavior on the sphinx rendered scikit-learn.org. See: https://github.com/scikit-learn/scikit-learn/issues/21755 */display: inline-block !important;position: relative;}#sk-container-id-1 div.sk-text-repr-fallback {display: none;}</style><div id=\"sk-container-id-1\" class=\"sk-top-container\"><div class=\"sk-text-repr-fallback\"><pre>PCA(n_components=2)</pre><b>In a Jupyter environment, please rerun this cell to show the HTML representation or trust the notebook. <br />On GitHub, the HTML representation is unable to render, please try loading this page with nbviewer.org.</b></div><div class=\"sk-container\" hidden><div class=\"sk-item\"><div class=\"sk-estimator sk-toggleable\"><input class=\"sk-toggleable__control sk-hidden--visually\" id=\"sk-estimator-id-1\" type=\"checkbox\" checked><label for=\"sk-estimator-id-1\" class=\"sk-toggleable__label sk-toggleable__label-arrow\">PCA</label><div class=\"sk-toggleable__content\"><pre>PCA(n_components=2)</pre></div></div></div></div></div>"
            ]
          },
          "metadata": {},
          "execution_count": 38
        }
      ],
      "source": [
        "from sklearn.decomposition import PCA\n",
        "\n",
        "pca = PCA(n_components=2)\n",
        "pca.fit(gene)"
      ]
    },
    {
      "cell_type": "code",
      "execution_count": null,
      "metadata": {
        "colab": {
          "base_uri": "https://localhost:8080/"
        },
        "id": "HHczVmb62jB4",
        "outputId": "028b053e-b9b2-4bb7-853f-75c98f003dee"
      },
      "outputs": [
        {
          "output_type": "stream",
          "name": "stderr",
          "text": [
            "/usr/local/lib/python3.10/dist-packages/ipykernel/ipkernel.py:283: DeprecationWarning: `should_run_async` will not call `transform_cell` automatically in the future. Please pass the result to `transformed_cell` argument and any exception that happen during thetransform in `preprocessing_exc_tuple` in IPython 7.17 and above.\n",
            "  and should_run_async(code)\n"
          ]
        }
      ],
      "source": [
        "X_pca = pca.transform(gene)"
      ]
    },
    {
      "cell_type": "code",
      "execution_count": null,
      "metadata": {
        "colab": {
          "base_uri": "https://localhost:8080/",
          "height": 505
        },
        "id": "hHqL8_ua2i9e",
        "outputId": "81884e97-6082-409d-e499-54ed1b3279d3"
      },
      "outputs": [
        {
          "output_type": "stream",
          "name": "stderr",
          "text": [
            "/usr/local/lib/python3.10/dist-packages/ipykernel/ipkernel.py:283: DeprecationWarning: `should_run_async` will not call `transform_cell` automatically in the future. Please pass the result to `transformed_cell` argument and any exception that happen during thetransform in `preprocessing_exc_tuple` in IPython 7.17 and above.\n",
            "  and should_run_async(code)\n"
          ]
        },
        {
          "output_type": "display_data",
          "data": {
            "text/plain": [
              "<Figure size 640x480 with 1 Axes>"
            ],
            "image/png": "[encoded data removed]"
          },
          "metadata": {}
        }
      ],
      "source": [
        "plot_dimred(X_pca, clinical[\"Label\"].values ,\"PCA\")"
      ]
    },
    {
      "cell_type": "markdown",
      "source": [
        "#Feature Selection for Supervised Learning"
      ],
      "metadata": {
        "id": "6RSJHrTbCwTM"
      }
    },
    {
      "cell_type": "code",
      "execution_count": null,
      "metadata": {
        "colab": {
          "base_uri": "https://localhost:8080/"
        },
        "id": "ORSw51sP2i6A",
        "outputId": "e96b2be2-22c8-4543-a705-9da51106e66f"
      },
      "outputs": [
        {
          "output_type": "stream",
          "name": "stderr",
          "text": [
            "/usr/local/lib/python3.10/dist-packages/ipykernel/ipkernel.py:283: DeprecationWarning: `should_run_async` will not call `transform_cell` automatically in the future. Please pass the result to `transformed_cell` argument and any exception that happen during thetransform in `preprocessing_exc_tuple` in IPython 7.17 and above.\n",
            "  and should_run_async(code)\n"
          ]
        },
        {
          "output_type": "execute_result",
          "data": {
            "text/plain": [
              "True"
            ]
          },
          "metadata": {},
          "execution_count": 41
        }
      ],
      "source": [
        "# Check to see if patient IDs in the 2 DataFrames match\n",
        "all(genes.index == clinical['Sample ID'])"
      ]
    },
    {
      "cell_type": "markdown",
      "source": [
        "**Exclude genes with missing values**"
      ],
      "metadata": {
        "id": "MNNwiLrBC96n"
      }
    },
    {
      "cell_type": "code",
      "execution_count": null,
      "metadata": {
        "colab": {
          "base_uri": "https://localhost:8080/"
        },
        "id": "oWGPD6rK5Fes",
        "outputId": "30e5f074-2cd8-404b-deab-6195b0308df4"
      },
      "outputs": [
        {
          "output_type": "stream",
          "name": "stderr",
          "text": [
            "/usr/local/lib/python3.10/dist-packages/ipykernel/ipkernel.py:283: DeprecationWarning: `should_run_async` will not call `transform_cell` automatically in the future. Please pass the result to `transformed_cell` argument and any exception that happen during thetransform in `preprocessing_exc_tuple` in IPython 7.17 and above.\n",
            "  and should_run_async(code)\n"
          ]
        },
        {
          "output_type": "execute_result",
          "data": {
            "text/plain": [
              "0.01553975058456742"
            ]
          },
          "metadata": {},
          "execution_count": 42
        }
      ],
      "source": [
        "genesWithNan = genes.columns[genes.isna().any()].tolist()\n",
        "len(genesWithNan) / genes.shape[1]"
      ]
    },
    {
      "cell_type": "code",
      "execution_count": null,
      "metadata": {
        "colab": {
          "base_uri": "https://localhost:8080/"
        },
        "id": "SE7sYUfF5Fb4",
        "outputId": "0993f65a-8ebd-4515-ef7d-f5e679da94cd"
      },
      "outputs": [
        {
          "output_type": "stream",
          "name": "stderr",
          "text": [
            "/usr/local/lib/python3.10/dist-packages/ipykernel/ipkernel.py:283: DeprecationWarning: `should_run_async` will not call `transform_cell` automatically in the future. Please pass the result to `transformed_cell` argument and any exception that happen during thetransform in `preprocessing_exc_tuple` in IPython 7.17 and above.\n",
            "  and should_run_async(code)\n"
          ]
        },
        {
          "output_type": "execute_result",
          "data": {
            "text/plain": [
              "(999, 20209)"
            ]
          },
          "metadata": {},
          "execution_count": 43
        }
      ],
      "source": [
        "genes = genes.dropna(axis=1)\n",
        "genes.shape"
      ]
    },
    {
      "cell_type": "markdown",
      "source": [
        "**L1-based Feature Selection**"
      ],
      "metadata": {
        "id": "cIG_sGv2DF9W"
      }
    },
    {
      "cell_type": "code",
      "execution_count": null,
      "metadata": {
        "colab": {
          "base_uri": "https://localhost:8080/"
        },
        "id": "92KKC_7U5FXW",
        "outputId": "83f00cf0-5042-48d8-af65-4cdb43d1fa86"
      },
      "outputs": [
        {
          "output_type": "stream",
          "name": "stderr",
          "text": [
            "/usr/local/lib/python3.10/dist-packages/ipykernel/ipkernel.py:283: DeprecationWarning: `should_run_async` will not call `transform_cell` automatically in the future. Please pass the result to `transformed_cell` argument and any exception that happen during thetransform in `preprocessing_exc_tuple` in IPython 7.17 and above.\n",
            "  and should_run_async(code)\n"
          ]
        }
      ],
      "source": [
        "from sklearn.svm import LinearSVC\n",
        "from sklearn.feature_selection import SelectFromModel"
      ]
    },
    {
      "cell_type": "code",
      "execution_count": null,
      "metadata": {
        "colab": {
          "base_uri": "https://localhost:8080/"
        },
        "id": "L-4FcNGd5FQ1",
        "outputId": "f8b24f18-205d-4cc8-d441-d85c90a5b7b3"
      },
      "outputs": [
        {
          "output_type": "stream",
          "name": "stderr",
          "text": [
            "/usr/local/lib/python3.10/dist-packages/ipykernel/ipkernel.py:283: DeprecationWarning: `should_run_async` will not call `transform_cell` automatically in the future. Please pass the result to `transformed_cell` argument and any exception that happen during thetransform in `preprocessing_exc_tuple` in IPython 7.17 and above.\n",
            "  and should_run_async(code)\n"
          ]
        }
      ],
      "source": [
        "lsvc = LinearSVC(C=0.01, penalty=\"l1\", dual=False)"
      ]
    },
    {
      "cell_type": "code",
      "execution_count": null,
      "metadata": {
        "colab": {
          "base_uri": "https://localhost:8080/"
        },
        "id": "wbfk8Q2OiTMt",
        "outputId": "18c396d4-bbf5-447a-eb55-c23844a9bfed"
      },
      "outputs": [
        {
          "output_type": "stream",
          "name": "stderr",
          "text": [
            "/usr/local/lib/python3.10/dist-packages/ipykernel/ipkernel.py:283: DeprecationWarning: `should_run_async` will not call `transform_cell` automatically in the future. Please pass the result to `transformed_cell` argument and any exception that happen during thetransform in `preprocessing_exc_tuple` in IPython 7.17 and above.\n",
            "  and should_run_async(code)\n"
          ]
        },
        {
          "output_type": "execute_result",
          "data": {
            "text/plain": [
              "(999, 14)"
            ]
          },
          "metadata": {},
          "execution_count": 46
        }
      ],
      "source": [
        "clinical.shape"
      ]
    },
    {
      "cell_type": "code",
      "execution_count": null,
      "metadata": {
        "colab": {
          "base_uri": "https://localhost:8080/",
          "height": 131
        },
        "id": "2NVethOc5FM7",
        "outputId": "1977be32-2af3-476e-c876-b8a003e37e0f"
      },
      "outputs": [
        {
          "output_type": "stream",
          "name": "stderr",
          "text": [
            "/usr/local/lib/python3.10/dist-packages/ipykernel/ipkernel.py:283: DeprecationWarning: `should_run_async` will not call `transform_cell` automatically in the future. Please pass the result to `transformed_cell` argument and any exception that happen during thetransform in `preprocessing_exc_tuple` in IPython 7.17 and above.\n",
            "  and should_run_async(code)\n"
          ]
        },
        {
          "output_type": "execute_result",
          "data": {
            "text/plain": [
              "LinearSVC(C=0.01, dual=False, penalty='l1')"
            ],
            "text/html": [
              "<style>#sk-container-id-2 {color: black;background-color: white;}#sk-container-id-2 pre{padding: 0;}#sk-container-id-2 div.sk-toggleable {background-color: white;}#sk-container-id-2 label.sk-toggleable__label {cursor: pointer;display: block;width: 100%;margin-bottom: 0;padding: 0.3em;box-sizing: border-box;text-align: center;}#sk-container-id-2 label.sk-toggleable__label-arrow:before {content: \"▸\";float: left;margin-right: 0.25em;color: #696969;}#sk-container-id-2 label.sk-toggleable__label-arrow:hover:before {color: black;}#sk-container-id-2 div.sk-estimator:hover label.sk-toggleable__label-arrow:before {color: black;}#sk-container-id-2 div.sk-toggleable__content {max-height: 0;max-width: 0;overflow: hidden;text-align: left;background-color: #f0f8ff;}#sk-container-id-2 div.sk-toggleable__content pre {margin: 0.2em;color: black;border-radius: 0.25em;background-color: #f0f8ff;}#sk-container-id-2 input.sk-toggleable__control:checked~div.sk-toggleable__content {max-height: 200px;max-width: 100%;overflow: auto;}#sk-container-id-2 input.sk-toggleable__control:checked~label.sk-toggleable__label-arrow:before {content: \"▾\";}#sk-container-id-2 div.sk-estimator input.sk-toggleable__control:checked~label.sk-toggleable__label {background-color: #d4ebff;}#sk-container-id-2 div.sk-label input.sk-toggleable__control:checked~label.sk-toggleable__label {background-color: #d4ebff;}#sk-container-id-2 input.sk-hidden--visually {border: 0;clip: rect(1px 1px 1px 1px);clip: rect(1px, 1px, 1px, 1px);height: 1px;margin: -1px;overflow: hidden;padding: 0;position: absolute;width: 1px;}#sk-container-id-2 div.sk-estimator {font-family: monospace;background-color: #f0f8ff;border: 1px dotted black;border-radius: 0.25em;box-sizing: border-box;margin-bottom: 0.5em;}#sk-container-id-2 div.sk-estimator:hover {background-color: #d4ebff;}#sk-container-id-2 div.sk-parallel-item::after {content: \"\";width: 100%;border-bottom: 1px solid gray;flex-grow: 1;}#sk-container-id-2 div.sk-label:hover label.sk-toggleable__label {background-color: #d4ebff;}#sk-container-id-2 div.sk-serial::before {content: \"\";position: absolute;border-left: 1px solid gray;box-sizing: border-box;top: 0;bottom: 0;left: 50%;z-index: 0;}#sk-container-id-2 div.sk-serial {display: flex;flex-direction: column;align-items: center;background-color: white;padding-right: 0.2em;padding-left: 0.2em;position: relative;}#sk-container-id-2 div.sk-item {position: relative;z-index: 1;}#sk-container-id-2 div.sk-parallel {display: flex;align-items: stretch;justify-content: center;background-color: white;position: relative;}#sk-container-id-2 div.sk-item::before, #sk-container-id-2 div.sk-parallel-item::before {content: \"\";position: absolute;border-left: 1px solid gray;box-sizing: border-box;top: 0;bottom: 0;left: 50%;z-index: -1;}#sk-container-id-2 div.sk-parallel-item {display: flex;flex-direction: column;z-index: 1;position: relative;background-color: white;}#sk-container-id-2 div.sk-parallel-item:first-child::after {align-self: flex-end;width: 50%;}#sk-container-id-2 div.sk-parallel-item:last-child::after {align-self: flex-start;width: 50%;}#sk-container-id-2 div.sk-parallel-item:only-child::after {width: 0;}#sk-container-id-2 div.sk-dashed-wrapped {border: 1px dashed gray;margin: 0 0.4em 0.5em 0.4em;box-sizing: border-box;padding-bottom: 0.4em;background-color: white;}#sk-container-id-2 div.sk-label label {font-family: monospace;font-weight: bold;display: inline-block;line-height: 1.2em;}#sk-container-id-2 div.sk-label-container {text-align: center;}#sk-container-id-2 div.sk-container {/* jupyter's `normalize.less` sets `[hidden] { display: none; }` but bootstrap.min.css set `[hidden] { display: none !important; }` so we also need the `!important` here to be able to override the default hidden behavior on the sphinx rendered scikit-learn.org. See: https://github.com/scikit-learn/scikit-learn/issues/21755 */display: inline-block !important;position: relative;}#sk-container-id-2 div.sk-text-repr-fallback {display: none;}</style><div id=\"sk-container-id-2\" class=\"sk-top-container\"><div class=\"sk-text-repr-fallback\"><pre>LinearSVC(C=0.01, dual=False, penalty=&#x27;l1&#x27;)</pre><b>In a Jupyter environment, please rerun this cell to show the HTML representation or trust the notebook. <br />On GitHub, the HTML representation is unable to render, please try loading this page with nbviewer.org.</b></div><div class=\"sk-container\" hidden><div class=\"sk-item\"><div class=\"sk-estimator sk-toggleable\"><input class=\"sk-toggleable__control sk-hidden--visually\" id=\"sk-estimator-id-2\" type=\"checkbox\" checked><label for=\"sk-estimator-id-2\" class=\"sk-toggleable__label sk-toggleable__label-arrow\">LinearSVC</label><div class=\"sk-toggleable__content\"><pre>LinearSVC(C=0.01, dual=False, penalty=&#x27;l1&#x27;)</pre></div></div></div></div></div>"
            ]
          },
          "metadata": {},
          "execution_count": 47
        }
      ],
      "source": [
        "lsvc.fit(genes, clinical[\"Label\"].astype(int).values)"
      ]
    },
    {
      "cell_type": "code",
      "execution_count": null,
      "metadata": {
        "colab": {
          "base_uri": "https://localhost:8080/"
        },
        "id": "pWu7FZ_55FJN",
        "outputId": "8c99ea0f-5fa7-4768-934e-50969fb927d9"
      },
      "outputs": [
        {
          "output_type": "stream",
          "name": "stderr",
          "text": [
            "/usr/local/lib/python3.10/dist-packages/ipykernel/ipkernel.py:283: DeprecationWarning: `should_run_async` will not call `transform_cell` automatically in the future. Please pass the result to `transformed_cell` argument and any exception that happen during thetransform in `preprocessing_exc_tuple` in IPython 7.17 and above.\n",
            "  and should_run_async(code)\n"
          ]
        }
      ],
      "source": [
        "model = SelectFromModel(lsvc, prefit=True)"
      ]
    },
    {
      "cell_type": "code",
      "execution_count": null,
      "metadata": {
        "colab": {
          "base_uri": "https://localhost:8080/"
        },
        "id": "mMNNu2PS5yvX",
        "outputId": "f497f768-ffc5-4d74-bd2a-637bad1a36af"
      },
      "outputs": [
        {
          "output_type": "stream",
          "name": "stderr",
          "text": [
            "/usr/local/lib/python3.10/dist-packages/ipykernel/ipkernel.py:283: DeprecationWarning: `should_run_async` will not call `transform_cell` automatically in the future. Please pass the result to `transformed_cell` argument and any exception that happen during thetransform in `preprocessing_exc_tuple` in IPython 7.17 and above.\n",
            "  and should_run_async(code)\n"
          ]
        },
        {
          "output_type": "execute_result",
          "data": {
            "text/plain": [
              "(999, 53)"
            ]
          },
          "metadata": {},
          "execution_count": 49
        }
      ],
      "source": [
        "genes_l1 = model.transform(genes)\n",
        "genes_l1.shape"
      ]
    },
    {
      "cell_type": "code",
      "execution_count": null,
      "metadata": {
        "colab": {
          "base_uri": "https://localhost:8080/"
        },
        "id": "6fTzvSQM5ypV",
        "outputId": "bcf10a80-f002-4f23-cfa5-0487dbc8a906"
      },
      "outputs": [
        {
          "output_type": "stream",
          "name": "stderr",
          "text": [
            "/usr/local/lib/python3.10/dist-packages/ipykernel/ipkernel.py:283: DeprecationWarning: `should_run_async` will not call `transform_cell` automatically in the future. Please pass the result to `transformed_cell` argument and any exception that happen during thetransform in `preprocessing_exc_tuple` in IPython 7.17 and above.\n",
            "  and should_run_async(code)\n"
          ]
        },
        {
          "output_type": "execute_result",
          "data": {
            "text/plain": [
              "Int64Index([155465,  91074,    696, 143379,  57150, 401546, 401535,    786,\n",
              "             54901, 729767,   1131,   9071, 202333,  22866,  27254,   1452,\n",
              "              1602,   2303,   2300, 161835,   2625,   9118,  10265,   3787,\n",
              "            126823,  55915, 285033, 164312, 116372, 284348,   9313, 193629,\n",
              "            145957, 169611,  93210,  94026,   5460,  25837, 255426, 140032,\n",
              "              6500,  26781,   6627, 254122,   7031,   3195,   7104,  11013,\n",
              "              9654,   7368, 131669, 646799,   7748],\n",
              "           dtype='int64', name='Entrez_Gene_Id')"
            ]
          },
          "metadata": {},
          "execution_count": 50
        }
      ],
      "source": [
        "## Set aside gene features selected\n",
        "selected_features = genes.columns[model.get_support()]\n",
        "selected_features #entrez gene Ids"
      ]
    },
    {
      "cell_type": "code",
      "execution_count": null,
      "metadata": {
        "colab": {
          "base_uri": "https://localhost:8080/"
        },
        "id": "QmS8fzekkAWC",
        "outputId": "2cdcd9ce-977a-446e-ba2a-09eb7714075c"
      },
      "outputs": [
        {
          "output_type": "stream",
          "name": "stderr",
          "text": [
            "/usr/local/lib/python3.10/dist-packages/ipykernel/ipkernel.py:283: DeprecationWarning: `should_run_async` will not call `transform_cell` automatically in the future. Please pass the result to `transformed_cell` argument and any exception that happen during thetransform in `preprocessing_exc_tuple` in IPython 7.17 and above.\n",
            "  and should_run_async(code)\n"
          ]
        },
        {
          "output_type": "execute_result",
          "data": {
            "text/plain": [
              "53"
            ]
          },
          "metadata": {},
          "execution_count": 51
        }
      ],
      "source": [
        "len(selected_features) #should match genes_l1.shape[1]"
      ]
    },
    {
      "cell_type": "code",
      "execution_count": null,
      "metadata": {
        "colab": {
          "base_uri": "https://localhost:8080/",
          "height": 423
        },
        "id": "nfinuxs_kEFD",
        "outputId": "8cb2ed12-0ed5-4a6c-a727-056191038fe7"
      },
      "outputs": [
        {
          "output_type": "stream",
          "name": "stderr",
          "text": [
            "/usr/local/lib/python3.10/dist-packages/ipykernel/ipkernel.py:283: DeprecationWarning: `should_run_async` will not call `transform_cell` automatically in the future. Please pass the result to `transformed_cell` argument and any exception that happen during thetransform in `preprocessing_exc_tuple` in IPython 7.17 and above.\n",
            "  and should_run_async(code)\n"
          ]
        },
        {
          "output_type": "execute_result",
          "data": {
            "text/plain": [
              "Entrez_Gene_Id   155465  91074   696     143379  57150   401546  401535  \\\n",
              "TCGA-3C-AAAU-01  0.7440  0.8410 -0.5802 -1.3485 -0.6921  0.6167 -1.3062   \n",
              "TCGA-3C-AALI-01  0.8540  0.3367 -0.3288  1.1354 -1.0560  0.4525 -0.7934   \n",
              "TCGA-3C-AALJ-01  0.5845  1.1259 -0.4364 -1.6026 -2.3766 -3.4345 -1.3062   \n",
              "TCGA-3C-AALK-01  0.1980  0.8446 -0.2444  0.3630  0.1833  0.8912 -0.1531   \n",
              "TCGA-4H-AAAK-01  0.2268  0.4394 -0.7818  0.6868  0.1617  0.6758 -0.1323   \n",
              "\n",
              "Entrez_Gene_Id   786     54901    729767  ...  254122  7031    3195    7104    \\\n",
              "TCGA-3C-AAAU-01 -1.1856 -0.4918 -728.237  ... -0.8150 -0.6914  0.7391 -0.5315   \n",
              "TCGA-3C-AALI-01  1.2827  0.1886 -728.237  ... -0.3699 -0.3852 -1.1189 -0.6382   \n",
              "TCGA-3C-AALJ-01  0.1288 -0.2670 -728.237  ... -0.6935 -0.3153 -1.1189 -1.1524   \n",
              "TCGA-3C-AALK-01  0.5450 -0.2639 -728.237  ... -0.3610  1.1335 -1.1189  0.3251   \n",
              "TCGA-4H-AAAK-01  0.4103 -0.1716 -728.237  ...  0.8746  0.8219 -1.1189 -0.7326   \n",
              "\n",
              "Entrez_Gene_Id   11013   9654    7368    131669  646799  7748    \n",
              "TCGA-3C-AAAU-01  0.6873 -0.8691 -1.7097  2.0565 -0.5525  0.7877  \n",
              "TCGA-3C-AALI-01  0.3087 -0.8485 -0.8453  1.0001 -0.1701 -0.7506  \n",
              "TCGA-3C-AALJ-01  1.0042 -0.7447 -1.0931 -0.1528 -1.3726  1.3994  \n",
              "TCGA-3C-AALK-01  0.0023 -0.1078 -0.0454 -0.2259 -0.4139 -0.0499  \n",
              "TCGA-4H-AAAK-01  0.5726 -0.4827 -0.0001 -1.2664 -0.3909  0.1956  \n",
              "\n",
              "[5 rows x 53 columns]"
            ],
            "text/html": [
              "\n",
              "  <div id=\"df-e2aa88e3-b084-4414-bd8e-4a81e5a1c459\">\n",
              "    <div class=\"colab-df-container\">\n",
              "      <div>\n",
              "<style scoped>\n",
              "    .dataframe tbody tr th:only-of-type {\n",
              "        vertical-align: middle;\n",
              "    }\n",
              "\n",
              "    .dataframe tbody tr th {\n",
              "        vertical-align: top;\n",
              "    }\n",
              "\n",
              "    .dataframe thead th {\n",
              "        text-align: right;\n",
              "    }\n",
              "</style>\n",
              "<table border=\"1\" class=\"dataframe\">\n",
              "  <thead>\n",
              "    <tr style=\"text-align: right;\">\n",
              "      <th>Entrez_Gene_Id</th>\n",
              "      <th>155465</th>\n",
              "      <th>91074</th>\n",
              "      <th>696</th>\n",
              "      <th>143379</th>\n",
              "      <th>57150</th>\n",
              "      <th>401546</th>\n",
              "      <th>401535</th>\n",
              "      <th>786</th>\n",
              "      <th>54901</th>\n",
              "      <th>729767</th>\n",
              "      <th>...</th>\n",
              "      <th>254122</th>\n",
              "      <th>7031</th>\n",
              "      <th>3195</th>\n",
              "      <th>7104</th>\n",
              "      <th>11013</th>\n",
              "      <th>9654</th>\n",
              "      <th>7368</th>\n",
              "      <th>131669</th>\n",
              "      <th>646799</th>\n",
              "      <th>7748</th>\n",
              "    </tr>\n",
              "  </thead>\n",
              "  <tbody>\n",
              "    <tr>\n",
              "      <th>TCGA-3C-AAAU-01</th>\n",
              "      <td>0.7440</td>\n",
              "      <td>0.8410</td>\n",
              "      <td>-0.5802</td>\n",
              "      <td>-1.3485</td>\n",
              "      <td>-0.6921</td>\n",
              "      <td>0.6167</td>\n",
              "      <td>-1.3062</td>\n",
              "      <td>-1.1856</td>\n",
              "      <td>-0.4918</td>\n",
              "      <td>-728.237</td>\n",
              "      <td>...</td>\n",
              "      <td>-0.8150</td>\n",
              "      <td>-0.6914</td>\n",
              "      <td>0.7391</td>\n",
              "      <td>-0.5315</td>\n",
              "      <td>0.6873</td>\n",
              "      <td>-0.8691</td>\n",
              "      <td>-1.7097</td>\n",
              "      <td>2.0565</td>\n",
              "      <td>-0.5525</td>\n",
              "      <td>0.7877</td>\n",
              "    </tr>\n",
              "    <tr>\n",
              "      <th>TCGA-3C-AALI-01</th>\n",
              "      <td>0.8540</td>\n",
              "      <td>0.3367</td>\n",
              "      <td>-0.3288</td>\n",
              "      <td>1.1354</td>\n",
              "      <td>-1.0560</td>\n",
              "      <td>0.4525</td>\n",
              "      <td>-0.7934</td>\n",
              "      <td>1.2827</td>\n",
              "      <td>0.1886</td>\n",
              "      <td>-728.237</td>\n",
              "      <td>...</td>\n",
              "      <td>-0.3699</td>\n",
              "      <td>-0.3852</td>\n",
              "      <td>-1.1189</td>\n",
              "      <td>-0.6382</td>\n",
              "      <td>0.3087</td>\n",
              "      <td>-0.8485</td>\n",
              "      <td>-0.8453</td>\n",
              "      <td>1.0001</td>\n",
              "      <td>-0.1701</td>\n",
              "      <td>-0.7506</td>\n",
              "    </tr>\n",
              "    <tr>\n",
              "      <th>TCGA-3C-AALJ-01</th>\n",
              "      <td>0.5845</td>\n",
              "      <td>1.1259</td>\n",
              "      <td>-0.4364</td>\n",
              "      <td>-1.6026</td>\n",
              "      <td>-2.3766</td>\n",
              "      <td>-3.4345</td>\n",
              "      <td>-1.3062</td>\n",
              "      <td>0.1288</td>\n",
              "      <td>-0.2670</td>\n",
              "      <td>-728.237</td>\n",
              "      <td>...</td>\n",
              "      <td>-0.6935</td>\n",
              "      <td>-0.3153</td>\n",
              "      <td>-1.1189</td>\n",
              "      <td>-1.1524</td>\n",
              "      <td>1.0042</td>\n",
              "      <td>-0.7447</td>\n",
              "      <td>-1.0931</td>\n",
              "      <td>-0.1528</td>\n",
              "      <td>-1.3726</td>\n",
              "      <td>1.3994</td>\n",
              "    </tr>\n",
              "    <tr>\n",
              "      <th>TCGA-3C-AALK-01</th>\n",
              "      <td>0.1980</td>\n",
              "      <td>0.8446</td>\n",
              "      <td>-0.2444</td>\n",
              "      <td>0.3630</td>\n",
              "      <td>0.1833</td>\n",
              "      <td>0.8912</td>\n",
              "      <td>-0.1531</td>\n",
              "      <td>0.5450</td>\n",
              "      <td>-0.2639</td>\n",
              "      <td>-728.237</td>\n",
              "      <td>...</td>\n",
              "      <td>-0.3610</td>\n",
              "      <td>1.1335</td>\n",
              "      <td>-1.1189</td>\n",
              "      <td>0.3251</td>\n",
              "      <td>0.0023</td>\n",
              "      <td>-0.1078</td>\n",
              "      <td>-0.0454</td>\n",
              "      <td>-0.2259</td>\n",
              "      <td>-0.4139</td>\n",
              "      <td>-0.0499</td>\n",
              "    </tr>\n",
              "    <tr>\n",
              "      <th>TCGA-4H-AAAK-01</th>\n",
              "      <td>0.2268</td>\n",
              "      <td>0.4394</td>\n",
              "      <td>-0.7818</td>\n",
              "      <td>0.6868</td>\n",
              "      <td>0.1617</td>\n",
              "      <td>0.6758</td>\n",
              "      <td>-0.1323</td>\n",
              "      <td>0.4103</td>\n",
              "      <td>-0.1716</td>\n",
              "      <td>-728.237</td>\n",
              "      <td>...</td>\n",
              "      <td>0.8746</td>\n",
              "      <td>0.8219</td>\n",
              "      <td>-1.1189</td>\n",
              "      <td>-0.7326</td>\n",
              "      <td>0.5726</td>\n",
              "      <td>-0.4827</td>\n",
              "      <td>-0.0001</td>\n",
              "      <td>-1.2664</td>\n",
              "      <td>-0.3909</td>\n",
              "      <td>0.1956</td>\n",
              "    </tr>\n",
              "  </tbody>\n",
              "</table>\n",
              "<p>5 rows × 53 columns</p>\n",
              "</div>\n",
              "      <button class=\"colab-df-convert\" onclick=\"convertToInteractive('df-e2aa88e3-b084-4414-bd8e-4a81e5a1c459')\"\n",
              "              title=\"Convert this dataframe to an interactive table.\"\n",
              "              style=\"display:none;\">\n",
              "        \n",
              "  <svg xmlns=\"http://www.w3.org/2000/svg\" height=\"24px\"viewBox=\"0 0 24 24\"\n",
              "       width=\"24px\">\n",
              "    <path d=\"M0 0h24v24H0V0z\" fill=\"none\"/>\n",
              "    <path d=\"M18.56 5.44l.94 2.06.94-2.06 2.06-.94-2.06-.94-.94-2.06-.94 2.06-2.06.94zm-11 1L8.5 8.5l.94-2.06 2.06-.94-2.06-.94L8.5 2.5l-.94 2.06-2.06.94zm10 10l.94 2.06.94-2.06 2.06-.94-2.06-.94-.94-2.06-.94 2.06-2.06.94z\"/><path d=\"M17.41 7.96l-1.37-1.37c-.4-.4-.92-.59-1.43-.59-.52 0-1.04.2-1.43.59L10.3 9.45l-7.72 7.72c-.78.78-.78 2.05 0 2.83L4 21.41c.39.39.9.59 1.41.59.51 0 1.02-.2 1.41-.59l7.78-7.78 2.81-2.81c.8-.78.8-2.07 0-2.86zM5.41 20L4 18.59l7.72-7.72 1.47 1.35L5.41 20z\"/>\n",
              "  </svg>\n",
              "      </button>\n",
              "      \n",
              "  <style>\n",
              "    .colab-df-container {\n",
              "      display:flex;\n",
              "      flex-wrap:wrap;\n",
              "      gap: 12px;\n",
              "    }\n",
              "\n",
              "    .colab-df-convert {\n",
              "      background-color: #E8F0FE;\n",
              "      border: none;\n",
              "      border-radius: 50%;\n",
              "      cursor: pointer;\n",
              "      display: none;\n",
              "      fill: #1967D2;\n",
              "      height: 32px;\n",
              "      padding: 0 0 0 0;\n",
              "      width: 32px;\n",
              "    }\n",
              "\n",
              "    .colab-df-convert:hover {\n",
              "      background-color: #E2EBFA;\n",
              "      box-shadow: 0px 1px 2px rgba(60, 64, 67, 0.3), 0px 1px 3px 1px rgba(60, 64, 67, 0.15);\n",
              "      fill: #174EA6;\n",
              "    }\n",
              "\n",
              "    [theme=dark] .colab-df-convert {\n",
              "      background-color: #3B4455;\n",
              "      fill: #D2E3FC;\n",
              "    }\n",
              "\n",
              "    [theme=dark] .colab-df-convert:hover {\n",
              "      background-color: #434B5C;\n",
              "      box-shadow: 0px 1px 3px 1px rgba(0, 0, 0, 0.15);\n",
              "      filter: drop-shadow(0px 1px 2px rgba(0, 0, 0, 0.3));\n",
              "      fill: #FFFFFF;\n",
              "    }\n",
              "  </style>\n",
              "\n",
              "      <script>\n",
              "        const buttonEl =\n",
              "          document.querySelector('#df-e2aa88e3-b084-4414-bd8e-4a81e5a1c459 button.colab-df-convert');\n",
              "        buttonEl.style.display =\n",
              "          google.colab.kernel.accessAllowed ? 'block' : 'none';\n",
              "\n",
              "        async function convertToInteractive(key) {\n",
              "          const element = document.querySelector('#df-e2aa88e3-b084-4414-bd8e-4a81e5a1c459');\n",
              "          const dataTable =\n",
              "            await google.colab.kernel.invokeFunction('convertToInteractive',\n",
              "                                                     [key], {});\n",
              "          if (!dataTable) return;\n",
              "\n",
              "          const docLinkHtml = 'Like what you see? Visit the ' +\n",
              "            '<a target=\"_blank\" href=https://colab.research.google.com/notebooks/data_table.ipynb>data table notebook</a>'\n",
              "            + ' to learn more about interactive tables.';\n",
              "          element.innerHTML = '';\n",
              "          dataTable['output_type'] = 'display_data';\n",
              "          await google.colab.output.renderOutput(dataTable, element);\n",
              "          const docLink = document.createElement('div');\n",
              "          docLink.innerHTML = docLinkHtml;\n",
              "          element.appendChild(docLink);\n",
              "        }\n",
              "      </script>\n",
              "    </div>\n",
              "  </div>\n",
              "  "
            ]
          },
          "metadata": {},
          "execution_count": 52
        }
      ],
      "source": [
        "genes_l1 = pd.DataFrame(genes_l1)\n",
        "genes_l1.columns = selected_features #selected features\n",
        "genes_l1.index = genes.index #observations\n",
        "genes_l1.head()"
      ]
    },
    {
      "cell_type": "code",
      "execution_count": null,
      "metadata": {
        "colab": {
          "base_uri": "https://localhost:8080/"
        },
        "id": "ns1KisXXkEBG",
        "outputId": "fe32641d-38da-4984-b46a-eb1dabf40493"
      },
      "outputs": [
        {
          "output_type": "stream",
          "name": "stderr",
          "text": [
            "/usr/local/lib/python3.10/dist-packages/ipykernel/ipkernel.py:283: DeprecationWarning: `should_run_async` will not call `transform_cell` automatically in the future. Please pass the result to `transformed_cell` argument and any exception that happen during thetransform in `preprocessing_exc_tuple` in IPython 7.17 and above.\n",
            "  and should_run_async(code)\n"
          ]
        },
        {
          "output_type": "execute_result",
          "data": {
            "text/plain": [
              "(999, 14)"
            ]
          },
          "metadata": {},
          "execution_count": 53
        }
      ],
      "source": [
        "clinical.index = clinical['Sample ID'].values\n",
        "clinical.shape"
      ]
    },
    {
      "cell_type": "code",
      "execution_count": null,
      "metadata": {
        "colab": {
          "base_uri": "https://localhost:8080/"
        },
        "id": "8KLya4c5kD_d",
        "outputId": "8eeefa72-2d88-4cf9-b2d3-9ad883e9f690"
      },
      "outputs": [
        {
          "output_type": "stream",
          "name": "stderr",
          "text": [
            "/usr/local/lib/python3.10/dist-packages/ipykernel/ipkernel.py:283: DeprecationWarning: `should_run_async` will not call `transform_cell` automatically in the future. Please pass the result to `transformed_cell` argument and any exception that happen during thetransform in `preprocessing_exc_tuple` in IPython 7.17 and above.\n",
            "  and should_run_async(code)\n"
          ]
        }
      ],
      "source": [
        "## Check to see if patient IDs in the 2 DataFrames match\n",
        "assert all(genes.index == clinical.index)"
      ]
    },
    {
      "cell_type": "code",
      "execution_count": null,
      "metadata": {
        "colab": {
          "base_uri": "https://localhost:8080/"
        },
        "id": "ehpZ996WkDz0",
        "outputId": "bae92e26-f7c2-4672-f46a-7bc40fa0c518"
      },
      "outputs": [
        {
          "output_type": "stream",
          "name": "stderr",
          "text": [
            "/usr/local/lib/python3.10/dist-packages/ipykernel/ipkernel.py:283: DeprecationWarning: `should_run_async` will not call `transform_cell` automatically in the future. Please pass the result to `transformed_cell` argument and any exception that happen during thetransform in `preprocessing_exc_tuple` in IPython 7.17 and above.\n",
            "  and should_run_async(code)\n"
          ]
        }
      ],
      "source": [
        "y = clinical[\"Label\"].astype(int)"
      ]
    },
    {
      "cell_type": "markdown",
      "source": [
        "#Supervised Learning with SVM with Hyperparameter Tuning as Benchmark"
      ],
      "metadata": {
        "id": "bCj3c-CtDo39"
      }
    },
    {
      "cell_type": "code",
      "execution_count": null,
      "metadata": {
        "colab": {
          "base_uri": "https://localhost:8080/"
        },
        "id": "46MjO3yoleUE",
        "outputId": "0a1d7d0d-5f35-4ab6-9f50-07e75a0b2949"
      },
      "outputs": [
        {
          "output_type": "stream",
          "name": "stderr",
          "text": [
            "/usr/local/lib/python3.10/dist-packages/ipykernel/ipkernel.py:283: DeprecationWarning: `should_run_async` will not call `transform_cell` automatically in the future. Please pass the result to `transformed_cell` argument and any exception that happen during thetransform in `preprocessing_exc_tuple` in IPython 7.17 and above.\n",
            "  and should_run_async(code)\n"
          ]
        }
      ],
      "source": [
        "Xtrain, Xtest, ytrain, ytest = train_test_split(genes, y, test_size=0.2, random_state=42)"
      ]
    },
    {
      "cell_type": "code",
      "execution_count": null,
      "metadata": {
        "colab": {
          "base_uri": "https://localhost:8080/"
        },
        "id": "A4MhqmgZlnBR",
        "outputId": "df4f262d-e1db-4a6f-ba7a-e0a6385f7f86"
      },
      "outputs": [
        {
          "output_type": "stream",
          "name": "stderr",
          "text": [
            "/usr/local/lib/python3.10/dist-packages/ipykernel/ipkernel.py:283: DeprecationWarning: `should_run_async` will not call `transform_cell` automatically in the future. Please pass the result to `transformed_cell` argument and any exception that happen during thetransform in `preprocessing_exc_tuple` in IPython 7.17 and above.\n",
            "  and should_run_async(code)\n"
          ]
        },
        {
          "output_type": "execute_result",
          "data": {
            "text/plain": [
              "array([0.56504525, 4.34347826])"
            ]
          },
          "metadata": {},
          "execution_count": 57
        }
      ],
      "source": [
        "class_weights = len(y) / (2 * np.bincount(y))\n",
        "class_weights #balanced class weights"
      ]
    },
    {
      "cell_type": "code",
      "execution_count": null,
      "metadata": {
        "colab": {
          "base_uri": "https://localhost:8080/"
        },
        "id": "5S31n5QElsxa",
        "outputId": "d68cb817-cab6-49d8-e636-02ed91d77752"
      },
      "outputs": [
        {
          "output_type": "stream",
          "name": "stderr",
          "text": [
            "/usr/local/lib/python3.10/dist-packages/ipykernel/ipkernel.py:283: DeprecationWarning: `should_run_async` will not call `transform_cell` automatically in the future. Please pass the result to `transformed_cell` argument and any exception that happen during thetransform in `preprocessing_exc_tuple` in IPython 7.17 and above.\n",
            "  and should_run_async(code)\n"
          ]
        },
        {
          "output_type": "execute_result",
          "data": {
            "text/plain": [
              "7.6869565217391305"
            ]
          },
          "metadata": {},
          "execution_count": 58
        }
      ],
      "source": [
        "## Relative positive class weight\n",
        "class_weights[1] / class_weights[0]"
      ]
    },
    {
      "cell_type": "code",
      "execution_count": null,
      "metadata": {
        "colab": {
          "base_uri": "https://localhost:8080/"
        },
        "id": "ehO6Gei6lspn",
        "outputId": "8424e684-b225-454b-e9dd-1c5b58fcf789"
      },
      "outputs": [
        {
          "output_type": "stream",
          "name": "stderr",
          "text": [
            "/usr/local/lib/python3.10/dist-packages/ipykernel/ipkernel.py:283: DeprecationWarning: `should_run_async` will not call `transform_cell` automatically in the future. Please pass the result to `transformed_cell` argument and any exception that happen during thetransform in `preprocessing_exc_tuple` in IPython 7.17 and above.\n",
            "  and should_run_async(code)\n"
          ]
        },
        {
          "output_type": "execute_result",
          "data": {
            "text/plain": [
              "7.6869565217391305"
            ]
          },
          "metadata": {},
          "execution_count": 59
        }
      ],
      "source": [
        "sum(y == 0) / sum(y == 1)"
      ]
    },
    {
      "cell_type": "markdown",
      "source": [
        "**Train SVM with Hyperparameter Tuning**"
      ],
      "metadata": {
        "id": "Q4jKSAyAD-m1"
      }
    },
    {
      "cell_type": "code",
      "execution_count": null,
      "metadata": {
        "colab": {
          "base_uri": "https://localhost:8080/"
        },
        "id": "rWLoVdjQlsmQ",
        "outputId": "a1d2eec5-84b3-4f52-bb16-a866699b664b"
      },
      "outputs": [
        {
          "output_type": "stream",
          "name": "stderr",
          "text": [
            "/usr/local/lib/python3.10/dist-packages/ipykernel/ipkernel.py:283: DeprecationWarning: `should_run_async` will not call `transform_cell` automatically in the future. Please pass the result to `transformed_cell` argument and any exception that happen during thetransform in `preprocessing_exc_tuple` in IPython 7.17 and above.\n",
            "  and should_run_async(code)\n"
          ]
        }
      ],
      "source": [
        "from sklearn.svm import SVC\n",
        "from sklearn.model_selection import RandomizedSearchCV\n",
        "from sklearn import metrics\n",
        "from scipy import stats\n",
        "\n",
        "NUM_CANDIDATES = 20\n",
        "SVM_PARAMS = {'C': stats.expon(scale=100), 'gamma': stats.expon(scale=0.1)}"
      ]
    },
    {
      "cell_type": "code",
      "execution_count": null,
      "metadata": {
        "colab": {
          "base_uri": "https://localhost:8080/"
        },
        "id": "jb0VF_ZolsRM",
        "outputId": "e6d60913-b718-4443-a6b2-29f11dcf1d0a"
      },
      "outputs": [
        {
          "output_type": "stream",
          "name": "stderr",
          "text": [
            "/usr/local/lib/python3.10/dist-packages/ipykernel/ipkernel.py:283: DeprecationWarning: `should_run_async` will not call `transform_cell` automatically in the future. Please pass the result to `transformed_cell` argument and any exception that happen during thetransform in `preprocessing_exc_tuple` in IPython 7.17 and above.\n",
            "  and should_run_async(code)\n"
          ]
        }
      ],
      "source": [
        "idx_validation = np.random.choice(range(Xtrain.shape[0]), size=200)\n",
        "idx_train = np.setdiff1d(range(Xtrain.shape[0]), idx_validation)"
      ]
    },
    {
      "cell_type": "code",
      "execution_count": null,
      "metadata": {
        "colab": {
          "base_uri": "https://localhost:8080/",
          "height": 174
        },
        "id": "W55Dp39Jl6TS",
        "outputId": "f60a27a2-dadc-4fb0-86f6-13c28ad38b93"
      },
      "outputs": [
        {
          "output_type": "stream",
          "name": "stderr",
          "text": [
            "/usr/local/lib/python3.10/dist-packages/ipykernel/ipkernel.py:283: DeprecationWarning: `should_run_async` will not call `transform_cell` automatically in the future. Please pass the result to `transformed_cell` argument and any exception that happen during thetransform in `preprocessing_exc_tuple` in IPython 7.17 and above.\n",
            "  and should_run_async(code)\n"
          ]
        },
        {
          "output_type": "execute_result",
          "data": {
            "text/plain": [
              "RandomizedSearchCV(cv=[(array([  0,   1,   4,   7,  11,  12,  17,  18,  19,  20,  21,  22,  23,\n",
              "        25,  26,  27,  28,  29,  30,  32,  33,  34,  35,  36,  37,  38,\n",
              "        39,  40,  41,  43,  44,  45,  46,  47,  48,  50,  53,  54,  55,\n",
              "        56,  57,  58,  59,  60,  61,  62,  63,  65,  67,  68,  69,  71,\n",
              "        74,  76,  77,  78,  79,  80,  81,  82,  83,  84,  86,  87,  88,\n",
              "        89,  90,  91,  92,  94,  95,  97,  98,  99, 100, 101, 102, 103,\n",
              "       104, 105, 106, 108, 111, 112, 113, 114, 116, 117, 118, 119, 120,\n",
              "       121, 122, 123, 124, 125, 126, 128, 129, 1...\n",
              "       323, 204, 303, 786, 751, 481, 597,   3,   9, 435, 587, 515, 560,\n",
              "       446, 157, 706,  85, 429,  73, 448, 231, 604, 671, 794, 599, 177,\n",
              "       754, 785, 329, 115, 778]))],\n",
              "                   estimator=SVC(class_weight='balanced', max_iter=20),\n",
              "                   n_iter=20,\n",
              "                   param_distributions={'C': <scipy.stats._distn_infrastructure.rv_continuous_frozen object at 0x7f74e1052620>,\n",
              "                                        'gamma': <scipy.stats._distn_infrastructure.rv_continuous_frozen object at 0x7f74e10526e0>},\n",
              "                   scoring='roc_auc')"
            ],
            "text/html": [
              "<style>#sk-container-id-3 {color: black;background-color: white;}#sk-container-id-3 pre{padding: 0;}#sk-container-id-3 div.sk-toggleable {background-color: white;}#sk-container-id-3 label.sk-toggleable__label {cursor: pointer;display: block;width: 100%;margin-bottom: 0;padding: 0.3em;box-sizing: border-box;text-align: center;}#sk-container-id-3 label.sk-toggleable__label-arrow:before {content: \"▸\";float: left;margin-right: 0.25em;color: #696969;}#sk-container-id-3 label.sk-toggleable__label-arrow:hover:before {color: black;}#sk-container-id-3 div.sk-estimator:hover label.sk-toggleable__label-arrow:before {color: black;}#sk-container-id-3 div.sk-toggleable__content {max-height: 0;max-width: 0;overflow: hidden;text-align: left;background-color: #f0f8ff;}#sk-container-id-3 div.sk-toggleable__content pre {margin: 0.2em;color: black;border-radius: 0.25em;background-color: #f0f8ff;}#sk-container-id-3 input.sk-toggleable__control:checked~div.sk-toggleable__content {max-height: 200px;max-width: 100%;overflow: auto;}#sk-container-id-3 input.sk-toggleable__control:checked~label.sk-toggleable__label-arrow:before {content: \"▾\";}#sk-container-id-3 div.sk-estimator input.sk-toggleable__control:checked~label.sk-toggleable__label {background-color: #d4ebff;}#sk-container-id-3 div.sk-label input.sk-toggleable__control:checked~label.sk-toggleable__label {background-color: #d4ebff;}#sk-container-id-3 input.sk-hidden--visually {border: 0;clip: rect(1px 1px 1px 1px);clip: rect(1px, 1px, 1px, 1px);height: 1px;margin: -1px;overflow: hidden;padding: 0;position: absolute;width: 1px;}#sk-container-id-3 div.sk-estimator {font-family: monospace;background-color: #f0f8ff;border: 1px dotted black;border-radius: 0.25em;box-sizing: border-box;margin-bottom: 0.5em;}#sk-container-id-3 div.sk-estimator:hover {background-color: #d4ebff;}#sk-container-id-3 div.sk-parallel-item::after {content: \"\";width: 100%;border-bottom: 1px solid gray;flex-grow: 1;}#sk-container-id-3 div.sk-label:hover label.sk-toggleable__label {background-color: #d4ebff;}#sk-container-id-3 div.sk-serial::before {content: \"\";position: absolute;border-left: 1px solid gray;box-sizing: border-box;top: 0;bottom: 0;left: 50%;z-index: 0;}#sk-container-id-3 div.sk-serial {display: flex;flex-direction: column;align-items: center;background-color: white;padding-right: 0.2em;padding-left: 0.2em;position: relative;}#sk-container-id-3 div.sk-item {position: relative;z-index: 1;}#sk-container-id-3 div.sk-parallel {display: flex;align-items: stretch;justify-content: center;background-color: white;position: relative;}#sk-container-id-3 div.sk-item::before, #sk-container-id-3 div.sk-parallel-item::before {content: \"\";position: absolute;border-left: 1px solid gray;box-sizing: border-box;top: 0;bottom: 0;left: 50%;z-index: -1;}#sk-container-id-3 div.sk-parallel-item {display: flex;flex-direction: column;z-index: 1;position: relative;background-color: white;}#sk-container-id-3 div.sk-parallel-item:first-child::after {align-self: flex-end;width: 50%;}#sk-container-id-3 div.sk-parallel-item:last-child::after {align-self: flex-start;width: 50%;}#sk-container-id-3 div.sk-parallel-item:only-child::after {width: 0;}#sk-container-id-3 div.sk-dashed-wrapped {border: 1px dashed gray;margin: 0 0.4em 0.5em 0.4em;box-sizing: border-box;padding-bottom: 0.4em;background-color: white;}#sk-container-id-3 div.sk-label label {font-family: monospace;font-weight: bold;display: inline-block;line-height: 1.2em;}#sk-container-id-3 div.sk-label-container {text-align: center;}#sk-container-id-3 div.sk-container {/* jupyter's `normalize.less` sets `[hidden] { display: none; }` but bootstrap.min.css set `[hidden] { display: none !important; }` so we also need the `!important` here to be able to override the default hidden behavior on the sphinx rendered scikit-learn.org. See: https://github.com/scikit-learn/scikit-learn/issues/21755 */display: inline-block !important;position: relative;}#sk-container-id-3 div.sk-text-repr-fallback {display: none;}</style><div id=\"sk-container-id-3\" class=\"sk-top-container\"><div class=\"sk-text-repr-fallback\"><pre>RandomizedSearchCV(cv=[(array([  0,   1,   4,   7,  11,  12,  17,  18,  19,  20,  21,  22,  23,\n",
              "        25,  26,  27,  28,  29,  30,  32,  33,  34,  35,  36,  37,  38,\n",
              "        39,  40,  41,  43,  44,  45,  46,  47,  48,  50,  53,  54,  55,\n",
              "        56,  57,  58,  59,  60,  61,  62,  63,  65,  67,  68,  69,  71,\n",
              "        74,  76,  77,  78,  79,  80,  81,  82,  83,  84,  86,  87,  88,\n",
              "        89,  90,  91,  92,  94,  95,  97,  98,  99, 100, 101, 102, 103,\n",
              "       104, 105, 106, 108, 111, 112, 113, 114, 116, 117, 118, 119, 120,\n",
              "       121, 122, 123, 124, 125, 126, 128, 129, 1...\n",
              "       323, 204, 303, 786, 751, 481, 597,   3,   9, 435, 587, 515, 560,\n",
              "       446, 157, 706,  85, 429,  73, 448, 231, 604, 671, 794, 599, 177,\n",
              "       754, 785, 329, 115, 778]))],\n",
              "                   estimator=SVC(class_weight=&#x27;balanced&#x27;, max_iter=20),\n",
              "                   n_iter=20,\n",
              "                   param_distributions={&#x27;C&#x27;: &lt;scipy.stats._distn_infrastructure.rv_continuous_frozen object at 0x7f74e1052620&gt;,\n",
              "                                        &#x27;gamma&#x27;: &lt;scipy.stats._distn_infrastructure.rv_continuous_frozen object at 0x7f74e10526e0&gt;},\n",
              "                   scoring=&#x27;roc_auc&#x27;)</pre><b>In a Jupyter environment, please rerun this cell to show the HTML representation or trust the notebook. <br />On GitHub, the HTML representation is unable to render, please try loading this page with nbviewer.org.</b></div><div class=\"sk-container\" hidden><div class=\"sk-item sk-dashed-wrapped\"><div class=\"sk-label-container\"><div class=\"sk-label sk-toggleable\"><input class=\"sk-toggleable__control sk-hidden--visually\" id=\"sk-estimator-id-3\" type=\"checkbox\" ><label for=\"sk-estimator-id-3\" class=\"sk-toggleable__label sk-toggleable__label-arrow\">RandomizedSearchCV</label><div class=\"sk-toggleable__content\"><pre>RandomizedSearchCV(cv=[(array([  0,   1,   4,   7,  11,  12,  17,  18,  19,  20,  21,  22,  23,\n",
              "        25,  26,  27,  28,  29,  30,  32,  33,  34,  35,  36,  37,  38,\n",
              "        39,  40,  41,  43,  44,  45,  46,  47,  48,  50,  53,  54,  55,\n",
              "        56,  57,  58,  59,  60,  61,  62,  63,  65,  67,  68,  69,  71,\n",
              "        74,  76,  77,  78,  79,  80,  81,  82,  83,  84,  86,  87,  88,\n",
              "        89,  90,  91,  92,  94,  95,  97,  98,  99, 100, 101, 102, 103,\n",
              "       104, 105, 106, 108, 111, 112, 113, 114, 116, 117, 118, 119, 120,\n",
              "       121, 122, 123, 124, 125, 126, 128, 129, 1...\n",
              "       323, 204, 303, 786, 751, 481, 597,   3,   9, 435, 587, 515, 560,\n",
              "       446, 157, 706,  85, 429,  73, 448, 231, 604, 671, 794, 599, 177,\n",
              "       754, 785, 329, 115, 778]))],\n",
              "                   estimator=SVC(class_weight=&#x27;balanced&#x27;, max_iter=20),\n",
              "                   n_iter=20,\n",
              "                   param_distributions={&#x27;C&#x27;: &lt;scipy.stats._distn_infrastructure.rv_continuous_frozen object at 0x7f74e1052620&gt;,\n",
              "                                        &#x27;gamma&#x27;: &lt;scipy.stats._distn_infrastructure.rv_continuous_frozen object at 0x7f74e10526e0&gt;},\n",
              "                   scoring=&#x27;roc_auc&#x27;)</pre></div></div></div><div class=\"sk-parallel\"><div class=\"sk-parallel-item\"><div class=\"sk-item\"><div class=\"sk-label-container\"><div class=\"sk-label sk-toggleable\"><input class=\"sk-toggleable__control sk-hidden--visually\" id=\"sk-estimator-id-4\" type=\"checkbox\" ><label for=\"sk-estimator-id-4\" class=\"sk-toggleable__label sk-toggleable__label-arrow\">estimator: SVC</label><div class=\"sk-toggleable__content\"><pre>SVC(class_weight=&#x27;balanced&#x27;, max_iter=20)</pre></div></div></div><div class=\"sk-serial\"><div class=\"sk-item\"><div class=\"sk-estimator sk-toggleable\"><input class=\"sk-toggleable__control sk-hidden--visually\" id=\"sk-estimator-id-5\" type=\"checkbox\" ><label for=\"sk-estimator-id-5\" class=\"sk-toggleable__label sk-toggleable__label-arrow\">SVC</label><div class=\"sk-toggleable__content\"><pre>SVC(class_weight=&#x27;balanced&#x27;, max_iter=20)</pre></div></div></div></div></div></div></div></div></div></div>"
            ]
          },
          "metadata": {},
          "execution_count": 62
        }
      ],
      "source": [
        "random_search = RandomizedSearchCV(\n",
        "    SVC(max_iter = 20, kernel=\"rbf\", class_weight='balanced'),\n",
        "    param_distributions = SVM_PARAMS,\n",
        "    n_iter = NUM_CANDIDATES,\n",
        "    cv = [(idx_train, idx_validation)], #hold out validation\n",
        "    scoring = \"roc_auc\"\n",
        ")\n",
        "\n",
        "random_search.fit(Xtrain, ytrain)"
      ]
    },
    {
      "cell_type": "code",
      "execution_count": null,
      "metadata": {
        "colab": {
          "base_uri": "https://localhost:8080/",
          "height": 733
        },
        "id": "62KHqwMal6P2",
        "outputId": "b937f9b6-1f46-4930-fc3a-4b3e0728d67b"
      },
      "outputs": [
        {
          "output_type": "stream",
          "name": "stderr",
          "text": [
            "/usr/local/lib/python3.10/dist-packages/ipykernel/ipkernel.py:283: DeprecationWarning: `should_run_async` will not call `transform_cell` automatically in the future. Please pass the result to `transformed_cell` argument and any exception that happen during thetransform in `preprocessing_exc_tuple` in IPython 7.17 and above.\n",
            "  and should_run_async(code)\n"
          ]
        },
        {
          "output_type": "execute_result",
          "data": {
            "text/plain": [
              "   Hyperparam C Hyperparam gamma  mean_AUC_score\n",
              "0     66.915127         0.008991        0.957611\n",
              "9    160.722094         0.019637        0.955470\n",
              "7       14.7052         0.019346        0.955470\n",
              "12   107.105454         0.020949        0.954399\n",
              "16   133.491029         0.023304        0.952259\n",
              "4    253.033268          0.00296        0.951937\n",
              "17    18.639485         0.026287        0.901413\n",
              "5    354.265511         0.029829        0.848962\n",
              "2     76.627994         0.031749        0.833654\n",
              "19   298.358057         0.005682        0.661850\n",
              "6     42.431275         0.038253        0.638728\n",
              "3      140.2765         0.040821        0.615607\n",
              "8    126.202458         0.045731        0.572254\n",
              "1     23.845841         0.049678        0.543353\n",
              "11     82.42818         0.315979        0.500000\n",
              "13    56.120716         0.098457        0.500000\n",
              "14    75.743507         0.071578        0.500000\n",
              "15     41.49848          0.24559        0.500000\n",
              "18    21.455604         0.110323        0.500000\n",
              "10     6.930046         0.123285        0.500000"
            ],
            "text/html": [
              "\n",
              "  <div id=\"df-c94d53a8-94f0-4d5a-acbf-a8b3e11beff1\">\n",
              "    <div class=\"colab-df-container\">\n",
              "      <div>\n",
              "<style scoped>\n",
              "    .dataframe tbody tr th:only-of-type {\n",
              "        vertical-align: middle;\n",
              "    }\n",
              "\n",
              "    .dataframe tbody tr th {\n",
              "        vertical-align: top;\n",
              "    }\n",
              "\n",
              "    .dataframe thead th {\n",
              "        text-align: right;\n",
              "    }\n",
              "</style>\n",
              "<table border=\"1\" class=\"dataframe\">\n",
              "  <thead>\n",
              "    <tr style=\"text-align: right;\">\n",
              "      <th></th>\n",
              "      <th>Hyperparam C</th>\n",
              "      <th>Hyperparam gamma</th>\n",
              "      <th>mean_AUC_score</th>\n",
              "    </tr>\n",
              "  </thead>\n",
              "  <tbody>\n",
              "    <tr>\n",
              "      <th>0</th>\n",
              "      <td>66.915127</td>\n",
              "      <td>0.008991</td>\n",
              "      <td>0.957611</td>\n",
              "    </tr>\n",
              "    <tr>\n",
              "      <th>9</th>\n",
              "      <td>160.722094</td>\n",
              "      <td>0.019637</td>\n",
              "      <td>0.955470</td>\n",
              "    </tr>\n",
              "    <tr>\n",
              "      <th>7</th>\n",
              "      <td>14.7052</td>\n",
              "      <td>0.019346</td>\n",
              "      <td>0.955470</td>\n",
              "    </tr>\n",
              "    <tr>\n",
              "      <th>12</th>\n",
              "      <td>107.105454</td>\n",
              "      <td>0.020949</td>\n",
              "      <td>0.954399</td>\n",
              "    </tr>\n",
              "    <tr>\n",
              "      <th>16</th>\n",
              "      <td>133.491029</td>\n",
              "      <td>0.023304</td>\n",
              "      <td>0.952259</td>\n",
              "    </tr>\n",
              "    <tr>\n",
              "      <th>4</th>\n",
              "      <td>253.033268</td>\n",
              "      <td>0.00296</td>\n",
              "      <td>0.951937</td>\n",
              "    </tr>\n",
              "    <tr>\n",
              "      <th>17</th>\n",
              "      <td>18.639485</td>\n",
              "      <td>0.026287</td>\n",
              "      <td>0.901413</td>\n",
              "    </tr>\n",
              "    <tr>\n",
              "      <th>5</th>\n",
              "      <td>354.265511</td>\n",
              "      <td>0.029829</td>\n",
              "      <td>0.848962</td>\n",
              "    </tr>\n",
              "    <tr>\n",
              "      <th>2</th>\n",
              "      <td>76.627994</td>\n",
              "      <td>0.031749</td>\n",
              "      <td>0.833654</td>\n",
              "    </tr>\n",
              "    <tr>\n",
              "      <th>19</th>\n",
              "      <td>298.358057</td>\n",
              "      <td>0.005682</td>\n",
              "      <td>0.661850</td>\n",
              "    </tr>\n",
              "    <tr>\n",
              "      <th>6</th>\n",
              "      <td>42.431275</td>\n",
              "      <td>0.038253</td>\n",
              "      <td>0.638728</td>\n",
              "    </tr>\n",
              "    <tr>\n",
              "      <th>3</th>\n",
              "      <td>140.2765</td>\n",
              "      <td>0.040821</td>\n",
              "      <td>0.615607</td>\n",
              "    </tr>\n",
              "    <tr>\n",
              "      <th>8</th>\n",
              "      <td>126.202458</td>\n",
              "      <td>0.045731</td>\n",
              "      <td>0.572254</td>\n",
              "    </tr>\n",
              "    <tr>\n",
              "      <th>1</th>\n",
              "      <td>23.845841</td>\n",
              "      <td>0.049678</td>\n",
              "      <td>0.543353</td>\n",
              "    </tr>\n",
              "    <tr>\n",
              "      <th>11</th>\n",
              "      <td>82.42818</td>\n",
              "      <td>0.315979</td>\n",
              "      <td>0.500000</td>\n",
              "    </tr>\n",
              "    <tr>\n",
              "      <th>13</th>\n",
              "      <td>56.120716</td>\n",
              "      <td>0.098457</td>\n",
              "      <td>0.500000</td>\n",
              "    </tr>\n",
              "    <tr>\n",
              "      <th>14</th>\n",
              "      <td>75.743507</td>\n",
              "      <td>0.071578</td>\n",
              "      <td>0.500000</td>\n",
              "    </tr>\n",
              "    <tr>\n",
              "      <th>15</th>\n",
              "      <td>41.49848</td>\n",
              "      <td>0.24559</td>\n",
              "      <td>0.500000</td>\n",
              "    </tr>\n",
              "    <tr>\n",
              "      <th>18</th>\n",
              "      <td>21.455604</td>\n",
              "      <td>0.110323</td>\n",
              "      <td>0.500000</td>\n",
              "    </tr>\n",
              "    <tr>\n",
              "      <th>10</th>\n",
              "      <td>6.930046</td>\n",
              "      <td>0.123285</td>\n",
              "      <td>0.500000</td>\n",
              "    </tr>\n",
              "  </tbody>\n",
              "</table>\n",
              "</div>\n",
              "      <button class=\"colab-df-convert\" onclick=\"convertToInteractive('df-c94d53a8-94f0-4d5a-acbf-a8b3e11beff1')\"\n",
              "              title=\"Convert this dataframe to an interactive table.\"\n",
              "              style=\"display:none;\">\n",
              "        \n",
              "  <svg xmlns=\"http://www.w3.org/2000/svg\" height=\"24px\"viewBox=\"0 0 24 24\"\n",
              "       width=\"24px\">\n",
              "    <path d=\"M0 0h24v24H0V0z\" fill=\"none\"/>\n",
              "    <path d=\"M18.56 5.44l.94 2.06.94-2.06 2.06-.94-2.06-.94-.94-2.06-.94 2.06-2.06.94zm-11 1L8.5 8.5l.94-2.06 2.06-.94-2.06-.94L8.5 2.5l-.94 2.06-2.06.94zm10 10l.94 2.06.94-2.06 2.06-.94-2.06-.94-.94-2.06-.94 2.06-2.06.94z\"/><path d=\"M17.41 7.96l-1.37-1.37c-.4-.4-.92-.59-1.43-.59-.52 0-1.04.2-1.43.59L10.3 9.45l-7.72 7.72c-.78.78-.78 2.05 0 2.83L4 21.41c.39.39.9.59 1.41.59.51 0 1.02-.2 1.41-.59l7.78-7.78 2.81-2.81c.8-.78.8-2.07 0-2.86zM5.41 20L4 18.59l7.72-7.72 1.47 1.35L5.41 20z\"/>\n",
              "  </svg>\n",
              "      </button>\n",
              "      \n",
              "  <style>\n",
              "    .colab-df-container {\n",
              "      display:flex;\n",
              "      flex-wrap:wrap;\n",
              "      gap: 12px;\n",
              "    }\n",
              "\n",
              "    .colab-df-convert {\n",
              "      background-color: #E8F0FE;\n",
              "      border: none;\n",
              "      border-radius: 50%;\n",
              "      cursor: pointer;\n",
              "      display: none;\n",
              "      fill: #1967D2;\n",
              "      height: 32px;\n",
              "      padding: 0 0 0 0;\n",
              "      width: 32px;\n",
              "    }\n",
              "\n",
              "    .colab-df-convert:hover {\n",
              "      background-color: #E2EBFA;\n",
              "      box-shadow: 0px 1px 2px rgba(60, 64, 67, 0.3), 0px 1px 3px 1px rgba(60, 64, 67, 0.15);\n",
              "      fill: #174EA6;\n",
              "    }\n",
              "\n",
              "    [theme=dark] .colab-df-convert {\n",
              "      background-color: #3B4455;\n",
              "      fill: #D2E3FC;\n",
              "    }\n",
              "\n",
              "    [theme=dark] .colab-df-convert:hover {\n",
              "      background-color: #434B5C;\n",
              "      box-shadow: 0px 1px 3px 1px rgba(0, 0, 0, 0.15);\n",
              "      filter: drop-shadow(0px 1px 2px rgba(0, 0, 0, 0.3));\n",
              "      fill: #FFFFFF;\n",
              "    }\n",
              "  </style>\n",
              "\n",
              "      <script>\n",
              "        const buttonEl =\n",
              "          document.querySelector('#df-c94d53a8-94f0-4d5a-acbf-a8b3e11beff1 button.colab-df-convert');\n",
              "        buttonEl.style.display =\n",
              "          google.colab.kernel.accessAllowed ? 'block' : 'none';\n",
              "\n",
              "        async function convertToInteractive(key) {\n",
              "          const element = document.querySelector('#df-c94d53a8-94f0-4d5a-acbf-a8b3e11beff1');\n",
              "          const dataTable =\n",
              "            await google.colab.kernel.invokeFunction('convertToInteractive',\n",
              "                                                     [key], {});\n",
              "          if (!dataTable) return;\n",
              "\n",
              "          const docLinkHtml = 'Like what you see? Visit the ' +\n",
              "            '<a target=\"_blank\" href=https://colab.research.google.com/notebooks/data_table.ipynb>data table notebook</a>'\n",
              "            + ' to learn more about interactive tables.';\n",
              "          element.innerHTML = '';\n",
              "          dataTable['output_type'] = 'display_data';\n",
              "          await google.colab.output.renderOutput(dataTable, element);\n",
              "          const docLink = document.createElement('div');\n",
              "          docLink.innerHTML = docLinkHtml;\n",
              "          element.appendChild(docLink);\n",
              "        }\n",
              "      </script>\n",
              "    </div>\n",
              "  </div>\n",
              "  "
            ]
          },
          "metadata": {},
          "execution_count": 63
        }
      ],
      "source": [
        "df_tune = pd.DataFrame({\n",
        "    \"Hyperparam C\": random_search.cv_results_[\"param_C\"],\n",
        "    \"Hyperparam gamma\": random_search.cv_results_[\"param_gamma\"],\n",
        "    \"mean_AUC_score\": random_search.cv_results_['mean_test_score']\n",
        "})\n",
        "\n",
        "df_tune.sort_values(by=\"mean_AUC_score\", ascending=False, inplace=True)\n",
        "df_tune"
      ]
    },
    {
      "cell_type": "code",
      "execution_count": null,
      "metadata": {
        "colab": {
          "base_uri": "https://localhost:8080/"
        },
        "id": "Bis0G1Ajl6M4",
        "outputId": "529193b7-8d93-4098-b984-4c55a879d6ca"
      },
      "outputs": [
        {
          "output_type": "stream",
          "name": "stderr",
          "text": [
            "/usr/local/lib/python3.10/dist-packages/ipykernel/ipkernel.py:283: DeprecationWarning: `should_run_async` will not call `transform_cell` automatically in the future. Please pass the result to `transformed_cell` argument and any exception that happen during thetransform in `preprocessing_exc_tuple` in IPython 7.17 and above.\n",
            "  and should_run_async(code)\n"
          ]
        },
        {
          "output_type": "execute_result",
          "data": {
            "text/plain": [
              "0.9576107899807321"
            ]
          },
          "metadata": {},
          "execution_count": 64
        }
      ],
      "source": [
        "random_search.best_score_ #double-check"
      ]
    },
    {
      "cell_type": "markdown",
      "source": [
        "**Evaluation metrics on the Test Set**"
      ],
      "metadata": {
        "id": "Z1k1n5kTEI4F"
      }
    },
    {
      "cell_type": "code",
      "execution_count": null,
      "metadata": {
        "colab": {
          "base_uri": "https://localhost:8080/"
        },
        "id": "6RAz_-jgmXFN",
        "outputId": "b3845914-a5d7-4d08-8760-1fda0e1b7c38"
      },
      "outputs": [
        {
          "output_type": "stream",
          "name": "stderr",
          "text": [
            "/usr/local/lib/python3.10/dist-packages/ipykernel/ipkernel.py:283: DeprecationWarning: `should_run_async` will not call `transform_cell` automatically in the future. Please pass the result to `transformed_cell` argument and any exception that happen during thetransform in `preprocessing_exc_tuple` in IPython 7.17 and above.\n",
            "  and should_run_async(code)\n"
          ]
        }
      ],
      "source": [
        "## Retrieve the best model:\n",
        "svm = random_search.best_estimator_"
      ]
    },
    {
      "cell_type": "code",
      "execution_count": null,
      "metadata": {
        "colab": {
          "base_uri": "https://localhost:8080/"
        },
        "id": "-gLixR2jmW-u",
        "outputId": "3c470d42-9eb6-4e4c-8f5f-1d9146884f79"
      },
      "outputs": [
        {
          "output_type": "stream",
          "name": "stderr",
          "text": [
            "/usr/local/lib/python3.10/dist-packages/ipykernel/ipkernel.py:283: DeprecationWarning: `should_run_async` will not call `transform_cell` automatically in the future. Please pass the result to `transformed_cell` argument and any exception that happen during thetransform in `preprocessing_exc_tuple` in IPython 7.17 and above.\n",
            "  and should_run_async(code)\n"
          ]
        }
      ],
      "source": [
        "yTestScore = svm.predict(Xtest)"
      ]
    },
    {
      "cell_type": "code",
      "execution_count": null,
      "metadata": {
        "colab": {
          "base_uri": "https://localhost:8080/"
        },
        "id": "DEQjMdGFpW4H",
        "outputId": "68c9e23e-c6aa-412d-efc2-89c547ff58d9"
      },
      "outputs": [
        {
          "output_type": "stream",
          "name": "stderr",
          "text": [
            "/usr/local/lib/python3.10/dist-packages/ipykernel/ipkernel.py:283: DeprecationWarning: `should_run_async` will not call `transform_cell` automatically in the future. Please pass the result to `transformed_cell` argument and any exception that happen during thetransform in `preprocessing_exc_tuple` in IPython 7.17 and above.\n",
            "  and should_run_async(code)\n"
          ]
        }
      ],
      "source": [
        "yTestPred = svm.predict(Xtest)"
      ]
    },
    {
      "cell_type": "code",
      "execution_count": null,
      "metadata": {
        "colab": {
          "base_uri": "https://localhost:8080/"
        },
        "id": "orseupyimWvP",
        "outputId": "c67d6037-0e9f-4cec-8ce3-8dc58fbb9dc7"
      },
      "outputs": [
        {
          "output_type": "stream",
          "name": "stdout",
          "text": [
            "              precision    recall  f1-score   support\n",
            "\n",
            "           0       0.97      0.91      0.94       172\n",
            "           1       0.60      0.86      0.71        28\n",
            "\n",
            "    accuracy                           0.90       200\n",
            "   macro avg       0.79      0.88      0.82       200\n",
            "weighted avg       0.92      0.90      0.91       200\n",
            "\n"
          ]
        },
        {
          "output_type": "stream",
          "name": "stderr",
          "text": [
            "/usr/local/lib/python3.10/dist-packages/ipykernel/ipkernel.py:283: DeprecationWarning: `should_run_async` will not call `transform_cell` automatically in the future. Please pass the result to `transformed_cell` argument and any exception that happen during thetransform in `preprocessing_exc_tuple` in IPython 7.17 and above.\n",
            "  and should_run_async(code)\n"
          ]
        }
      ],
      "source": [
        "print(metrics.classification_report(ytest, yTestPred))"
      ]
    },
    {
      "cell_type": "code",
      "source": [
        "# compute and print accuracy score\n",
        "\n",
        "from sklearn.metrics import accuracy_score\n",
        "\n",
        "print('SVM model accuracy score: {0:0.4f}'. format(accuracy_score(ytest, yTestPred)))"
      ],
      "metadata": {
        "colab": {
          "base_uri": "https://localhost:8080/"
        },
        "id": "jocOlRLvFyw1",
        "outputId": "29f46c1e-f39b-4695-8d92-4aee65bb1980"
      },
      "execution_count": null,
      "outputs": [
        {
          "output_type": "stream",
          "name": "stdout",
          "text": [
            "SVM model accuracy score: 0.9000\n"
          ]
        },
        {
          "output_type": "stream",
          "name": "stderr",
          "text": [
            "/usr/local/lib/python3.10/dist-packages/ipykernel/ipkernel.py:283: DeprecationWarning: `should_run_async` will not call `transform_cell` automatically in the future. Please pass the result to `transformed_cell` argument and any exception that happen during thetransform in `preprocessing_exc_tuple` in IPython 7.17 and above.\n",
            "  and should_run_async(code)\n"
          ]
        }
      ]
    },
    {
      "cell_type": "code",
      "execution_count": null,
      "metadata": {
        "colab": {
          "base_uri": "https://localhost:8080/"
        },
        "id": "5B57Xadcm60E",
        "outputId": "6d682b87-b4b9-4320-dd93-bfeff749de48"
      },
      "outputs": [
        {
          "output_type": "stream",
          "name": "stderr",
          "text": [
            "/usr/local/lib/python3.10/dist-packages/ipykernel/ipkernel.py:283: DeprecationWarning: `should_run_async` will not call `transform_cell` automatically in the future. Please pass the result to `transformed_cell` argument and any exception that happen during thetransform in `preprocessing_exc_tuple` in IPython 7.17 and above.\n",
            "  and should_run_async(code)\n"
          ]
        },
        {
          "output_type": "execute_result",
          "data": {
            "text/plain": [
              "array([[156,  16],\n",
              "       [  4,  24]])"
            ]
          },
          "metadata": {},
          "execution_count": 70
        }
      ],
      "source": [
        "## Confusion matrix\n",
        "metrics.confusion_matrix(ytest, yTestPred)"
      ]
    },
    {
      "cell_type": "code",
      "execution_count": null,
      "metadata": {
        "colab": {
          "base_uri": "https://localhost:8080/"
        },
        "id": "K8WSPUahxFr3",
        "outputId": "acc5c9b8-0596-40cb-9f94-d078efaeaad1"
      },
      "outputs": [
        {
          "output_type": "stream",
          "name": "stderr",
          "text": [
            "/usr/local/lib/python3.10/dist-packages/ipykernel/ipkernel.py:283: DeprecationWarning: `should_run_async` will not call `transform_cell` automatically in the future. Please pass the result to `transformed_cell` argument and any exception that happen during thetransform in `preprocessing_exc_tuple` in IPython 7.17 and above.\n",
            "  and should_run_async(code)\n"
          ]
        }
      ],
      "source": [
        "from sklearn import datasets\n",
        "from sklearn.tree import DecisionTreeClassifier\n",
        "from sklearn.linear_model import LogisticRegression\n",
        "from sklearn.metrics import roc_curve, roc_auc_score"
      ]
    },
    {
      "cell_type": "code",
      "execution_count": null,
      "metadata": {
        "colab": {
          "base_uri": "https://localhost:8080/"
        },
        "id": "NaDIGZBkyECJ",
        "outputId": "bb5a13b1-5be3-4cf0-ddb7-20bfec63fe19"
      },
      "outputs": [
        {
          "output_type": "stream",
          "name": "stderr",
          "text": [
            "/usr/local/lib/python3.10/dist-packages/ipykernel/ipkernel.py:283: DeprecationWarning: `should_run_async` will not call `transform_cell` automatically in the future. Please pass the result to `transformed_cell` argument and any exception that happen during thetransform in `preprocessing_exc_tuple` in IPython 7.17 and above.\n",
            "  and should_run_async(code)\n"
          ]
        },
        {
          "output_type": "stream",
          "name": "stdout",
          "text": [
            "Looking in indexes: https://pypi.org/simple, https://us-python.pkg.dev/colab-wheels/public/simple/\n",
            "Requirement already satisfied: scikit-plot in /usr/local/lib/python3.10/dist-packages (0.3.7)\n",
            "Requirement already satisfied: matplotlib>=1.4.0 in /usr/local/lib/python3.10/dist-packages (from scikit-plot) (3.7.1)\n",
            "Requirement already satisfied: scikit-learn>=0.18 in /usr/local/lib/python3.10/dist-packages (from scikit-plot) (1.2.2)\n",
            "Requirement already satisfied: scipy>=0.9 in /usr/local/lib/python3.10/dist-packages (from scikit-plot) (1.10.1)\n",
            "Requirement already satisfied: joblib>=0.10 in /usr/local/lib/python3.10/dist-packages (from scikit-plot) (1.2.0)\n",
            "Requirement already satisfied: contourpy>=1.0.1 in /usr/local/lib/python3.10/dist-packages (from matplotlib>=1.4.0->scikit-plot) (1.0.7)\n",
            "Requirement already satisfied: cycler>=0.10 in /usr/local/lib/python3.10/dist-packages (from matplotlib>=1.4.0->scikit-plot) (0.11.0)\n",
            "Requirement already satisfied: fonttools>=4.22.0 in /usr/local/lib/python3.10/dist-packages (from matplotlib>=1.4.0->scikit-plot) (4.39.3)\n",
            "Requirement already satisfied: kiwisolver>=1.0.1 in /usr/local/lib/python3.10/dist-packages (from matplotlib>=1.4.0->scikit-plot) (1.4.4)\n",
            "Requirement already satisfied: numpy>=1.20 in /usr/local/lib/python3.10/dist-packages (from matplotlib>=1.4.0->scikit-plot) (1.22.4)\n",
            "Requirement already satisfied: packaging>=20.0 in /usr/local/lib/python3.10/dist-packages (from matplotlib>=1.4.0->scikit-plot) (23.1)\n",
            "Requirement already satisfied: pillow>=6.2.0 in /usr/local/lib/python3.10/dist-packages (from matplotlib>=1.4.0->scikit-plot) (8.4.0)\n",
            "Requirement already satisfied: pyparsing>=2.3.1 in /usr/local/lib/python3.10/dist-packages (from matplotlib>=1.4.0->scikit-plot) (3.0.9)\n",
            "Requirement already satisfied: python-dateutil>=2.7 in /usr/local/lib/python3.10/dist-packages (from matplotlib>=1.4.0->scikit-plot) (2.8.2)\n",
            "Requirement already satisfied: threadpoolctl>=2.0.0 in /usr/local/lib/python3.10/dist-packages (from scikit-learn>=0.18->scikit-plot) (3.1.0)\n",
            "Requirement already satisfied: six>=1.5 in /usr/local/lib/python3.10/dist-packages (from python-dateutil>=2.7->matplotlib>=1.4.0->scikit-plot) (1.16.0)\n"
          ]
        }
      ],
      "source": [
        "pip install scikit-plot"
      ]
    },
    {
      "cell_type": "code",
      "source": [
        "print(yTestScore)"
      ],
      "metadata": {
        "colab": {
          "base_uri": "https://localhost:8080/"
        },
        "id": "PRAjoSxFiMAS",
        "outputId": "0f103660-1e30-4143-d066-95c8ffece7c3"
      },
      "execution_count": null,
      "outputs": [
        {
          "output_type": "stream",
          "name": "stdout",
          "text": [
            "[1 0 0 0 0 0 1 0 0 1 0 0 0 1 0 1 1 0 1 0 0 1 0 1 1 0 0 0 0 1 0 0 0 0 1 0 0\n",
            " 0 1 1 0 0 0 0 0 0 0 0 0 0 0 0 0 0 0 0 0 0 0 0 0 0 0 0 0 0 0 0 0 0 0 1 0 0\n",
            " 0 1 0 1 0 0 1 0 0 0 0 0 0 0 0 1 0 0 1 0 1 0 0 1 0 0 0 0 0 1 1 0 0 0 0 0 0\n",
            " 0 0 0 0 0 0 0 0 0 0 0 0 0 0 0 0 0 0 0 0 0 0 0 0 1 1 0 0 0 0 0 0 0 0 0 1 1\n",
            " 1 1 0 0 0 0 1 0 0 0 0 0 0 0 1 1 0 0 0 0 0 1 0 0 1 0 0 0 0 0 0 0 0 0 0 1 0\n",
            " 0 1 0 0 1 0 0 0 0 0 1 0 1 0 0]\n"
          ]
        },
        {
          "output_type": "stream",
          "name": "stderr",
          "text": [
            "/usr/local/lib/python3.10/dist-packages/ipykernel/ipkernel.py:283: DeprecationWarning: `should_run_async` will not call `transform_cell` automatically in the future. Please pass the result to `transformed_cell` argument and any exception that happen during thetransform in `preprocessing_exc_tuple` in IPython 7.17 and above.\n",
            "  and should_run_async(code)\n"
          ]
        }
      ]
    },
    {
      "cell_type": "code",
      "execution_count": null,
      "metadata": {
        "colab": {
          "base_uri": "https://localhost:8080/"
        },
        "id": "nXpmzxhGNSp4",
        "outputId": "a96d098e-2cd0-4e10-81d4-bd98ad12b1b6"
      },
      "outputs": [
        {
          "output_type": "stream",
          "name": "stderr",
          "text": [
            "/usr/local/lib/python3.10/dist-packages/ipykernel/ipkernel.py:283: DeprecationWarning: `should_run_async` will not call `transform_cell` automatically in the future. Please pass the result to `transformed_cell` argument and any exception that happen during thetransform in `preprocessing_exc_tuple` in IPython 7.17 and above.\n",
            "  and should_run_async(code)\n"
          ]
        }
      ],
      "source": [
        "def plot_roc(ytrue, yscore):\n",
        "    \"\"\" Wrapper to plot ROC curve for binary classification \"\"\"\n",
        "    from sklearn import metrics\n",
        "\n",
        "    plt.figure(dpi=100)\n",
        "\n",
        "    fpr, tpr, _ = metrics.roc_curve(ytrue, yscore)\n",
        "    auc = metrics.roc_auc_score(ytrue, yscore)\n",
        "    plt.plot(fpr,tpr,label=\"AUC=%.3f\" % auc)\n",
        "    plt.legend(loc=4)\n",
        "\n",
        "    plt.show()"
      ]
    },
    {
      "cell_type": "code",
      "execution_count": null,
      "metadata": {
        "colab": {
          "base_uri": "https://localhost:8080/",
          "height": 486
        },
        "id": "1V_raDoJzqTW",
        "outputId": "886556b3-0d46-4ea5-db29-de0b62f703da"
      },
      "outputs": [
        {
          "output_type": "stream",
          "name": "stderr",
          "text": [
            "/usr/local/lib/python3.10/dist-packages/ipykernel/ipkernel.py:283: DeprecationWarning: `should_run_async` will not call `transform_cell` automatically in the future. Please pass the result to `transformed_cell` argument and any exception that happen during thetransform in `preprocessing_exc_tuple` in IPython 7.17 and above.\n",
            "  and should_run_async(code)\n"
          ]
        },
        {
          "output_type": "display_data",
          "data": {
            "text/plain": [
              "<Figure size 640x480 with 1 Axes>"
            ],
            "image/png": "[encoded data removed]"
          },
          "metadata": {}
        }
      ],
      "source": [
        "plot_roc(ytest, yTestScore)"
      ]
    },
    {
      "cell_type": "markdown",
      "source": [
        "#Supervised Learning with XGBoost"
      ],
      "metadata": {
        "id": "UZ8ExtLzElCi"
      }
    },
    {
      "cell_type": "code",
      "execution_count": null,
      "metadata": {
        "id": "Y5XSEeLGm6uU",
        "colab": {
          "base_uri": "https://localhost:8080/"
        },
        "outputId": "17d27776-7f38-42c6-da2a-df796ed32aa1"
      },
      "outputs": [
        {
          "output_type": "stream",
          "name": "stderr",
          "text": [
            "/usr/local/lib/python3.10/dist-packages/ipykernel/ipkernel.py:283: DeprecationWarning: `should_run_async` will not call `transform_cell` automatically in the future. Please pass the result to `transformed_cell` argument and any exception that happen during thetransform in `preprocessing_exc_tuple` in IPython 7.17 and above.\n",
            "  and should_run_async(code)\n"
          ]
        }
      ],
      "source": [
        "## Check to see if patient IDs in the 2 DataFrames match\n",
        "assert all(genes.index == clinical.index)"
      ]
    },
    {
      "cell_type": "code",
      "execution_count": null,
      "metadata": {
        "id": "vpTSIN1tr7G-",
        "colab": {
          "base_uri": "https://localhost:8080/"
        },
        "outputId": "ed83a184-e056-409b-b54d-010d576ad2a5"
      },
      "outputs": [
        {
          "output_type": "stream",
          "name": "stderr",
          "text": [
            "/usr/local/lib/python3.10/dist-packages/ipykernel/ipkernel.py:283: DeprecationWarning: `should_run_async` will not call `transform_cell` automatically in the future. Please pass the result to `transformed_cell` argument and any exception that happen during thetransform in `preprocessing_exc_tuple` in IPython 7.17 and above.\n",
            "  and should_run_async(code)\n"
          ]
        }
      ],
      "source": [
        "y = clinical[\"Label\"].astype(int)"
      ]
    },
    {
      "cell_type": "code",
      "execution_count": null,
      "metadata": {
        "id": "hvR-4qbDr7FH",
        "colab": {
          "base_uri": "https://localhost:8080/"
        },
        "outputId": "93c04137-caa2-4420-f043-d29454039f1a"
      },
      "outputs": [
        {
          "output_type": "stream",
          "name": "stderr",
          "text": [
            "/usr/local/lib/python3.10/dist-packages/ipykernel/ipkernel.py:283: DeprecationWarning: `should_run_async` will not call `transform_cell` automatically in the future. Please pass the result to `transformed_cell` argument and any exception that happen during thetransform in `preprocessing_exc_tuple` in IPython 7.17 and above.\n",
            "  and should_run_async(code)\n"
          ]
        }
      ],
      "source": [
        "genes = genes.loc[:,~genes.columns.duplicated()]\n",
        "\n",
        "Xtrain, Xtest, ytrain, ytest = train_test_split(genes, y, test_size=0.2, random_state=42)"
      ]
    },
    {
      "cell_type": "code",
      "source": [
        "## 2nd split to get validation set\n",
        "# Xtrain, Xval, ytrain, yval = train_test_split(Xtrain, ytrain.astype(int), test_size=0.2)"
      ],
      "metadata": {
        "colab": {
          "base_uri": "https://localhost:8080/"
        },
        "id": "oW_HUyPNl_4e",
        "outputId": "b219962a-dba1-4da7-92a7-adff679d5dba"
      },
      "execution_count": null,
      "outputs": [
        {
          "output_type": "stream",
          "name": "stderr",
          "text": [
            "/usr/local/lib/python3.10/dist-packages/ipykernel/ipkernel.py:283: DeprecationWarning: `should_run_async` will not call `transform_cell` automatically in the future. Please pass the result to `transformed_cell` argument and any exception that happen during thetransform in `preprocessing_exc_tuple` in IPython 7.17 and above.\n",
            "  and should_run_async(code)\n"
          ]
        }
      ]
    },
    {
      "cell_type": "code",
      "execution_count": null,
      "metadata": {
        "id": "QLHhIkEzs2bb",
        "colab": {
          "base_uri": "https://localhost:8080/"
        },
        "outputId": "9f0f34e1-8201-40b3-c173-622d86d38715"
      },
      "outputs": [
        {
          "output_type": "stream",
          "name": "stdout",
          "text": [
            "Positive class weight = 7.69\n"
          ]
        },
        {
          "output_type": "stream",
          "name": "stderr",
          "text": [
            "/usr/local/lib/python3.10/dist-packages/ipykernel/ipkernel.py:283: DeprecationWarning: `should_run_async` will not call `transform_cell` automatically in the future. Please pass the result to `transformed_cell` argument and any exception that happen during thetransform in `preprocessing_exc_tuple` in IPython 7.17 and above.\n",
            "  and should_run_async(code)\n"
          ]
        }
      ],
      "source": [
        "scale_pos_weight = sum(y == 0) / sum(y == 1)\n",
        "print(\"Positive class weight = %.2f\" % scale_pos_weight)"
      ]
    },
    {
      "cell_type": "code",
      "execution_count": null,
      "metadata": {
        "id": "pSGiQDO7s2Xv",
        "colab": {
          "base_uri": "https://localhost:8080/"
        },
        "outputId": "4a198346-82fc-4e49-c973-a7ed7cf2a154"
      },
      "outputs": [
        {
          "output_type": "stream",
          "name": "stdout",
          "text": [
            "weight_0=0.57, weight_1=4.34\n",
            "sklearn version of class 1 weight 7.69\n"
          ]
        },
        {
          "output_type": "stream",
          "name": "stderr",
          "text": [
            "/usr/local/lib/python3.10/dist-packages/ipykernel/ipkernel.py:283: DeprecationWarning: `should_run_async` will not call `transform_cell` automatically in the future. Please pass the result to `transformed_cell` argument and any exception that happen during thetransform in `preprocessing_exc_tuple` in IPython 7.17 and above.\n",
            "  and should_run_async(code)\n"
          ]
        }
      ],
      "source": [
        "class_weights = len(y) / (2 * np.bincount(y))\n",
        "print(\"weight_0=%.2f, weight_1=%.2f\" % tuple(class_weights))\n",
        "print(\"sklearn version of class 1 weight %.2f\" % (class_weights[1] / class_weights[0])) #should equal value in the cell above"
      ]
    },
    {
      "cell_type": "code",
      "execution_count": null,
      "metadata": {
        "id": "WmYMYP1huZen",
        "colab": {
          "base_uri": "https://localhost:8080/"
        },
        "outputId": "c212d737-1a3a-4599-d6e9-898477978bb9"
      },
      "outputs": [
        {
          "output_type": "stream",
          "name": "stderr",
          "text": [
            "/usr/local/lib/python3.10/dist-packages/ipykernel/ipkernel.py:283: DeprecationWarning: `should_run_async` will not call `transform_cell` automatically in the future. Please pass the result to `transformed_cell` argument and any exception that happen during thetransform in `preprocessing_exc_tuple` in IPython 7.17 and above.\n",
            "  and should_run_async(code)\n"
          ]
        }
      ],
      "source": [
        "# import machine learning libraries\n",
        "import xgboost as xgb\n",
        "from sklearn.metrics import accuracy_score"
      ]
    },
    {
      "cell_type": "code",
      "execution_count": null,
      "metadata": {
        "id": "3GaJt-uNs2U1",
        "colab": {
          "base_uri": "https://localhost:8080/"
        },
        "outputId": "4200f485-a968-445f-f6c0-3c8bc263a297"
      },
      "outputs": [
        {
          "output_type": "stream",
          "name": "stderr",
          "text": [
            "/usr/local/lib/python3.10/dist-packages/ipykernel/ipkernel.py:283: DeprecationWarning: `should_run_async` will not call `transform_cell` automatically in the future. Please pass the result to `transformed_cell` argument and any exception that happen during thetransform in `preprocessing_exc_tuple` in IPython 7.17 and above.\n",
            "  and should_run_async(code)\n"
          ]
        }
      ],
      "source": [
        "params = {\n",
        "    'max_depth':range(0,20),\n",
        "    'eta':np.arange(0.05,0.5),\n",
        "    'gamma':np.arange(0,2),\n",
        "    'min_child_weight':range(2,10),\n",
        "    'subsample':np.arange(0.5,0.9),\n",
        "}"
      ]
    },
    {
      "cell_type": "markdown",
      "source": [
        "**Run Hyperparameter Tuning via Random Search**"
      ],
      "metadata": {
        "id": "4w1JEdcSEzQt"
      }
    },
    {
      "cell_type": "code",
      "execution_count": null,
      "metadata": {
        "id": "fAzyn72XbtCZ",
        "colab": {
          "base_uri": "https://localhost:8080/"
        },
        "outputId": "eee92da0-171d-4776-9d0d-a9120e06bc58"
      },
      "outputs": [
        {
          "output_type": "stream",
          "name": "stderr",
          "text": [
            "/usr/local/lib/python3.10/dist-packages/ipykernel/ipkernel.py:283: DeprecationWarning: `should_run_async` will not call `transform_cell` automatically in the future. Please pass the result to `transformed_cell` argument and any exception that happen during thetransform in `preprocessing_exc_tuple` in IPython 7.17 and above.\n",
            "  and should_run_async(code)\n"
          ]
        }
      ],
      "source": [
        "#Hyperparameter optimization using RandomizedSearchCV\n",
        "from sklearn.model_selection import RandomizedSearchCV\n",
        "import xgboost\n",
        "classifier = xgboost.XGBClassifier()"
      ]
    },
    {
      "cell_type": "code",
      "execution_count": null,
      "metadata": {
        "id": "IWqMg8iJcpqw",
        "colab": {
          "base_uri": "https://localhost:8080/"
        },
        "outputId": "d98b7cf5-1ec9-4011-c676-51210872f6cf"
      },
      "outputs": [
        {
          "output_type": "stream",
          "name": "stderr",
          "text": [
            "/usr/local/lib/python3.10/dist-packages/ipykernel/ipkernel.py:283: DeprecationWarning: `should_run_async` will not call `transform_cell` automatically in the future. Please pass the result to `transformed_cell` argument and any exception that happen during thetransform in `preprocessing_exc_tuple` in IPython 7.17 and above.\n",
            "  and should_run_async(code)\n"
          ]
        }
      ],
      "source": [
        "rs_model=RandomizedSearchCV(classifier, param_distributions=params,n_iter=5,scoring='roc_auc',verbose=3,error_score='raise')"
      ]
    },
    {
      "cell_type": "code",
      "execution_count": null,
      "metadata": {
        "id": "rHrpNfhQdXYM",
        "colab": {
          "base_uri": "https://localhost:8080/",
          "height": 648
        },
        "outputId": "669b5be2-41ee-4df6-9f3e-38dad0478ae8"
      },
      "outputs": [
        {
          "output_type": "stream",
          "name": "stderr",
          "text": [
            "/usr/local/lib/python3.10/dist-packages/ipykernel/ipkernel.py:283: DeprecationWarning: `should_run_async` will not call `transform_cell` automatically in the future. Please pass the result to `transformed_cell` argument and any exception that happen during thetransform in `preprocessing_exc_tuple` in IPython 7.17 and above.\n",
            "  and should_run_async(code)\n"
          ]
        },
        {
          "output_type": "stream",
          "name": "stdout",
          "text": [
            "Fitting 5 folds for each of 5 candidates, totalling 25 fits\n",
            "[CV 1/5] END eta=0.05, gamma=0, max_depth=5, min_child_weight=6, subsample=0.5;, score=0.916 total time=  59.5s\n",
            "[CV 2/5] END eta=0.05, gamma=0, max_depth=5, min_child_weight=6, subsample=0.5;, score=0.954 total time=  59.8s\n",
            "[CV 3/5] END eta=0.05, gamma=0, max_depth=5, min_child_weight=6, subsample=0.5;, score=0.946 total time= 1.0min\n",
            "[CV 4/5] END eta=0.05, gamma=0, max_depth=5, min_child_weight=6, subsample=0.5;, score=0.961 total time= 1.0min\n",
            "[CV 5/5] END eta=0.05, gamma=0, max_depth=5, min_child_weight=6, subsample=0.5;, score=0.974 total time=  59.9s\n",
            "[CV 1/5] END eta=0.05, gamma=0, max_depth=16, min_child_weight=7, subsample=0.5;, score=0.914 total time= 1.1min\n",
            "[CV 2/5] END eta=0.05, gamma=0, max_depth=16, min_child_weight=7, subsample=0.5;, score=0.962 total time=  56.4s\n",
            "[CV 3/5] END eta=0.05, gamma=0, max_depth=16, min_child_weight=7, subsample=0.5;, score=0.941 total time=  54.4s\n",
            "[CV 4/5] END eta=0.05, gamma=0, max_depth=16, min_child_weight=7, subsample=0.5;, score=0.966 total time= 1.0min\n",
            "[CV 5/5] END eta=0.05, gamma=0, max_depth=16, min_child_weight=7, subsample=0.5;, score=0.972 total time= 1.0min\n",
            "[CV 1/5] END eta=0.05, gamma=0, max_depth=5, min_child_weight=8, subsample=0.5;, score=0.898 total time=  49.7s\n",
            "[CV 2/5] END eta=0.05, gamma=0, max_depth=5, min_child_weight=8, subsample=0.5;, score=0.956 total time=  53.7s\n",
            "[CV 3/5] END eta=0.05, gamma=0, max_depth=5, min_child_weight=8, subsample=0.5;, score=0.944 total time=  53.5s\n",
            "[CV 4/5] END eta=0.05, gamma=0, max_depth=5, min_child_weight=8, subsample=0.5;, score=0.969 total time=  52.6s\n",
            "[CV 5/5] END eta=0.05, gamma=0, max_depth=5, min_child_weight=8, subsample=0.5;, score=0.976 total time=  53.7s\n",
            "[CV 1/5] END eta=0.05, gamma=1, max_depth=3, min_child_weight=2, subsample=0.5;, score=0.913 total time= 1.3min\n",
            "[CV 2/5] END eta=0.05, gamma=1, max_depth=3, min_child_weight=2, subsample=0.5;, score=0.956 total time= 1.3min\n",
            "[CV 3/5] END eta=0.05, gamma=1, max_depth=3, min_child_weight=2, subsample=0.5;, score=0.931 total time= 1.3min\n",
            "[CV 4/5] END eta=0.05, gamma=1, max_depth=3, min_child_weight=2, subsample=0.5;, score=0.968 total time= 1.4min\n",
            "[CV 5/5] END eta=0.05, gamma=1, max_depth=3, min_child_weight=2, subsample=0.5;, score=0.978 total time= 1.3min\n",
            "[CV 1/5] END eta=0.05, gamma=1, max_depth=2, min_child_weight=3, subsample=0.5;, score=0.903 total time=  58.3s\n",
            "[CV 2/5] END eta=0.05, gamma=1, max_depth=2, min_child_weight=3, subsample=0.5;, score=0.956 total time=  56.3s\n",
            "[CV 3/5] END eta=0.05, gamma=1, max_depth=2, min_child_weight=3, subsample=0.5;, score=0.941 total time=  56.2s\n",
            "[CV 4/5] END eta=0.05, gamma=1, max_depth=2, min_child_weight=3, subsample=0.5;, score=0.964 total time=  57.0s\n",
            "[CV 5/5] END eta=0.05, gamma=1, max_depth=2, min_child_weight=3, subsample=0.5;, score=0.975 total time=  59.0s\n"
          ]
        },
        {
          "output_type": "execute_result",
          "data": {
            "text/plain": [
              "RandomizedSearchCV(error_score='raise',\n",
              "                   estimator=XGBClassifier(base_score=None, booster=None,\n",
              "                                           callbacks=None,\n",
              "                                           colsample_bylevel=None,\n",
              "                                           colsample_bynode=None,\n",
              "                                           colsample_bytree=None,\n",
              "                                           early_stopping_rounds=None,\n",
              "                                           enable_categorical=False,\n",
              "                                           eval_metric=None, feature_types=None,\n",
              "                                           gamma=None, gpu_id=None,\n",
              "                                           grow_policy=None,\n",
              "                                           importance_type=None,\n",
              "                                           interaction_constraints=Non...\n",
              "                                           max_delta_step=None, max_depth=None,\n",
              "                                           max_leaves=None,\n",
              "                                           min_child_weight=None, missing=nan,\n",
              "                                           monotone_constraints=None,\n",
              "                                           n_estimators=100, n_jobs=None,\n",
              "                                           num_parallel_tree=None,\n",
              "                                           predictor=None, random_state=None, ...),\n",
              "                   n_iter=5,\n",
              "                   param_distributions={'eta': array([0.05]),\n",
              "                                        'gamma': array([0, 1]),\n",
              "                                        'max_depth': range(0, 20),\n",
              "                                        'min_child_weight': range(2, 10),\n",
              "                                        'subsample': array([0.5])},\n",
              "                   scoring='roc_auc', verbose=3)"
            ],
            "text/html": [
              "<style>#sk-container-id-16 {color: black;background-color: white;}#sk-container-id-16 pre{padding: 0;}#sk-container-id-16 div.sk-toggleable {background-color: white;}#sk-container-id-16 label.sk-toggleable__label {cursor: pointer;display: block;width: 100%;margin-bottom: 0;padding: 0.3em;box-sizing: border-box;text-align: center;}#sk-container-id-16 label.sk-toggleable__label-arrow:before {content: \"▸\";float: left;margin-right: 0.25em;color: #696969;}#sk-container-id-16 label.sk-toggleable__label-arrow:hover:before {color: black;}#sk-container-id-16 div.sk-estimator:hover label.sk-toggleable__label-arrow:before {color: black;}#sk-container-id-16 div.sk-toggleable__content {max-height: 0;max-width: 0;overflow: hidden;text-align: left;background-color: #f0f8ff;}#sk-container-id-16 div.sk-toggleable__content pre {margin: 0.2em;color: black;border-radius: 0.25em;background-color: #f0f8ff;}#sk-container-id-16 input.sk-toggleable__control:checked~div.sk-toggleable__content {max-height: 200px;max-width: 100%;overflow: auto;}#sk-container-id-16 input.sk-toggleable__control:checked~label.sk-toggleable__label-arrow:before {content: \"▾\";}#sk-container-id-16 div.sk-estimator input.sk-toggleable__control:checked~label.sk-toggleable__label {background-color: #d4ebff;}#sk-container-id-16 div.sk-label input.sk-toggleable__control:checked~label.sk-toggleable__label {background-color: #d4ebff;}#sk-container-id-16 input.sk-hidden--visually {border: 0;clip: rect(1px 1px 1px 1px);clip: rect(1px, 1px, 1px, 1px);height: 1px;margin: -1px;overflow: hidden;padding: 0;position: absolute;width: 1px;}#sk-container-id-16 div.sk-estimator {font-family: monospace;background-color: #f0f8ff;border: 1px dotted black;border-radius: 0.25em;box-sizing: border-box;margin-bottom: 0.5em;}#sk-container-id-16 div.sk-estimator:hover {background-color: #d4ebff;}#sk-container-id-16 div.sk-parallel-item::after {content: \"\";width: 100%;border-bottom: 1px solid gray;flex-grow: 1;}#sk-container-id-16 div.sk-label:hover label.sk-toggleable__label {background-color: #d4ebff;}#sk-container-id-16 div.sk-serial::before {content: \"\";position: absolute;border-left: 1px solid gray;box-sizing: border-box;top: 0;bottom: 0;left: 50%;z-index: 0;}#sk-container-id-16 div.sk-serial {display: flex;flex-direction: column;align-items: center;background-color: white;padding-right: 0.2em;padding-left: 0.2em;position: relative;}#sk-container-id-16 div.sk-item {position: relative;z-index: 1;}#sk-container-id-16 div.sk-parallel {display: flex;align-items: stretch;justify-content: center;background-color: white;position: relative;}#sk-container-id-16 div.sk-item::before, #sk-container-id-16 div.sk-parallel-item::before {content: \"\";position: absolute;border-left: 1px solid gray;box-sizing: border-box;top: 0;bottom: 0;left: 50%;z-index: -1;}#sk-container-id-16 div.sk-parallel-item {display: flex;flex-direction: column;z-index: 1;position: relative;background-color: white;}#sk-container-id-16 div.sk-parallel-item:first-child::after {align-self: flex-end;width: 50%;}#sk-container-id-16 div.sk-parallel-item:last-child::after {align-self: flex-start;width: 50%;}#sk-container-id-16 div.sk-parallel-item:only-child::after {width: 0;}#sk-container-id-16 div.sk-dashed-wrapped {border: 1px dashed gray;margin: 0 0.4em 0.5em 0.4em;box-sizing: border-box;padding-bottom: 0.4em;background-color: white;}#sk-container-id-16 div.sk-label label {font-family: monospace;font-weight: bold;display: inline-block;line-height: 1.2em;}#sk-container-id-16 div.sk-label-container {text-align: center;}#sk-container-id-16 div.sk-container {/* jupyter's `normalize.less` sets `[hidden] { display: none; }` but bootstrap.min.css set `[hidden] { display: none !important; }` so we also need the `!important` here to be able to override the default hidden behavior on the sphinx rendered scikit-learn.org. See: https://github.com/scikit-learn/scikit-learn/issues/21755 */display: inline-block !important;position: relative;}#sk-container-id-16 div.sk-text-repr-fallback {display: none;}</style><div id=\"sk-container-id-16\" class=\"sk-top-container\"><div class=\"sk-text-repr-fallback\"><pre>RandomizedSearchCV(error_score=&#x27;raise&#x27;,\n",
              "                   estimator=XGBClassifier(base_score=None, booster=None,\n",
              "                                           callbacks=None,\n",
              "                                           colsample_bylevel=None,\n",
              "                                           colsample_bynode=None,\n",
              "                                           colsample_bytree=None,\n",
              "                                           early_stopping_rounds=None,\n",
              "                                           enable_categorical=False,\n",
              "                                           eval_metric=None, feature_types=None,\n",
              "                                           gamma=None, gpu_id=None,\n",
              "                                           grow_policy=None,\n",
              "                                           importance_type=None,\n",
              "                                           interaction_constraints=Non...\n",
              "                                           max_delta_step=None, max_depth=None,\n",
              "                                           max_leaves=None,\n",
              "                                           min_child_weight=None, missing=nan,\n",
              "                                           monotone_constraints=None,\n",
              "                                           n_estimators=100, n_jobs=None,\n",
              "                                           num_parallel_tree=None,\n",
              "                                           predictor=None, random_state=None, ...),\n",
              "                   n_iter=5,\n",
              "                   param_distributions={&#x27;eta&#x27;: array([0.05]),\n",
              "                                        &#x27;gamma&#x27;: array([0, 1]),\n",
              "                                        &#x27;max_depth&#x27;: range(0, 20),\n",
              "                                        &#x27;min_child_weight&#x27;: range(2, 10),\n",
              "                                        &#x27;subsample&#x27;: array([0.5])},\n",
              "                   scoring=&#x27;roc_auc&#x27;, verbose=3)</pre><b>In a Jupyter environment, please rerun this cell to show the HTML representation or trust the notebook. <br />On GitHub, the HTML representation is unable to render, please try loading this page with nbviewer.org.</b></div><div class=\"sk-container\" hidden><div class=\"sk-item sk-dashed-wrapped\"><div class=\"sk-label-container\"><div class=\"sk-label sk-toggleable\"><input class=\"sk-toggleable__control sk-hidden--visually\" id=\"sk-estimator-id-20\" type=\"checkbox\" ><label for=\"sk-estimator-id-20\" class=\"sk-toggleable__label sk-toggleable__label-arrow\">RandomizedSearchCV</label><div class=\"sk-toggleable__content\"><pre>RandomizedSearchCV(error_score=&#x27;raise&#x27;,\n",
              "                   estimator=XGBClassifier(base_score=None, booster=None,\n",
              "                                           callbacks=None,\n",
              "                                           colsample_bylevel=None,\n",
              "                                           colsample_bynode=None,\n",
              "                                           colsample_bytree=None,\n",
              "                                           early_stopping_rounds=None,\n",
              "                                           enable_categorical=False,\n",
              "                                           eval_metric=None, feature_types=None,\n",
              "                                           gamma=None, gpu_id=None,\n",
              "                                           grow_policy=None,\n",
              "                                           importance_type=None,\n",
              "                                           interaction_constraints=Non...\n",
              "                                           max_delta_step=None, max_depth=None,\n",
              "                                           max_leaves=None,\n",
              "                                           min_child_weight=None, missing=nan,\n",
              "                                           monotone_constraints=None,\n",
              "                                           n_estimators=100, n_jobs=None,\n",
              "                                           num_parallel_tree=None,\n",
              "                                           predictor=None, random_state=None, ...),\n",
              "                   n_iter=5,\n",
              "                   param_distributions={&#x27;eta&#x27;: array([0.05]),\n",
              "                                        &#x27;gamma&#x27;: array([0, 1]),\n",
              "                                        &#x27;max_depth&#x27;: range(0, 20),\n",
              "                                        &#x27;min_child_weight&#x27;: range(2, 10),\n",
              "                                        &#x27;subsample&#x27;: array([0.5])},\n",
              "                   scoring=&#x27;roc_auc&#x27;, verbose=3)</pre></div></div></div><div class=\"sk-parallel\"><div class=\"sk-parallel-item\"><div class=\"sk-item\"><div class=\"sk-label-container\"><div class=\"sk-label sk-toggleable\"><input class=\"sk-toggleable__control sk-hidden--visually\" id=\"sk-estimator-id-21\" type=\"checkbox\" ><label for=\"sk-estimator-id-21\" class=\"sk-toggleable__label sk-toggleable__label-arrow\">estimator: XGBClassifier</label><div class=\"sk-toggleable__content\"><pre>XGBClassifier(base_score=None, booster=None, callbacks=None,\n",
              "              colsample_bylevel=None, colsample_bynode=None,\n",
              "              colsample_bytree=None, early_stopping_rounds=None,\n",
              "              enable_categorical=False, eval_metric=None, feature_types=None,\n",
              "              gamma=None, gpu_id=None, grow_policy=None, importance_type=None,\n",
              "              interaction_constraints=None, learning_rate=None, max_bin=None,\n",
              "              max_cat_threshold=None, max_cat_to_onehot=None,\n",
              "              max_delta_step=None, max_depth=None, max_leaves=None,\n",
              "              min_child_weight=None, missing=nan, monotone_constraints=None,\n",
              "              n_estimators=100, n_jobs=None, num_parallel_tree=None,\n",
              "              predictor=None, random_state=None, ...)</pre></div></div></div><div class=\"sk-serial\"><div class=\"sk-item\"><div class=\"sk-estimator sk-toggleable\"><input class=\"sk-toggleable__control sk-hidden--visually\" id=\"sk-estimator-id-22\" type=\"checkbox\" ><label for=\"sk-estimator-id-22\" class=\"sk-toggleable__label sk-toggleable__label-arrow\">XGBClassifier</label><div class=\"sk-toggleable__content\"><pre>XGBClassifier(base_score=None, booster=None, callbacks=None,\n",
              "              colsample_bylevel=None, colsample_bynode=None,\n",
              "              colsample_bytree=None, early_stopping_rounds=None,\n",
              "              enable_categorical=False, eval_metric=None, feature_types=None,\n",
              "              gamma=None, gpu_id=None, grow_policy=None, importance_type=None,\n",
              "              interaction_constraints=None, learning_rate=None, max_bin=None,\n",
              "              max_cat_threshold=None, max_cat_to_onehot=None,\n",
              "              max_delta_step=None, max_depth=None, max_leaves=None,\n",
              "              min_child_weight=None, missing=nan, monotone_constraints=None,\n",
              "              n_estimators=100, n_jobs=None, num_parallel_tree=None,\n",
              "              predictor=None, random_state=None, ...)</pre></div></div></div></div></div></div></div></div></div></div>"
            ]
          },
          "metadata": {},
          "execution_count": 164
        }
      ],
      "source": [
        "#model fitting\n",
        "rs_model.fit(Xtrain,ytrain)"
      ]
    },
    {
      "cell_type": "code",
      "execution_count": null,
      "metadata": {
        "id": "-5GbsGSYdYow",
        "colab": {
          "base_uri": "https://localhost:8080/",
          "height": 304
        },
        "outputId": "e055c003-b4a2-4e99-ecfb-1b9513ff3c5a"
      },
      "outputs": [
        {
          "output_type": "stream",
          "name": "stderr",
          "text": [
            "/usr/local/lib/python3.10/dist-packages/ipykernel/ipkernel.py:283: DeprecationWarning: `should_run_async` will not call `transform_cell` automatically in the future. Please pass the result to `transformed_cell` argument and any exception that happen during thetransform in `preprocessing_exc_tuple` in IPython 7.17 and above.\n",
            "  and should_run_async(code)\n"
          ]
        },
        {
          "output_type": "execute_result",
          "data": {
            "text/plain": [
              "XGBClassifier(base_score=None, booster=None, callbacks=None,\n",
              "              colsample_bylevel=None, colsample_bynode=None,\n",
              "              colsample_bytree=None, early_stopping_rounds=None,\n",
              "              enable_categorical=False, eta=0.05, eval_metric=None,\n",
              "              feature_types=None, gamma=0, gpu_id=None, grow_policy=None,\n",
              "              importance_type=None, interaction_constraints=None,\n",
              "              learning_rate=None, max_bin=None, max_cat_threshold=None,\n",
              "              max_cat_to_onehot=None, max_delta_step=None, max_depth=16,\n",
              "              max_leaves=None, min_child_weight=7, missing=nan,\n",
              "              monotone_constraints=None, n_estimators=100, n_jobs=None,\n",
              "              num_parallel_tree=None, predictor=None, ...)"
            ],
            "text/html": [
              "<style>#sk-container-id-17 {color: black;background-color: white;}#sk-container-id-17 pre{padding: 0;}#sk-container-id-17 div.sk-toggleable {background-color: white;}#sk-container-id-17 label.sk-toggleable__label {cursor: pointer;display: block;width: 100%;margin-bottom: 0;padding: 0.3em;box-sizing: border-box;text-align: center;}#sk-container-id-17 label.sk-toggleable__label-arrow:before {content: \"▸\";float: left;margin-right: 0.25em;color: #696969;}#sk-container-id-17 label.sk-toggleable__label-arrow:hover:before {color: black;}#sk-container-id-17 div.sk-estimator:hover label.sk-toggleable__label-arrow:before {color: black;}#sk-container-id-17 div.sk-toggleable__content {max-height: 0;max-width: 0;overflow: hidden;text-align: left;background-color: #f0f8ff;}#sk-container-id-17 div.sk-toggleable__content pre {margin: 0.2em;color: black;border-radius: 0.25em;background-color: #f0f8ff;}#sk-container-id-17 input.sk-toggleable__control:checked~div.sk-toggleable__content {max-height: 200px;max-width: 100%;overflow: auto;}#sk-container-id-17 input.sk-toggleable__control:checked~label.sk-toggleable__label-arrow:before {content: \"▾\";}#sk-container-id-17 div.sk-estimator input.sk-toggleable__control:checked~label.sk-toggleable__label {background-color: #d4ebff;}#sk-container-id-17 div.sk-label input.sk-toggleable__control:checked~label.sk-toggleable__label {background-color: #d4ebff;}#sk-container-id-17 input.sk-hidden--visually {border: 0;clip: rect(1px 1px 1px 1px);clip: rect(1px, 1px, 1px, 1px);height: 1px;margin: -1px;overflow: hidden;padding: 0;position: absolute;width: 1px;}#sk-container-id-17 div.sk-estimator {font-family: monospace;background-color: #f0f8ff;border: 1px dotted black;border-radius: 0.25em;box-sizing: border-box;margin-bottom: 0.5em;}#sk-container-id-17 div.sk-estimator:hover {background-color: #d4ebff;}#sk-container-id-17 div.sk-parallel-item::after {content: \"\";width: 100%;border-bottom: 1px solid gray;flex-grow: 1;}#sk-container-id-17 div.sk-label:hover label.sk-toggleable__label {background-color: #d4ebff;}#sk-container-id-17 div.sk-serial::before {content: \"\";position: absolute;border-left: 1px solid gray;box-sizing: border-box;top: 0;bottom: 0;left: 50%;z-index: 0;}#sk-container-id-17 div.sk-serial {display: flex;flex-direction: column;align-items: center;background-color: white;padding-right: 0.2em;padding-left: 0.2em;position: relative;}#sk-container-id-17 div.sk-item {position: relative;z-index: 1;}#sk-container-id-17 div.sk-parallel {display: flex;align-items: stretch;justify-content: center;background-color: white;position: relative;}#sk-container-id-17 div.sk-item::before, #sk-container-id-17 div.sk-parallel-item::before {content: \"\";position: absolute;border-left: 1px solid gray;box-sizing: border-box;top: 0;bottom: 0;left: 50%;z-index: -1;}#sk-container-id-17 div.sk-parallel-item {display: flex;flex-direction: column;z-index: 1;position: relative;background-color: white;}#sk-container-id-17 div.sk-parallel-item:first-child::after {align-self: flex-end;width: 50%;}#sk-container-id-17 div.sk-parallel-item:last-child::after {align-self: flex-start;width: 50%;}#sk-container-id-17 div.sk-parallel-item:only-child::after {width: 0;}#sk-container-id-17 div.sk-dashed-wrapped {border: 1px dashed gray;margin: 0 0.4em 0.5em 0.4em;box-sizing: border-box;padding-bottom: 0.4em;background-color: white;}#sk-container-id-17 div.sk-label label {font-family: monospace;font-weight: bold;display: inline-block;line-height: 1.2em;}#sk-container-id-17 div.sk-label-container {text-align: center;}#sk-container-id-17 div.sk-container {/* jupyter's `normalize.less` sets `[hidden] { display: none; }` but bootstrap.min.css set `[hidden] { display: none !important; }` so we also need the `!important` here to be able to override the default hidden behavior on the sphinx rendered scikit-learn.org. See: https://github.com/scikit-learn/scikit-learn/issues/21755 */display: inline-block !important;position: relative;}#sk-container-id-17 div.sk-text-repr-fallback {display: none;}</style><div id=\"sk-container-id-17\" class=\"sk-top-container\"><div class=\"sk-text-repr-fallback\"><pre>XGBClassifier(base_score=None, booster=None, callbacks=None,\n",
              "              colsample_bylevel=None, colsample_bynode=None,\n",
              "              colsample_bytree=None, early_stopping_rounds=None,\n",
              "              enable_categorical=False, eta=0.05, eval_metric=None,\n",
              "              feature_types=None, gamma=0, gpu_id=None, grow_policy=None,\n",
              "              importance_type=None, interaction_constraints=None,\n",
              "              learning_rate=None, max_bin=None, max_cat_threshold=None,\n",
              "              max_cat_to_onehot=None, max_delta_step=None, max_depth=16,\n",
              "              max_leaves=None, min_child_weight=7, missing=nan,\n",
              "              monotone_constraints=None, n_estimators=100, n_jobs=None,\n",
              "              num_parallel_tree=None, predictor=None, ...)</pre><b>In a Jupyter environment, please rerun this cell to show the HTML representation or trust the notebook. <br />On GitHub, the HTML representation is unable to render, please try loading this page with nbviewer.org.</b></div><div class=\"sk-container\" hidden><div class=\"sk-item\"><div class=\"sk-estimator sk-toggleable\"><input class=\"sk-toggleable__control sk-hidden--visually\" id=\"sk-estimator-id-23\" type=\"checkbox\" checked><label for=\"sk-estimator-id-23\" class=\"sk-toggleable__label sk-toggleable__label-arrow\">XGBClassifier</label><div class=\"sk-toggleable__content\"><pre>XGBClassifier(base_score=None, booster=None, callbacks=None,\n",
              "              colsample_bylevel=None, colsample_bynode=None,\n",
              "              colsample_bytree=None, early_stopping_rounds=None,\n",
              "              enable_categorical=False, eta=0.05, eval_metric=None,\n",
              "              feature_types=None, gamma=0, gpu_id=None, grow_policy=None,\n",
              "              importance_type=None, interaction_constraints=None,\n",
              "              learning_rate=None, max_bin=None, max_cat_threshold=None,\n",
              "              max_cat_to_onehot=None, max_delta_step=None, max_depth=16,\n",
              "              max_leaves=None, min_child_weight=7, missing=nan,\n",
              "              monotone_constraints=None, n_estimators=100, n_jobs=None,\n",
              "              num_parallel_tree=None, predictor=None, ...)</pre></div></div></div></div></div>"
            ]
          },
          "metadata": {},
          "execution_count": 165
        }
      ],
      "source": [
        "#parameters selected\n",
        "rs_model.best_estimator_"
      ]
    },
    {
      "cell_type": "code",
      "source": [
        "rs_model.best_score_"
      ],
      "metadata": {
        "colab": {
          "base_uri": "https://localhost:8080/"
        },
        "id": "bUYURnYsX2pj",
        "outputId": "c6f702f6-017c-438b-fec8-de5a1a9f1c2b"
      },
      "execution_count": null,
      "outputs": [
        {
          "output_type": "stream",
          "name": "stderr",
          "text": [
            "/usr/local/lib/python3.10/dist-packages/ipykernel/ipkernel.py:283: DeprecationWarning: `should_run_async` will not call `transform_cell` automatically in the future. Please pass the result to `transformed_cell` argument and any exception that happen during thetransform in `preprocessing_exc_tuple` in IPython 7.17 and above.\n",
            "  and should_run_async(code)\n"
          ]
        },
        {
          "output_type": "execute_result",
          "data": {
            "text/plain": [
              "0.9508199385995575"
            ]
          },
          "metadata": {},
          "execution_count": 166
        }
      ]
    },
    {
      "cell_type": "code",
      "source": [
        "#Building final classifier model\n",
        "classifier=xgboost.XGBClassifier(base_score=None, booster=None, callbacks=None,\n",
        "              colsample_bylevel=None, colsample_bynode=None,\n",
        "              colsample_bytree=None, early_stopping_rounds=None,\n",
        "              enable_categorical=False, eta=0.05, eval_metric=None,\n",
        "              feature_types=None, gamma=0, gpu_id=None, grow_policy=None,\n",
        "              importance_type=None, interaction_constraints=None,\n",
        "              learning_rate=None, max_bin=None, max_cat_threshold=None,\n",
        "              max_cat_to_onehot=None, max_delta_step=None, max_depth=16,\n",
        "              max_leaves=None, min_child_weight=7,\n",
        "              monotone_constraints=None, n_estimators=100, n_jobs=None,\n",
        "              num_parallel_tree=None, predictor=None)"
      ],
      "metadata": {
        "colab": {
          "base_uri": "https://localhost:8080/"
        },
        "id": "sZbwGVA9f-la",
        "outputId": "17c8dd5b-4eec-4d72-b8d2-e1182fe4d5b6"
      },
      "execution_count": null,
      "outputs": [
        {
          "output_type": "stream",
          "name": "stderr",
          "text": [
            "/usr/local/lib/python3.10/dist-packages/ipykernel/ipkernel.py:283: DeprecationWarning: `should_run_async` will not call `transform_cell` automatically in the future. Please pass the result to `transformed_cell` argument and any exception that happen during thetransform in `preprocessing_exc_tuple` in IPython 7.17 and above.\n",
            "  and should_run_async(code)\n"
          ]
        }
      ]
    },
    {
      "cell_type": "code",
      "source": [
        "# from sklearn.model_selection import cross_val_score\n",
        "# score=cross_val_score(classifier,Xval,yval)"
      ],
      "metadata": {
        "colab": {
          "base_uri": "https://localhost:8080/"
        },
        "id": "qbzvIloaq5yB",
        "outputId": "e30c94ec-9ad7-4de6-aff7-9a6fb257de5a"
      },
      "execution_count": null,
      "outputs": [
        {
          "output_type": "stream",
          "name": "stderr",
          "text": [
            "/usr/local/lib/python3.10/dist-packages/ipykernel/ipkernel.py:283: DeprecationWarning: `should_run_async` will not call `transform_cell` automatically in the future. Please pass the result to `transformed_cell` argument and any exception that happen during thetransform in `preprocessing_exc_tuple` in IPython 7.17 and above.\n",
            "  and should_run_async(code)\n"
          ]
        }
      ]
    },
    {
      "cell_type": "code",
      "source": [
        "# print(score)"
      ],
      "metadata": {
        "colab": {
          "base_uri": "https://localhost:8080/"
        },
        "id": "KUJQyzC5q5hI",
        "outputId": "e3ac6968-e49b-42e7-8a40-0259126e794a"
      },
      "execution_count": null,
      "outputs": [
        {
          "output_type": "stream",
          "name": "stderr",
          "text": [
            "/usr/local/lib/python3.10/dist-packages/ipykernel/ipkernel.py:283: DeprecationWarning: `should_run_async` will not call `transform_cell` automatically in the future. Please pass the result to `transformed_cell` argument and any exception that happen during thetransform in `preprocessing_exc_tuple` in IPython 7.17 and above.\n",
            "  and should_run_async(code)\n"
          ]
        }
      ]
    },
    {
      "cell_type": "code",
      "source": [
        "classifier.fit(Xtrain,ytrain)"
      ],
      "metadata": {
        "colab": {
          "base_uri": "https://localhost:8080/",
          "height": 304
        },
        "id": "H1UqjhvixHmJ",
        "outputId": "29f0b493-8d7b-4445-b9bc-3e065fdd99fd"
      },
      "execution_count": null,
      "outputs": [
        {
          "output_type": "stream",
          "name": "stderr",
          "text": [
            "/usr/local/lib/python3.10/dist-packages/ipykernel/ipkernel.py:283: DeprecationWarning: `should_run_async` will not call `transform_cell` automatically in the future. Please pass the result to `transformed_cell` argument and any exception that happen during thetransform in `preprocessing_exc_tuple` in IPython 7.17 and above.\n",
            "  and should_run_async(code)\n"
          ]
        },
        {
          "output_type": "execute_result",
          "data": {
            "text/plain": [
              "XGBClassifier(base_score=None, booster=None, callbacks=None,\n",
              "              colsample_bylevel=None, colsample_bynode=None,\n",
              "              colsample_bytree=None, early_stopping_rounds=None,\n",
              "              enable_categorical=False, eta=0.05, eval_metric=None,\n",
              "              feature_types=None, gamma=0, gpu_id=None, grow_policy=None,\n",
              "              importance_type=None, interaction_constraints=None,\n",
              "              learning_rate=None, max_bin=None, max_cat_threshold=None,\n",
              "              max_cat_to_onehot=None, max_delta_step=None, max_depth=16,\n",
              "              max_leaves=None, min_child_weight=7, missing=nan,\n",
              "              monotone_constraints=None, n_estimators=100, n_jobs=None,\n",
              "              num_parallel_tree=None, predictor=None, ...)"
            ],
            "text/html": [
              "<style>#sk-container-id-18 {color: black;background-color: white;}#sk-container-id-18 pre{padding: 0;}#sk-container-id-18 div.sk-toggleable {background-color: white;}#sk-container-id-18 label.sk-toggleable__label {cursor: pointer;display: block;width: 100%;margin-bottom: 0;padding: 0.3em;box-sizing: border-box;text-align: center;}#sk-container-id-18 label.sk-toggleable__label-arrow:before {content: \"▸\";float: left;margin-right: 0.25em;color: #696969;}#sk-container-id-18 label.sk-toggleable__label-arrow:hover:before {color: black;}#sk-container-id-18 div.sk-estimator:hover label.sk-toggleable__label-arrow:before {color: black;}#sk-container-id-18 div.sk-toggleable__content {max-height: 0;max-width: 0;overflow: hidden;text-align: left;background-color: #f0f8ff;}#sk-container-id-18 div.sk-toggleable__content pre {margin: 0.2em;color: black;border-radius: 0.25em;background-color: #f0f8ff;}#sk-container-id-18 input.sk-toggleable__control:checked~div.sk-toggleable__content {max-height: 200px;max-width: 100%;overflow: auto;}#sk-container-id-18 input.sk-toggleable__control:checked~label.sk-toggleable__label-arrow:before {content: \"▾\";}#sk-container-id-18 div.sk-estimator input.sk-toggleable__control:checked~label.sk-toggleable__label {background-color: #d4ebff;}#sk-container-id-18 div.sk-label input.sk-toggleable__control:checked~label.sk-toggleable__label {background-color: #d4ebff;}#sk-container-id-18 input.sk-hidden--visually {border: 0;clip: rect(1px 1px 1px 1px);clip: rect(1px, 1px, 1px, 1px);height: 1px;margin: -1px;overflow: hidden;padding: 0;position: absolute;width: 1px;}#sk-container-id-18 div.sk-estimator {font-family: monospace;background-color: #f0f8ff;border: 1px dotted black;border-radius: 0.25em;box-sizing: border-box;margin-bottom: 0.5em;}#sk-container-id-18 div.sk-estimator:hover {background-color: #d4ebff;}#sk-container-id-18 div.sk-parallel-item::after {content: \"\";width: 100%;border-bottom: 1px solid gray;flex-grow: 1;}#sk-container-id-18 div.sk-label:hover label.sk-toggleable__label {background-color: #d4ebff;}#sk-container-id-18 div.sk-serial::before {content: \"\";position: absolute;border-left: 1px solid gray;box-sizing: border-box;top: 0;bottom: 0;left: 50%;z-index: 0;}#sk-container-id-18 div.sk-serial {display: flex;flex-direction: column;align-items: center;background-color: white;padding-right: 0.2em;padding-left: 0.2em;position: relative;}#sk-container-id-18 div.sk-item {position: relative;z-index: 1;}#sk-container-id-18 div.sk-parallel {display: flex;align-items: stretch;justify-content: center;background-color: white;position: relative;}#sk-container-id-18 div.sk-item::before, #sk-container-id-18 div.sk-parallel-item::before {content: \"\";position: absolute;border-left: 1px solid gray;box-sizing: border-box;top: 0;bottom: 0;left: 50%;z-index: -1;}#sk-container-id-18 div.sk-parallel-item {display: flex;flex-direction: column;z-index: 1;position: relative;background-color: white;}#sk-container-id-18 div.sk-parallel-item:first-child::after {align-self: flex-end;width: 50%;}#sk-container-id-18 div.sk-parallel-item:last-child::after {align-self: flex-start;width: 50%;}#sk-container-id-18 div.sk-parallel-item:only-child::after {width: 0;}#sk-container-id-18 div.sk-dashed-wrapped {border: 1px dashed gray;margin: 0 0.4em 0.5em 0.4em;box-sizing: border-box;padding-bottom: 0.4em;background-color: white;}#sk-container-id-18 div.sk-label label {font-family: monospace;font-weight: bold;display: inline-block;line-height: 1.2em;}#sk-container-id-18 div.sk-label-container {text-align: center;}#sk-container-id-18 div.sk-container {/* jupyter's `normalize.less` sets `[hidden] { display: none; }` but bootstrap.min.css set `[hidden] { display: none !important; }` so we also need the `!important` here to be able to override the default hidden behavior on the sphinx rendered scikit-learn.org. See: https://github.com/scikit-learn/scikit-learn/issues/21755 */display: inline-block !important;position: relative;}#sk-container-id-18 div.sk-text-repr-fallback {display: none;}</style><div id=\"sk-container-id-18\" class=\"sk-top-container\"><div class=\"sk-text-repr-fallback\"><pre>XGBClassifier(base_score=None, booster=None, callbacks=None,\n",
              "              colsample_bylevel=None, colsample_bynode=None,\n",
              "              colsample_bytree=None, early_stopping_rounds=None,\n",
              "              enable_categorical=False, eta=0.05, eval_metric=None,\n",
              "              feature_types=None, gamma=0, gpu_id=None, grow_policy=None,\n",
              "              importance_type=None, interaction_constraints=None,\n",
              "              learning_rate=None, max_bin=None, max_cat_threshold=None,\n",
              "              max_cat_to_onehot=None, max_delta_step=None, max_depth=16,\n",
              "              max_leaves=None, min_child_weight=7, missing=nan,\n",
              "              monotone_constraints=None, n_estimators=100, n_jobs=None,\n",
              "              num_parallel_tree=None, predictor=None, ...)</pre><b>In a Jupyter environment, please rerun this cell to show the HTML representation or trust the notebook. <br />On GitHub, the HTML representation is unable to render, please try loading this page with nbviewer.org.</b></div><div class=\"sk-container\" hidden><div class=\"sk-item\"><div class=\"sk-estimator sk-toggleable\"><input class=\"sk-toggleable__control sk-hidden--visually\" id=\"sk-estimator-id-24\" type=\"checkbox\" checked><label for=\"sk-estimator-id-24\" class=\"sk-toggleable__label sk-toggleable__label-arrow\">XGBClassifier</label><div class=\"sk-toggleable__content\"><pre>XGBClassifier(base_score=None, booster=None, callbacks=None,\n",
              "              colsample_bylevel=None, colsample_bynode=None,\n",
              "              colsample_bytree=None, early_stopping_rounds=None,\n",
              "              enable_categorical=False, eta=0.05, eval_metric=None,\n",
              "              feature_types=None, gamma=0, gpu_id=None, grow_policy=None,\n",
              "              importance_type=None, interaction_constraints=None,\n",
              "              learning_rate=None, max_bin=None, max_cat_threshold=None,\n",
              "              max_cat_to_onehot=None, max_delta_step=None, max_depth=16,\n",
              "              max_leaves=None, min_child_weight=7, missing=nan,\n",
              "              monotone_constraints=None, n_estimators=100, n_jobs=None,\n",
              "              num_parallel_tree=None, predictor=None, ...)</pre></div></div></div></div></div>"
            ]
          },
          "metadata": {},
          "execution_count": 168
        }
      ]
    },
    {
      "cell_type": "code",
      "source": [
        "yTestPred = classifier.predict(Xtest)"
      ],
      "metadata": {
        "colab": {
          "base_uri": "https://localhost:8080/"
        },
        "id": "9X1LsFpBwaL6",
        "outputId": "27714003-4836-4c4d-d8b9-0953891bede0"
      },
      "execution_count": null,
      "outputs": [
        {
          "output_type": "stream",
          "name": "stderr",
          "text": [
            "/usr/local/lib/python3.10/dist-packages/ipykernel/ipkernel.py:283: DeprecationWarning: `should_run_async` will not call `transform_cell` automatically in the future. Please pass the result to `transformed_cell` argument and any exception that happen during thetransform in `preprocessing_exc_tuple` in IPython 7.17 and above.\n",
            "  and should_run_async(code)\n"
          ]
        }
      ]
    },
    {
      "cell_type": "markdown",
      "source": [
        "**Evaluation metrics on the Test Set**"
      ],
      "metadata": {
        "id": "w1vWhXVcFDe7"
      }
    },
    {
      "cell_type": "code",
      "source": [
        "# compute and print accuracy score\n",
        "from sklearn.metrics import accuracy_score\n",
        "print('XGBoost model accuracy score: {0:0.4f}'. format(accuracy_score(ytest, yTestPred)))"
      ],
      "metadata": {
        "colab": {
          "base_uri": "https://localhost:8080/"
        },
        "id": "zqXF_B0GL5NC",
        "outputId": "1f85c2b9-fedf-496d-ddf1-3145e2ccd7d9"
      },
      "execution_count": null,
      "outputs": [
        {
          "output_type": "stream",
          "name": "stdout",
          "text": [
            "XGBoost model accuracy score: 0.9250\n"
          ]
        },
        {
          "output_type": "stream",
          "name": "stderr",
          "text": [
            "/usr/local/lib/python3.10/dist-packages/ipykernel/ipkernel.py:283: DeprecationWarning: `should_run_async` will not call `transform_cell` automatically in the future. Please pass the result to `transformed_cell` argument and any exception that happen during thetransform in `preprocessing_exc_tuple` in IPython 7.17 and above.\n",
            "  and should_run_async(code)\n"
          ]
        }
      ]
    },
    {
      "cell_type": "code",
      "source": [
        "from sklearn import metrics\n",
        "\n",
        "## Table of classification metrics\n",
        "print(metrics.classification_report(ytest, yTestPred))"
      ],
      "metadata": {
        "colab": {
          "base_uri": "https://localhost:8080/"
        },
        "id": "q87NqbW-q5Sd",
        "outputId": "9f0221f5-e7f7-4aa7-90c0-d5509493ffb9"
      },
      "execution_count": null,
      "outputs": [
        {
          "output_type": "stream",
          "name": "stdout",
          "text": [
            "              precision    recall  f1-score   support\n",
            "\n",
            "           0       0.95      0.96      0.96       172\n",
            "           1       0.74      0.71      0.73        28\n",
            "\n",
            "    accuracy                           0.93       200\n",
            "   macro avg       0.85      0.84      0.84       200\n",
            "weighted avg       0.92      0.93      0.92       200\n",
            "\n"
          ]
        },
        {
          "output_type": "stream",
          "name": "stderr",
          "text": [
            "/usr/local/lib/python3.10/dist-packages/ipykernel/ipkernel.py:283: DeprecationWarning: `should_run_async` will not call `transform_cell` automatically in the future. Please pass the result to `transformed_cell` argument and any exception that happen during thetransform in `preprocessing_exc_tuple` in IPython 7.17 and above.\n",
            "  and should_run_async(code)\n"
          ]
        }
      ]
    },
    {
      "cell_type": "code",
      "source": [
        "print(yTestPred)"
      ],
      "metadata": {
        "colab": {
          "base_uri": "https://localhost:8080/"
        },
        "id": "VBW0_bkhzeDD",
        "outputId": "312d9bab-6f45-43e6-9a7d-f4f4bbd77624"
      },
      "execution_count": null,
      "outputs": [
        {
          "output_type": "stream",
          "name": "stdout",
          "text": [
            "[1 0 0 0 0 0 1 0 0 0 0 0 0 0 0 0 1 0 1 0 0 0 0 0 1 0 0 0 0 0 0 0 1 0 1 0 0\n",
            " 0 0 1 0 0 0 0 0 0 0 0 0 0 0 0 0 0 0 0 0 0 0 0 0 0 0 0 0 0 0 0 0 0 0 1 0 0\n",
            " 0 0 0 1 0 0 1 0 0 0 0 0 0 0 0 0 0 0 0 0 1 0 0 1 0 0 0 0 0 1 1 0 0 0 0 0 0\n",
            " 0 0 0 0 0 0 0 0 0 0 0 0 0 0 0 0 0 0 0 0 0 0 0 0 1 1 0 0 0 0 0 0 0 0 0 1 1\n",
            " 1 1 0 0 0 0 1 0 0 0 0 0 0 0 0 1 0 0 0 0 0 1 0 0 0 0 0 0 0 0 0 0 0 0 0 1 0\n",
            " 0 1 0 0 1 0 0 0 0 0 0 0 1 0 0]\n"
          ]
        },
        {
          "output_type": "stream",
          "name": "stderr",
          "text": [
            "/usr/local/lib/python3.10/dist-packages/ipykernel/ipkernel.py:283: DeprecationWarning: `should_run_async` will not call `transform_cell` automatically in the future. Please pass the result to `transformed_cell` argument and any exception that happen during thetransform in `preprocessing_exc_tuple` in IPython 7.17 and above.\n",
            "  and should_run_async(code)\n"
          ]
        }
      ]
    },
    {
      "cell_type": "code",
      "source": [
        "plot_roc(ytest, yTestPred)"
      ],
      "metadata": {
        "colab": {
          "base_uri": "https://localhost:8080/",
          "height": 486
        },
        "id": "ye01Y9VQzkI2",
        "outputId": "0c760edd-f838-4d44-c645-bcda14e94691"
      },
      "execution_count": null,
      "outputs": [
        {
          "output_type": "stream",
          "name": "stderr",
          "text": [
            "/usr/local/lib/python3.10/dist-packages/ipykernel/ipkernel.py:283: DeprecationWarning: `should_run_async` will not call `transform_cell` automatically in the future. Please pass the result to `transformed_cell` argument and any exception that happen during thetransform in `preprocessing_exc_tuple` in IPython 7.17 and above.\n",
            "  and should_run_async(code)\n"
          ]
        },
        {
          "output_type": "display_data",
          "data": {
            "text/plain": [
              "<Figure size 640x480 with 1 Axes>"
            ],
            "image/png": "[encoded data removed]"
          },
          "metadata": {}
        }
      ]
    }
  ],
  "metadata": {
    "colab": {
      "provenance": [],
      "include_colab_link": true
    },
    "kernelspec": {
      "display_name": "Python 3",
      "name": "python3"
    },
    "language_info": {
      "name": "python"
    }
  },
  "nbformat": 4,
  "nbformat_minor": 0
}