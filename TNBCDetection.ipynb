{
  "cells": [
    {
      "cell_type": "markdown",
      "metadata": {
        "id": "view-in-github",
        "colab_type": "text"
      },
      "source": [
        "<a href=\"https://colab.research.google.com/github/mansiraturi/tnbc_Detection/blob/main/TNBCDetection.ipynb\" target=\"_parent\"><img src=\"https://colab.research.google.com/assets/colab-badge.svg\" alt=\"Open In Colab\"/></a>"
      ]
    },
    {
      "cell_type": "code",
      "execution_count": null,
      "metadata": {
        "id": "_RdaRrnZnuLU"
      },
      "outputs": [],
      "source": [
        "import pandas as pd\n",
        "import numpy as np\n",
        "import matplotlib.pyplot as plt\n",
        "%matplotlib inline\n",
        "from sklearn.datasets import load_breast_cancer\n",
        "from sklearn.preprocessing import StandardScaler\n",
        "import sklearn.linear_model as skl_lm\n",
        "from sklearn import preprocessing\n",
        "from sklearn import neighbors\n",
        "from sklearn.metrics import confusion_matrix, classification_report, precision_score\n",
        "from sklearn.model_selection import train_test_split\n",
        "import pickle\n",
        "import warnings\n",
        "warnings.filterwarnings(\"ignore\", category=DeprecationWarning)"
      ]
    },
    {
      "cell_type": "code",
      "execution_count": null,
      "metadata": {
        "id": "eIH99SCNK3e3"
      },
      "outputs": [],
      "source": [
        "import warnings\n",
        "warnings.filterwarnings(\"ignore\")"
      ]
    },
    {
      "cell_type": "code",
      "execution_count": null,
      "metadata": {
        "colab": {
          "base_uri": "https://localhost:8080/"
        },
        "id": "J-K0SY2kvLXf",
        "outputId": "faf29840-2b6c-4ca8-b059-45d0720cfa14"
      },
      "outputs": [
        {
          "output_type": "stream",
          "name": "stdout",
          "text": [
            "Drive already mounted at /content/drive; to attempt to forcibly remount, call drive.mount(\"/content/drive\", force_remount=True).\n"
          ]
        }
      ],
      "source": [
        "from google.colab import drive\n",
        "drive.mount(\"/content/drive\")"
      ]
    },
    {
      "cell_type": "markdown",
      "metadata": {
        "id": "EsDi3uz3n_KW"
      },
      "source": [
        "# Data Preprocessing"
      ]
    },
    {
      "cell_type": "markdown",
      "metadata": {
        "id": "k8rrggwrB39X"
      },
      "source": [
        "**Load & Handle Gene Features**"
      ]
    },
    {
      "cell_type": "code",
      "execution_count": null,
      "metadata": {
        "id": "2DL1aJu4O-Ul"
      },
      "outputs": [],
      "source": [
        "clinical= pd.read_csv('/content/drive/MyDrive/content/brca_tcga_clinical_data.tsv', delimiter=\"\\t\")"
      ]
    },
    {
      "cell_type": "code",
      "execution_count": null,
      "metadata": {
        "id": "k2kGU3ZQPDWf"
      },
      "outputs": [],
      "source": [
        "genes = genes = pd.read_csv('/content/drive/MyDrive/content/data_mrna_seq_v2_rsem_zscores_ref_all_samples.txt', delimiter=\"\\t\")\n",
        "#genes = genes = pd.read_csv('/content/drive/MyDrive/content/mrna.csv')"
      ]
    },
    {
      "cell_type": "code",
      "execution_count": null,
      "metadata": {
        "colab": {
          "base_uri": "https://localhost:8080/"
        },
        "id": "bQcmrB89v1WT",
        "outputId": "2889529c-c3e0-4f83-8854-f9d33977270b"
      },
      "outputs": [
        {
          "output_type": "execute_result",
          "data": {
            "text/plain": [
              "(20531, 1102)"
            ]
          },
          "metadata": {},
          "execution_count": 6
        }
      ],
      "source": [
        "genes.shape"
      ]
    },
    {
      "cell_type": "code",
      "execution_count": null,
      "metadata": {
        "colab": {
          "base_uri": "https://localhost:8080/",
          "height": 307
        },
        "id": "rk3gdXy1v56s",
        "outputId": "e8852f25-0ecd-41da-d095-c9231962fda5"
      },
      "outputs": [
        {
          "output_type": "execute_result",
          "data": {
            "text/plain": [
              "    Hugo_Symbol  Entrez_Gene_Id  TCGA-3C-AAAU-01  TCGA-3C-AALI-01  \\\n",
              "0  LOC100130426       100130426          -1.7608          -1.7608   \n",
              "1      UBE2Q2P3       100133144           1.0944           0.3540   \n",
              "2      UBE2Q2P3       100134869           1.0230           1.4736   \n",
              "3       HMGB1P1           10357          -1.7033          -1.0056   \n",
              "4        TIMM23           10431          -2.5248          -1.6307   \n",
              "\n",
              "   TCGA-3C-AALJ-01  TCGA-3C-AALK-01  TCGA-4H-AAAK-01  TCGA-5L-AAT0-01  \\\n",
              "0           1.1240          -1.7608          -1.7608          -1.7608   \n",
              "1           0.6451           0.6963          -0.0246          -0.6627   \n",
              "2           0.5206           0.7910           1.1891           1.1002   \n",
              "3           0.9114           0.7418          -0.5522           0.1842   \n",
              "4           0.8069          -0.4455          -0.7821          -0.6367   \n",
              "\n",
              "   TCGA-5L-AAT1-01  TCGA-5T-A9QA-01  ...  TCGA-UL-AAZ6-01  TCGA-UU-A93S-01  \\\n",
              "0          -1.7608          -1.7608  ...          -1.7608          -1.7608   \n",
              "1          -2.9270          -1.6563  ...          -2.4538          -0.5741   \n",
              "2           0.7244           0.4830  ...           1.1830           0.7643   \n",
              "3           0.2208           0.0383  ...           0.5990           0.6079   \n",
              "4           0.2389           0.9257  ...           1.2029           2.8887   \n",
              "\n",
              "   TCGA-V7-A7HQ-01  TCGA-W8-A86G-01  TCGA-WT-AB41-01  TCGA-WT-AB44-01  \\\n",
              "0          -1.7608          -1.7608          -1.7608          -1.7608   \n",
              "1          -2.9270          -0.2765          -2.9270          -2.9270   \n",
              "2          -0.9748           1.1829          -0.0262          -0.9051   \n",
              "3          -3.0182           0.4649          -1.6364          -2.2051   \n",
              "4           1.4583          -1.0420           0.5612           1.6977   \n",
              "\n",
              "   TCGA-XX-A899-01  TCGA-XX-A89A-01  TCGA-Z7-A8R5-01  TCGA-Z7-A8R6-01  \n",
              "0          -1.7608          -1.7608          -1.7608          -1.7608  \n",
              "1           0.9240           1.5101          -1.2605          -0.0175  \n",
              "2           1.7984           2.1743           0.1793           2.0240  \n",
              "3           0.6371          -1.2071          -0.5285           1.1111  \n",
              "4          -1.2260          -0.9444           0.3174          -0.0360  \n",
              "\n",
              "[5 rows x 1102 columns]"
            ],
            "text/html": [
              "\n",
              "  <div id=\"df-c982aa7b-37ca-40bd-84b7-d8e45567a808\" class=\"colab-df-container\">\n",
              "    <div>\n",
              "<style scoped>\n",
              "    .dataframe tbody tr th:only-of-type {\n",
              "        vertical-align: middle;\n",
              "    }\n",
              "\n",
              "    .dataframe tbody tr th {\n",
              "        vertical-align: top;\n",
              "    }\n",
              "\n",
              "    .dataframe thead th {\n",
              "        text-align: right;\n",
              "    }\n",
              "</style>\n",
              "<table border=\"1\" class=\"dataframe\">\n",
              "  <thead>\n",
              "    <tr style=\"text-align: right;\">\n",
              "      <th></th>\n",
              "      <th>Hugo_Symbol</th>\n",
              "      <th>Entrez_Gene_Id</th>\n",
              "      <th>TCGA-3C-AAAU-01</th>\n",
              "      <th>TCGA-3C-AALI-01</th>\n",
              "      <th>TCGA-3C-AALJ-01</th>\n",
              "      <th>TCGA-3C-AALK-01</th>\n",
              "      <th>TCGA-4H-AAAK-01</th>\n",
              "      <th>TCGA-5L-AAT0-01</th>\n",
              "      <th>TCGA-5L-AAT1-01</th>\n",
              "      <th>TCGA-5T-A9QA-01</th>\n",
              "      <th>...</th>\n",
              "      <th>TCGA-UL-AAZ6-01</th>\n",
              "      <th>TCGA-UU-A93S-01</th>\n",
              "      <th>TCGA-V7-A7HQ-01</th>\n",
              "      <th>TCGA-W8-A86G-01</th>\n",
              "      <th>TCGA-WT-AB41-01</th>\n",
              "      <th>TCGA-WT-AB44-01</th>\n",
              "      <th>TCGA-XX-A899-01</th>\n",
              "      <th>TCGA-XX-A89A-01</th>\n",
              "      <th>TCGA-Z7-A8R5-01</th>\n",
              "      <th>TCGA-Z7-A8R6-01</th>\n",
              "    </tr>\n",
              "  </thead>\n",
              "  <tbody>\n",
              "    <tr>\n",
              "      <th>0</th>\n",
              "      <td>LOC100130426</td>\n",
              "      <td>100130426</td>\n",
              "      <td>-1.7608</td>\n",
              "      <td>-1.7608</td>\n",
              "      <td>1.1240</td>\n",
              "      <td>-1.7608</td>\n",
              "      <td>-1.7608</td>\n",
              "      <td>-1.7608</td>\n",
              "      <td>-1.7608</td>\n",
              "      <td>-1.7608</td>\n",
              "      <td>...</td>\n",
              "      <td>-1.7608</td>\n",
              "      <td>-1.7608</td>\n",
              "      <td>-1.7608</td>\n",
              "      <td>-1.7608</td>\n",
              "      <td>-1.7608</td>\n",
              "      <td>-1.7608</td>\n",
              "      <td>-1.7608</td>\n",
              "      <td>-1.7608</td>\n",
              "      <td>-1.7608</td>\n",
              "      <td>-1.7608</td>\n",
              "    </tr>\n",
              "    <tr>\n",
              "      <th>1</th>\n",
              "      <td>UBE2Q2P3</td>\n",
              "      <td>100133144</td>\n",
              "      <td>1.0944</td>\n",
              "      <td>0.3540</td>\n",
              "      <td>0.6451</td>\n",
              "      <td>0.6963</td>\n",
              "      <td>-0.0246</td>\n",
              "      <td>-0.6627</td>\n",
              "      <td>-2.9270</td>\n",
              "      <td>-1.6563</td>\n",
              "      <td>...</td>\n",
              "      <td>-2.4538</td>\n",
              "      <td>-0.5741</td>\n",
              "      <td>-2.9270</td>\n",
              "      <td>-0.2765</td>\n",
              "      <td>-2.9270</td>\n",
              "      <td>-2.9270</td>\n",
              "      <td>0.9240</td>\n",
              "      <td>1.5101</td>\n",
              "      <td>-1.2605</td>\n",
              "      <td>-0.0175</td>\n",
              "    </tr>\n",
              "    <tr>\n",
              "      <th>2</th>\n",
              "      <td>UBE2Q2P3</td>\n",
              "      <td>100134869</td>\n",
              "      <td>1.0230</td>\n",
              "      <td>1.4736</td>\n",
              "      <td>0.5206</td>\n",
              "      <td>0.7910</td>\n",
              "      <td>1.1891</td>\n",
              "      <td>1.1002</td>\n",
              "      <td>0.7244</td>\n",
              "      <td>0.4830</td>\n",
              "      <td>...</td>\n",
              "      <td>1.1830</td>\n",
              "      <td>0.7643</td>\n",
              "      <td>-0.9748</td>\n",
              "      <td>1.1829</td>\n",
              "      <td>-0.0262</td>\n",
              "      <td>-0.9051</td>\n",
              "      <td>1.7984</td>\n",
              "      <td>2.1743</td>\n",
              "      <td>0.1793</td>\n",
              "      <td>2.0240</td>\n",
              "    </tr>\n",
              "    <tr>\n",
              "      <th>3</th>\n",
              "      <td>HMGB1P1</td>\n",
              "      <td>10357</td>\n",
              "      <td>-1.7033</td>\n",
              "      <td>-1.0056</td>\n",
              "      <td>0.9114</td>\n",
              "      <td>0.7418</td>\n",
              "      <td>-0.5522</td>\n",
              "      <td>0.1842</td>\n",
              "      <td>0.2208</td>\n",
              "      <td>0.0383</td>\n",
              "      <td>...</td>\n",
              "      <td>0.5990</td>\n",
              "      <td>0.6079</td>\n",
              "      <td>-3.0182</td>\n",
              "      <td>0.4649</td>\n",
              "      <td>-1.6364</td>\n",
              "      <td>-2.2051</td>\n",
              "      <td>0.6371</td>\n",
              "      <td>-1.2071</td>\n",
              "      <td>-0.5285</td>\n",
              "      <td>1.1111</td>\n",
              "    </tr>\n",
              "    <tr>\n",
              "      <th>4</th>\n",
              "      <td>TIMM23</td>\n",
              "      <td>10431</td>\n",
              "      <td>-2.5248</td>\n",
              "      <td>-1.6307</td>\n",
              "      <td>0.8069</td>\n",
              "      <td>-0.4455</td>\n",
              "      <td>-0.7821</td>\n",
              "      <td>-0.6367</td>\n",
              "      <td>0.2389</td>\n",
              "      <td>0.9257</td>\n",
              "      <td>...</td>\n",
              "      <td>1.2029</td>\n",
              "      <td>2.8887</td>\n",
              "      <td>1.4583</td>\n",
              "      <td>-1.0420</td>\n",
              "      <td>0.5612</td>\n",
              "      <td>1.6977</td>\n",
              "      <td>-1.2260</td>\n",
              "      <td>-0.9444</td>\n",
              "      <td>0.3174</td>\n",
              "      <td>-0.0360</td>\n",
              "    </tr>\n",
              "  </tbody>\n",
              "</table>\n",
              "<p>5 rows × 1102 columns</p>\n",
              "</div>\n",
              "    <div class=\"colab-df-buttons\">\n",
              "\n",
              "  <div class=\"colab-df-container\">\n",
              "    <button class=\"colab-df-convert\" onclick=\"convertToInteractive('df-c982aa7b-37ca-40bd-84b7-d8e45567a808')\"\n",
              "            title=\"Convert this dataframe to an interactive table.\"\n",
              "            style=\"display:none;\">\n",
              "\n",
              "  <svg xmlns=\"http://www.w3.org/2000/svg\" height=\"24px\" viewBox=\"0 -960 960 960\">\n",
              "    <path d=\"M120-120v-720h720v720H120Zm60-500h600v-160H180v160Zm220 220h160v-160H400v160Zm0 220h160v-160H400v160ZM180-400h160v-160H180v160Zm440 0h160v-160H620v160ZM180-180h160v-160H180v160Zm440 0h160v-160H620v160Z\"/>\n",
              "  </svg>\n",
              "    </button>\n",
              "\n",
              "  <style>\n",
              "    .colab-df-container {\n",
              "      display:flex;\n",
              "      gap: 12px;\n",
              "    }\n",
              "\n",
              "    .colab-df-convert {\n",
              "      background-color: #E8F0FE;\n",
              "      border: none;\n",
              "      border-radius: 50%;\n",
              "      cursor: pointer;\n",
              "      display: none;\n",
              "      fill: #1967D2;\n",
              "      height: 32px;\n",
              "      padding: 0 0 0 0;\n",
              "      width: 32px;\n",
              "    }\n",
              "\n",
              "    .colab-df-convert:hover {\n",
              "      background-color: #E2EBFA;\n",
              "      box-shadow: 0px 1px 2px rgba(60, 64, 67, 0.3), 0px 1px 3px 1px rgba(60, 64, 67, 0.15);\n",
              "      fill: #174EA6;\n",
              "    }\n",
              "\n",
              "    .colab-df-buttons div {\n",
              "      margin-bottom: 4px;\n",
              "    }\n",
              "\n",
              "    [theme=dark] .colab-df-convert {\n",
              "      background-color: #3B4455;\n",
              "      fill: #D2E3FC;\n",
              "    }\n",
              "\n",
              "    [theme=dark] .colab-df-convert:hover {\n",
              "      background-color: #434B5C;\n",
              "      box-shadow: 0px 1px 3px 1px rgba(0, 0, 0, 0.15);\n",
              "      filter: drop-shadow(0px 1px 2px rgba(0, 0, 0, 0.3));\n",
              "      fill: #FFFFFF;\n",
              "    }\n",
              "  </style>\n",
              "\n",
              "    <script>\n",
              "      const buttonEl =\n",
              "        document.querySelector('#df-c982aa7b-37ca-40bd-84b7-d8e45567a808 button.colab-df-convert');\n",
              "      buttonEl.style.display =\n",
              "        google.colab.kernel.accessAllowed ? 'block' : 'none';\n",
              "\n",
              "      async function convertToInteractive(key) {\n",
              "        const element = document.querySelector('#df-c982aa7b-37ca-40bd-84b7-d8e45567a808');\n",
              "        const dataTable =\n",
              "          await google.colab.kernel.invokeFunction('convertToInteractive',\n",
              "                                                    [key], {});\n",
              "        if (!dataTable) return;\n",
              "\n",
              "        const docLinkHtml = 'Like what you see? Visit the ' +\n",
              "          '<a target=\"_blank\" href=https://colab.research.google.com/notebooks/data_table.ipynb>data table notebook</a>'\n",
              "          + ' to learn more about interactive tables.';\n",
              "        element.innerHTML = '';\n",
              "        dataTable['output_type'] = 'display_data';\n",
              "        await google.colab.output.renderOutput(dataTable, element);\n",
              "        const docLink = document.createElement('div');\n",
              "        docLink.innerHTML = docLinkHtml;\n",
              "        element.appendChild(docLink);\n",
              "      }\n",
              "    </script>\n",
              "  </div>\n",
              "\n",
              "\n",
              "<div id=\"df-12600604-e143-4a8b-9c3a-5ca476d4deb7\">\n",
              "  <button class=\"colab-df-quickchart\" onclick=\"quickchart('df-12600604-e143-4a8b-9c3a-5ca476d4deb7')\"\n",
              "            title=\"Suggest charts\"\n",
              "            style=\"display:none;\">\n",
              "\n",
              "<svg xmlns=\"http://www.w3.org/2000/svg\" height=\"24px\"viewBox=\"0 0 24 24\"\n",
              "     width=\"24px\">\n",
              "    <g>\n",
              "        <path d=\"M19 3H5c-1.1 0-2 .9-2 2v14c0 1.1.9 2 2 2h14c1.1 0 2-.9 2-2V5c0-1.1-.9-2-2-2zM9 17H7v-7h2v7zm4 0h-2V7h2v10zm4 0h-2v-4h2v4z\"/>\n",
              "    </g>\n",
              "</svg>\n",
              "  </button>\n",
              "\n",
              "<style>\n",
              "  .colab-df-quickchart {\n",
              "      --bg-color: #E8F0FE;\n",
              "      --fill-color: #1967D2;\n",
              "      --hover-bg-color: #E2EBFA;\n",
              "      --hover-fill-color: #174EA6;\n",
              "      --disabled-fill-color: #AAA;\n",
              "      --disabled-bg-color: #DDD;\n",
              "  }\n",
              "\n",
              "  [theme=dark] .colab-df-quickchart {\n",
              "      --bg-color: #3B4455;\n",
              "      --fill-color: #D2E3FC;\n",
              "      --hover-bg-color: #434B5C;\n",
              "      --hover-fill-color: #FFFFFF;\n",
              "      --disabled-bg-color: #3B4455;\n",
              "      --disabled-fill-color: #666;\n",
              "  }\n",
              "\n",
              "  .colab-df-quickchart {\n",
              "    background-color: var(--bg-color);\n",
              "    border: none;\n",
              "    border-radius: 50%;\n",
              "    cursor: pointer;\n",
              "    display: none;\n",
              "    fill: var(--fill-color);\n",
              "    height: 32px;\n",
              "    padding: 0;\n",
              "    width: 32px;\n",
              "  }\n",
              "\n",
              "  .colab-df-quickchart:hover {\n",
              "    background-color: var(--hover-bg-color);\n",
              "    box-shadow: 0 1px 2px rgba(60, 64, 67, 0.3), 0 1px 3px 1px rgba(60, 64, 67, 0.15);\n",
              "    fill: var(--button-hover-fill-color);\n",
              "  }\n",
              "\n",
              "  .colab-df-quickchart-complete:disabled,\n",
              "  .colab-df-quickchart-complete:disabled:hover {\n",
              "    background-color: var(--disabled-bg-color);\n",
              "    fill: var(--disabled-fill-color);\n",
              "    box-shadow: none;\n",
              "  }\n",
              "\n",
              "  .colab-df-spinner {\n",
              "    border: 2px solid var(--fill-color);\n",
              "    border-color: transparent;\n",
              "    border-bottom-color: var(--fill-color);\n",
              "    animation:\n",
              "      spin 1s steps(1) infinite;\n",
              "  }\n",
              "\n",
              "  @keyframes spin {\n",
              "    0% {\n",
              "      border-color: transparent;\n",
              "      border-bottom-color: var(--fill-color);\n",
              "      border-left-color: var(--fill-color);\n",
              "    }\n",
              "    20% {\n",
              "      border-color: transparent;\n",
              "      border-left-color: var(--fill-color);\n",
              "      border-top-color: var(--fill-color);\n",
              "    }\n",
              "    30% {\n",
              "      border-color: transparent;\n",
              "      border-left-color: var(--fill-color);\n",
              "      border-top-color: var(--fill-color);\n",
              "      border-right-color: var(--fill-color);\n",
              "    }\n",
              "    40% {\n",
              "      border-color: transparent;\n",
              "      border-right-color: var(--fill-color);\n",
              "      border-top-color: var(--fill-color);\n",
              "    }\n",
              "    60% {\n",
              "      border-color: transparent;\n",
              "      border-right-color: var(--fill-color);\n",
              "    }\n",
              "    80% {\n",
              "      border-color: transparent;\n",
              "      border-right-color: var(--fill-color);\n",
              "      border-bottom-color: var(--fill-color);\n",
              "    }\n",
              "    90% {\n",
              "      border-color: transparent;\n",
              "      border-bottom-color: var(--fill-color);\n",
              "    }\n",
              "  }\n",
              "</style>\n",
              "\n",
              "  <script>\n",
              "    async function quickchart(key) {\n",
              "      const quickchartButtonEl =\n",
              "        document.querySelector('#' + key + ' button');\n",
              "      quickchartButtonEl.disabled = true;  // To prevent multiple clicks.\n",
              "      quickchartButtonEl.classList.add('colab-df-spinner');\n",
              "      try {\n",
              "        const charts = await google.colab.kernel.invokeFunction(\n",
              "            'suggestCharts', [key], {});\n",
              "      } catch (error) {\n",
              "        console.error('Error during call to suggestCharts:', error);\n",
              "      }\n",
              "      quickchartButtonEl.classList.remove('colab-df-spinner');\n",
              "      quickchartButtonEl.classList.add('colab-df-quickchart-complete');\n",
              "    }\n",
              "    (() => {\n",
              "      let quickchartButtonEl =\n",
              "        document.querySelector('#df-12600604-e143-4a8b-9c3a-5ca476d4deb7 button');\n",
              "      quickchartButtonEl.style.display =\n",
              "        google.colab.kernel.accessAllowed ? 'block' : 'none';\n",
              "    })();\n",
              "  </script>\n",
              "</div>\n",
              "\n",
              "    </div>\n",
              "  </div>\n"
            ]
          },
          "metadata": {},
          "execution_count": 7
        }
      ],
      "source": [
        "genes.head()"
      ]
    },
    {
      "cell_type": "code",
      "execution_count": null,
      "metadata": {
        "id": "Ydye31kbv8UD"
      },
      "outputs": [],
      "source": [
        "## Set aside gene name to numerical id for mapping\n",
        "gene_map = genes.iloc[:, 0:2]"
      ]
    },
    {
      "cell_type": "markdown",
      "metadata": {
        "id": "KDm7KQlIpaom"
      },
      "source": [
        "**Drop ESR1 (estrogen receptor), PGR (progesterone receptor), ERBB2 (HER2 receptor) genes to prevent data leakage**"
      ]
    },
    {
      "cell_type": "code",
      "execution_count": null,
      "metadata": {
        "colab": {
          "base_uri": "https://localhost:8080/"
        },
        "id": "CldYVTzbwank",
        "outputId": "83f28a63-e639-4067-d7f3-034eee3ecb24"
      },
      "outputs": [
        {
          "output_type": "execute_result",
          "data": {
            "text/plain": [
              "[True, True, True]"
            ]
          },
          "metadata": {},
          "execution_count": 9
        }
      ],
      "source": [
        "## First check if the 3 genes are in the data\n",
        "genes_list = [\"ESR1\", \"PGR\", \"ERBB2\"]\n",
        "[g in genes[\"Hugo_Symbol\"].values for g in genes_list]"
      ]
    },
    {
      "cell_type": "code",
      "execution_count": null,
      "metadata": {
        "id": "41ZiItN-waqk"
      },
      "outputs": [],
      "source": [
        "## Next, drop the 3 genes from the dataframe\n",
        "genes = genes.loc[~genes[\"Hugo_Symbol\"].isin(genes_list), :]"
      ]
    },
    {
      "cell_type": "code",
      "execution_count": null,
      "metadata": {
        "colab": {
          "base_uri": "https://localhost:8080/"
        },
        "id": "cpCTBzbuwatZ",
        "outputId": "54958382-5b69-4934-a138-625ae36fb13b"
      },
      "outputs": [
        {
          "output_type": "execute_result",
          "data": {
            "text/plain": [
              "[False, False, False]"
            ]
          },
          "metadata": {},
          "execution_count": 11
        }
      ],
      "source": [
        "## Check: all should be False\n",
        "[g in genes[\"Hugo_Symbol\"].values for g in genes_list]"
      ]
    },
    {
      "cell_type": "code",
      "execution_count": null,
      "metadata": {
        "colab": {
          "base_uri": "https://localhost:8080/",
          "height": 339
        },
        "id": "RMLntnGowi0d",
        "outputId": "f32ae969-0160-4bae-cf1a-9593c395354f"
      },
      "outputs": [
        {
          "output_type": "execute_result",
          "data": {
            "text/plain": [
              "                TCGA-3C-AAAU-01  TCGA-3C-AALI-01  TCGA-3C-AALJ-01  \\\n",
              "Entrez_Gene_Id                                                      \n",
              "100130426               -1.7608          -1.7608           1.1240   \n",
              "100133144                1.0944           0.3540           0.6451   \n",
              "100134869                1.0230           1.4736           0.5206   \n",
              "10357                   -1.7033          -1.0056           0.9114   \n",
              "10431                   -2.5248          -1.6307           0.8069   \n",
              "\n",
              "                TCGA-3C-AALK-01  TCGA-4H-AAAK-01  TCGA-5L-AAT0-01  \\\n",
              "Entrez_Gene_Id                                                      \n",
              "100130426               -1.7608          -1.7608          -1.7608   \n",
              "100133144                0.6963          -0.0246          -0.6627   \n",
              "100134869                0.7910           1.1891           1.1002   \n",
              "10357                    0.7418          -0.5522           0.1842   \n",
              "10431                   -0.4455          -0.7821          -0.6367   \n",
              "\n",
              "                TCGA-5L-AAT1-01  TCGA-5T-A9QA-01  TCGA-A1-A0SB-01  \\\n",
              "Entrez_Gene_Id                                                      \n",
              "100130426               -1.7608          -1.7608          -1.7608   \n",
              "100133144               -2.9270          -1.6563           1.0087   \n",
              "100134869                0.7244           0.4830           1.1853   \n",
              "10357                    0.2208           0.0383           0.2289   \n",
              "10431                    0.2389           0.9257          -1.2069   \n",
              "\n",
              "                TCGA-A1-A0SD-01  ...  TCGA-UL-AAZ6-01  TCGA-UU-A93S-01  \\\n",
              "Entrez_Gene_Id                   ...                                     \n",
              "100130426               -1.7608  ...          -1.7608          -1.7608   \n",
              "100133144                0.3881  ...          -2.4538          -0.5741   \n",
              "100134869                0.8236  ...           1.1830           0.7643   \n",
              "10357                   -1.3569  ...           0.5990           0.6079   \n",
              "10431                   -0.1077  ...           1.2029           2.8887   \n",
              "\n",
              "                TCGA-V7-A7HQ-01  TCGA-W8-A86G-01  TCGA-WT-AB41-01  \\\n",
              "Entrez_Gene_Id                                                      \n",
              "100130426               -1.7608          -1.7608          -1.7608   \n",
              "100133144               -2.9270          -0.2765          -2.9270   \n",
              "100134869               -0.9748           1.1829          -0.0262   \n",
              "10357                   -3.0182           0.4649          -1.6364   \n",
              "10431                    1.4583          -1.0420           0.5612   \n",
              "\n",
              "                TCGA-WT-AB44-01  TCGA-XX-A899-01  TCGA-XX-A89A-01  \\\n",
              "Entrez_Gene_Id                                                      \n",
              "100130426               -1.7608          -1.7608          -1.7608   \n",
              "100133144               -2.9270           0.9240           1.5101   \n",
              "100134869               -0.9051           1.7984           2.1743   \n",
              "10357                   -2.2051           0.6371          -1.2071   \n",
              "10431                    1.6977          -1.2260          -0.9444   \n",
              "\n",
              "                TCGA-Z7-A8R5-01  TCGA-Z7-A8R6-01  \n",
              "Entrez_Gene_Id                                    \n",
              "100130426               -1.7608          -1.7608  \n",
              "100133144               -1.2605          -0.0175  \n",
              "100134869                0.1793           2.0240  \n",
              "10357                   -0.5285           1.1111  \n",
              "10431                    0.3174          -0.0360  \n",
              "\n",
              "[5 rows x 1100 columns]"
            ],
            "text/html": [
              "\n",
              "  <div id=\"df-0e10d803-366b-4fb6-a1d6-523b1d341e69\" class=\"colab-df-container\">\n",
              "    <div>\n",
              "<style scoped>\n",
              "    .dataframe tbody tr th:only-of-type {\n",
              "        vertical-align: middle;\n",
              "    }\n",
              "\n",
              "    .dataframe tbody tr th {\n",
              "        vertical-align: top;\n",
              "    }\n",
              "\n",
              "    .dataframe thead th {\n",
              "        text-align: right;\n",
              "    }\n",
              "</style>\n",
              "<table border=\"1\" class=\"dataframe\">\n",
              "  <thead>\n",
              "    <tr style=\"text-align: right;\">\n",
              "      <th></th>\n",
              "      <th>TCGA-3C-AAAU-01</th>\n",
              "      <th>TCGA-3C-AALI-01</th>\n",
              "      <th>TCGA-3C-AALJ-01</th>\n",
              "      <th>TCGA-3C-AALK-01</th>\n",
              "      <th>TCGA-4H-AAAK-01</th>\n",
              "      <th>TCGA-5L-AAT0-01</th>\n",
              "      <th>TCGA-5L-AAT1-01</th>\n",
              "      <th>TCGA-5T-A9QA-01</th>\n",
              "      <th>TCGA-A1-A0SB-01</th>\n",
              "      <th>TCGA-A1-A0SD-01</th>\n",
              "      <th>...</th>\n",
              "      <th>TCGA-UL-AAZ6-01</th>\n",
              "      <th>TCGA-UU-A93S-01</th>\n",
              "      <th>TCGA-V7-A7HQ-01</th>\n",
              "      <th>TCGA-W8-A86G-01</th>\n",
              "      <th>TCGA-WT-AB41-01</th>\n",
              "      <th>TCGA-WT-AB44-01</th>\n",
              "      <th>TCGA-XX-A899-01</th>\n",
              "      <th>TCGA-XX-A89A-01</th>\n",
              "      <th>TCGA-Z7-A8R5-01</th>\n",
              "      <th>TCGA-Z7-A8R6-01</th>\n",
              "    </tr>\n",
              "    <tr>\n",
              "      <th>Entrez_Gene_Id</th>\n",
              "      <th></th>\n",
              "      <th></th>\n",
              "      <th></th>\n",
              "      <th></th>\n",
              "      <th></th>\n",
              "      <th></th>\n",
              "      <th></th>\n",
              "      <th></th>\n",
              "      <th></th>\n",
              "      <th></th>\n",
              "      <th></th>\n",
              "      <th></th>\n",
              "      <th></th>\n",
              "      <th></th>\n",
              "      <th></th>\n",
              "      <th></th>\n",
              "      <th></th>\n",
              "      <th></th>\n",
              "      <th></th>\n",
              "      <th></th>\n",
              "      <th></th>\n",
              "    </tr>\n",
              "  </thead>\n",
              "  <tbody>\n",
              "    <tr>\n",
              "      <th>100130426</th>\n",
              "      <td>-1.7608</td>\n",
              "      <td>-1.7608</td>\n",
              "      <td>1.1240</td>\n",
              "      <td>-1.7608</td>\n",
              "      <td>-1.7608</td>\n",
              "      <td>-1.7608</td>\n",
              "      <td>-1.7608</td>\n",
              "      <td>-1.7608</td>\n",
              "      <td>-1.7608</td>\n",
              "      <td>-1.7608</td>\n",
              "      <td>...</td>\n",
              "      <td>-1.7608</td>\n",
              "      <td>-1.7608</td>\n",
              "      <td>-1.7608</td>\n",
              "      <td>-1.7608</td>\n",
              "      <td>-1.7608</td>\n",
              "      <td>-1.7608</td>\n",
              "      <td>-1.7608</td>\n",
              "      <td>-1.7608</td>\n",
              "      <td>-1.7608</td>\n",
              "      <td>-1.7608</td>\n",
              "    </tr>\n",
              "    <tr>\n",
              "      <th>100133144</th>\n",
              "      <td>1.0944</td>\n",
              "      <td>0.3540</td>\n",
              "      <td>0.6451</td>\n",
              "      <td>0.6963</td>\n",
              "      <td>-0.0246</td>\n",
              "      <td>-0.6627</td>\n",
              "      <td>-2.9270</td>\n",
              "      <td>-1.6563</td>\n",
              "      <td>1.0087</td>\n",
              "      <td>0.3881</td>\n",
              "      <td>...</td>\n",
              "      <td>-2.4538</td>\n",
              "      <td>-0.5741</td>\n",
              "      <td>-2.9270</td>\n",
              "      <td>-0.2765</td>\n",
              "      <td>-2.9270</td>\n",
              "      <td>-2.9270</td>\n",
              "      <td>0.9240</td>\n",
              "      <td>1.5101</td>\n",
              "      <td>-1.2605</td>\n",
              "      <td>-0.0175</td>\n",
              "    </tr>\n",
              "    <tr>\n",
              "      <th>100134869</th>\n",
              "      <td>1.0230</td>\n",
              "      <td>1.4736</td>\n",
              "      <td>0.5206</td>\n",
              "      <td>0.7910</td>\n",
              "      <td>1.1891</td>\n",
              "      <td>1.1002</td>\n",
              "      <td>0.7244</td>\n",
              "      <td>0.4830</td>\n",
              "      <td>1.1853</td>\n",
              "      <td>0.8236</td>\n",
              "      <td>...</td>\n",
              "      <td>1.1830</td>\n",
              "      <td>0.7643</td>\n",
              "      <td>-0.9748</td>\n",
              "      <td>1.1829</td>\n",
              "      <td>-0.0262</td>\n",
              "      <td>-0.9051</td>\n",
              "      <td>1.7984</td>\n",
              "      <td>2.1743</td>\n",
              "      <td>0.1793</td>\n",
              "      <td>2.0240</td>\n",
              "    </tr>\n",
              "    <tr>\n",
              "      <th>10357</th>\n",
              "      <td>-1.7033</td>\n",
              "      <td>-1.0056</td>\n",
              "      <td>0.9114</td>\n",
              "      <td>0.7418</td>\n",
              "      <td>-0.5522</td>\n",
              "      <td>0.1842</td>\n",
              "      <td>0.2208</td>\n",
              "      <td>0.0383</td>\n",
              "      <td>0.2289</td>\n",
              "      <td>-1.3569</td>\n",
              "      <td>...</td>\n",
              "      <td>0.5990</td>\n",
              "      <td>0.6079</td>\n",
              "      <td>-3.0182</td>\n",
              "      <td>0.4649</td>\n",
              "      <td>-1.6364</td>\n",
              "      <td>-2.2051</td>\n",
              "      <td>0.6371</td>\n",
              "      <td>-1.2071</td>\n",
              "      <td>-0.5285</td>\n",
              "      <td>1.1111</td>\n",
              "    </tr>\n",
              "    <tr>\n",
              "      <th>10431</th>\n",
              "      <td>-2.5248</td>\n",
              "      <td>-1.6307</td>\n",
              "      <td>0.8069</td>\n",
              "      <td>-0.4455</td>\n",
              "      <td>-0.7821</td>\n",
              "      <td>-0.6367</td>\n",
              "      <td>0.2389</td>\n",
              "      <td>0.9257</td>\n",
              "      <td>-1.2069</td>\n",
              "      <td>-0.1077</td>\n",
              "      <td>...</td>\n",
              "      <td>1.2029</td>\n",
              "      <td>2.8887</td>\n",
              "      <td>1.4583</td>\n",
              "      <td>-1.0420</td>\n",
              "      <td>0.5612</td>\n",
              "      <td>1.6977</td>\n",
              "      <td>-1.2260</td>\n",
              "      <td>-0.9444</td>\n",
              "      <td>0.3174</td>\n",
              "      <td>-0.0360</td>\n",
              "    </tr>\n",
              "  </tbody>\n",
              "</table>\n",
              "<p>5 rows × 1100 columns</p>\n",
              "</div>\n",
              "    <div class=\"colab-df-buttons\">\n",
              "\n",
              "  <div class=\"colab-df-container\">\n",
              "    <button class=\"colab-df-convert\" onclick=\"convertToInteractive('df-0e10d803-366b-4fb6-a1d6-523b1d341e69')\"\n",
              "            title=\"Convert this dataframe to an interactive table.\"\n",
              "            style=\"display:none;\">\n",
              "\n",
              "  <svg xmlns=\"http://www.w3.org/2000/svg\" height=\"24px\" viewBox=\"0 -960 960 960\">\n",
              "    <path d=\"M120-120v-720h720v720H120Zm60-500h600v-160H180v160Zm220 220h160v-160H400v160Zm0 220h160v-160H400v160ZM180-400h160v-160H180v160Zm440 0h160v-160H620v160ZM180-180h160v-160H180v160Zm440 0h160v-160H620v160Z\"/>\n",
              "  </svg>\n",
              "    </button>\n",
              "\n",
              "  <style>\n",
              "    .colab-df-container {\n",
              "      display:flex;\n",
              "      gap: 12px;\n",
              "    }\n",
              "\n",
              "    .colab-df-convert {\n",
              "      background-color: #E8F0FE;\n",
              "      border: none;\n",
              "      border-radius: 50%;\n",
              "      cursor: pointer;\n",
              "      display: none;\n",
              "      fill: #1967D2;\n",
              "      height: 32px;\n",
              "      padding: 0 0 0 0;\n",
              "      width: 32px;\n",
              "    }\n",
              "\n",
              "    .colab-df-convert:hover {\n",
              "      background-color: #E2EBFA;\n",
              "      box-shadow: 0px 1px 2px rgba(60, 64, 67, 0.3), 0px 1px 3px 1px rgba(60, 64, 67, 0.15);\n",
              "      fill: #174EA6;\n",
              "    }\n",
              "\n",
              "    .colab-df-buttons div {\n",
              "      margin-bottom: 4px;\n",
              "    }\n",
              "\n",
              "    [theme=dark] .colab-df-convert {\n",
              "      background-color: #3B4455;\n",
              "      fill: #D2E3FC;\n",
              "    }\n",
              "\n",
              "    [theme=dark] .colab-df-convert:hover {\n",
              "      background-color: #434B5C;\n",
              "      box-shadow: 0px 1px 3px 1px rgba(0, 0, 0, 0.15);\n",
              "      filter: drop-shadow(0px 1px 2px rgba(0, 0, 0, 0.3));\n",
              "      fill: #FFFFFF;\n",
              "    }\n",
              "  </style>\n",
              "\n",
              "    <script>\n",
              "      const buttonEl =\n",
              "        document.querySelector('#df-0e10d803-366b-4fb6-a1d6-523b1d341e69 button.colab-df-convert');\n",
              "      buttonEl.style.display =\n",
              "        google.colab.kernel.accessAllowed ? 'block' : 'none';\n",
              "\n",
              "      async function convertToInteractive(key) {\n",
              "        const element = document.querySelector('#df-0e10d803-366b-4fb6-a1d6-523b1d341e69');\n",
              "        const dataTable =\n",
              "          await google.colab.kernel.invokeFunction('convertToInteractive',\n",
              "                                                    [key], {});\n",
              "        if (!dataTable) return;\n",
              "\n",
              "        const docLinkHtml = 'Like what you see? Visit the ' +\n",
              "          '<a target=\"_blank\" href=https://colab.research.google.com/notebooks/data_table.ipynb>data table notebook</a>'\n",
              "          + ' to learn more about interactive tables.';\n",
              "        element.innerHTML = '';\n",
              "        dataTable['output_type'] = 'display_data';\n",
              "        await google.colab.output.renderOutput(dataTable, element);\n",
              "        const docLink = document.createElement('div');\n",
              "        docLink.innerHTML = docLinkHtml;\n",
              "        element.appendChild(docLink);\n",
              "      }\n",
              "    </script>\n",
              "  </div>\n",
              "\n",
              "\n",
              "<div id=\"df-ecf73ed6-c0fb-4c5b-8adb-b75eae3c9735\">\n",
              "  <button class=\"colab-df-quickchart\" onclick=\"quickchart('df-ecf73ed6-c0fb-4c5b-8adb-b75eae3c9735')\"\n",
              "            title=\"Suggest charts\"\n",
              "            style=\"display:none;\">\n",
              "\n",
              "<svg xmlns=\"http://www.w3.org/2000/svg\" height=\"24px\"viewBox=\"0 0 24 24\"\n",
              "     width=\"24px\">\n",
              "    <g>\n",
              "        <path d=\"M19 3H5c-1.1 0-2 .9-2 2v14c0 1.1.9 2 2 2h14c1.1 0 2-.9 2-2V5c0-1.1-.9-2-2-2zM9 17H7v-7h2v7zm4 0h-2V7h2v10zm4 0h-2v-4h2v4z\"/>\n",
              "    </g>\n",
              "</svg>\n",
              "  </button>\n",
              "\n",
              "<style>\n",
              "  .colab-df-quickchart {\n",
              "      --bg-color: #E8F0FE;\n",
              "      --fill-color: #1967D2;\n",
              "      --hover-bg-color: #E2EBFA;\n",
              "      --hover-fill-color: #174EA6;\n",
              "      --disabled-fill-color: #AAA;\n",
              "      --disabled-bg-color: #DDD;\n",
              "  }\n",
              "\n",
              "  [theme=dark] .colab-df-quickchart {\n",
              "      --bg-color: #3B4455;\n",
              "      --fill-color: #D2E3FC;\n",
              "      --hover-bg-color: #434B5C;\n",
              "      --hover-fill-color: #FFFFFF;\n",
              "      --disabled-bg-color: #3B4455;\n",
              "      --disabled-fill-color: #666;\n",
              "  }\n",
              "\n",
              "  .colab-df-quickchart {\n",
              "    background-color: var(--bg-color);\n",
              "    border: none;\n",
              "    border-radius: 50%;\n",
              "    cursor: pointer;\n",
              "    display: none;\n",
              "    fill: var(--fill-color);\n",
              "    height: 32px;\n",
              "    padding: 0;\n",
              "    width: 32px;\n",
              "  }\n",
              "\n",
              "  .colab-df-quickchart:hover {\n",
              "    background-color: var(--hover-bg-color);\n",
              "    box-shadow: 0 1px 2px rgba(60, 64, 67, 0.3), 0 1px 3px 1px rgba(60, 64, 67, 0.15);\n",
              "    fill: var(--button-hover-fill-color);\n",
              "  }\n",
              "\n",
              "  .colab-df-quickchart-complete:disabled,\n",
              "  .colab-df-quickchart-complete:disabled:hover {\n",
              "    background-color: var(--disabled-bg-color);\n",
              "    fill: var(--disabled-fill-color);\n",
              "    box-shadow: none;\n",
              "  }\n",
              "\n",
              "  .colab-df-spinner {\n",
              "    border: 2px solid var(--fill-color);\n",
              "    border-color: transparent;\n",
              "    border-bottom-color: var(--fill-color);\n",
              "    animation:\n",
              "      spin 1s steps(1) infinite;\n",
              "  }\n",
              "\n",
              "  @keyframes spin {\n",
              "    0% {\n",
              "      border-color: transparent;\n",
              "      border-bottom-color: var(--fill-color);\n",
              "      border-left-color: var(--fill-color);\n",
              "    }\n",
              "    20% {\n",
              "      border-color: transparent;\n",
              "      border-left-color: var(--fill-color);\n",
              "      border-top-color: var(--fill-color);\n",
              "    }\n",
              "    30% {\n",
              "      border-color: transparent;\n",
              "      border-left-color: var(--fill-color);\n",
              "      border-top-color: var(--fill-color);\n",
              "      border-right-color: var(--fill-color);\n",
              "    }\n",
              "    40% {\n",
              "      border-color: transparent;\n",
              "      border-right-color: var(--fill-color);\n",
              "      border-top-color: var(--fill-color);\n",
              "    }\n",
              "    60% {\n",
              "      border-color: transparent;\n",
              "      border-right-color: var(--fill-color);\n",
              "    }\n",
              "    80% {\n",
              "      border-color: transparent;\n",
              "      border-right-color: var(--fill-color);\n",
              "      border-bottom-color: var(--fill-color);\n",
              "    }\n",
              "    90% {\n",
              "      border-color: transparent;\n",
              "      border-bottom-color: var(--fill-color);\n",
              "    }\n",
              "  }\n",
              "</style>\n",
              "\n",
              "  <script>\n",
              "    async function quickchart(key) {\n",
              "      const quickchartButtonEl =\n",
              "        document.querySelector('#' + key + ' button');\n",
              "      quickchartButtonEl.disabled = true;  // To prevent multiple clicks.\n",
              "      quickchartButtonEl.classList.add('colab-df-spinner');\n",
              "      try {\n",
              "        const charts = await google.colab.kernel.invokeFunction(\n",
              "            'suggestCharts', [key], {});\n",
              "      } catch (error) {\n",
              "        console.error('Error during call to suggestCharts:', error);\n",
              "      }\n",
              "      quickchartButtonEl.classList.remove('colab-df-spinner');\n",
              "      quickchartButtonEl.classList.add('colab-df-quickchart-complete');\n",
              "    }\n",
              "    (() => {\n",
              "      let quickchartButtonEl =\n",
              "        document.querySelector('#df-ecf73ed6-c0fb-4c5b-8adb-b75eae3c9735 button');\n",
              "      quickchartButtonEl.style.display =\n",
              "        google.colab.kernel.accessAllowed ? 'block' : 'none';\n",
              "    })();\n",
              "  </script>\n",
              "</div>\n",
              "\n",
              "    </div>\n",
              "  </div>\n"
            ]
          },
          "metadata": {},
          "execution_count": 12
        }
      ],
      "source": [
        "# drop rows with duplicate id\n",
        "genes = genes.drop_duplicates(subset=\"Entrez_Gene_Id\")\n",
        "genes.index = genes[\"Entrez_Gene_Id\"]\n",
        "genes = genes.iloc[:, 2:] #drop gene id cols\n",
        "genes.head(5)"
      ]
    },
    {
      "cell_type": "code",
      "execution_count": null,
      "metadata": {
        "colab": {
          "base_uri": "https://localhost:8080/",
          "height": 342
        },
        "id": "8pw1u-Nzwi3y",
        "outputId": "43c20213-8155-411c-a5f4-05a921f55e58"
      },
      "outputs": [
        {
          "output_type": "execute_result",
          "data": {
            "text/plain": [
              "Entrez_Gene_Id   100130426  100133144  100134869  10357      10431      \\\n",
              "TCGA-3C-AAAU-01    -1.7608     1.0944     1.0230    -1.7033    -2.5248   \n",
              "TCGA-3C-AALI-01    -1.7608     0.3540     1.4736    -1.0056    -1.6307   \n",
              "TCGA-3C-AALJ-01     1.1240     0.6451     0.5206     0.9114     0.8069   \n",
              "TCGA-3C-AALK-01    -1.7608     0.6963     0.7910     0.7418    -0.4455   \n",
              "TCGA-4H-AAAK-01    -1.7608    -0.0246     1.1891    -0.5522    -0.7821   \n",
              "\n",
              "Entrez_Gene_Id   136542     155060     26823      280660     317712     ...  \\\n",
              "TCGA-3C-AAAU-01        NaN     2.6672    -1.9754    -1.0239    -3.8503  ...   \n",
              "TCGA-3C-AALI-01        NaN     1.4841     0.6553    -0.5570    -3.8503  ...   \n",
              "TCGA-3C-AALJ-01        NaN     1.6791    -1.9754    -1.0239    -3.8503  ...   \n",
              "TCGA-3C-AALK-01        NaN     1.5817    -0.7379    -1.0239    -3.8503  ...   \n",
              "TCGA-4H-AAAK-01        NaN     0.5166    -0.7082    -1.0239    -3.8503  ...   \n",
              "\n",
              "Entrez_Gene_Id   7789       158586     79364      440590     79699      \\\n",
              "TCGA-3C-AAAU-01     1.6674     1.3652     1.7323     1.1787     1.0112   \n",
              "TCGA-3C-AALI-01     0.0469    -0.2845     0.8841     0.9389    -0.8990   \n",
              "TCGA-3C-AALJ-01    -1.0439     0.0704    -1.3588     1.4057    -1.2453   \n",
              "TCGA-3C-AALK-01    -0.1270    -0.3346    -0.8902     0.8269    -0.8818   \n",
              "TCGA-4H-AAAK-01    -0.3710    -0.3982    -0.1067    -1.4182    -0.2086   \n",
              "\n",
              "Entrez_Gene_Id   7791       23140      26009      387590     389932     \n",
              "TCGA-3C-AAAU-01     0.0077     1.2480     0.7011    -2.2857    -1.0151  \n",
              "TCGA-3C-AALI-01     0.9335     0.3568    -1.8110     1.7416    -1.0151  \n",
              "TCGA-3C-AALJ-01     0.9163    -0.4675    -1.2802    -0.4957    -1.0151  \n",
              "TCGA-3C-AALK-01     1.0020    -0.9299    -0.5286    -0.0672    -1.0151  \n",
              "TCGA-4H-AAAK-01     0.2990    -0.7752     0.0127     0.6400    -1.0151  \n",
              "\n",
              "[5 rows x 20502 columns]"
            ],
            "text/html": [
              "\n",
              "  <div id=\"df-bf29fb2a-1951-4a66-8d62-4cb736b7c094\" class=\"colab-df-container\">\n",
              "    <div>\n",
              "<style scoped>\n",
              "    .dataframe tbody tr th:only-of-type {\n",
              "        vertical-align: middle;\n",
              "    }\n",
              "\n",
              "    .dataframe tbody tr th {\n",
              "        vertical-align: top;\n",
              "    }\n",
              "\n",
              "    .dataframe thead th {\n",
              "        text-align: right;\n",
              "    }\n",
              "</style>\n",
              "<table border=\"1\" class=\"dataframe\">\n",
              "  <thead>\n",
              "    <tr style=\"text-align: right;\">\n",
              "      <th>Entrez_Gene_Id</th>\n",
              "      <th>100130426</th>\n",
              "      <th>100133144</th>\n",
              "      <th>100134869</th>\n",
              "      <th>10357</th>\n",
              "      <th>10431</th>\n",
              "      <th>136542</th>\n",
              "      <th>155060</th>\n",
              "      <th>26823</th>\n",
              "      <th>280660</th>\n",
              "      <th>317712</th>\n",
              "      <th>...</th>\n",
              "      <th>7789</th>\n",
              "      <th>158586</th>\n",
              "      <th>79364</th>\n",
              "      <th>440590</th>\n",
              "      <th>79699</th>\n",
              "      <th>7791</th>\n",
              "      <th>23140</th>\n",
              "      <th>26009</th>\n",
              "      <th>387590</th>\n",
              "      <th>389932</th>\n",
              "    </tr>\n",
              "  </thead>\n",
              "  <tbody>\n",
              "    <tr>\n",
              "      <th>TCGA-3C-AAAU-01</th>\n",
              "      <td>-1.7608</td>\n",
              "      <td>1.0944</td>\n",
              "      <td>1.0230</td>\n",
              "      <td>-1.7033</td>\n",
              "      <td>-2.5248</td>\n",
              "      <td>NaN</td>\n",
              "      <td>2.6672</td>\n",
              "      <td>-1.9754</td>\n",
              "      <td>-1.0239</td>\n",
              "      <td>-3.8503</td>\n",
              "      <td>...</td>\n",
              "      <td>1.6674</td>\n",
              "      <td>1.3652</td>\n",
              "      <td>1.7323</td>\n",
              "      <td>1.1787</td>\n",
              "      <td>1.0112</td>\n",
              "      <td>0.0077</td>\n",
              "      <td>1.2480</td>\n",
              "      <td>0.7011</td>\n",
              "      <td>-2.2857</td>\n",
              "      <td>-1.0151</td>\n",
              "    </tr>\n",
              "    <tr>\n",
              "      <th>TCGA-3C-AALI-01</th>\n",
              "      <td>-1.7608</td>\n",
              "      <td>0.3540</td>\n",
              "      <td>1.4736</td>\n",
              "      <td>-1.0056</td>\n",
              "      <td>-1.6307</td>\n",
              "      <td>NaN</td>\n",
              "      <td>1.4841</td>\n",
              "      <td>0.6553</td>\n",
              "      <td>-0.5570</td>\n",
              "      <td>-3.8503</td>\n",
              "      <td>...</td>\n",
              "      <td>0.0469</td>\n",
              "      <td>-0.2845</td>\n",
              "      <td>0.8841</td>\n",
              "      <td>0.9389</td>\n",
              "      <td>-0.8990</td>\n",
              "      <td>0.9335</td>\n",
              "      <td>0.3568</td>\n",
              "      <td>-1.8110</td>\n",
              "      <td>1.7416</td>\n",
              "      <td>-1.0151</td>\n",
              "    </tr>\n",
              "    <tr>\n",
              "      <th>TCGA-3C-AALJ-01</th>\n",
              "      <td>1.1240</td>\n",
              "      <td>0.6451</td>\n",
              "      <td>0.5206</td>\n",
              "      <td>0.9114</td>\n",
              "      <td>0.8069</td>\n",
              "      <td>NaN</td>\n",
              "      <td>1.6791</td>\n",
              "      <td>-1.9754</td>\n",
              "      <td>-1.0239</td>\n",
              "      <td>-3.8503</td>\n",
              "      <td>...</td>\n",
              "      <td>-1.0439</td>\n",
              "      <td>0.0704</td>\n",
              "      <td>-1.3588</td>\n",
              "      <td>1.4057</td>\n",
              "      <td>-1.2453</td>\n",
              "      <td>0.9163</td>\n",
              "      <td>-0.4675</td>\n",
              "      <td>-1.2802</td>\n",
              "      <td>-0.4957</td>\n",
              "      <td>-1.0151</td>\n",
              "    </tr>\n",
              "    <tr>\n",
              "      <th>TCGA-3C-AALK-01</th>\n",
              "      <td>-1.7608</td>\n",
              "      <td>0.6963</td>\n",
              "      <td>0.7910</td>\n",
              "      <td>0.7418</td>\n",
              "      <td>-0.4455</td>\n",
              "      <td>NaN</td>\n",
              "      <td>1.5817</td>\n",
              "      <td>-0.7379</td>\n",
              "      <td>-1.0239</td>\n",
              "      <td>-3.8503</td>\n",
              "      <td>...</td>\n",
              "      <td>-0.1270</td>\n",
              "      <td>-0.3346</td>\n",
              "      <td>-0.8902</td>\n",
              "      <td>0.8269</td>\n",
              "      <td>-0.8818</td>\n",
              "      <td>1.0020</td>\n",
              "      <td>-0.9299</td>\n",
              "      <td>-0.5286</td>\n",
              "      <td>-0.0672</td>\n",
              "      <td>-1.0151</td>\n",
              "    </tr>\n",
              "    <tr>\n",
              "      <th>TCGA-4H-AAAK-01</th>\n",
              "      <td>-1.7608</td>\n",
              "      <td>-0.0246</td>\n",
              "      <td>1.1891</td>\n",
              "      <td>-0.5522</td>\n",
              "      <td>-0.7821</td>\n",
              "      <td>NaN</td>\n",
              "      <td>0.5166</td>\n",
              "      <td>-0.7082</td>\n",
              "      <td>-1.0239</td>\n",
              "      <td>-3.8503</td>\n",
              "      <td>...</td>\n",
              "      <td>-0.3710</td>\n",
              "      <td>-0.3982</td>\n",
              "      <td>-0.1067</td>\n",
              "      <td>-1.4182</td>\n",
              "      <td>-0.2086</td>\n",
              "      <td>0.2990</td>\n",
              "      <td>-0.7752</td>\n",
              "      <td>0.0127</td>\n",
              "      <td>0.6400</td>\n",
              "      <td>-1.0151</td>\n",
              "    </tr>\n",
              "  </tbody>\n",
              "</table>\n",
              "<p>5 rows × 20502 columns</p>\n",
              "</div>\n",
              "    <div class=\"colab-df-buttons\">\n",
              "\n",
              "  <div class=\"colab-df-container\">\n",
              "    <button class=\"colab-df-convert\" onclick=\"convertToInteractive('df-bf29fb2a-1951-4a66-8d62-4cb736b7c094')\"\n",
              "            title=\"Convert this dataframe to an interactive table.\"\n",
              "            style=\"display:none;\">\n",
              "\n",
              "  <svg xmlns=\"http://www.w3.org/2000/svg\" height=\"24px\" viewBox=\"0 -960 960 960\">\n",
              "    <path d=\"M120-120v-720h720v720H120Zm60-500h600v-160H180v160Zm220 220h160v-160H400v160Zm0 220h160v-160H400v160ZM180-400h160v-160H180v160Zm440 0h160v-160H620v160ZM180-180h160v-160H180v160Zm440 0h160v-160H620v160Z\"/>\n",
              "  </svg>\n",
              "    </button>\n",
              "\n",
              "  <style>\n",
              "    .colab-df-container {\n",
              "      display:flex;\n",
              "      gap: 12px;\n",
              "    }\n",
              "\n",
              "    .colab-df-convert {\n",
              "      background-color: #E8F0FE;\n",
              "      border: none;\n",
              "      border-radius: 50%;\n",
              "      cursor: pointer;\n",
              "      display: none;\n",
              "      fill: #1967D2;\n",
              "      height: 32px;\n",
              "      padding: 0 0 0 0;\n",
              "      width: 32px;\n",
              "    }\n",
              "\n",
              "    .colab-df-convert:hover {\n",
              "      background-color: #E2EBFA;\n",
              "      box-shadow: 0px 1px 2px rgba(60, 64, 67, 0.3), 0px 1px 3px 1px rgba(60, 64, 67, 0.15);\n",
              "      fill: #174EA6;\n",
              "    }\n",
              "\n",
              "    .colab-df-buttons div {\n",
              "      margin-bottom: 4px;\n",
              "    }\n",
              "\n",
              "    [theme=dark] .colab-df-convert {\n",
              "      background-color: #3B4455;\n",
              "      fill: #D2E3FC;\n",
              "    }\n",
              "\n",
              "    [theme=dark] .colab-df-convert:hover {\n",
              "      background-color: #434B5C;\n",
              "      box-shadow: 0px 1px 3px 1px rgba(0, 0, 0, 0.15);\n",
              "      filter: drop-shadow(0px 1px 2px rgba(0, 0, 0, 0.3));\n",
              "      fill: #FFFFFF;\n",
              "    }\n",
              "  </style>\n",
              "\n",
              "    <script>\n",
              "      const buttonEl =\n",
              "        document.querySelector('#df-bf29fb2a-1951-4a66-8d62-4cb736b7c094 button.colab-df-convert');\n",
              "      buttonEl.style.display =\n",
              "        google.colab.kernel.accessAllowed ? 'block' : 'none';\n",
              "\n",
              "      async function convertToInteractive(key) {\n",
              "        const element = document.querySelector('#df-bf29fb2a-1951-4a66-8d62-4cb736b7c094');\n",
              "        const dataTable =\n",
              "          await google.colab.kernel.invokeFunction('convertToInteractive',\n",
              "                                                    [key], {});\n",
              "        if (!dataTable) return;\n",
              "\n",
              "        const docLinkHtml = 'Like what you see? Visit the ' +\n",
              "          '<a target=\"_blank\" href=https://colab.research.google.com/notebooks/data_table.ipynb>data table notebook</a>'\n",
              "          + ' to learn more about interactive tables.';\n",
              "        element.innerHTML = '';\n",
              "        dataTable['output_type'] = 'display_data';\n",
              "        await google.colab.output.renderOutput(dataTable, element);\n",
              "        const docLink = document.createElement('div');\n",
              "        docLink.innerHTML = docLinkHtml;\n",
              "        element.appendChild(docLink);\n",
              "      }\n",
              "    </script>\n",
              "  </div>\n",
              "\n",
              "\n",
              "<div id=\"df-a0ef6a2f-61a5-4a2d-ae08-f1bab6b40b76\">\n",
              "  <button class=\"colab-df-quickchart\" onclick=\"quickchart('df-a0ef6a2f-61a5-4a2d-ae08-f1bab6b40b76')\"\n",
              "            title=\"Suggest charts\"\n",
              "            style=\"display:none;\">\n",
              "\n",
              "<svg xmlns=\"http://www.w3.org/2000/svg\" height=\"24px\"viewBox=\"0 0 24 24\"\n",
              "     width=\"24px\">\n",
              "    <g>\n",
              "        <path d=\"M19 3H5c-1.1 0-2 .9-2 2v14c0 1.1.9 2 2 2h14c1.1 0 2-.9 2-2V5c0-1.1-.9-2-2-2zM9 17H7v-7h2v7zm4 0h-2V7h2v10zm4 0h-2v-4h2v4z\"/>\n",
              "    </g>\n",
              "</svg>\n",
              "  </button>\n",
              "\n",
              "<style>\n",
              "  .colab-df-quickchart {\n",
              "      --bg-color: #E8F0FE;\n",
              "      --fill-color: #1967D2;\n",
              "      --hover-bg-color: #E2EBFA;\n",
              "      --hover-fill-color: #174EA6;\n",
              "      --disabled-fill-color: #AAA;\n",
              "      --disabled-bg-color: #DDD;\n",
              "  }\n",
              "\n",
              "  [theme=dark] .colab-df-quickchart {\n",
              "      --bg-color: #3B4455;\n",
              "      --fill-color: #D2E3FC;\n",
              "      --hover-bg-color: #434B5C;\n",
              "      --hover-fill-color: #FFFFFF;\n",
              "      --disabled-bg-color: #3B4455;\n",
              "      --disabled-fill-color: #666;\n",
              "  }\n",
              "\n",
              "  .colab-df-quickchart {\n",
              "    background-color: var(--bg-color);\n",
              "    border: none;\n",
              "    border-radius: 50%;\n",
              "    cursor: pointer;\n",
              "    display: none;\n",
              "    fill: var(--fill-color);\n",
              "    height: 32px;\n",
              "    padding: 0;\n",
              "    width: 32px;\n",
              "  }\n",
              "\n",
              "  .colab-df-quickchart:hover {\n",
              "    background-color: var(--hover-bg-color);\n",
              "    box-shadow: 0 1px 2px rgba(60, 64, 67, 0.3), 0 1px 3px 1px rgba(60, 64, 67, 0.15);\n",
              "    fill: var(--button-hover-fill-color);\n",
              "  }\n",
              "\n",
              "  .colab-df-quickchart-complete:disabled,\n",
              "  .colab-df-quickchart-complete:disabled:hover {\n",
              "    background-color: var(--disabled-bg-color);\n",
              "    fill: var(--disabled-fill-color);\n",
              "    box-shadow: none;\n",
              "  }\n",
              "\n",
              "  .colab-df-spinner {\n",
              "    border: 2px solid var(--fill-color);\n",
              "    border-color: transparent;\n",
              "    border-bottom-color: var(--fill-color);\n",
              "    animation:\n",
              "      spin 1s steps(1) infinite;\n",
              "  }\n",
              "\n",
              "  @keyframes spin {\n",
              "    0% {\n",
              "      border-color: transparent;\n",
              "      border-bottom-color: var(--fill-color);\n",
              "      border-left-color: var(--fill-color);\n",
              "    }\n",
              "    20% {\n",
              "      border-color: transparent;\n",
              "      border-left-color: var(--fill-color);\n",
              "      border-top-color: var(--fill-color);\n",
              "    }\n",
              "    30% {\n",
              "      border-color: transparent;\n",
              "      border-left-color: var(--fill-color);\n",
              "      border-top-color: var(--fill-color);\n",
              "      border-right-color: var(--fill-color);\n",
              "    }\n",
              "    40% {\n",
              "      border-color: transparent;\n",
              "      border-right-color: var(--fill-color);\n",
              "      border-top-color: var(--fill-color);\n",
              "    }\n",
              "    60% {\n",
              "      border-color: transparent;\n",
              "      border-right-color: var(--fill-color);\n",
              "    }\n",
              "    80% {\n",
              "      border-color: transparent;\n",
              "      border-right-color: var(--fill-color);\n",
              "      border-bottom-color: var(--fill-color);\n",
              "    }\n",
              "    90% {\n",
              "      border-color: transparent;\n",
              "      border-bottom-color: var(--fill-color);\n",
              "    }\n",
              "  }\n",
              "</style>\n",
              "\n",
              "  <script>\n",
              "    async function quickchart(key) {\n",
              "      const quickchartButtonEl =\n",
              "        document.querySelector('#' + key + ' button');\n",
              "      quickchartButtonEl.disabled = true;  // To prevent multiple clicks.\n",
              "      quickchartButtonEl.classList.add('colab-df-spinner');\n",
              "      try {\n",
              "        const charts = await google.colab.kernel.invokeFunction(\n",
              "            'suggestCharts', [key], {});\n",
              "      } catch (error) {\n",
              "        console.error('Error during call to suggestCharts:', error);\n",
              "      }\n",
              "      quickchartButtonEl.classList.remove('colab-df-spinner');\n",
              "      quickchartButtonEl.classList.add('colab-df-quickchart-complete');\n",
              "    }\n",
              "    (() => {\n",
              "      let quickchartButtonEl =\n",
              "        document.querySelector('#df-a0ef6a2f-61a5-4a2d-ae08-f1bab6b40b76 button');\n",
              "      quickchartButtonEl.style.display =\n",
              "        google.colab.kernel.accessAllowed ? 'block' : 'none';\n",
              "    })();\n",
              "  </script>\n",
              "</div>\n",
              "\n",
              "    </div>\n",
              "  </div>\n"
            ]
          },
          "metadata": {},
          "execution_count": 13
        }
      ],
      "source": [
        "#Transpose dataframe such that each row=patient(observation), each col represents gene(feature)\n",
        "genes = genes.transpose()\n",
        "genes.head() #preview again"
      ]
    },
    {
      "cell_type": "code",
      "execution_count": null,
      "metadata": {
        "colab": {
          "base_uri": "https://localhost:8080/"
        },
        "id": "NaSEvQO99dAB",
        "outputId": "1254e579-9c09-49a8-86a9-08d73a717630"
      },
      "outputs": [
        {
          "output_type": "stream",
          "name": "stdout",
          "text": [
            "<class 'pandas.core.frame.DataFrame'>\n",
            "Index: 1100 entries, TCGA-3C-AAAU-01 to TCGA-Z7-A8R6-01\n",
            "Columns: 20502 entries, 100130426 to 389932\n",
            "dtypes: float64(20502)\n",
            "memory usage: 172.1+ MB\n"
          ]
        }
      ],
      "source": [
        "genes.info()"
      ]
    },
    {
      "cell_type": "markdown",
      "metadata": {
        "id": "dp_ykG7IqVEw"
      },
      "source": [
        "Clinical Dataset"
      ]
    },
    {
      "cell_type": "code",
      "execution_count": null,
      "metadata": {
        "colab": {
          "base_uri": "https://localhost:8080/",
          "height": 672
        },
        "id": "BhczKM5N91Sq",
        "outputId": "4de40c38-60bb-4da8-ffcd-86fc96f7017a"
      },
      "outputs": [
        {
          "output_type": "execute_result",
          "data": {
            "text/plain": [
              "    Study ID    Patient ID        Sample ID  Diagnosis Age  \\\n",
              "0  brca_tcga  TCGA-3C-AAAU  TCGA-3C-AAAU-01           55.0   \n",
              "1  brca_tcga  TCGA-3C-AALI  TCGA-3C-AALI-01           50.0   \n",
              "2  brca_tcga  TCGA-3C-AALJ  TCGA-3C-AALJ-01           62.0   \n",
              "3  brca_tcga  TCGA-3C-AALK  TCGA-3C-AALK-01           52.0   \n",
              "4  brca_tcga  TCGA-4H-AAAK  TCGA-4H-AAAK-01           50.0   \n",
              "\n",
              "  American Joint Committee on Cancer Metastasis Stage Code  \\\n",
              "0                                                 MX         \n",
              "1                                                 M0         \n",
              "2                                                 M0         \n",
              "3                                                 M0         \n",
              "4                                                 M0         \n",
              "\n",
              "  Neoplasm Disease Lymph Node Stage American Joint Committee on Cancer Code  \\\n",
              "0                                                 NX                          \n",
              "1                                                N1a                          \n",
              "2                                                N1a                          \n",
              "3                                            N0 (i+)                          \n",
              "4                                                N2a                          \n",
              "\n",
              "  Neoplasm Disease Stage American Joint Committee on Cancer Code  \\\n",
              "0                                            Stage X               \n",
              "1                                          Stage IIB               \n",
              "2                                          Stage IIB               \n",
              "3                                           Stage IA               \n",
              "4                                         Stage IIIA               \n",
              "\n",
              "  American Joint Committee on Cancer Publication Version Type  \\\n",
              "0                                                6th            \n",
              "1                                                6th            \n",
              "2                                                7th            \n",
              "3                                                7th            \n",
              "4                                                7th            \n",
              "\n",
              "  American Joint Committee on Cancer Tumor Stage Code  \\\n",
              "0                                                 TX    \n",
              "1                                                 T2    \n",
              "2                                                 T2    \n",
              "3                                                T1c    \n",
              "4                                                 T2    \n",
              "\n",
              "  Brachytherapy first reference point administered total dose  ...  \\\n",
              "0                                                NaN           ...   \n",
              "1                                                NaN           ...   \n",
              "2                                                NaN           ...   \n",
              "3                                                NaN           ...   \n",
              "4                                                NaN           ...   \n",
              "\n",
              "  Staging System.1 Surgery for positive margins  \\\n",
              "0              NaN                          NaN   \n",
              "1              NaN                          NaN   \n",
              "2              NaN                          NaN   \n",
              "3              NaN                          NaN   \n",
              "4              NaN                          NaN   \n",
              "\n",
              "  Surgery for positive margins other     Surgical procedure first  \\\n",
              "0                                NaN  Modified Radical Mastectomy   \n",
              "1                                NaN                   Lumpectomy   \n",
              "2                                NaN  Modified Radical Mastectomy   \n",
              "3                                NaN            Simple Mastectomy   \n",
              "4                                NaN  Modified Radical Mastectomy   \n",
              "\n",
              "   Time between clamping and freezing  Time between excision and freezing  \\\n",
              "0                                 NaN                                 NaN   \n",
              "1                                 NaN                                 NaN   \n",
              "2                                 NaN                                 NaN   \n",
              "3                                 NaN                                 NaN   \n",
              "4                                 NaN                                 NaN   \n",
              "\n",
              "   Tissue Source Site  TMB (nonsynonymous)  Person Neoplasm Status  \\\n",
              "0                  3C                  NaN              WITH TUMOR   \n",
              "1                  3C                  NaN              TUMOR FREE   \n",
              "2                  3C                  NaN              TUMOR FREE   \n",
              "3                  3C                  NaN              TUMOR FREE   \n",
              "4                  4H                  NaN              TUMOR FREE   \n",
              "\n",
              "   Vial number  \n",
              "0            A  \n",
              "1            A  \n",
              "2            A  \n",
              "3            A  \n",
              "4            A  \n",
              "\n",
              "[5 rows x 141 columns]"
            ],
            "text/html": [
              "\n",
              "  <div id=\"df-2871d19c-4d20-433c-aa51-1db8a9d71d14\" class=\"colab-df-container\">\n",
              "    <div>\n",
              "<style scoped>\n",
              "    .dataframe tbody tr th:only-of-type {\n",
              "        vertical-align: middle;\n",
              "    }\n",
              "\n",
              "    .dataframe tbody tr th {\n",
              "        vertical-align: top;\n",
              "    }\n",
              "\n",
              "    .dataframe thead th {\n",
              "        text-align: right;\n",
              "    }\n",
              "</style>\n",
              "<table border=\"1\" class=\"dataframe\">\n",
              "  <thead>\n",
              "    <tr style=\"text-align: right;\">\n",
              "      <th></th>\n",
              "      <th>Study ID</th>\n",
              "      <th>Patient ID</th>\n",
              "      <th>Sample ID</th>\n",
              "      <th>Diagnosis Age</th>\n",
              "      <th>American Joint Committee on Cancer Metastasis Stage Code</th>\n",
              "      <th>Neoplasm Disease Lymph Node Stage American Joint Committee on Cancer Code</th>\n",
              "      <th>Neoplasm Disease Stage American Joint Committee on Cancer Code</th>\n",
              "      <th>American Joint Committee on Cancer Publication Version Type</th>\n",
              "      <th>American Joint Committee on Cancer Tumor Stage Code</th>\n",
              "      <th>Brachytherapy first reference point administered total dose</th>\n",
              "      <th>...</th>\n",
              "      <th>Staging System.1</th>\n",
              "      <th>Surgery for positive margins</th>\n",
              "      <th>Surgery for positive margins other</th>\n",
              "      <th>Surgical procedure first</th>\n",
              "      <th>Time between clamping and freezing</th>\n",
              "      <th>Time between excision and freezing</th>\n",
              "      <th>Tissue Source Site</th>\n",
              "      <th>TMB (nonsynonymous)</th>\n",
              "      <th>Person Neoplasm Status</th>\n",
              "      <th>Vial number</th>\n",
              "    </tr>\n",
              "  </thead>\n",
              "  <tbody>\n",
              "    <tr>\n",
              "      <th>0</th>\n",
              "      <td>brca_tcga</td>\n",
              "      <td>TCGA-3C-AAAU</td>\n",
              "      <td>TCGA-3C-AAAU-01</td>\n",
              "      <td>55.0</td>\n",
              "      <td>MX</td>\n",
              "      <td>NX</td>\n",
              "      <td>Stage X</td>\n",
              "      <td>6th</td>\n",
              "      <td>TX</td>\n",
              "      <td>NaN</td>\n",
              "      <td>...</td>\n",
              "      <td>NaN</td>\n",
              "      <td>NaN</td>\n",
              "      <td>NaN</td>\n",
              "      <td>Modified Radical Mastectomy</td>\n",
              "      <td>NaN</td>\n",
              "      <td>NaN</td>\n",
              "      <td>3C</td>\n",
              "      <td>NaN</td>\n",
              "      <td>WITH TUMOR</td>\n",
              "      <td>A</td>\n",
              "    </tr>\n",
              "    <tr>\n",
              "      <th>1</th>\n",
              "      <td>brca_tcga</td>\n",
              "      <td>TCGA-3C-AALI</td>\n",
              "      <td>TCGA-3C-AALI-01</td>\n",
              "      <td>50.0</td>\n",
              "      <td>M0</td>\n",
              "      <td>N1a</td>\n",
              "      <td>Stage IIB</td>\n",
              "      <td>6th</td>\n",
              "      <td>T2</td>\n",
              "      <td>NaN</td>\n",
              "      <td>...</td>\n",
              "      <td>NaN</td>\n",
              "      <td>NaN</td>\n",
              "      <td>NaN</td>\n",
              "      <td>Lumpectomy</td>\n",
              "      <td>NaN</td>\n",
              "      <td>NaN</td>\n",
              "      <td>3C</td>\n",
              "      <td>NaN</td>\n",
              "      <td>TUMOR FREE</td>\n",
              "      <td>A</td>\n",
              "    </tr>\n",
              "    <tr>\n",
              "      <th>2</th>\n",
              "      <td>brca_tcga</td>\n",
              "      <td>TCGA-3C-AALJ</td>\n",
              "      <td>TCGA-3C-AALJ-01</td>\n",
              "      <td>62.0</td>\n",
              "      <td>M0</td>\n",
              "      <td>N1a</td>\n",
              "      <td>Stage IIB</td>\n",
              "      <td>7th</td>\n",
              "      <td>T2</td>\n",
              "      <td>NaN</td>\n",
              "      <td>...</td>\n",
              "      <td>NaN</td>\n",
              "      <td>NaN</td>\n",
              "      <td>NaN</td>\n",
              "      <td>Modified Radical Mastectomy</td>\n",
              "      <td>NaN</td>\n",
              "      <td>NaN</td>\n",
              "      <td>3C</td>\n",
              "      <td>NaN</td>\n",
              "      <td>TUMOR FREE</td>\n",
              "      <td>A</td>\n",
              "    </tr>\n",
              "    <tr>\n",
              "      <th>3</th>\n",
              "      <td>brca_tcga</td>\n",
              "      <td>TCGA-3C-AALK</td>\n",
              "      <td>TCGA-3C-AALK-01</td>\n",
              "      <td>52.0</td>\n",
              "      <td>M0</td>\n",
              "      <td>N0 (i+)</td>\n",
              "      <td>Stage IA</td>\n",
              "      <td>7th</td>\n",
              "      <td>T1c</td>\n",
              "      <td>NaN</td>\n",
              "      <td>...</td>\n",
              "      <td>NaN</td>\n",
              "      <td>NaN</td>\n",
              "      <td>NaN</td>\n",
              "      <td>Simple Mastectomy</td>\n",
              "      <td>NaN</td>\n",
              "      <td>NaN</td>\n",
              "      <td>3C</td>\n",
              "      <td>NaN</td>\n",
              "      <td>TUMOR FREE</td>\n",
              "      <td>A</td>\n",
              "    </tr>\n",
              "    <tr>\n",
              "      <th>4</th>\n",
              "      <td>brca_tcga</td>\n",
              "      <td>TCGA-4H-AAAK</td>\n",
              "      <td>TCGA-4H-AAAK-01</td>\n",
              "      <td>50.0</td>\n",
              "      <td>M0</td>\n",
              "      <td>N2a</td>\n",
              "      <td>Stage IIIA</td>\n",
              "      <td>7th</td>\n",
              "      <td>T2</td>\n",
              "      <td>NaN</td>\n",
              "      <td>...</td>\n",
              "      <td>NaN</td>\n",
              "      <td>NaN</td>\n",
              "      <td>NaN</td>\n",
              "      <td>Modified Radical Mastectomy</td>\n",
              "      <td>NaN</td>\n",
              "      <td>NaN</td>\n",
              "      <td>4H</td>\n",
              "      <td>NaN</td>\n",
              "      <td>TUMOR FREE</td>\n",
              "      <td>A</td>\n",
              "    </tr>\n",
              "  </tbody>\n",
              "</table>\n",
              "<p>5 rows × 141 columns</p>\n",
              "</div>\n",
              "    <div class=\"colab-df-buttons\">\n",
              "\n",
              "  <div class=\"colab-df-container\">\n",
              "    <button class=\"colab-df-convert\" onclick=\"convertToInteractive('df-2871d19c-4d20-433c-aa51-1db8a9d71d14')\"\n",
              "            title=\"Convert this dataframe to an interactive table.\"\n",
              "            style=\"display:none;\">\n",
              "\n",
              "  <svg xmlns=\"http://www.w3.org/2000/svg\" height=\"24px\" viewBox=\"0 -960 960 960\">\n",
              "    <path d=\"M120-120v-720h720v720H120Zm60-500h600v-160H180v160Zm220 220h160v-160H400v160Zm0 220h160v-160H400v160ZM180-400h160v-160H180v160Zm440 0h160v-160H620v160ZM180-180h160v-160H180v160Zm440 0h160v-160H620v160Z\"/>\n",
              "  </svg>\n",
              "    </button>\n",
              "\n",
              "  <style>\n",
              "    .colab-df-container {\n",
              "      display:flex;\n",
              "      gap: 12px;\n",
              "    }\n",
              "\n",
              "    .colab-df-convert {\n",
              "      background-color: #E8F0FE;\n",
              "      border: none;\n",
              "      border-radius: 50%;\n",
              "      cursor: pointer;\n",
              "      display: none;\n",
              "      fill: #1967D2;\n",
              "      height: 32px;\n",
              "      padding: 0 0 0 0;\n",
              "      width: 32px;\n",
              "    }\n",
              "\n",
              "    .colab-df-convert:hover {\n",
              "      background-color: #E2EBFA;\n",
              "      box-shadow: 0px 1px 2px rgba(60, 64, 67, 0.3), 0px 1px 3px 1px rgba(60, 64, 67, 0.15);\n",
              "      fill: #174EA6;\n",
              "    }\n",
              "\n",
              "    .colab-df-buttons div {\n",
              "      margin-bottom: 4px;\n",
              "    }\n",
              "\n",
              "    [theme=dark] .colab-df-convert {\n",
              "      background-color: #3B4455;\n",
              "      fill: #D2E3FC;\n",
              "    }\n",
              "\n",
              "    [theme=dark] .colab-df-convert:hover {\n",
              "      background-color: #434B5C;\n",
              "      box-shadow: 0px 1px 3px 1px rgba(0, 0, 0, 0.15);\n",
              "      filter: drop-shadow(0px 1px 2px rgba(0, 0, 0, 0.3));\n",
              "      fill: #FFFFFF;\n",
              "    }\n",
              "  </style>\n",
              "\n",
              "    <script>\n",
              "      const buttonEl =\n",
              "        document.querySelector('#df-2871d19c-4d20-433c-aa51-1db8a9d71d14 button.colab-df-convert');\n",
              "      buttonEl.style.display =\n",
              "        google.colab.kernel.accessAllowed ? 'block' : 'none';\n",
              "\n",
              "      async function convertToInteractive(key) {\n",
              "        const element = document.querySelector('#df-2871d19c-4d20-433c-aa51-1db8a9d71d14');\n",
              "        const dataTable =\n",
              "          await google.colab.kernel.invokeFunction('convertToInteractive',\n",
              "                                                    [key], {});\n",
              "        if (!dataTable) return;\n",
              "\n",
              "        const docLinkHtml = 'Like what you see? Visit the ' +\n",
              "          '<a target=\"_blank\" href=https://colab.research.google.com/notebooks/data_table.ipynb>data table notebook</a>'\n",
              "          + ' to learn more about interactive tables.';\n",
              "        element.innerHTML = '';\n",
              "        dataTable['output_type'] = 'display_data';\n",
              "        await google.colab.output.renderOutput(dataTable, element);\n",
              "        const docLink = document.createElement('div');\n",
              "        docLink.innerHTML = docLinkHtml;\n",
              "        element.appendChild(docLink);\n",
              "      }\n",
              "    </script>\n",
              "  </div>\n",
              "\n",
              "\n",
              "<div id=\"df-c9c9519b-a661-464d-87d9-2e57d4b0362b\">\n",
              "  <button class=\"colab-df-quickchart\" onclick=\"quickchart('df-c9c9519b-a661-464d-87d9-2e57d4b0362b')\"\n",
              "            title=\"Suggest charts\"\n",
              "            style=\"display:none;\">\n",
              "\n",
              "<svg xmlns=\"http://www.w3.org/2000/svg\" height=\"24px\"viewBox=\"0 0 24 24\"\n",
              "     width=\"24px\">\n",
              "    <g>\n",
              "        <path d=\"M19 3H5c-1.1 0-2 .9-2 2v14c0 1.1.9 2 2 2h14c1.1 0 2-.9 2-2V5c0-1.1-.9-2-2-2zM9 17H7v-7h2v7zm4 0h-2V7h2v10zm4 0h-2v-4h2v4z\"/>\n",
              "    </g>\n",
              "</svg>\n",
              "  </button>\n",
              "\n",
              "<style>\n",
              "  .colab-df-quickchart {\n",
              "      --bg-color: #E8F0FE;\n",
              "      --fill-color: #1967D2;\n",
              "      --hover-bg-color: #E2EBFA;\n",
              "      --hover-fill-color: #174EA6;\n",
              "      --disabled-fill-color: #AAA;\n",
              "      --disabled-bg-color: #DDD;\n",
              "  }\n",
              "\n",
              "  [theme=dark] .colab-df-quickchart {\n",
              "      --bg-color: #3B4455;\n",
              "      --fill-color: #D2E3FC;\n",
              "      --hover-bg-color: #434B5C;\n",
              "      --hover-fill-color: #FFFFFF;\n",
              "      --disabled-bg-color: #3B4455;\n",
              "      --disabled-fill-color: #666;\n",
              "  }\n",
              "\n",
              "  .colab-df-quickchart {\n",
              "    background-color: var(--bg-color);\n",
              "    border: none;\n",
              "    border-radius: 50%;\n",
              "    cursor: pointer;\n",
              "    display: none;\n",
              "    fill: var(--fill-color);\n",
              "    height: 32px;\n",
              "    padding: 0;\n",
              "    width: 32px;\n",
              "  }\n",
              "\n",
              "  .colab-df-quickchart:hover {\n",
              "    background-color: var(--hover-bg-color);\n",
              "    box-shadow: 0 1px 2px rgba(60, 64, 67, 0.3), 0 1px 3px 1px rgba(60, 64, 67, 0.15);\n",
              "    fill: var(--button-hover-fill-color);\n",
              "  }\n",
              "\n",
              "  .colab-df-quickchart-complete:disabled,\n",
              "  .colab-df-quickchart-complete:disabled:hover {\n",
              "    background-color: var(--disabled-bg-color);\n",
              "    fill: var(--disabled-fill-color);\n",
              "    box-shadow: none;\n",
              "  }\n",
              "\n",
              "  .colab-df-spinner {\n",
              "    border: 2px solid var(--fill-color);\n",
              "    border-color: transparent;\n",
              "    border-bottom-color: var(--fill-color);\n",
              "    animation:\n",
              "      spin 1s steps(1) infinite;\n",
              "  }\n",
              "\n",
              "  @keyframes spin {\n",
              "    0% {\n",
              "      border-color: transparent;\n",
              "      border-bottom-color: var(--fill-color);\n",
              "      border-left-color: var(--fill-color);\n",
              "    }\n",
              "    20% {\n",
              "      border-color: transparent;\n",
              "      border-left-color: var(--fill-color);\n",
              "      border-top-color: var(--fill-color);\n",
              "    }\n",
              "    30% {\n",
              "      border-color: transparent;\n",
              "      border-left-color: var(--fill-color);\n",
              "      border-top-color: var(--fill-color);\n",
              "      border-right-color: var(--fill-color);\n",
              "    }\n",
              "    40% {\n",
              "      border-color: transparent;\n",
              "      border-right-color: var(--fill-color);\n",
              "      border-top-color: var(--fill-color);\n",
              "    }\n",
              "    60% {\n",
              "      border-color: transparent;\n",
              "      border-right-color: var(--fill-color);\n",
              "    }\n",
              "    80% {\n",
              "      border-color: transparent;\n",
              "      border-right-color: var(--fill-color);\n",
              "      border-bottom-color: var(--fill-color);\n",
              "    }\n",
              "    90% {\n",
              "      border-color: transparent;\n",
              "      border-bottom-color: var(--fill-color);\n",
              "    }\n",
              "  }\n",
              "</style>\n",
              "\n",
              "  <script>\n",
              "    async function quickchart(key) {\n",
              "      const quickchartButtonEl =\n",
              "        document.querySelector('#' + key + ' button');\n",
              "      quickchartButtonEl.disabled = true;  // To prevent multiple clicks.\n",
              "      quickchartButtonEl.classList.add('colab-df-spinner');\n",
              "      try {\n",
              "        const charts = await google.colab.kernel.invokeFunction(\n",
              "            'suggestCharts', [key], {});\n",
              "      } catch (error) {\n",
              "        console.error('Error during call to suggestCharts:', error);\n",
              "      }\n",
              "      quickchartButtonEl.classList.remove('colab-df-spinner');\n",
              "      quickchartButtonEl.classList.add('colab-df-quickchart-complete');\n",
              "    }\n",
              "    (() => {\n",
              "      let quickchartButtonEl =\n",
              "        document.querySelector('#df-c9c9519b-a661-464d-87d9-2e57d4b0362b button');\n",
              "      quickchartButtonEl.style.display =\n",
              "        google.colab.kernel.accessAllowed ? 'block' : 'none';\n",
              "    })();\n",
              "  </script>\n",
              "</div>\n",
              "\n",
              "    </div>\n",
              "  </div>\n"
            ]
          },
          "metadata": {},
          "execution_count": 15
        }
      ],
      "source": [
        "clinical.head(5)"
      ]
    },
    {
      "cell_type": "code",
      "execution_count": null,
      "metadata": {
        "colab": {
          "base_uri": "https://localhost:8080/"
        },
        "id": "u2o2D-fc-A9Q",
        "outputId": "de781ab3-015c-469b-bec9-91d0e9036cd8"
      },
      "outputs": [
        {
          "output_type": "stream",
          "name": "stdout",
          "text": [
            "<class 'pandas.core.frame.DataFrame'>\n",
            "RangeIndex: 1108 entries, 0 to 1107\n",
            "Columns: 141 entries, Study ID to Vial number\n",
            "dtypes: float64(49), int64(2), object(90)\n",
            "memory usage: 1.2+ MB\n"
          ]
        }
      ],
      "source": [
        "#For both the datasets, we will match them with patient ID later for our analysis and prediction\n",
        "clinical.info()"
      ]
    },
    {
      "cell_type": "code",
      "execution_count": null,
      "metadata": {
        "colab": {
          "base_uri": "https://localhost:8080/",
          "height": 505
        },
        "id": "749qKo4T-O3D",
        "outputId": "c78ff8d3-f681-481c-862d-f9873fa4ffe0"
      },
      "outputs": [
        {
          "output_type": "execute_result",
          "data": {
            "text/plain": [
              "       Diagnosis Age  \\\n",
              "count    1103.000000   \n",
              "mean       58.355394   \n",
              "std        13.241396   \n",
              "min        26.000000   \n",
              "25%        49.000000   \n",
              "50%        58.000000   \n",
              "75%        67.000000   \n",
              "max        90.000000   \n",
              "\n",
              "       Neoplasm American Joint Committee on Cancer Clinical Group Stage  \\\n",
              "count                                                0.0                  \n",
              "mean                                                 NaN                  \n",
              "std                                                  NaN                  \n",
              "min                                                  NaN                  \n",
              "25%                                                  NaN                  \n",
              "50%                                                  NaN                  \n",
              "75%                                                  NaN                  \n",
              "max                                                  NaN                  \n",
              "\n",
              "       Neoplasm American Joint Committee on Cancer Clinical Distant Metastasis M Stage  \\\n",
              "count                                                0.0                                 \n",
              "mean                                                 NaN                                 \n",
              "std                                                  NaN                                 \n",
              "min                                                  NaN                                 \n",
              "25%                                                  NaN                                 \n",
              "50%                                                  NaN                                 \n",
              "75%                                                  NaN                                 \n",
              "max                                                  NaN                                 \n",
              "\n",
              "       Neoplasm American Joint Committee on Cancer Clinical Regional Lymph Node N Stage  \\\n",
              "count                                                0.0                                  \n",
              "mean                                                 NaN                                  \n",
              "std                                                  NaN                                  \n",
              "min                                                  NaN                                  \n",
              "25%                                                  NaN                                  \n",
              "50%                                                  NaN                                  \n",
              "75%                                                  NaN                                  \n",
              "max                                                  NaN                                  \n",
              "\n",
              "       Neoplasm American Joint Committee on Cancer Clinical Primary Tumor T Stage  \\\n",
              "count                                                0.0                            \n",
              "mean                                                 NaN                            \n",
              "std                                                  NaN                            \n",
              "min                                                  NaN                            \n",
              "25%                                                  NaN                            \n",
              "50%                                                  NaN                            \n",
              "75%                                                  NaN                            \n",
              "max                                                  NaN                            \n",
              "\n",
              "       Days to Sample Collection.  \\\n",
              "count                 1097.000000   \n",
              "mean                  1063.051960   \n",
              "std                   1443.312197   \n",
              "min                     16.000000   \n",
              "25%                    149.000000   \n",
              "50%                    447.000000   \n",
              "75%                   1372.000000   \n",
              "max                   7858.000000   \n",
              "\n",
              "       Last Alive Less Initial Pathologic Diagnosis Date Calculated Day Value  \\\n",
              "count                                             1103.0                        \n",
              "mean                                                 0.0                        \n",
              "std                                                  0.0                        \n",
              "min                                                  0.0                        \n",
              "25%                                                  0.0                        \n",
              "50%                                                  0.0                        \n",
              "75%                                                  0.0                        \n",
              "max                                                  0.0                        \n",
              "\n",
              "       days_to_patient_progression_free  Days to Sample Procurement  \\\n",
              "count                               0.0                         0.0   \n",
              "mean                                NaN                         NaN   \n",
              "std                                 NaN                         NaN   \n",
              "min                                 NaN                         NaN   \n",
              "25%                                 NaN                         NaN   \n",
              "50%                                 NaN                         NaN   \n",
              "75%                                 NaN                         NaN   \n",
              "max                                 NaN                         NaN   \n",
              "\n",
              "       days_to_tumor_progression  ...  Sample Initial Weight  Sample type id  \\\n",
              "count                        0.0  ...            1100.000000     1108.000000   \n",
              "mean                         NaN  ...             300.002727        1.031588   \n",
              "std                          NaN  ...             263.544104        0.396341   \n",
              "min                          NaN  ...               5.000000        1.000000   \n",
              "25%                          NaN  ...             130.000000        1.000000   \n",
              "50%                          NaN  ...             210.000000        1.000000   \n",
              "75%                          NaN  ...             370.000000        1.000000   \n",
              "max                          NaN  ...            2190.000000        6.000000   \n",
              "\n",
              "       Shortest Dimension  Specimen Current Weight  Specimen Freezing Means  \\\n",
              "count                 0.0                      0.0                      0.0   \n",
              "mean                  NaN                      NaN                      NaN   \n",
              "std                   NaN                      NaN                      NaN   \n",
              "min                   NaN                      NaN                      NaN   \n",
              "25%                   NaN                      NaN                      NaN   \n",
              "50%                   NaN                      NaN                      NaN   \n",
              "75%                   NaN                      NaN                      NaN   \n",
              "max                   NaN                      NaN                      NaN   \n",
              "\n",
              "       Specimen Second Longest Dimension  Stage Other  \\\n",
              "count                                0.0          0.0   \n",
              "mean                                 NaN          NaN   \n",
              "std                                  NaN          NaN   \n",
              "min                                  NaN          NaN   \n",
              "25%                                  NaN          NaN   \n",
              "50%                                  NaN          NaN   \n",
              "75%                                  NaN          NaN   \n",
              "max                                  NaN          NaN   \n",
              "\n",
              "       Time between clamping and freezing  Time between excision and freezing  \\\n",
              "count                                 0.0                                 0.0   \n",
              "mean                                  NaN                                 NaN   \n",
              "std                                   NaN                                 NaN   \n",
              "min                                   NaN                                 NaN   \n",
              "25%                                   NaN                                 NaN   \n",
              "50%                                   NaN                                 NaN   \n",
              "75%                                   NaN                                 NaN   \n",
              "max                                   NaN                                 NaN   \n",
              "\n",
              "       TMB (nonsynonymous)  \n",
              "count           982.000000  \n",
              "mean              2.213476  \n",
              "std               7.097823  \n",
              "min               0.033333  \n",
              "25%               0.666667  \n",
              "50%               1.066667  \n",
              "75%               1.900000  \n",
              "max             147.100000  \n",
              "\n",
              "[8 rows x 51 columns]"
            ],
            "text/html": [
              "\n",
              "  <div id=\"df-bc98c538-a681-49f0-b073-b50e1c37c2a7\" class=\"colab-df-container\">\n",
              "    <div>\n",
              "<style scoped>\n",
              "    .dataframe tbody tr th:only-of-type {\n",
              "        vertical-align: middle;\n",
              "    }\n",
              "\n",
              "    .dataframe tbody tr th {\n",
              "        vertical-align: top;\n",
              "    }\n",
              "\n",
              "    .dataframe thead th {\n",
              "        text-align: right;\n",
              "    }\n",
              "</style>\n",
              "<table border=\"1\" class=\"dataframe\">\n",
              "  <thead>\n",
              "    <tr style=\"text-align: right;\">\n",
              "      <th></th>\n",
              "      <th>Diagnosis Age</th>\n",
              "      <th>Neoplasm American Joint Committee on Cancer Clinical Group Stage</th>\n",
              "      <th>Neoplasm American Joint Committee on Cancer Clinical Distant Metastasis M Stage</th>\n",
              "      <th>Neoplasm American Joint Committee on Cancer Clinical Regional Lymph Node N Stage</th>\n",
              "      <th>Neoplasm American Joint Committee on Cancer Clinical Primary Tumor T Stage</th>\n",
              "      <th>Days to Sample Collection.</th>\n",
              "      <th>Last Alive Less Initial Pathologic Diagnosis Date Calculated Day Value</th>\n",
              "      <th>days_to_patient_progression_free</th>\n",
              "      <th>Days to Sample Procurement</th>\n",
              "      <th>days_to_tumor_progression</th>\n",
              "      <th>...</th>\n",
              "      <th>Sample Initial Weight</th>\n",
              "      <th>Sample type id</th>\n",
              "      <th>Shortest Dimension</th>\n",
              "      <th>Specimen Current Weight</th>\n",
              "      <th>Specimen Freezing Means</th>\n",
              "      <th>Specimen Second Longest Dimension</th>\n",
              "      <th>Stage Other</th>\n",
              "      <th>Time between clamping and freezing</th>\n",
              "      <th>Time between excision and freezing</th>\n",
              "      <th>TMB (nonsynonymous)</th>\n",
              "    </tr>\n",
              "  </thead>\n",
              "  <tbody>\n",
              "    <tr>\n",
              "      <th>count</th>\n",
              "      <td>1103.000000</td>\n",
              "      <td>0.0</td>\n",
              "      <td>0.0</td>\n",
              "      <td>0.0</td>\n",
              "      <td>0.0</td>\n",
              "      <td>1097.000000</td>\n",
              "      <td>1103.0</td>\n",
              "      <td>0.0</td>\n",
              "      <td>0.0</td>\n",
              "      <td>0.0</td>\n",
              "      <td>...</td>\n",
              "      <td>1100.000000</td>\n",
              "      <td>1108.000000</td>\n",
              "      <td>0.0</td>\n",
              "      <td>0.0</td>\n",
              "      <td>0.0</td>\n",
              "      <td>0.0</td>\n",
              "      <td>0.0</td>\n",
              "      <td>0.0</td>\n",
              "      <td>0.0</td>\n",
              "      <td>982.000000</td>\n",
              "    </tr>\n",
              "    <tr>\n",
              "      <th>mean</th>\n",
              "      <td>58.355394</td>\n",
              "      <td>NaN</td>\n",
              "      <td>NaN</td>\n",
              "      <td>NaN</td>\n",
              "      <td>NaN</td>\n",
              "      <td>1063.051960</td>\n",
              "      <td>0.0</td>\n",
              "      <td>NaN</td>\n",
              "      <td>NaN</td>\n",
              "      <td>NaN</td>\n",
              "      <td>...</td>\n",
              "      <td>300.002727</td>\n",
              "      <td>1.031588</td>\n",
              "      <td>NaN</td>\n",
              "      <td>NaN</td>\n",
              "      <td>NaN</td>\n",
              "      <td>NaN</td>\n",
              "      <td>NaN</td>\n",
              "      <td>NaN</td>\n",
              "      <td>NaN</td>\n",
              "      <td>2.213476</td>\n",
              "    </tr>\n",
              "    <tr>\n",
              "      <th>std</th>\n",
              "      <td>13.241396</td>\n",
              "      <td>NaN</td>\n",
              "      <td>NaN</td>\n",
              "      <td>NaN</td>\n",
              "      <td>NaN</td>\n",
              "      <td>1443.312197</td>\n",
              "      <td>0.0</td>\n",
              "      <td>NaN</td>\n",
              "      <td>NaN</td>\n",
              "      <td>NaN</td>\n",
              "      <td>...</td>\n",
              "      <td>263.544104</td>\n",
              "      <td>0.396341</td>\n",
              "      <td>NaN</td>\n",
              "      <td>NaN</td>\n",
              "      <td>NaN</td>\n",
              "      <td>NaN</td>\n",
              "      <td>NaN</td>\n",
              "      <td>NaN</td>\n",
              "      <td>NaN</td>\n",
              "      <td>7.097823</td>\n",
              "    </tr>\n",
              "    <tr>\n",
              "      <th>min</th>\n",
              "      <td>26.000000</td>\n",
              "      <td>NaN</td>\n",
              "      <td>NaN</td>\n",
              "      <td>NaN</td>\n",
              "      <td>NaN</td>\n",
              "      <td>16.000000</td>\n",
              "      <td>0.0</td>\n",
              "      <td>NaN</td>\n",
              "      <td>NaN</td>\n",
              "      <td>NaN</td>\n",
              "      <td>...</td>\n",
              "      <td>5.000000</td>\n",
              "      <td>1.000000</td>\n",
              "      <td>NaN</td>\n",
              "      <td>NaN</td>\n",
              "      <td>NaN</td>\n",
              "      <td>NaN</td>\n",
              "      <td>NaN</td>\n",
              "      <td>NaN</td>\n",
              "      <td>NaN</td>\n",
              "      <td>0.033333</td>\n",
              "    </tr>\n",
              "    <tr>\n",
              "      <th>25%</th>\n",
              "      <td>49.000000</td>\n",
              "      <td>NaN</td>\n",
              "      <td>NaN</td>\n",
              "      <td>NaN</td>\n",
              "      <td>NaN</td>\n",
              "      <td>149.000000</td>\n",
              "      <td>0.0</td>\n",
              "      <td>NaN</td>\n",
              "      <td>NaN</td>\n",
              "      <td>NaN</td>\n",
              "      <td>...</td>\n",
              "      <td>130.000000</td>\n",
              "      <td>1.000000</td>\n",
              "      <td>NaN</td>\n",
              "      <td>NaN</td>\n",
              "      <td>NaN</td>\n",
              "      <td>NaN</td>\n",
              "      <td>NaN</td>\n",
              "      <td>NaN</td>\n",
              "      <td>NaN</td>\n",
              "      <td>0.666667</td>\n",
              "    </tr>\n",
              "    <tr>\n",
              "      <th>50%</th>\n",
              "      <td>58.000000</td>\n",
              "      <td>NaN</td>\n",
              "      <td>NaN</td>\n",
              "      <td>NaN</td>\n",
              "      <td>NaN</td>\n",
              "      <td>447.000000</td>\n",
              "      <td>0.0</td>\n",
              "      <td>NaN</td>\n",
              "      <td>NaN</td>\n",
              "      <td>NaN</td>\n",
              "      <td>...</td>\n",
              "      <td>210.000000</td>\n",
              "      <td>1.000000</td>\n",
              "      <td>NaN</td>\n",
              "      <td>NaN</td>\n",
              "      <td>NaN</td>\n",
              "      <td>NaN</td>\n",
              "      <td>NaN</td>\n",
              "      <td>NaN</td>\n",
              "      <td>NaN</td>\n",
              "      <td>1.066667</td>\n",
              "    </tr>\n",
              "    <tr>\n",
              "      <th>75%</th>\n",
              "      <td>67.000000</td>\n",
              "      <td>NaN</td>\n",
              "      <td>NaN</td>\n",
              "      <td>NaN</td>\n",
              "      <td>NaN</td>\n",
              "      <td>1372.000000</td>\n",
              "      <td>0.0</td>\n",
              "      <td>NaN</td>\n",
              "      <td>NaN</td>\n",
              "      <td>NaN</td>\n",
              "      <td>...</td>\n",
              "      <td>370.000000</td>\n",
              "      <td>1.000000</td>\n",
              "      <td>NaN</td>\n",
              "      <td>NaN</td>\n",
              "      <td>NaN</td>\n",
              "      <td>NaN</td>\n",
              "      <td>NaN</td>\n",
              "      <td>NaN</td>\n",
              "      <td>NaN</td>\n",
              "      <td>1.900000</td>\n",
              "    </tr>\n",
              "    <tr>\n",
              "      <th>max</th>\n",
              "      <td>90.000000</td>\n",
              "      <td>NaN</td>\n",
              "      <td>NaN</td>\n",
              "      <td>NaN</td>\n",
              "      <td>NaN</td>\n",
              "      <td>7858.000000</td>\n",
              "      <td>0.0</td>\n",
              "      <td>NaN</td>\n",
              "      <td>NaN</td>\n",
              "      <td>NaN</td>\n",
              "      <td>...</td>\n",
              "      <td>2190.000000</td>\n",
              "      <td>6.000000</td>\n",
              "      <td>NaN</td>\n",
              "      <td>NaN</td>\n",
              "      <td>NaN</td>\n",
              "      <td>NaN</td>\n",
              "      <td>NaN</td>\n",
              "      <td>NaN</td>\n",
              "      <td>NaN</td>\n",
              "      <td>147.100000</td>\n",
              "    </tr>\n",
              "  </tbody>\n",
              "</table>\n",
              "<p>8 rows × 51 columns</p>\n",
              "</div>\n",
              "    <div class=\"colab-df-buttons\">\n",
              "\n",
              "  <div class=\"colab-df-container\">\n",
              "    <button class=\"colab-df-convert\" onclick=\"convertToInteractive('df-bc98c538-a681-49f0-b073-b50e1c37c2a7')\"\n",
              "            title=\"Convert this dataframe to an interactive table.\"\n",
              "            style=\"display:none;\">\n",
              "\n",
              "  <svg xmlns=\"http://www.w3.org/2000/svg\" height=\"24px\" viewBox=\"0 -960 960 960\">\n",
              "    <path d=\"M120-120v-720h720v720H120Zm60-500h600v-160H180v160Zm220 220h160v-160H400v160Zm0 220h160v-160H400v160ZM180-400h160v-160H180v160Zm440 0h160v-160H620v160ZM180-180h160v-160H180v160Zm440 0h160v-160H620v160Z\"/>\n",
              "  </svg>\n",
              "    </button>\n",
              "\n",
              "  <style>\n",
              "    .colab-df-container {\n",
              "      display:flex;\n",
              "      gap: 12px;\n",
              "    }\n",
              "\n",
              "    .colab-df-convert {\n",
              "      background-color: #E8F0FE;\n",
              "      border: none;\n",
              "      border-radius: 50%;\n",
              "      cursor: pointer;\n",
              "      display: none;\n",
              "      fill: #1967D2;\n",
              "      height: 32px;\n",
              "      padding: 0 0 0 0;\n",
              "      width: 32px;\n",
              "    }\n",
              "\n",
              "    .colab-df-convert:hover {\n",
              "      background-color: #E2EBFA;\n",
              "      box-shadow: 0px 1px 2px rgba(60, 64, 67, 0.3), 0px 1px 3px 1px rgba(60, 64, 67, 0.15);\n",
              "      fill: #174EA6;\n",
              "    }\n",
              "\n",
              "    .colab-df-buttons div {\n",
              "      margin-bottom: 4px;\n",
              "    }\n",
              "\n",
              "    [theme=dark] .colab-df-convert {\n",
              "      background-color: #3B4455;\n",
              "      fill: #D2E3FC;\n",
              "    }\n",
              "\n",
              "    [theme=dark] .colab-df-convert:hover {\n",
              "      background-color: #434B5C;\n",
              "      box-shadow: 0px 1px 3px 1px rgba(0, 0, 0, 0.15);\n",
              "      filter: drop-shadow(0px 1px 2px rgba(0, 0, 0, 0.3));\n",
              "      fill: #FFFFFF;\n",
              "    }\n",
              "  </style>\n",
              "\n",
              "    <script>\n",
              "      const buttonEl =\n",
              "        document.querySelector('#df-bc98c538-a681-49f0-b073-b50e1c37c2a7 button.colab-df-convert');\n",
              "      buttonEl.style.display =\n",
              "        google.colab.kernel.accessAllowed ? 'block' : 'none';\n",
              "\n",
              "      async function convertToInteractive(key) {\n",
              "        const element = document.querySelector('#df-bc98c538-a681-49f0-b073-b50e1c37c2a7');\n",
              "        const dataTable =\n",
              "          await google.colab.kernel.invokeFunction('convertToInteractive',\n",
              "                                                    [key], {});\n",
              "        if (!dataTable) return;\n",
              "\n",
              "        const docLinkHtml = 'Like what you see? Visit the ' +\n",
              "          '<a target=\"_blank\" href=https://colab.research.google.com/notebooks/data_table.ipynb>data table notebook</a>'\n",
              "          + ' to learn more about interactive tables.';\n",
              "        element.innerHTML = '';\n",
              "        dataTable['output_type'] = 'display_data';\n",
              "        await google.colab.output.renderOutput(dataTable, element);\n",
              "        const docLink = document.createElement('div');\n",
              "        docLink.innerHTML = docLinkHtml;\n",
              "        element.appendChild(docLink);\n",
              "      }\n",
              "    </script>\n",
              "  </div>\n",
              "\n",
              "\n",
              "<div id=\"df-9ba4baa9-4a77-4ffc-917f-b000d0f23247\">\n",
              "  <button class=\"colab-df-quickchart\" onclick=\"quickchart('df-9ba4baa9-4a77-4ffc-917f-b000d0f23247')\"\n",
              "            title=\"Suggest charts\"\n",
              "            style=\"display:none;\">\n",
              "\n",
              "<svg xmlns=\"http://www.w3.org/2000/svg\" height=\"24px\"viewBox=\"0 0 24 24\"\n",
              "     width=\"24px\">\n",
              "    <g>\n",
              "        <path d=\"M19 3H5c-1.1 0-2 .9-2 2v14c0 1.1.9 2 2 2h14c1.1 0 2-.9 2-2V5c0-1.1-.9-2-2-2zM9 17H7v-7h2v7zm4 0h-2V7h2v10zm4 0h-2v-4h2v4z\"/>\n",
              "    </g>\n",
              "</svg>\n",
              "  </button>\n",
              "\n",
              "<style>\n",
              "  .colab-df-quickchart {\n",
              "      --bg-color: #E8F0FE;\n",
              "      --fill-color: #1967D2;\n",
              "      --hover-bg-color: #E2EBFA;\n",
              "      --hover-fill-color: #174EA6;\n",
              "      --disabled-fill-color: #AAA;\n",
              "      --disabled-bg-color: #DDD;\n",
              "  }\n",
              "\n",
              "  [theme=dark] .colab-df-quickchart {\n",
              "      --bg-color: #3B4455;\n",
              "      --fill-color: #D2E3FC;\n",
              "      --hover-bg-color: #434B5C;\n",
              "      --hover-fill-color: #FFFFFF;\n",
              "      --disabled-bg-color: #3B4455;\n",
              "      --disabled-fill-color: #666;\n",
              "  }\n",
              "\n",
              "  .colab-df-quickchart {\n",
              "    background-color: var(--bg-color);\n",
              "    border: none;\n",
              "    border-radius: 50%;\n",
              "    cursor: pointer;\n",
              "    display: none;\n",
              "    fill: var(--fill-color);\n",
              "    height: 32px;\n",
              "    padding: 0;\n",
              "    width: 32px;\n",
              "  }\n",
              "\n",
              "  .colab-df-quickchart:hover {\n",
              "    background-color: var(--hover-bg-color);\n",
              "    box-shadow: 0 1px 2px rgba(60, 64, 67, 0.3), 0 1px 3px 1px rgba(60, 64, 67, 0.15);\n",
              "    fill: var(--button-hover-fill-color);\n",
              "  }\n",
              "\n",
              "  .colab-df-quickchart-complete:disabled,\n",
              "  .colab-df-quickchart-complete:disabled:hover {\n",
              "    background-color: var(--disabled-bg-color);\n",
              "    fill: var(--disabled-fill-color);\n",
              "    box-shadow: none;\n",
              "  }\n",
              "\n",
              "  .colab-df-spinner {\n",
              "    border: 2px solid var(--fill-color);\n",
              "    border-color: transparent;\n",
              "    border-bottom-color: var(--fill-color);\n",
              "    animation:\n",
              "      spin 1s steps(1) infinite;\n",
              "  }\n",
              "\n",
              "  @keyframes spin {\n",
              "    0% {\n",
              "      border-color: transparent;\n",
              "      border-bottom-color: var(--fill-color);\n",
              "      border-left-color: var(--fill-color);\n",
              "    }\n",
              "    20% {\n",
              "      border-color: transparent;\n",
              "      border-left-color: var(--fill-color);\n",
              "      border-top-color: var(--fill-color);\n",
              "    }\n",
              "    30% {\n",
              "      border-color: transparent;\n",
              "      border-left-color: var(--fill-color);\n",
              "      border-top-color: var(--fill-color);\n",
              "      border-right-color: var(--fill-color);\n",
              "    }\n",
              "    40% {\n",
              "      border-color: transparent;\n",
              "      border-right-color: var(--fill-color);\n",
              "      border-top-color: var(--fill-color);\n",
              "    }\n",
              "    60% {\n",
              "      border-color: transparent;\n",
              "      border-right-color: var(--fill-color);\n",
              "    }\n",
              "    80% {\n",
              "      border-color: transparent;\n",
              "      border-right-color: var(--fill-color);\n",
              "      border-bottom-color: var(--fill-color);\n",
              "    }\n",
              "    90% {\n",
              "      border-color: transparent;\n",
              "      border-bottom-color: var(--fill-color);\n",
              "    }\n",
              "  }\n",
              "</style>\n",
              "\n",
              "  <script>\n",
              "    async function quickchart(key) {\n",
              "      const quickchartButtonEl =\n",
              "        document.querySelector('#' + key + ' button');\n",
              "      quickchartButtonEl.disabled = true;  // To prevent multiple clicks.\n",
              "      quickchartButtonEl.classList.add('colab-df-spinner');\n",
              "      try {\n",
              "        const charts = await google.colab.kernel.invokeFunction(\n",
              "            'suggestCharts', [key], {});\n",
              "      } catch (error) {\n",
              "        console.error('Error during call to suggestCharts:', error);\n",
              "      }\n",
              "      quickchartButtonEl.classList.remove('colab-df-spinner');\n",
              "      quickchartButtonEl.classList.add('colab-df-quickchart-complete');\n",
              "    }\n",
              "    (() => {\n",
              "      let quickchartButtonEl =\n",
              "        document.querySelector('#df-9ba4baa9-4a77-4ffc-917f-b000d0f23247 button');\n",
              "      quickchartButtonEl.style.display =\n",
              "        google.colab.kernel.accessAllowed ? 'block' : 'none';\n",
              "    })();\n",
              "  </script>\n",
              "</div>\n",
              "\n",
              "    </div>\n",
              "  </div>\n"
            ]
          },
          "metadata": {},
          "execution_count": 17
        }
      ],
      "source": [
        "clinical.describe()"
      ]
    },
    {
      "cell_type": "code",
      "execution_count": null,
      "metadata": {
        "colab": {
          "base_uri": "https://localhost:8080/"
        },
        "id": "CbxPTe8f-V77",
        "outputId": "6e2050f7-be82-4a8d-e1c5-535b37c99439"
      },
      "outputs": [
        {
          "output_type": "execute_result",
          "data": {
            "text/plain": [
              "Study ID                                                     object\n",
              "Patient ID                                                   object\n",
              "Sample ID                                                    object\n",
              "Diagnosis Age                                               float64\n",
              "American Joint Committee on Cancer Metastasis Stage Code     object\n",
              "                                                             ...   \n",
              "Time between excision and freezing                          float64\n",
              "Tissue Source Site                                           object\n",
              "TMB (nonsynonymous)                                         float64\n",
              "Person Neoplasm Status                                       object\n",
              "Vial number                                                  object\n",
              "Length: 141, dtype: object"
            ]
          },
          "metadata": {},
          "execution_count": 18
        }
      ],
      "source": [
        "clinical.dtypes"
      ]
    },
    {
      "cell_type": "code",
      "execution_count": null,
      "metadata": {
        "colab": {
          "base_uri": "https://localhost:8080/"
        },
        "id": "gQfxaubL-ZSX",
        "outputId": "69c1ff65-2dd8-4b4a-832e-0de7aac9d7f6"
      },
      "outputs": [
        {
          "output_type": "execute_result",
          "data": {
            "text/plain": [
              "(1108, 141)"
            ]
          },
          "metadata": {},
          "execution_count": 19
        }
      ],
      "source": [
        "clinical.shape"
      ]
    },
    {
      "cell_type": "code",
      "execution_count": null,
      "metadata": {
        "colab": {
          "base_uri": "https://localhost:8080/"
        },
        "id": "tPMhOaM_-b13",
        "outputId": "5a22e939-c1d2-4527-9a31-1da0e05a95cf"
      },
      "outputs": [
        {
          "output_type": "execute_result",
          "data": {
            "text/plain": [
              "Index(['Study ID', 'Patient ID', 'Sample ID', 'Diagnosis Age',\n",
              "       'American Joint Committee on Cancer Metastasis Stage Code',\n",
              "       'Neoplasm Disease Lymph Node Stage American Joint Committee on Cancer Code',\n",
              "       'Neoplasm Disease Stage American Joint Committee on Cancer Code',\n",
              "       'American Joint Committee on Cancer Publication Version Type',\n",
              "       'American Joint Committee on Cancer Tumor Stage Code',\n",
              "       'Brachytherapy first reference point administered total dose',\n",
              "       ...\n",
              "       'Staging System.1', 'Surgery for positive margins',\n",
              "       'Surgery for positive margins other', 'Surgical procedure first',\n",
              "       'Time between clamping and freezing',\n",
              "       'Time between excision and freezing', 'Tissue Source Site',\n",
              "       'TMB (nonsynonymous)', 'Person Neoplasm Status', 'Vial number'],\n",
              "      dtype='object', length=141)"
            ]
          },
          "metadata": {},
          "execution_count": 20
        }
      ],
      "source": [
        "clinical.columns"
      ]
    },
    {
      "cell_type": "markdown",
      "metadata": {
        "id": "-dc5-6wKXtWm"
      },
      "source": [
        "Categorising features"
      ]
    },
    {
      "cell_type": "code",
      "execution_count": null,
      "metadata": {
        "colab": {
          "base_uri": "https://localhost:8080/"
        },
        "id": "kZvllQIfXrjj",
        "outputId": "6109e680-86dc-459e-922b-b35bbb7c85c4"
      },
      "outputs": [
        {
          "output_type": "stream",
          "name": "stdout",
          "text": [
            "There are 51  numerical features in the clinical dataset\n",
            "Diagnosis Age\n",
            "Neoplasm American Joint Committee on Cancer Clinical Group Stage\n",
            "Neoplasm American Joint Committee on Cancer Clinical Distant Metastasis M Stage\n",
            "Neoplasm American Joint Committee on Cancer Clinical Regional Lymph Node N Stage\n",
            "Neoplasm American Joint Committee on Cancer Clinical Primary Tumor T Stage\n",
            "Days to Sample Collection.\n",
            "Last Alive Less Initial Pathologic Diagnosis Date Calculated Day Value\n",
            "days_to_patient_progression_free\n",
            "Days to Sample Procurement\n",
            "days_to_tumor_progression\n",
            "Disease Free (Months)\n",
            "Lymphomatous Extranodal Site Involvement Indicator\n",
            "Fraction Genome Altered\n",
            "HER2 and cent17 cells count\n",
            "HER2 cent17 counted cells count\n",
            "HER2 cent17 ratio\n",
            "HER2 ihc score\n",
            "IHC Score\n",
            "Year Cancer Initial Diagnosis\n",
            "Longest Dimension\n",
            "Positive Finding Lymph Node Hematoxylin and Eosin Staining Microscopy Count\n",
            "Positive Finding Lymph Node Keratin Immunohistochemistry Staining Method Count\n",
            "Lymph Node(s) Examined Number\n",
            "First Pathologic Diagnosis Biospecimen Acquisition Method Type.1\n",
            "Mutation Count\n",
            "Nte cent17 HER2 other scale\n",
            "Nte cent 17 HER2 ratio\n",
            "Nte cent 17 signal number\n",
            "Nte er positivity define method\n",
            "Nte er positivity other scale\n",
            "Nte HER2 fish define method\n",
            "Nte HER2 positivity method\n",
            "Nte HER2 positivity other scale\n",
            "Nte HER2 signal number\n",
            "Nte pr ihc intensity score\n",
            "Nte pr positivity define method\n",
            "Nte pr positivity other scale\n",
            "Overall Survival (Months)\n",
            "Specimen Collection Method\n",
            "Primary Other Site of Disease Name\n",
            "Number of Samples Per Patient\n",
            "Sample Initial Weight\n",
            "Sample type id\n",
            "Shortest Dimension\n",
            "Specimen Current Weight\n",
            "Specimen Freezing Means\n",
            "Specimen Second Longest Dimension\n",
            "Stage Other\n",
            "Time between clamping and freezing\n",
            "Time between excision and freezing\n",
            "TMB (nonsynonymous)\n"
          ]
        }
      ],
      "source": [
        "#numerical features\n",
        "num_ft = [ft for ft in clinical.columns if clinical[ft].dtypes!=\"O\"]\n",
        "print(\"There are\",len(num_ft), \" numerical features in the clinical dataset\" )\n",
        "for ft in num_ft:\n",
        "  print(ft)"
      ]
    },
    {
      "cell_type": "code",
      "execution_count": null,
      "metadata": {
        "colab": {
          "base_uri": "https://localhost:8080/"
        },
        "id": "6InNcmuRZCOZ",
        "outputId": "4f25e4cd-11cf-4a97-c624-7bbee99633dc"
      },
      "outputs": [
        {
          "output_type": "stream",
          "name": "stdout",
          "text": [
            "There are 2  discrete features in the clinical dataset\n",
            "Number of Samples Per Patient\n",
            "Sample type id\n"
          ]
        }
      ],
      "source": [
        "#discrete features\n",
        "dis_ft = [ft for ft in clinical.columns if ft in num_ft and clinical[ft].unique().sum()<25]\n",
        "print(\"There are\",len(dis_ft), \" discrete features in the clinical dataset\" )\n",
        "for ft in dis_ft:\n",
        "  print(ft)"
      ]
    },
    {
      "cell_type": "code",
      "execution_count": null,
      "metadata": {
        "colab": {
          "base_uri": "https://localhost:8080/"
        },
        "id": "nef7sdsaZWoA",
        "outputId": "a1e4a2da-078c-4d6c-9c33-7002605a0537"
      },
      "outputs": [
        {
          "output_type": "stream",
          "name": "stdout",
          "text": [
            "There are 49  continuous features in the clinical dataset\n",
            "Diagnosis Age\n",
            "Neoplasm American Joint Committee on Cancer Clinical Group Stage\n",
            "Neoplasm American Joint Committee on Cancer Clinical Distant Metastasis M Stage\n",
            "Neoplasm American Joint Committee on Cancer Clinical Regional Lymph Node N Stage\n",
            "Neoplasm American Joint Committee on Cancer Clinical Primary Tumor T Stage\n",
            "Days to Sample Collection.\n",
            "Last Alive Less Initial Pathologic Diagnosis Date Calculated Day Value\n",
            "days_to_patient_progression_free\n",
            "Days to Sample Procurement\n",
            "days_to_tumor_progression\n",
            "Disease Free (Months)\n",
            "Lymphomatous Extranodal Site Involvement Indicator\n",
            "Fraction Genome Altered\n",
            "HER2 and cent17 cells count\n",
            "HER2 cent17 counted cells count\n",
            "HER2 cent17 ratio\n",
            "HER2 ihc score\n",
            "IHC Score\n",
            "Year Cancer Initial Diagnosis\n",
            "Longest Dimension\n",
            "Positive Finding Lymph Node Hematoxylin and Eosin Staining Microscopy Count\n",
            "Positive Finding Lymph Node Keratin Immunohistochemistry Staining Method Count\n",
            "Lymph Node(s) Examined Number\n",
            "First Pathologic Diagnosis Biospecimen Acquisition Method Type.1\n",
            "Mutation Count\n",
            "Nte cent17 HER2 other scale\n",
            "Nte cent 17 HER2 ratio\n",
            "Nte cent 17 signal number\n",
            "Nte er positivity define method\n",
            "Nte er positivity other scale\n",
            "Nte HER2 fish define method\n",
            "Nte HER2 positivity method\n",
            "Nte HER2 positivity other scale\n",
            "Nte HER2 signal number\n",
            "Nte pr ihc intensity score\n",
            "Nte pr positivity define method\n",
            "Nte pr positivity other scale\n",
            "Overall Survival (Months)\n",
            "Specimen Collection Method\n",
            "Primary Other Site of Disease Name\n",
            "Sample Initial Weight\n",
            "Shortest Dimension\n",
            "Specimen Current Weight\n",
            "Specimen Freezing Means\n",
            "Specimen Second Longest Dimension\n",
            "Stage Other\n",
            "Time between clamping and freezing\n",
            "Time between excision and freezing\n",
            "TMB (nonsynonymous)\n"
          ]
        }
      ],
      "source": [
        "cont_ft = [ft for ft in clinical.columns if ft in num_ft and ft not in dis_ft]\n",
        "print(\"There are\",len(cont_ft), \" continuous features in the clinical dataset\" )\n",
        "for ft in cont_ft:\n",
        "  print(ft)"
      ]
    },
    {
      "cell_type": "code",
      "execution_count": null,
      "metadata": {
        "colab": {
          "base_uri": "https://localhost:8080/",
          "height": 310
        },
        "id": "wVTb3u0awi7a",
        "outputId": "c6fcf347-eecf-4157-b656-ebe5350a6add"
      },
      "outputs": [
        {
          "output_type": "execute_result",
          "data": {
            "text/plain": [
              "         Sample ID Sample Type  Fraction Genome Altered  Diagnosis Age  \\\n",
              "0  TCGA-3C-AAAU-01     Primary                   0.7787           55.0   \n",
              "1  TCGA-3C-AALI-01     Primary                   0.7164           50.0   \n",
              "2  TCGA-3C-AALJ-01     Primary                   0.5340           62.0   \n",
              "3  TCGA-3C-AALK-01     Primary                   0.0764           52.0   \n",
              "4  TCGA-4H-AAAK-01     Primary                   0.2364           50.0   \n",
              "\n",
              "      Sex              Race Category      Ethnicity Category  \\\n",
              "0  Female                      WHITE  NOT HISPANIC OR LATINO   \n",
              "1  Female  BLACK OR AFRICAN AMERICAN  NOT HISPANIC OR LATINO   \n",
              "2  Female  BLACK OR AFRICAN AMERICAN  NOT HISPANIC OR LATINO   \n",
              "3  Female  BLACK OR AFRICAN AMERICAN  NOT HISPANIC OR LATINO   \n",
              "4  Female                      WHITE  NOT HISPANIC OR LATINO   \n",
              "\n",
              "  Informed consent verified ER Status By IHC PR status by ihc       IHC-HER2  \n",
              "0                       YES         Positive         Positive       Negative  \n",
              "1                       YES         Positive         Positive       Positive  \n",
              "2                       YES         Positive         Positive  Indeterminate  \n",
              "3                       YES         Positive         Positive       Positive  \n",
              "4                       YES         Positive         Positive      Equivocal  "
            ],
            "text/html": [
              "\n",
              "  <div id=\"df-fb8fe653-ae34-484b-a0be-8ba30ef145df\" class=\"colab-df-container\">\n",
              "    <div>\n",
              "<style scoped>\n",
              "    .dataframe tbody tr th:only-of-type {\n",
              "        vertical-align: middle;\n",
              "    }\n",
              "\n",
              "    .dataframe tbody tr th {\n",
              "        vertical-align: top;\n",
              "    }\n",
              "\n",
              "    .dataframe thead th {\n",
              "        text-align: right;\n",
              "    }\n",
              "</style>\n",
              "<table border=\"1\" class=\"dataframe\">\n",
              "  <thead>\n",
              "    <tr style=\"text-align: right;\">\n",
              "      <th></th>\n",
              "      <th>Sample ID</th>\n",
              "      <th>Sample Type</th>\n",
              "      <th>Fraction Genome Altered</th>\n",
              "      <th>Diagnosis Age</th>\n",
              "      <th>Sex</th>\n",
              "      <th>Race Category</th>\n",
              "      <th>Ethnicity Category</th>\n",
              "      <th>Informed consent verified</th>\n",
              "      <th>ER Status By IHC</th>\n",
              "      <th>PR status by ihc</th>\n",
              "      <th>IHC-HER2</th>\n",
              "    </tr>\n",
              "  </thead>\n",
              "  <tbody>\n",
              "    <tr>\n",
              "      <th>0</th>\n",
              "      <td>TCGA-3C-AAAU-01</td>\n",
              "      <td>Primary</td>\n",
              "      <td>0.7787</td>\n",
              "      <td>55.0</td>\n",
              "      <td>Female</td>\n",
              "      <td>WHITE</td>\n",
              "      <td>NOT HISPANIC OR LATINO</td>\n",
              "      <td>YES</td>\n",
              "      <td>Positive</td>\n",
              "      <td>Positive</td>\n",
              "      <td>Negative</td>\n",
              "    </tr>\n",
              "    <tr>\n",
              "      <th>1</th>\n",
              "      <td>TCGA-3C-AALI-01</td>\n",
              "      <td>Primary</td>\n",
              "      <td>0.7164</td>\n",
              "      <td>50.0</td>\n",
              "      <td>Female</td>\n",
              "      <td>BLACK OR AFRICAN AMERICAN</td>\n",
              "      <td>NOT HISPANIC OR LATINO</td>\n",
              "      <td>YES</td>\n",
              "      <td>Positive</td>\n",
              "      <td>Positive</td>\n",
              "      <td>Positive</td>\n",
              "    </tr>\n",
              "    <tr>\n",
              "      <th>2</th>\n",
              "      <td>TCGA-3C-AALJ-01</td>\n",
              "      <td>Primary</td>\n",
              "      <td>0.5340</td>\n",
              "      <td>62.0</td>\n",
              "      <td>Female</td>\n",
              "      <td>BLACK OR AFRICAN AMERICAN</td>\n",
              "      <td>NOT HISPANIC OR LATINO</td>\n",
              "      <td>YES</td>\n",
              "      <td>Positive</td>\n",
              "      <td>Positive</td>\n",
              "      <td>Indeterminate</td>\n",
              "    </tr>\n",
              "    <tr>\n",
              "      <th>3</th>\n",
              "      <td>TCGA-3C-AALK-01</td>\n",
              "      <td>Primary</td>\n",
              "      <td>0.0764</td>\n",
              "      <td>52.0</td>\n",
              "      <td>Female</td>\n",
              "      <td>BLACK OR AFRICAN AMERICAN</td>\n",
              "      <td>NOT HISPANIC OR LATINO</td>\n",
              "      <td>YES</td>\n",
              "      <td>Positive</td>\n",
              "      <td>Positive</td>\n",
              "      <td>Positive</td>\n",
              "    </tr>\n",
              "    <tr>\n",
              "      <th>4</th>\n",
              "      <td>TCGA-4H-AAAK-01</td>\n",
              "      <td>Primary</td>\n",
              "      <td>0.2364</td>\n",
              "      <td>50.0</td>\n",
              "      <td>Female</td>\n",
              "      <td>WHITE</td>\n",
              "      <td>NOT HISPANIC OR LATINO</td>\n",
              "      <td>YES</td>\n",
              "      <td>Positive</td>\n",
              "      <td>Positive</td>\n",
              "      <td>Equivocal</td>\n",
              "    </tr>\n",
              "  </tbody>\n",
              "</table>\n",
              "</div>\n",
              "    <div class=\"colab-df-buttons\">\n",
              "\n",
              "  <div class=\"colab-df-container\">\n",
              "    <button class=\"colab-df-convert\" onclick=\"convertToInteractive('df-fb8fe653-ae34-484b-a0be-8ba30ef145df')\"\n",
              "            title=\"Convert this dataframe to an interactive table.\"\n",
              "            style=\"display:none;\">\n",
              "\n",
              "  <svg xmlns=\"http://www.w3.org/2000/svg\" height=\"24px\" viewBox=\"0 -960 960 960\">\n",
              "    <path d=\"M120-120v-720h720v720H120Zm60-500h600v-160H180v160Zm220 220h160v-160H400v160Zm0 220h160v-160H400v160ZM180-400h160v-160H180v160Zm440 0h160v-160H620v160ZM180-180h160v-160H180v160Zm440 0h160v-160H620v160Z\"/>\n",
              "  </svg>\n",
              "    </button>\n",
              "\n",
              "  <style>\n",
              "    .colab-df-container {\n",
              "      display:flex;\n",
              "      gap: 12px;\n",
              "    }\n",
              "\n",
              "    .colab-df-convert {\n",
              "      background-color: #E8F0FE;\n",
              "      border: none;\n",
              "      border-radius: 50%;\n",
              "      cursor: pointer;\n",
              "      display: none;\n",
              "      fill: #1967D2;\n",
              "      height: 32px;\n",
              "      padding: 0 0 0 0;\n",
              "      width: 32px;\n",
              "    }\n",
              "\n",
              "    .colab-df-convert:hover {\n",
              "      background-color: #E2EBFA;\n",
              "      box-shadow: 0px 1px 2px rgba(60, 64, 67, 0.3), 0px 1px 3px 1px rgba(60, 64, 67, 0.15);\n",
              "      fill: #174EA6;\n",
              "    }\n",
              "\n",
              "    .colab-df-buttons div {\n",
              "      margin-bottom: 4px;\n",
              "    }\n",
              "\n",
              "    [theme=dark] .colab-df-convert {\n",
              "      background-color: #3B4455;\n",
              "      fill: #D2E3FC;\n",
              "    }\n",
              "\n",
              "    [theme=dark] .colab-df-convert:hover {\n",
              "      background-color: #434B5C;\n",
              "      box-shadow: 0px 1px 3px 1px rgba(0, 0, 0, 0.15);\n",
              "      filter: drop-shadow(0px 1px 2px rgba(0, 0, 0, 0.3));\n",
              "      fill: #FFFFFF;\n",
              "    }\n",
              "  </style>\n",
              "\n",
              "    <script>\n",
              "      const buttonEl =\n",
              "        document.querySelector('#df-fb8fe653-ae34-484b-a0be-8ba30ef145df button.colab-df-convert');\n",
              "      buttonEl.style.display =\n",
              "        google.colab.kernel.accessAllowed ? 'block' : 'none';\n",
              "\n",
              "      async function convertToInteractive(key) {\n",
              "        const element = document.querySelector('#df-fb8fe653-ae34-484b-a0be-8ba30ef145df');\n",
              "        const dataTable =\n",
              "          await google.colab.kernel.invokeFunction('convertToInteractive',\n",
              "                                                    [key], {});\n",
              "        if (!dataTable) return;\n",
              "\n",
              "        const docLinkHtml = 'Like what you see? Visit the ' +\n",
              "          '<a target=\"_blank\" href=https://colab.research.google.com/notebooks/data_table.ipynb>data table notebook</a>'\n",
              "          + ' to learn more about interactive tables.';\n",
              "        element.innerHTML = '';\n",
              "        dataTable['output_type'] = 'display_data';\n",
              "        await google.colab.output.renderOutput(dataTable, element);\n",
              "        const docLink = document.createElement('div');\n",
              "        docLink.innerHTML = docLinkHtml;\n",
              "        element.appendChild(docLink);\n",
              "      }\n",
              "    </script>\n",
              "  </div>\n",
              "\n",
              "\n",
              "<div id=\"df-a8919c00-64bd-4159-a1e7-d1d577bc270b\">\n",
              "  <button class=\"colab-df-quickchart\" onclick=\"quickchart('df-a8919c00-64bd-4159-a1e7-d1d577bc270b')\"\n",
              "            title=\"Suggest charts\"\n",
              "            style=\"display:none;\">\n",
              "\n",
              "<svg xmlns=\"http://www.w3.org/2000/svg\" height=\"24px\"viewBox=\"0 0 24 24\"\n",
              "     width=\"24px\">\n",
              "    <g>\n",
              "        <path d=\"M19 3H5c-1.1 0-2 .9-2 2v14c0 1.1.9 2 2 2h14c1.1 0 2-.9 2-2V5c0-1.1-.9-2-2-2zM9 17H7v-7h2v7zm4 0h-2V7h2v10zm4 0h-2v-4h2v4z\"/>\n",
              "    </g>\n",
              "</svg>\n",
              "  </button>\n",
              "\n",
              "<style>\n",
              "  .colab-df-quickchart {\n",
              "      --bg-color: #E8F0FE;\n",
              "      --fill-color: #1967D2;\n",
              "      --hover-bg-color: #E2EBFA;\n",
              "      --hover-fill-color: #174EA6;\n",
              "      --disabled-fill-color: #AAA;\n",
              "      --disabled-bg-color: #DDD;\n",
              "  }\n",
              "\n",
              "  [theme=dark] .colab-df-quickchart {\n",
              "      --bg-color: #3B4455;\n",
              "      --fill-color: #D2E3FC;\n",
              "      --hover-bg-color: #434B5C;\n",
              "      --hover-fill-color: #FFFFFF;\n",
              "      --disabled-bg-color: #3B4455;\n",
              "      --disabled-fill-color: #666;\n",
              "  }\n",
              "\n",
              "  .colab-df-quickchart {\n",
              "    background-color: var(--bg-color);\n",
              "    border: none;\n",
              "    border-radius: 50%;\n",
              "    cursor: pointer;\n",
              "    display: none;\n",
              "    fill: var(--fill-color);\n",
              "    height: 32px;\n",
              "    padding: 0;\n",
              "    width: 32px;\n",
              "  }\n",
              "\n",
              "  .colab-df-quickchart:hover {\n",
              "    background-color: var(--hover-bg-color);\n",
              "    box-shadow: 0 1px 2px rgba(60, 64, 67, 0.3), 0 1px 3px 1px rgba(60, 64, 67, 0.15);\n",
              "    fill: var(--button-hover-fill-color);\n",
              "  }\n",
              "\n",
              "  .colab-df-quickchart-complete:disabled,\n",
              "  .colab-df-quickchart-complete:disabled:hover {\n",
              "    background-color: var(--disabled-bg-color);\n",
              "    fill: var(--disabled-fill-color);\n",
              "    box-shadow: none;\n",
              "  }\n",
              "\n",
              "  .colab-df-spinner {\n",
              "    border: 2px solid var(--fill-color);\n",
              "    border-color: transparent;\n",
              "    border-bottom-color: var(--fill-color);\n",
              "    animation:\n",
              "      spin 1s steps(1) infinite;\n",
              "  }\n",
              "\n",
              "  @keyframes spin {\n",
              "    0% {\n",
              "      border-color: transparent;\n",
              "      border-bottom-color: var(--fill-color);\n",
              "      border-left-color: var(--fill-color);\n",
              "    }\n",
              "    20% {\n",
              "      border-color: transparent;\n",
              "      border-left-color: var(--fill-color);\n",
              "      border-top-color: var(--fill-color);\n",
              "    }\n",
              "    30% {\n",
              "      border-color: transparent;\n",
              "      border-left-color: var(--fill-color);\n",
              "      border-top-color: var(--fill-color);\n",
              "      border-right-color: var(--fill-color);\n",
              "    }\n",
              "    40% {\n",
              "      border-color: transparent;\n",
              "      border-right-color: var(--fill-color);\n",
              "      border-top-color: var(--fill-color);\n",
              "    }\n",
              "    60% {\n",
              "      border-color: transparent;\n",
              "      border-right-color: var(--fill-color);\n",
              "    }\n",
              "    80% {\n",
              "      border-color: transparent;\n",
              "      border-right-color: var(--fill-color);\n",
              "      border-bottom-color: var(--fill-color);\n",
              "    }\n",
              "    90% {\n",
              "      border-color: transparent;\n",
              "      border-bottom-color: var(--fill-color);\n",
              "    }\n",
              "  }\n",
              "</style>\n",
              "\n",
              "  <script>\n",
              "    async function quickchart(key) {\n",
              "      const quickchartButtonEl =\n",
              "        document.querySelector('#' + key + ' button');\n",
              "      quickchartButtonEl.disabled = true;  // To prevent multiple clicks.\n",
              "      quickchartButtonEl.classList.add('colab-df-spinner');\n",
              "      try {\n",
              "        const charts = await google.colab.kernel.invokeFunction(\n",
              "            'suggestCharts', [key], {});\n",
              "      } catch (error) {\n",
              "        console.error('Error during call to suggestCharts:', error);\n",
              "      }\n",
              "      quickchartButtonEl.classList.remove('colab-df-spinner');\n",
              "      quickchartButtonEl.classList.add('colab-df-quickchart-complete');\n",
              "    }\n",
              "    (() => {\n",
              "      let quickchartButtonEl =\n",
              "        document.querySelector('#df-a8919c00-64bd-4159-a1e7-d1d577bc270b button');\n",
              "      quickchartButtonEl.style.display =\n",
              "        google.colab.kernel.accessAllowed ? 'block' : 'none';\n",
              "    })();\n",
              "  </script>\n",
              "</div>\n",
              "\n",
              "    </div>\n",
              "  </div>\n"
            ]
          },
          "metadata": {},
          "execution_count": 24
        }
      ],
      "source": [
        "#Considering only relevant features from the dataset\n",
        "clinical_ft = [\n",
        "    'Sample ID', #ids\n",
        "    'Sample Type','Fraction Genome Altered', #tumor info\n",
        "    'Diagnosis Age','Sex','Race Category','Ethnicity Category', #patient info\n",
        "    'Informed consent verified', #ethics\n",
        "    'ER Status By IHC','PR status by ihc','IHC-HER2' #required for CLASS LABEL\n",
        "]\n",
        "clinical = clinical[clinical_ft]\n",
        "clinical.head()"
      ]
    },
    {
      "cell_type": "markdown",
      "metadata": {
        "id": "y3pDEWav_N4S"
      },
      "source": [
        "**Categorising features**"
      ]
    },
    {
      "cell_type": "code",
      "execution_count": null,
      "metadata": {
        "colab": {
          "base_uri": "https://localhost:8080/"
        },
        "id": "q1hik904YLWF",
        "outputId": "e56bd28f-3b6e-4358-b32a-ad5852c9f022"
      },
      "outputs": [
        {
          "output_type": "stream",
          "name": "stdout",
          "text": [
            "There are 8 categorical features in the clinical dataset\n",
            "Sample Type\n",
            "Sex\n",
            "Race Category\n",
            "Ethnicity Category\n",
            "Informed consent verified\n",
            "ER Status By IHC\n",
            "PR status by ihc\n",
            "IHC-HER2\n"
          ]
        }
      ],
      "source": [
        "#categorical features\n",
        "cat_ft = [ft for ft in clinical.columns if clinical[ft].dtypes==\"O\" and len(clinical[ft].unique())<25]\n",
        "print(\"There are\",len(cat_ft), \"categorical features in the clinical dataset\" )\n",
        "for ft in cat_ft:\n",
        "  print(ft)"
      ]
    },
    {
      "cell_type": "markdown",
      "metadata": {
        "id": "1olmFgYFBDaX"
      },
      "source": [
        "**Subset data & re-group features**"
      ]
    },
    {
      "cell_type": "code",
      "execution_count": null,
      "metadata": {
        "id": "zjVkCGl20WSn"
      },
      "outputs": [],
      "source": [
        "#only considering data for female patients\n",
        "clinical = clinical[(clinical[\"Sex\"]==\"Female\") & (clinical[\"Sample Type\"]==\"Primary\")]"
      ]
    },
    {
      "cell_type": "code",
      "execution_count": null,
      "metadata": {
        "colab": {
          "base_uri": "https://localhost:8080/"
        },
        "id": "nrwXjbK3eAlw",
        "outputId": "77a5f380-fd09-45d7-ada6-5de087e86331"
      },
      "outputs": [
        {
          "output_type": "stream",
          "name": "stdout",
          "text": [
            "There are  6 columns with missing values\n",
            "Fraction Genome Altered 1.659 %\n",
            "Race Category 8.664 %\n",
            "Ethnicity Category 15.76 %\n",
            "ER Status By IHC 4.516 %\n",
            "PR status by ihc 4.608 %\n",
            "IHC-HER2 16.221 %\n"
          ]
        }
      ],
      "source": [
        "missing_ft = [ft for ft in clinical.columns if clinical[ft].isnull().sum()>1]\n",
        "print(\"There are \", len(missing_ft) , \"columns with missing values\")\n",
        "for ft in missing_ft:\n",
        "  print(ft, np.round(clinical[ft].isnull().mean()*100, 3), \"%\")"
      ]
    },
    {
      "cell_type": "code",
      "execution_count": null,
      "metadata": {
        "colab": {
          "base_uri": "https://localhost:8080/"
        },
        "id": "Bi5LV-9fiKQP",
        "outputId": "929dd87e-22d0-4c46-b057-465d02f310e7"
      },
      "outputs": [
        {
          "output_type": "execute_result",
          "data": {
            "text/plain": [
              "Race Category\n",
              "AMERICAN INDIAN OR ALASKA NATIVE      1\n",
              "ASIAN                                61\n",
              "BLACK OR AFRICAN AMERICAN           180\n",
              "WHITE                               749\n",
              "dtype: int64"
            ]
          },
          "metadata": {},
          "execution_count": 28
        }
      ],
      "source": [
        "grp = clinical.groupby('Race Category').size()\n",
        "grp"
      ]
    },
    {
      "cell_type": "code",
      "execution_count": null,
      "metadata": {
        "id": "M2j8PXvs0XeP"
      },
      "outputs": [],
      "source": [
        "#majority race of the patients is white so we study the relationship between these and categorise rest of the races as 'other category'\n",
        "# clinical['RaceWhite'] = np.where(clinical['Race Category']==\"WHITE\", \"White\", \"Other\")\n",
        "clinical['RaceWhite'] = (clinical['Race Category']==\"WHITE\")\n",
        "clinical.loc[clinical['Race Category'].isna(), \"RaceWhite\"] = None"
      ]
    },
    {
      "cell_type": "markdown",
      "metadata": {
        "id": "ALHFkBp3BOqC"
      },
      "source": [
        "**Define class labels, 1 if a cancer is ER-negative, PR-negative, and HER2-negative; 0 otherwise**"
      ]
    },
    {
      "cell_type": "code",
      "execution_count": null,
      "metadata": {
        "id": "h0kPfVGo0XQp"
      },
      "outputs": [],
      "source": [
        "## Initialize the label definition:\n",
        "clinical['Label'] = (clinical['ER Status By IHC']=='Negative') & \\\n",
        "                    (clinical['PR status by ihc']=='Negative') & \\\n",
        "                    (clinical['IHC-HER2']=='Negative')"
      ]
    },
    {
      "cell_type": "code",
      "execution_count": null,
      "metadata": {
        "colab": {
          "base_uri": "https://localhost:8080/"
        },
        "id": "96wWwNuC0W71",
        "outputId": "0924b350-69ab-4b7d-9cea-9aea91f981b4"
      },
      "outputs": [
        {
          "output_type": "execute_result",
          "data": {
            "text/plain": [
              "ER Status By IHC     49\n",
              "PR status by ihc     50\n",
              "IHC-HER2            176\n",
              "dtype: int64"
            ]
          },
          "metadata": {},
          "execution_count": 31
        }
      ],
      "source": [
        "clinical.loc[:,['ER Status By IHC','PR status by ihc','IHC-HER2']].isna().sum()"
      ]
    },
    {
      "cell_type": "code",
      "execution_count": null,
      "metadata": {
        "colab": {
          "base_uri": "https://localhost:8080/"
        },
        "id": "0VNAsUBU1E7M",
        "outputId": "c1b27300-ced7-4a38-a1d7-0d6a7692a6b5"
      },
      "outputs": [
        {
          "output_type": "execute_result",
          "data": {
            "text/plain": [
              "{0, 1, 2, 3}"
            ]
          },
          "metadata": {},
          "execution_count": 32
        }
      ],
      "source": [
        "## Count the number of missing receptors in each patient or sample\n",
        "clinical['no_receptor_missing'] = clinical.loc[:,['ER Status By IHC','PR status by ihc','IHC-HER2']].isna().sum(axis=1)\n",
        "set(clinical['no_receptor_missing'].to_list()) #few as 0, up to all 3 missing"
      ]
    },
    {
      "cell_type": "code",
      "execution_count": null,
      "metadata": {
        "colab": {
          "base_uri": "https://localhost:8080/"
        },
        "id": "13LkzIQ01E4P",
        "outputId": "f3bff32a-9ae9-43b6-e74c-44100329ea2a"
      },
      "outputs": [
        {
          "output_type": "execute_result",
          "data": {
            "text/plain": [
              "178"
            ]
          },
          "metadata": {},
          "execution_count": 33
        }
      ],
      "source": [
        "#Set any patient with 1+ receptor missing as Label=None\n",
        "clinical.loc[clinical['no_receptor_missing']>0, \"Label\"] = None\n",
        "sum(clinical['Label'].isna())"
      ]
    },
    {
      "cell_type": "code",
      "execution_count": null,
      "metadata": {
        "colab": {
          "base_uri": "https://localhost:8080/"
        },
        "id": "lzA3p1z91E1S",
        "outputId": "8e705afa-7aa6-4557-a9bf-af615464caed"
      },
      "outputs": [
        {
          "output_type": "execute_result",
          "data": {
            "text/plain": [
              "83"
            ]
          },
          "metadata": {},
          "execution_count": 34
        }
      ],
      "source": [
        "## Then, re-set Label=0 from NaN if at least 1 receptor is NOT negative\n",
        "label0 = ['Positive','Intermediate','Equivocal']\n",
        "\n",
        "clinical.loc[clinical['ER Status By IHC'].isin(label0) | \\\n",
        "         clinical['PR status by ihc'].isin(label0) | \\\n",
        "         clinical['IHC-HER2'].isin(label0), \"Label\"] = 0\n",
        "\n",
        "sum(clinical['Label'].isna())"
      ]
    },
    {
      "cell_type": "code",
      "execution_count": null,
      "metadata": {
        "id": "4uhK6JSy1Evk"
      },
      "outputs": [],
      "source": [
        "## Finally, exclude label-less rows (patients)\n",
        "clinical = clinical.dropna(subset=['Label'])"
      ]
    },
    {
      "cell_type": "code",
      "execution_count": null,
      "metadata": {
        "colab": {
          "base_uri": "https://localhost:8080/"
        },
        "id": "B_Q2-4UNNu9i",
        "outputId": "50831af0-1649-42cf-c8f3-dd34e01f0624"
      },
      "outputs": [
        {
          "output_type": "execute_result",
          "data": {
            "text/plain": [
              "(1002, 14)"
            ]
          },
          "metadata": {},
          "execution_count": 36
        }
      ],
      "source": [
        "clinical.shape"
      ]
    },
    {
      "cell_type": "code",
      "execution_count": null,
      "metadata": {
        "colab": {
          "base_uri": "https://localhost:8080/"
        },
        "id": "qsv6011e1Ehn",
        "outputId": "27149db9-ad5c-4538-9026-51387c7421ee"
      },
      "outputs": [
        {
          "output_type": "stream",
          "name": "stdout",
          "text": [
            "Requirement already satisfied: tableone in /usr/local/lib/python3.10/dist-packages (0.8.0)\n",
            "Requirement already satisfied: jinja2 in /usr/local/lib/python3.10/dist-packages (from tableone) (3.1.3)\n",
            "Requirement already satisfied: numpy in /usr/local/lib/python3.10/dist-packages (from tableone) (1.23.5)\n",
            "Requirement already satisfied: openpyxl in /usr/local/lib/python3.10/dist-packages (from tableone) (3.1.2)\n",
            "Requirement already satisfied: pandas in /usr/local/lib/python3.10/dist-packages (from tableone) (1.5.3)\n",
            "Requirement already satisfied: scipy in /usr/local/lib/python3.10/dist-packages (from tableone) (1.11.4)\n",
            "Requirement already satisfied: statsmodels in /usr/local/lib/python3.10/dist-packages (from tableone) (0.14.1)\n",
            "Requirement already satisfied: tabulate in /usr/local/lib/python3.10/dist-packages (from tableone) (0.9.0)\n",
            "Requirement already satisfied: MarkupSafe>=2.0 in /usr/local/lib/python3.10/dist-packages (from jinja2->tableone) (2.1.5)\n",
            "Requirement already satisfied: et-xmlfile in /usr/local/lib/python3.10/dist-packages (from openpyxl->tableone) (1.1.0)\n",
            "Requirement already satisfied: python-dateutil>=2.8.1 in /usr/local/lib/python3.10/dist-packages (from pandas->tableone) (2.8.2)\n",
            "Requirement already satisfied: pytz>=2020.1 in /usr/local/lib/python3.10/dist-packages (from pandas->tableone) (2023.4)\n",
            "Requirement already satisfied: patsy>=0.5.4 in /usr/local/lib/python3.10/dist-packages (from statsmodels->tableone) (0.5.6)\n",
            "Requirement already satisfied: packaging>=21.3 in /usr/local/lib/python3.10/dist-packages (from statsmodels->tableone) (23.2)\n",
            "Requirement already satisfied: six in /usr/local/lib/python3.10/dist-packages (from patsy>=0.5.4->statsmodels->tableone) (1.16.0)\n"
          ]
        }
      ],
      "source": [
        "!pip install tableone"
      ]
    },
    {
      "cell_type": "code",
      "execution_count": null,
      "metadata": {
        "id": "uw4Va1Kb1ntu"
      },
      "outputs": [],
      "source": [
        "from tableone import TableOne\n",
        "\n",
        "selected_cols = ['Sex','RaceWhite','no_receptor_missing','Informed consent verified']\n",
        "\n",
        "myTable1 = TableOne(\n",
        "    clinical,\n",
        "    columns = selected_cols,\n",
        "    groupby = 'Label'\n",
        ")"
      ]
    },
    {
      "cell_type": "code",
      "execution_count": null,
      "metadata": {
        "colab": {
          "base_uri": "https://localhost:8080/"
        },
        "id": "cgQalytrT1uw",
        "outputId": "ad652ca4-b3b0-4794-f2ff-4165b5301da5"
      },
      "outputs": [
        {
          "output_type": "stream",
          "name": "stderr",
          "text": [
            "/usr/local/lib/python3.10/dist-packages/ipykernel/ipkernel.py:283: DeprecationWarning: `should_run_async` will not call `transform_cell` automatically in the future. Please pass the result to `transformed_cell` argument and any exception that happen during thetransform in `preprocessing_exc_tuple` in IPython 7.17 and above.\n",
            "  and should_run_async(code)\n"
          ]
        }
      ],
      "source": [
        "clinical['Label'] = clinical['Label'].replace(True, 1)\n",
        "clinical['Label'] = clinical['Label'].astype(int)"
      ]
    },
    {
      "cell_type": "code",
      "execution_count": null,
      "metadata": {
        "colab": {
          "base_uri": "https://localhost:8080/"
        },
        "id": "ZLdxeWgY1nq6",
        "outputId": "5e22c369-da31-42c3-e7bc-9eacd1f811ba"
      },
      "outputs": [
        {
          "output_type": "stream",
          "name": "stdout",
          "text": [
            "================================  ======  =========  ============  ===========  ===========\n",
            "..                                        Missing    Overall       0            True\n",
            "================================  ======  =========  ============  ===========  ===========\n",
            "n                                                    1002          886          116\n",
            "Sex, n (%)                        Female  0          1002 (100.0)  886 (100.0)  116 (100.0)\n",
            "RaceWhite, n (%)                  False   94         216 (23.8)    176 (22.0)   40 (36.7)\n",
            "..                                True               692 (76.2)    623 (78.0)   69 (63.3)\n",
            "no_receptor_missing, n (%)        0       0          907 (90.5)    791 (89.3)   116 (100.0)\n",
            "..                                1                  95 (9.5)      95 (10.7)\n",
            "Informed consent verified, n (%)  YES     0          1002 (100.0)  886 (100.0)  116 (100.0)\n",
            "================================  ======  =========  ============  ===========  ===========\n"
          ]
        },
        {
          "output_type": "stream",
          "name": "stderr",
          "text": [
            "/usr/local/lib/python3.10/dist-packages/ipykernel/ipkernel.py:283: DeprecationWarning: `should_run_async` will not call `transform_cell` automatically in the future. Please pass the result to `transformed_cell` argument and any exception that happen during thetransform in `preprocessing_exc_tuple` in IPython 7.17 and above.\n",
            "  and should_run_async(code)\n"
          ]
        }
      ],
      "source": [
        "## Column 'True' or '1.0' means Class=1, i.e. the triple negative cancers\n",
        "print(myTable1.tabulate(tablefmt=\"rst\"))"
      ]
    },
    {
      "cell_type": "code",
      "execution_count": null,
      "metadata": {
        "colab": {
          "base_uri": "https://localhost:8080/"
        },
        "id": "UM0xnQSSUVMr",
        "outputId": "2b441fe4-b1e0-4bff-f442-220407e1bd8b"
      },
      "outputs": [
        {
          "output_type": "stream",
          "name": "stderr",
          "text": [
            "/usr/local/lib/python3.10/dist-packages/ipykernel/ipkernel.py:283: DeprecationWarning: `should_run_async` will not call `transform_cell` automatically in the future. Please pass the result to `transformed_cell` argument and any exception that happen during thetransform in `preprocessing_exc_tuple` in IPython 7.17 and above.\n",
            "  and should_run_async(code)\n"
          ]
        }
      ],
      "source": []
    },
    {
      "cell_type": "code",
      "execution_count": null,
      "metadata": {
        "colab": {
          "base_uri": "https://localhost:8080/"
        },
        "id": "Cu11ks9r1noe",
        "outputId": "364c2cb8-8618-4728-f2d7-0b8f410d58e3"
      },
      "outputs": [
        {
          "output_type": "stream",
          "name": "stderr",
          "text": [
            "/usr/local/lib/python3.10/dist-packages/ipykernel/ipkernel.py:283: DeprecationWarning: `should_run_async` will not call `transform_cell` automatically in the future. Please pass the result to `transformed_cell` argument and any exception that happen during thetransform in `preprocessing_exc_tuple` in IPython 7.17 and above.\n",
            "  and should_run_async(code)\n"
          ]
        },
        {
          "output_type": "execute_result",
          "data": {
            "text/plain": [
              "999"
            ]
          },
          "metadata": {},
          "execution_count": 41
        }
      ],
      "source": [
        "sum(clinical['Sample ID'].isin(genes.index))"
      ]
    },
    {
      "cell_type": "code",
      "execution_count": null,
      "metadata": {
        "colab": {
          "base_uri": "https://localhost:8080/"
        },
        "id": "HNSFa0Df1nmH",
        "outputId": "6398b2b9-6d76-4799-cb0e-97fd86db9ff4"
      },
      "outputs": [
        {
          "output_type": "stream",
          "name": "stderr",
          "text": [
            "/usr/local/lib/python3.10/dist-packages/ipykernel/ipkernel.py:283: DeprecationWarning: `should_run_async` will not call `transform_cell` automatically in the future. Please pass the result to `transformed_cell` argument and any exception that happen during thetransform in `preprocessing_exc_tuple` in IPython 7.17 and above.\n",
            "  and should_run_async(code)\n"
          ]
        },
        {
          "output_type": "execute_result",
          "data": {
            "text/plain": [
              "999"
            ]
          },
          "metadata": {},
          "execution_count": 42
        }
      ],
      "source": [
        "sum(genes.index.isin(clinical['Sample ID'])) #should match cell above"
      ]
    },
    {
      "cell_type": "code",
      "execution_count": null,
      "metadata": {
        "colab": {
          "base_uri": "https://localhost:8080/"
        },
        "id": "1cwsmXS61nkR",
        "outputId": "1bbdcab6-1342-463e-a2de-26dd9d1010f7"
      },
      "outputs": [
        {
          "output_type": "stream",
          "name": "stderr",
          "text": [
            "/usr/local/lib/python3.10/dist-packages/ipykernel/ipkernel.py:283: DeprecationWarning: `should_run_async` will not call `transform_cell` automatically in the future. Please pass the result to `transformed_cell` argument and any exception that happen during thetransform in `preprocessing_exc_tuple` in IPython 7.17 and above.\n",
            "  and should_run_async(code)\n"
          ]
        },
        {
          "output_type": "execute_result",
          "data": {
            "text/plain": [
              "(999, 14)"
            ]
          },
          "metadata": {},
          "execution_count": 43
        }
      ],
      "source": [
        "clinical = clinical.loc[clinical['Sample ID'].isin(genes.index), :]\n",
        "clinical.shape"
      ]
    },
    {
      "cell_type": "code",
      "execution_count": null,
      "metadata": {
        "colab": {
          "base_uri": "https://localhost:8080/"
        },
        "id": "kvzb8cNh1nhf",
        "outputId": "61b40cf1-b14d-447d-9574-54a5a405d735"
      },
      "outputs": [
        {
          "output_type": "stream",
          "name": "stderr",
          "text": [
            "/usr/local/lib/python3.10/dist-packages/ipykernel/ipkernel.py:283: DeprecationWarning: `should_run_async` will not call `transform_cell` automatically in the future. Please pass the result to `transformed_cell` argument and any exception that happen during thetransform in `preprocessing_exc_tuple` in IPython 7.17 and above.\n",
            "  and should_run_async(code)\n"
          ]
        },
        {
          "output_type": "execute_result",
          "data": {
            "text/plain": [
              "(999, 20502)"
            ]
          },
          "metadata": {},
          "execution_count": 44
        }
      ],
      "source": [
        "genes = genes.loc[clinical['Sample ID'],:]\n",
        "genes.shape"
      ]
    },
    {
      "cell_type": "code",
      "execution_count": null,
      "metadata": {
        "colab": {
          "base_uri": "https://localhost:8080/"
        },
        "id": "DlHteo392jZi",
        "outputId": "46abf235-bbd8-431f-c96a-a9a50c2df8df"
      },
      "outputs": [
        {
          "output_type": "stream",
          "name": "stderr",
          "text": [
            "/usr/local/lib/python3.10/dist-packages/ipykernel/ipkernel.py:283: DeprecationWarning: `should_run_async` will not call `transform_cell` automatically in the future. Please pass the result to `transformed_cell` argument and any exception that happen during thetransform in `preprocessing_exc_tuple` in IPython 7.17 and above.\n",
            "  and should_run_async(code)\n"
          ]
        },
        {
          "output_type": "execute_result",
          "data": {
            "text/plain": [
              "True"
            ]
          },
          "metadata": {},
          "execution_count": 45
        }
      ],
      "source": [
        "## Confirm mutually subsetted dataframes are also matched\n",
        "all(genes.index == clinical['Sample ID'])"
      ]
    },
    {
      "cell_type": "code",
      "execution_count": null,
      "metadata": {
        "colab": {
          "base_uri": "https://localhost:8080/"
        },
        "id": "xWoUKN_A2jTT",
        "outputId": "4ab1b432-2103-4ff3-fb56-c109fe866168"
      },
      "outputs": [
        {
          "output_type": "stream",
          "name": "stderr",
          "text": [
            "/usr/local/lib/python3.10/dist-packages/ipykernel/ipkernel.py:283: DeprecationWarning: `should_run_async` will not call `transform_cell` automatically in the future. Please pass the result to `transformed_cell` argument and any exception that happen during thetransform in `preprocessing_exc_tuple` in IPython 7.17 and above.\n",
            "  and should_run_async(code)\n"
          ]
        },
        {
          "output_type": "execute_result",
          "data": {
            "text/plain": [
              "319"
            ]
          },
          "metadata": {},
          "execution_count": 46
        }
      ],
      "source": [
        "nullgenes = genes.columns[genes.isna().any()].tolist()\n",
        "len(nullgenes)"
      ]
    },
    {
      "cell_type": "code",
      "execution_count": null,
      "metadata": {
        "colab": {
          "base_uri": "https://localhost:8080/"
        },
        "id": "McaqmBqT2jQM",
        "outputId": "ce6d2ca1-1c2b-4c44-d452-870da1ebed19"
      },
      "outputs": [
        {
          "output_type": "stream",
          "name": "stderr",
          "text": [
            "/usr/local/lib/python3.10/dist-packages/ipykernel/ipkernel.py:283: DeprecationWarning: `should_run_async` will not call `transform_cell` automatically in the future. Please pass the result to `transformed_cell` argument and any exception that happen during thetransform in `preprocessing_exc_tuple` in IPython 7.17 and above.\n",
            "  and should_run_async(code)\n"
          ]
        },
        {
          "output_type": "execute_result",
          "data": {
            "text/plain": [
              "(999, 20183)"
            ]
          },
          "metadata": {},
          "execution_count": 47
        }
      ],
      "source": [
        "gene = genes.dropna(axis=1)\n",
        "gene.shape"
      ]
    },
    {
      "cell_type": "markdown",
      "metadata": {
        "id": "DVVfaunbPw_J"
      },
      "source": [
        "**EDA WITH RESPECT TO OTHER CATEGORICAL FEATURES**"
      ]
    },
    {
      "cell_type": "code",
      "execution_count": null,
      "metadata": {
        "colab": {
          "base_uri": "https://localhost:8080/"
        },
        "id": "NlYOBNuAVrRY",
        "outputId": "d67b9b2d-ec31-4edd-9547-d9c4f1767914"
      },
      "outputs": [
        {
          "output_type": "stream",
          "name": "stderr",
          "text": [
            "/usr/local/lib/python3.10/dist-packages/ipykernel/ipkernel.py:283: DeprecationWarning: `should_run_async` will not call `transform_cell` automatically in the future. Please pass the result to `transformed_cell` argument and any exception that happen during thetransform in `preprocessing_exc_tuple` in IPython 7.17 and above.\n",
            "  and should_run_async(code)\n"
          ]
        }
      ],
      "source": [
        "# for ft in cat_ft:\n",
        "#   df = clinical.copy()\n",
        "#    # Plot bar chart\n",
        "#   # sns.countplot\n",
        "#   df.groupby(ft)['Label'].value_counts().unstack().plot(kind='bar', stacked=True)\n",
        "#   plt.xlabel(ft)\n",
        "#   plt.ylabel(\"Count\")\n",
        "#   plt.title(f\"TNBC Presence by {ft}\")\n",
        "#   plt.show()"
      ]
    },
    {
      "cell_type": "code",
      "execution_count": null,
      "metadata": {
        "colab": {
          "base_uri": "https://localhost:8080/",
          "height": 1000
        },
        "id": "T--g97JYsIMs",
        "outputId": "61788a11-d053-477c-b386-cbf9d7b2d9a2"
      },
      "outputs": [
        {
          "output_type": "stream",
          "name": "stderr",
          "text": [
            "/usr/local/lib/python3.10/dist-packages/ipykernel/ipkernel.py:283: DeprecationWarning: `should_run_async` will not call `transform_cell` automatically in the future. Please pass the result to `transformed_cell` argument and any exception that happen during thetransform in `preprocessing_exc_tuple` in IPython 7.17 and above.\n",
            "  and should_run_async(code)\n"
          ]
        },
        {
          "output_type": "display_data",
          "data": {
            "text/plain": [
              "<Figure size 640x480 with 1 Axes>"
            ],
            "image/png": "[encoded data removed]"
          },
          "metadata": {}
        },
        {
          "output_type": "display_data",
          "data": {
            "text/plain": [
              "<Figure size 640x480 with 1 Axes>"
            ],
            "image/png": "[encoded data removed]"
          },
          "metadata": {}
        },
        {
          "output_type": "display_data",
          "data": {
            "text/plain": [
              "<Figure size 640x480 with 1 Axes>"
            ],
            "image/png": "[encoded data removed]"
          },
          "metadata": {}
        },
        {
          "output_type": "display_data",
          "data": {
            "text/plain": [
              "<Figure size 640x480 with 1 Axes>"
            ],
            "image/png": "[encoded data removed]"
          },
          "metadata": {}
        },
        {
          "output_type": "display_data",
          "data": {
            "text/plain": [
              "<Figure size 640x480 with 1 Axes>"
            ],
            "image/png": "[encoded data removed]"
          },
          "metadata": {}
        },
        {
          "output_type": "display_data",
          "data": {
            "text/plain": [
              "<Figure size 640x480 with 1 Axes>"
            ],
            "image/png": "[encoded data removed]"
          },
          "metadata": {}
        },
        {
          "output_type": "display_data",
          "data": {
            "text/plain": [
              "<Figure size 640x480 with 1 Axes>"
            ],
            "image/png": "[encoded data removed]"
          },
          "metadata": {}
        },
        {
          "output_type": "display_data",
          "data": {
            "text/plain": [
              "<Figure size 640x480 with 1 Axes>"
            ],
            "image/png": "[encoded data removed]"
          },
          "metadata": {}
        }
      ],
      "source": [
        "import matplotlib.pyplot as plt\n",
        "import seaborn as sns\n",
        "\n",
        "for ft in cat_ft:\n",
        "    df = clinical.copy()\n",
        "    # Plot side by side bar chart\n",
        "    grouped_data = df.groupby([ft, 'Label']).size().unstack(fill_value=0)\n",
        "    grouped_data.plot(kind='bar', stacked=False)\n",
        "    plt.xlabel(ft)\n",
        "    plt.ylabel(\"Count\")\n",
        "    plt.title(f\"TNBC Presence by {ft}\")\n",
        "    plt.legend(title='Label')\n",
        "    plt.xticks(rotation=0)\n",
        "    plt.show()\n"
      ]
    },
    {
      "cell_type": "code",
      "source": [
        "filter_data = df[df['Label']==1]\n",
        "sns.histplot(df['Diagnosis Age'], bins=15, kde=False)\n",
        "plt.xlabel('Diagnosis Age')\n",
        "plt.ylabel('Count')\n",
        "plt.title('Scatter Plot of Age where Label=1')\n",
        "plt.title(f\"TNBC Presence by Age\")\n",
        "plt.legend(title='Label')\n",
        "plt.xticks(rotation=0)\n",
        "plt.show()"
      ],
      "metadata": {
        "colab": {
          "base_uri": "https://localhost:8080/",
          "height": 544
        },
        "id": "xSMSv9MgpI_G",
        "outputId": "64412a24-fde5-4daa-9f5f-32d108b7c4a7"
      },
      "execution_count": null,
      "outputs": [
        {
          "output_type": "stream",
          "name": "stderr",
          "text": [
            "/usr/local/lib/python3.10/dist-packages/ipykernel/ipkernel.py:283: DeprecationWarning: `should_run_async` will not call `transform_cell` automatically in the future. Please pass the result to `transformed_cell` argument and any exception that happen during thetransform in `preprocessing_exc_tuple` in IPython 7.17 and above.\n",
            "  and should_run_async(code)\n",
            "WARNING:matplotlib.legend:No artists with labels found to put in legend.  Note that artists whose label start with an underscore are ignored when legend() is called with no argument.\n"
          ]
        },
        {
          "output_type": "display_data",
          "data": {
            "text/plain": [
              "<Figure size 640x480 with 1 Axes>"
            ],
            "image/png": "[encoded data removed]"
          },
          "metadata": {}
        }
      ]
    },
    {
      "cell_type": "markdown",
      "metadata": {
        "id": "QsMN5BEzCgeX"
      },
      "source": [
        "#Explore Data via Unsupervised Learning"
      ]
    },
    {
      "cell_type": "code",
      "execution_count": null,
      "metadata": {
        "colab": {
          "base_uri": "https://localhost:8080/"
        },
        "id": "9dDDSAaXpcnO",
        "outputId": "3ee60e61-809a-499a-c96c-bcc36c0f6140"
      },
      "outputs": [
        {
          "output_type": "stream",
          "name": "stderr",
          "text": [
            "/usr/local/lib/python3.10/dist-packages/ipykernel/ipkernel.py:283: DeprecationWarning: `should_run_async` will not call `transform_cell` automatically in the future. Please pass the result to `transformed_cell` argument and any exception that happen during thetransform in `preprocessing_exc_tuple` in IPython 7.17 and above.\n",
            "  and should_run_async(code)\n"
          ]
        }
      ],
      "source": [
        "df.set_index('Sample ID', inplace=True)"
      ]
    },
    {
      "cell_type": "code",
      "execution_count": null,
      "metadata": {
        "colab": {
          "base_uri": "https://localhost:8080/",
          "height": 550
        },
        "id": "iRTpQOE-mf9W",
        "outputId": "4d19ea32-7f99-4ad7-cb05-ab3ee304b7ff"
      },
      "outputs": [
        {
          "output_type": "stream",
          "name": "stderr",
          "text": [
            "/usr/local/lib/python3.10/dist-packages/ipykernel/ipkernel.py:283: DeprecationWarning: `should_run_async` will not call `transform_cell` automatically in the future. Please pass the result to `transformed_cell` argument and any exception that happen during thetransform in `preprocessing_exc_tuple` in IPython 7.17 and above.\n",
            "  and should_run_async(code)\n"
          ]
        },
        {
          "output_type": "execute_result",
          "data": {
            "text/plain": [
              "                 100130426  100133144  100134869   10357   10431  155060  \\\n",
              "TCGA-3C-AAAU-01    -1.7608     1.0944     1.0230 -1.7033 -2.5248  2.6672   \n",
              "TCGA-3C-AALI-01    -1.7608     0.3540     1.4736 -1.0056 -1.6307  1.4841   \n",
              "TCGA-3C-AALJ-01     1.1240     0.6451     0.5206  0.9114  0.8069  1.6791   \n",
              "TCGA-3C-AALK-01    -1.7608     0.6963     0.7910  0.7418 -0.4455  1.5817   \n",
              "TCGA-4H-AAAK-01    -1.7608    -0.0246     1.1891 -0.5522 -0.7821  0.5166   \n",
              "\n",
              "                  26823  280660  317712  340602  ...  158586   79364  440590  \\\n",
              "TCGA-3C-AAAU-01 -1.9754 -1.0239 -3.8503  0.0629  ...  1.3652  1.7323  1.1787   \n",
              "TCGA-3C-AALI-01  0.6553 -0.5570 -3.8503  3.6771  ... -0.2845  0.8841  0.9389   \n",
              "TCGA-3C-AALJ-01 -1.9754 -1.0239 -3.8503 -0.8479  ...  0.0704 -1.3588  1.4057   \n",
              "TCGA-3C-AALK-01 -0.7379 -1.0239 -3.8503 -0.8479  ... -0.3346 -0.8902  0.8269   \n",
              "TCGA-4H-AAAK-01 -0.7082 -1.0239 -3.8503 -0.5256  ... -0.3982 -0.1067 -1.4182   \n",
              "\n",
              "                  79699    7791   23140   26009  387590  389932  Label  \n",
              "TCGA-3C-AAAU-01  1.0112  0.0077  1.2480  0.7011 -2.2857 -1.0151      0  \n",
              "TCGA-3C-AALI-01 -0.8990  0.9335  0.3568 -1.8110  1.7416 -1.0151      0  \n",
              "TCGA-3C-AALJ-01 -1.2453  0.9163 -0.4675 -1.2802 -0.4957 -1.0151      0  \n",
              "TCGA-3C-AALK-01 -0.8818  1.0020 -0.9299 -0.5286 -0.0672 -1.0151      0  \n",
              "TCGA-4H-AAAK-01 -0.2086  0.2990 -0.7752  0.0127  0.6400 -1.0151      0  \n",
              "\n",
              "[5 rows x 20184 columns]"
            ],
            "text/html": [
              "\n",
              "  <div id=\"df-c499720a-d81b-43b8-a2b2-7347ab9f3e58\" class=\"colab-df-container\">\n",
              "    <div>\n",
              "<style scoped>\n",
              "    .dataframe tbody tr th:only-of-type {\n",
              "        vertical-align: middle;\n",
              "    }\n",
              "\n",
              "    .dataframe tbody tr th {\n",
              "        vertical-align: top;\n",
              "    }\n",
              "\n",
              "    .dataframe thead th {\n",
              "        text-align: right;\n",
              "    }\n",
              "</style>\n",
              "<table border=\"1\" class=\"dataframe\">\n",
              "  <thead>\n",
              "    <tr style=\"text-align: right;\">\n",
              "      <th></th>\n",
              "      <th>100130426</th>\n",
              "      <th>100133144</th>\n",
              "      <th>100134869</th>\n",
              "      <th>10357</th>\n",
              "      <th>10431</th>\n",
              "      <th>155060</th>\n",
              "      <th>26823</th>\n",
              "      <th>280660</th>\n",
              "      <th>317712</th>\n",
              "      <th>340602</th>\n",
              "      <th>...</th>\n",
              "      <th>158586</th>\n",
              "      <th>79364</th>\n",
              "      <th>440590</th>\n",
              "      <th>79699</th>\n",
              "      <th>7791</th>\n",
              "      <th>23140</th>\n",
              "      <th>26009</th>\n",
              "      <th>387590</th>\n",
              "      <th>389932</th>\n",
              "      <th>Label</th>\n",
              "    </tr>\n",
              "  </thead>\n",
              "  <tbody>\n",
              "    <tr>\n",
              "      <th>TCGA-3C-AAAU-01</th>\n",
              "      <td>-1.7608</td>\n",
              "      <td>1.0944</td>\n",
              "      <td>1.0230</td>\n",
              "      <td>-1.7033</td>\n",
              "      <td>-2.5248</td>\n",
              "      <td>2.6672</td>\n",
              "      <td>-1.9754</td>\n",
              "      <td>-1.0239</td>\n",
              "      <td>-3.8503</td>\n",
              "      <td>0.0629</td>\n",
              "      <td>...</td>\n",
              "      <td>1.3652</td>\n",
              "      <td>1.7323</td>\n",
              "      <td>1.1787</td>\n",
              "      <td>1.0112</td>\n",
              "      <td>0.0077</td>\n",
              "      <td>1.2480</td>\n",
              "      <td>0.7011</td>\n",
              "      <td>-2.2857</td>\n",
              "      <td>-1.0151</td>\n",
              "      <td>0</td>\n",
              "    </tr>\n",
              "    <tr>\n",
              "      <th>TCGA-3C-AALI-01</th>\n",
              "      <td>-1.7608</td>\n",
              "      <td>0.3540</td>\n",
              "      <td>1.4736</td>\n",
              "      <td>-1.0056</td>\n",
              "      <td>-1.6307</td>\n",
              "      <td>1.4841</td>\n",
              "      <td>0.6553</td>\n",
              "      <td>-0.5570</td>\n",
              "      <td>-3.8503</td>\n",
              "      <td>3.6771</td>\n",
              "      <td>...</td>\n",
              "      <td>-0.2845</td>\n",
              "      <td>0.8841</td>\n",
              "      <td>0.9389</td>\n",
              "      <td>-0.8990</td>\n",
              "      <td>0.9335</td>\n",
              "      <td>0.3568</td>\n",
              "      <td>-1.8110</td>\n",
              "      <td>1.7416</td>\n",
              "      <td>-1.0151</td>\n",
              "      <td>0</td>\n",
              "    </tr>\n",
              "    <tr>\n",
              "      <th>TCGA-3C-AALJ-01</th>\n",
              "      <td>1.1240</td>\n",
              "      <td>0.6451</td>\n",
              "      <td>0.5206</td>\n",
              "      <td>0.9114</td>\n",
              "      <td>0.8069</td>\n",
              "      <td>1.6791</td>\n",
              "      <td>-1.9754</td>\n",
              "      <td>-1.0239</td>\n",
              "      <td>-3.8503</td>\n",
              "      <td>-0.8479</td>\n",
              "      <td>...</td>\n",
              "      <td>0.0704</td>\n",
              "      <td>-1.3588</td>\n",
              "      <td>1.4057</td>\n",
              "      <td>-1.2453</td>\n",
              "      <td>0.9163</td>\n",
              "      <td>-0.4675</td>\n",
              "      <td>-1.2802</td>\n",
              "      <td>-0.4957</td>\n",
              "      <td>-1.0151</td>\n",
              "      <td>0</td>\n",
              "    </tr>\n",
              "    <tr>\n",
              "      <th>TCGA-3C-AALK-01</th>\n",
              "      <td>-1.7608</td>\n",
              "      <td>0.6963</td>\n",
              "      <td>0.7910</td>\n",
              "      <td>0.7418</td>\n",
              "      <td>-0.4455</td>\n",
              "      <td>1.5817</td>\n",
              "      <td>-0.7379</td>\n",
              "      <td>-1.0239</td>\n",
              "      <td>-3.8503</td>\n",
              "      <td>-0.8479</td>\n",
              "      <td>...</td>\n",
              "      <td>-0.3346</td>\n",
              "      <td>-0.8902</td>\n",
              "      <td>0.8269</td>\n",
              "      <td>-0.8818</td>\n",
              "      <td>1.0020</td>\n",
              "      <td>-0.9299</td>\n",
              "      <td>-0.5286</td>\n",
              "      <td>-0.0672</td>\n",
              "      <td>-1.0151</td>\n",
              "      <td>0</td>\n",
              "    </tr>\n",
              "    <tr>\n",
              "      <th>TCGA-4H-AAAK-01</th>\n",
              "      <td>-1.7608</td>\n",
              "      <td>-0.0246</td>\n",
              "      <td>1.1891</td>\n",
              "      <td>-0.5522</td>\n",
              "      <td>-0.7821</td>\n",
              "      <td>0.5166</td>\n",
              "      <td>-0.7082</td>\n",
              "      <td>-1.0239</td>\n",
              "      <td>-3.8503</td>\n",
              "      <td>-0.5256</td>\n",
              "      <td>...</td>\n",
              "      <td>-0.3982</td>\n",
              "      <td>-0.1067</td>\n",
              "      <td>-1.4182</td>\n",
              "      <td>-0.2086</td>\n",
              "      <td>0.2990</td>\n",
              "      <td>-0.7752</td>\n",
              "      <td>0.0127</td>\n",
              "      <td>0.6400</td>\n",
              "      <td>-1.0151</td>\n",
              "      <td>0</td>\n",
              "    </tr>\n",
              "  </tbody>\n",
              "</table>\n",
              "<p>5 rows × 20184 columns</p>\n",
              "</div>\n",
              "    <div class=\"colab-df-buttons\">\n",
              "\n",
              "  <div class=\"colab-df-container\">\n",
              "    <button class=\"colab-df-convert\" onclick=\"convertToInteractive('df-c499720a-d81b-43b8-a2b2-7347ab9f3e58')\"\n",
              "            title=\"Convert this dataframe to an interactive table.\"\n",
              "            style=\"display:none;\">\n",
              "\n",
              "  <svg xmlns=\"http://www.w3.org/2000/svg\" height=\"24px\" viewBox=\"0 -960 960 960\">\n",
              "    <path d=\"M120-120v-720h720v720H120Zm60-500h600v-160H180v160Zm220 220h160v-160H400v160Zm0 220h160v-160H400v160ZM180-400h160v-160H180v160Zm440 0h160v-160H620v160ZM180-180h160v-160H180v160Zm440 0h160v-160H620v160Z\"/>\n",
              "  </svg>\n",
              "    </button>\n",
              "\n",
              "  <style>\n",
              "    .colab-df-container {\n",
              "      display:flex;\n",
              "      gap: 12px;\n",
              "    }\n",
              "\n",
              "    .colab-df-convert {\n",
              "      background-color: #E8F0FE;\n",
              "      border: none;\n",
              "      border-radius: 50%;\n",
              "      cursor: pointer;\n",
              "      display: none;\n",
              "      fill: #1967D2;\n",
              "      height: 32px;\n",
              "      padding: 0 0 0 0;\n",
              "      width: 32px;\n",
              "    }\n",
              "\n",
              "    .colab-df-convert:hover {\n",
              "      background-color: #E2EBFA;\n",
              "      box-shadow: 0px 1px 2px rgba(60, 64, 67, 0.3), 0px 1px 3px 1px rgba(60, 64, 67, 0.15);\n",
              "      fill: #174EA6;\n",
              "    }\n",
              "\n",
              "    .colab-df-buttons div {\n",
              "      margin-bottom: 4px;\n",
              "    }\n",
              "\n",
              "    [theme=dark] .colab-df-convert {\n",
              "      background-color: #3B4455;\n",
              "      fill: #D2E3FC;\n",
              "    }\n",
              "\n",
              "    [theme=dark] .colab-df-convert:hover {\n",
              "      background-color: #434B5C;\n",
              "      box-shadow: 0px 1px 3px 1px rgba(0, 0, 0, 0.15);\n",
              "      filter: drop-shadow(0px 1px 2px rgba(0, 0, 0, 0.3));\n",
              "      fill: #FFFFFF;\n",
              "    }\n",
              "  </style>\n",
              "\n",
              "    <script>\n",
              "      const buttonEl =\n",
              "        document.querySelector('#df-c499720a-d81b-43b8-a2b2-7347ab9f3e58 button.colab-df-convert');\n",
              "      buttonEl.style.display =\n",
              "        google.colab.kernel.accessAllowed ? 'block' : 'none';\n",
              "\n",
              "      async function convertToInteractive(key) {\n",
              "        const element = document.querySelector('#df-c499720a-d81b-43b8-a2b2-7347ab9f3e58');\n",
              "        const dataTable =\n",
              "          await google.colab.kernel.invokeFunction('convertToInteractive',\n",
              "                                                    [key], {});\n",
              "        if (!dataTable) return;\n",
              "\n",
              "        const docLinkHtml = 'Like what you see? Visit the ' +\n",
              "          '<a target=\"_blank\" href=https://colab.research.google.com/notebooks/data_table.ipynb>data table notebook</a>'\n",
              "          + ' to learn more about interactive tables.';\n",
              "        element.innerHTML = '';\n",
              "        dataTable['output_type'] = 'display_data';\n",
              "        await google.colab.output.renderOutput(dataTable, element);\n",
              "        const docLink = document.createElement('div');\n",
              "        docLink.innerHTML = docLinkHtml;\n",
              "        element.appendChild(docLink);\n",
              "      }\n",
              "    </script>\n",
              "  </div>\n",
              "\n",
              "\n",
              "<div id=\"df-1b14f841-0843-48f3-9f09-9d7319139002\">\n",
              "  <button class=\"colab-df-quickchart\" onclick=\"quickchart('df-1b14f841-0843-48f3-9f09-9d7319139002')\"\n",
              "            title=\"Suggest charts\"\n",
              "            style=\"display:none;\">\n",
              "\n",
              "<svg xmlns=\"http://www.w3.org/2000/svg\" height=\"24px\"viewBox=\"0 0 24 24\"\n",
              "     width=\"24px\">\n",
              "    <g>\n",
              "        <path d=\"M19 3H5c-1.1 0-2 .9-2 2v14c0 1.1.9 2 2 2h14c1.1 0 2-.9 2-2V5c0-1.1-.9-2-2-2zM9 17H7v-7h2v7zm4 0h-2V7h2v10zm4 0h-2v-4h2v4z\"/>\n",
              "    </g>\n",
              "</svg>\n",
              "  </button>\n",
              "\n",
              "<style>\n",
              "  .colab-df-quickchart {\n",
              "      --bg-color: #E8F0FE;\n",
              "      --fill-color: #1967D2;\n",
              "      --hover-bg-color: #E2EBFA;\n",
              "      --hover-fill-color: #174EA6;\n",
              "      --disabled-fill-color: #AAA;\n",
              "      --disabled-bg-color: #DDD;\n",
              "  }\n",
              "\n",
              "  [theme=dark] .colab-df-quickchart {\n",
              "      --bg-color: #3B4455;\n",
              "      --fill-color: #D2E3FC;\n",
              "      --hover-bg-color: #434B5C;\n",
              "      --hover-fill-color: #FFFFFF;\n",
              "      --disabled-bg-color: #3B4455;\n",
              "      --disabled-fill-color: #666;\n",
              "  }\n",
              "\n",
              "  .colab-df-quickchart {\n",
              "    background-color: var(--bg-color);\n",
              "    border: none;\n",
              "    border-radius: 50%;\n",
              "    cursor: pointer;\n",
              "    display: none;\n",
              "    fill: var(--fill-color);\n",
              "    height: 32px;\n",
              "    padding: 0;\n",
              "    width: 32px;\n",
              "  }\n",
              "\n",
              "  .colab-df-quickchart:hover {\n",
              "    background-color: var(--hover-bg-color);\n",
              "    box-shadow: 0 1px 2px rgba(60, 64, 67, 0.3), 0 1px 3px 1px rgba(60, 64, 67, 0.15);\n",
              "    fill: var(--button-hover-fill-color);\n",
              "  }\n",
              "\n",
              "  .colab-df-quickchart-complete:disabled,\n",
              "  .colab-df-quickchart-complete:disabled:hover {\n",
              "    background-color: var(--disabled-bg-color);\n",
              "    fill: var(--disabled-fill-color);\n",
              "    box-shadow: none;\n",
              "  }\n",
              "\n",
              "  .colab-df-spinner {\n",
              "    border: 2px solid var(--fill-color);\n",
              "    border-color: transparent;\n",
              "    border-bottom-color: var(--fill-color);\n",
              "    animation:\n",
              "      spin 1s steps(1) infinite;\n",
              "  }\n",
              "\n",
              "  @keyframes spin {\n",
              "    0% {\n",
              "      border-color: transparent;\n",
              "      border-bottom-color: var(--fill-color);\n",
              "      border-left-color: var(--fill-color);\n",
              "    }\n",
              "    20% {\n",
              "      border-color: transparent;\n",
              "      border-left-color: var(--fill-color);\n",
              "      border-top-color: var(--fill-color);\n",
              "    }\n",
              "    30% {\n",
              "      border-color: transparent;\n",
              "      border-left-color: var(--fill-color);\n",
              "      border-top-color: var(--fill-color);\n",
              "      border-right-color: var(--fill-color);\n",
              "    }\n",
              "    40% {\n",
              "      border-color: transparent;\n",
              "      border-right-color: var(--fill-color);\n",
              "      border-top-color: var(--fill-color);\n",
              "    }\n",
              "    60% {\n",
              "      border-color: transparent;\n",
              "      border-right-color: var(--fill-color);\n",
              "    }\n",
              "    80% {\n",
              "      border-color: transparent;\n",
              "      border-right-color: var(--fill-color);\n",
              "      border-bottom-color: var(--fill-color);\n",
              "    }\n",
              "    90% {\n",
              "      border-color: transparent;\n",
              "      border-bottom-color: var(--fill-color);\n",
              "    }\n",
              "  }\n",
              "</style>\n",
              "\n",
              "  <script>\n",
              "    async function quickchart(key) {\n",
              "      const quickchartButtonEl =\n",
              "        document.querySelector('#' + key + ' button');\n",
              "      quickchartButtonEl.disabled = true;  // To prevent multiple clicks.\n",
              "      quickchartButtonEl.classList.add('colab-df-spinner');\n",
              "      try {\n",
              "        const charts = await google.colab.kernel.invokeFunction(\n",
              "            'suggestCharts', [key], {});\n",
              "      } catch (error) {\n",
              "        console.error('Error during call to suggestCharts:', error);\n",
              "      }\n",
              "      quickchartButtonEl.classList.remove('colab-df-spinner');\n",
              "      quickchartButtonEl.classList.add('colab-df-quickchart-complete');\n",
              "    }\n",
              "    (() => {\n",
              "      let quickchartButtonEl =\n",
              "        document.querySelector('#df-1b14f841-0843-48f3-9f09-9d7319139002 button');\n",
              "      quickchartButtonEl.style.display =\n",
              "        google.colab.kernel.accessAllowed ? 'block' : 'none';\n",
              "    })();\n",
              "  </script>\n",
              "</div>\n",
              "\n",
              "    </div>\n",
              "  </div>\n"
            ]
          },
          "metadata": {},
          "execution_count": 52
        }
      ],
      "source": [
        "# Merge based on the indices\n",
        "merged_data = pd.merge(gene, df[['Label']], left_index=True, right_index=True, how='inner')\n",
        "merged_data.head()"
      ]
    },
    {
      "cell_type": "code",
      "execution_count": null,
      "metadata": {
        "colab": {
          "base_uri": "https://localhost:8080/"
        },
        "id": "b-5ghT3DqUfG",
        "outputId": "01fe6814-0989-462e-bd2d-8ffb294fef76"
      },
      "outputs": [
        {
          "output_type": "stream",
          "name": "stderr",
          "text": [
            "/usr/local/lib/python3.10/dist-packages/ipykernel/ipkernel.py:283: DeprecationWarning: `should_run_async` will not call `transform_cell` automatically in the future. Please pass the result to `transformed_cell` argument and any exception that happen during thetransform in `preprocessing_exc_tuple` in IPython 7.17 and above.\n",
            "  and should_run_async(code)\n"
          ]
        }
      ],
      "source": [
        "merged_data.columns = merged_data.columns.astype(str)"
      ]
    },
    {
      "cell_type": "code",
      "execution_count": null,
      "metadata": {
        "colab": {
          "base_uri": "https://localhost:8080/",
          "height": 129
        },
        "id": "t04wAo0Nnqn7",
        "outputId": "602c7fdc-c6fc-49f0-ed7b-1815ec28a014"
      },
      "outputs": [
        {
          "output_type": "stream",
          "name": "stderr",
          "text": [
            "/usr/local/lib/python3.10/dist-packages/ipykernel/ipkernel.py:283: DeprecationWarning: `should_run_async` will not call `transform_cell` automatically in the future. Please pass the result to `transformed_cell` argument and any exception that happen during thetransform in `preprocessing_exc_tuple` in IPython 7.17 and above.\n",
            "  and should_run_async(code)\n"
          ]
        },
        {
          "output_type": "execute_result",
          "data": {
            "text/plain": [
              "StandardScaler()"
            ],
            "text/html": [
              "<style>#sk-container-id-1 {color: black;background-color: white;}#sk-container-id-1 pre{padding: 0;}#sk-container-id-1 div.sk-toggleable {background-color: white;}#sk-container-id-1 label.sk-toggleable__label {cursor: pointer;display: block;width: 100%;margin-bottom: 0;padding: 0.3em;box-sizing: border-box;text-align: center;}#sk-container-id-1 label.sk-toggleable__label-arrow:before {content: \"▸\";float: left;margin-right: 0.25em;color: #696969;}#sk-container-id-1 label.sk-toggleable__label-arrow:hover:before {color: black;}#sk-container-id-1 div.sk-estimator:hover label.sk-toggleable__label-arrow:before {color: black;}#sk-container-id-1 div.sk-toggleable__content {max-height: 0;max-width: 0;overflow: hidden;text-align: left;background-color: #f0f8ff;}#sk-container-id-1 div.sk-toggleable__content pre {margin: 0.2em;color: black;border-radius: 0.25em;background-color: #f0f8ff;}#sk-container-id-1 input.sk-toggleable__control:checked~div.sk-toggleable__content {max-height: 200px;max-width: 100%;overflow: auto;}#sk-container-id-1 input.sk-toggleable__control:checked~label.sk-toggleable__label-arrow:before {content: \"▾\";}#sk-container-id-1 div.sk-estimator input.sk-toggleable__control:checked~label.sk-toggleable__label {background-color: #d4ebff;}#sk-container-id-1 div.sk-label input.sk-toggleable__control:checked~label.sk-toggleable__label {background-color: #d4ebff;}#sk-container-id-1 input.sk-hidden--visually {border: 0;clip: rect(1px 1px 1px 1px);clip: rect(1px, 1px, 1px, 1px);height: 1px;margin: -1px;overflow: hidden;padding: 0;position: absolute;width: 1px;}#sk-container-id-1 div.sk-estimator {font-family: monospace;background-color: #f0f8ff;border: 1px dotted black;border-radius: 0.25em;box-sizing: border-box;margin-bottom: 0.5em;}#sk-container-id-1 div.sk-estimator:hover {background-color: #d4ebff;}#sk-container-id-1 div.sk-parallel-item::after {content: \"\";width: 100%;border-bottom: 1px solid gray;flex-grow: 1;}#sk-container-id-1 div.sk-label:hover label.sk-toggleable__label {background-color: #d4ebff;}#sk-container-id-1 div.sk-serial::before {content: \"\";position: absolute;border-left: 1px solid gray;box-sizing: border-box;top: 0;bottom: 0;left: 50%;z-index: 0;}#sk-container-id-1 div.sk-serial {display: flex;flex-direction: column;align-items: center;background-color: white;padding-right: 0.2em;padding-left: 0.2em;position: relative;}#sk-container-id-1 div.sk-item {position: relative;z-index: 1;}#sk-container-id-1 div.sk-parallel {display: flex;align-items: stretch;justify-content: center;background-color: white;position: relative;}#sk-container-id-1 div.sk-item::before, #sk-container-id-1 div.sk-parallel-item::before {content: \"\";position: absolute;border-left: 1px solid gray;box-sizing: border-box;top: 0;bottom: 0;left: 50%;z-index: -1;}#sk-container-id-1 div.sk-parallel-item {display: flex;flex-direction: column;z-index: 1;position: relative;background-color: white;}#sk-container-id-1 div.sk-parallel-item:first-child::after {align-self: flex-end;width: 50%;}#sk-container-id-1 div.sk-parallel-item:last-child::after {align-self: flex-start;width: 50%;}#sk-container-id-1 div.sk-parallel-item:only-child::after {width: 0;}#sk-container-id-1 div.sk-dashed-wrapped {border: 1px dashed gray;margin: 0 0.4em 0.5em 0.4em;box-sizing: border-box;padding-bottom: 0.4em;background-color: white;}#sk-container-id-1 div.sk-label label {font-family: monospace;font-weight: bold;display: inline-block;line-height: 1.2em;}#sk-container-id-1 div.sk-label-container {text-align: center;}#sk-container-id-1 div.sk-container {/* jupyter's `normalize.less` sets `[hidden] { display: none; }` but bootstrap.min.css set `[hidden] { display: none !important; }` so we also need the `!important` here to be able to override the default hidden behavior on the sphinx rendered scikit-learn.org. See: https://github.com/scikit-learn/scikit-learn/issues/21755 */display: inline-block !important;position: relative;}#sk-container-id-1 div.sk-text-repr-fallback {display: none;}</style><div id=\"sk-container-id-1\" class=\"sk-top-container\"><div class=\"sk-text-repr-fallback\"><pre>StandardScaler()</pre><b>In a Jupyter environment, please rerun this cell to show the HTML representation or trust the notebook. <br />On GitHub, the HTML representation is unable to render, please try loading this page with nbviewer.org.</b></div><div class=\"sk-container\" hidden><div class=\"sk-item\"><div class=\"sk-estimator sk-toggleable\"><input class=\"sk-toggleable__control sk-hidden--visually\" id=\"sk-estimator-id-1\" type=\"checkbox\" checked><label for=\"sk-estimator-id-1\" class=\"sk-toggleable__label sk-toggleable__label-arrow\">StandardScaler</label><div class=\"sk-toggleable__content\"><pre>StandardScaler()</pre></div></div></div></div></div>"
            ]
          },
          "metadata": {},
          "execution_count": 54
        }
      ],
      "source": [
        "from sklearn.preprocessing import StandardScaler\n",
        "scaler = StandardScaler()\n",
        "scaler.fit(merged_data)"
      ]
    },
    {
      "cell_type": "code",
      "execution_count": null,
      "metadata": {
        "colab": {
          "base_uri": "https://localhost:8080/"
        },
        "id": "AN4v_RIDqgCQ",
        "outputId": "17270d2a-1675-4da8-da21-0c731947a54e"
      },
      "outputs": [
        {
          "output_type": "stream",
          "name": "stderr",
          "text": [
            "/usr/local/lib/python3.10/dist-packages/ipykernel/ipkernel.py:283: DeprecationWarning: `should_run_async` will not call `transform_cell` automatically in the future. Please pass the result to `transformed_cell` argument and any exception that happen during thetransform in `preprocessing_exc_tuple` in IPython 7.17 and above.\n",
            "  and should_run_async(code)\n"
          ]
        }
      ],
      "source": [
        "scaled_data = scaler.transform(merged_data)"
      ]
    },
    {
      "cell_type": "code",
      "execution_count": null,
      "metadata": {
        "colab": {
          "base_uri": "https://localhost:8080/",
          "height": 129
        },
        "id": "WuN8xngLqoKf",
        "outputId": "ecf4d5a8-9ca4-473b-a6f5-981788eee26e"
      },
      "outputs": [
        {
          "output_type": "stream",
          "name": "stderr",
          "text": [
            "/usr/local/lib/python3.10/dist-packages/ipykernel/ipkernel.py:283: DeprecationWarning: `should_run_async` will not call `transform_cell` automatically in the future. Please pass the result to `transformed_cell` argument and any exception that happen during thetransform in `preprocessing_exc_tuple` in IPython 7.17 and above.\n",
            "  and should_run_async(code)\n"
          ]
        },
        {
          "output_type": "execute_result",
          "data": {
            "text/plain": [
              "PCA(n_components=2)"
            ],
            "text/html": [
              "<style>#sk-container-id-2 {color: black;background-color: white;}#sk-container-id-2 pre{padding: 0;}#sk-container-id-2 div.sk-toggleable {background-color: white;}#sk-container-id-2 label.sk-toggleable__label {cursor: pointer;display: block;width: 100%;margin-bottom: 0;padding: 0.3em;box-sizing: border-box;text-align: center;}#sk-container-id-2 label.sk-toggleable__label-arrow:before {content: \"▸\";float: left;margin-right: 0.25em;color: #696969;}#sk-container-id-2 label.sk-toggleable__label-arrow:hover:before {color: black;}#sk-container-id-2 div.sk-estimator:hover label.sk-toggleable__label-arrow:before {color: black;}#sk-container-id-2 div.sk-toggleable__content {max-height: 0;max-width: 0;overflow: hidden;text-align: left;background-color: #f0f8ff;}#sk-container-id-2 div.sk-toggleable__content pre {margin: 0.2em;color: black;border-radius: 0.25em;background-color: #f0f8ff;}#sk-container-id-2 input.sk-toggleable__control:checked~div.sk-toggleable__content {max-height: 200px;max-width: 100%;overflow: auto;}#sk-container-id-2 input.sk-toggleable__control:checked~label.sk-toggleable__label-arrow:before {content: \"▾\";}#sk-container-id-2 div.sk-estimator input.sk-toggleable__control:checked~label.sk-toggleable__label {background-color: #d4ebff;}#sk-container-id-2 div.sk-label input.sk-toggleable__control:checked~label.sk-toggleable__label {background-color: #d4ebff;}#sk-container-id-2 input.sk-hidden--visually {border: 0;clip: rect(1px 1px 1px 1px);clip: rect(1px, 1px, 1px, 1px);height: 1px;margin: -1px;overflow: hidden;padding: 0;position: absolute;width: 1px;}#sk-container-id-2 div.sk-estimator {font-family: monospace;background-color: #f0f8ff;border: 1px dotted black;border-radius: 0.25em;box-sizing: border-box;margin-bottom: 0.5em;}#sk-container-id-2 div.sk-estimator:hover {background-color: #d4ebff;}#sk-container-id-2 div.sk-parallel-item::after {content: \"\";width: 100%;border-bottom: 1px solid gray;flex-grow: 1;}#sk-container-id-2 div.sk-label:hover label.sk-toggleable__label {background-color: #d4ebff;}#sk-container-id-2 div.sk-serial::before {content: \"\";position: absolute;border-left: 1px solid gray;box-sizing: border-box;top: 0;bottom: 0;left: 50%;z-index: 0;}#sk-container-id-2 div.sk-serial {display: flex;flex-direction: column;align-items: center;background-color: white;padding-right: 0.2em;padding-left: 0.2em;position: relative;}#sk-container-id-2 div.sk-item {position: relative;z-index: 1;}#sk-container-id-2 div.sk-parallel {display: flex;align-items: stretch;justify-content: center;background-color: white;position: relative;}#sk-container-id-2 div.sk-item::before, #sk-container-id-2 div.sk-parallel-item::before {content: \"\";position: absolute;border-left: 1px solid gray;box-sizing: border-box;top: 0;bottom: 0;left: 50%;z-index: -1;}#sk-container-id-2 div.sk-parallel-item {display: flex;flex-direction: column;z-index: 1;position: relative;background-color: white;}#sk-container-id-2 div.sk-parallel-item:first-child::after {align-self: flex-end;width: 50%;}#sk-container-id-2 div.sk-parallel-item:last-child::after {align-self: flex-start;width: 50%;}#sk-container-id-2 div.sk-parallel-item:only-child::after {width: 0;}#sk-container-id-2 div.sk-dashed-wrapped {border: 1px dashed gray;margin: 0 0.4em 0.5em 0.4em;box-sizing: border-box;padding-bottom: 0.4em;background-color: white;}#sk-container-id-2 div.sk-label label {font-family: monospace;font-weight: bold;display: inline-block;line-height: 1.2em;}#sk-container-id-2 div.sk-label-container {text-align: center;}#sk-container-id-2 div.sk-container {/* jupyter's `normalize.less` sets `[hidden] { display: none; }` but bootstrap.min.css set `[hidden] { display: none !important; }` so we also need the `!important` here to be able to override the default hidden behavior on the sphinx rendered scikit-learn.org. See: https://github.com/scikit-learn/scikit-learn/issues/21755 */display: inline-block !important;position: relative;}#sk-container-id-2 div.sk-text-repr-fallback {display: none;}</style><div id=\"sk-container-id-2\" class=\"sk-top-container\"><div class=\"sk-text-repr-fallback\"><pre>PCA(n_components=2)</pre><b>In a Jupyter environment, please rerun this cell to show the HTML representation or trust the notebook. <br />On GitHub, the HTML representation is unable to render, please try loading this page with nbviewer.org.</b></div><div class=\"sk-container\" hidden><div class=\"sk-item\"><div class=\"sk-estimator sk-toggleable\"><input class=\"sk-toggleable__control sk-hidden--visually\" id=\"sk-estimator-id-2\" type=\"checkbox\" checked><label for=\"sk-estimator-id-2\" class=\"sk-toggleable__label sk-toggleable__label-arrow\">PCA</label><div class=\"sk-toggleable__content\"><pre>PCA(n_components=2)</pre></div></div></div></div></div>"
            ]
          },
          "metadata": {},
          "execution_count": 56
        }
      ],
      "source": [
        "from sklearn.decomposition import PCA\n",
        "pca = PCA(n_components=2)\n",
        "pca.fit(scaled_data)"
      ]
    },
    {
      "cell_type": "code",
      "execution_count": null,
      "metadata": {
        "colab": {
          "base_uri": "https://localhost:8080/"
        },
        "id": "H9weCdNgquX8",
        "outputId": "0fa4abab-b967-436e-9320-8e22ba822fb2"
      },
      "outputs": [
        {
          "output_type": "stream",
          "name": "stderr",
          "text": [
            "/usr/local/lib/python3.10/dist-packages/ipykernel/ipkernel.py:283: DeprecationWarning: `should_run_async` will not call `transform_cell` automatically in the future. Please pass the result to `transformed_cell` argument and any exception that happen during thetransform in `preprocessing_exc_tuple` in IPython 7.17 and above.\n",
            "  and should_run_async(code)\n"
          ]
        },
        {
          "output_type": "execute_result",
          "data": {
            "text/plain": [
              "(999, 20184)"
            ]
          },
          "metadata": {},
          "execution_count": 57
        }
      ],
      "source": [
        "x_pca = pca.transform(scaled_data)\n",
        "scaled_data.shape"
      ]
    },
    {
      "cell_type": "code",
      "execution_count": null,
      "metadata": {
        "colab": {
          "base_uri": "https://localhost:8080/"
        },
        "id": "kMIASrS7r9iL",
        "outputId": "76ea3ad3-50a2-42d2-cd3d-fb8ab2dbdc68"
      },
      "outputs": [
        {
          "output_type": "stream",
          "name": "stderr",
          "text": [
            "/usr/local/lib/python3.10/dist-packages/ipykernel/ipkernel.py:283: DeprecationWarning: `should_run_async` will not call `transform_cell` automatically in the future. Please pass the result to `transformed_cell` argument and any exception that happen during thetransform in `preprocessing_exc_tuple` in IPython 7.17 and above.\n",
            "  and should_run_async(code)\n"
          ]
        },
        {
          "output_type": "execute_result",
          "data": {
            "text/plain": [
              "(999, 2)"
            ]
          },
          "metadata": {},
          "execution_count": 58
        }
      ],
      "source": [
        "x_pca.shape"
      ]
    },
    {
      "cell_type": "code",
      "execution_count": null,
      "metadata": {
        "colab": {
          "base_uri": "https://localhost:8080/",
          "height": 597
        },
        "id": "yxXffviWu6qM",
        "outputId": "5a71cde6-b422-4ce0-b57c-9c2dca6c0ba4"
      },
      "outputs": [
        {
          "output_type": "stream",
          "name": "stderr",
          "text": [
            "/usr/local/lib/python3.10/dist-packages/ipykernel/ipkernel.py:283: DeprecationWarning: `should_run_async` will not call `transform_cell` automatically in the future. Please pass the result to `transformed_cell` argument and any exception that happen during thetransform in `preprocessing_exc_tuple` in IPython 7.17 and above.\n",
            "  and should_run_async(code)\n"
          ]
        },
        {
          "output_type": "display_data",
          "data": {
            "text/plain": [
              "<Figure size 800x600 with 1 Axes>"
            ],
            "image/png": "[encoded data removed]"
          },
          "metadata": {}
        }
      ],
      "source": [
        "import matplotlib.pyplot as plt\n",
        "from matplotlib.colors import ListedColormap\n",
        "\n",
        "custom_cmap = ListedColormap(['navy', 'orange'])\n",
        "\n",
        "plt.figure(figsize=(8, 6))\n",
        "scatter = plt.scatter(x_pca[:, 0], x_pca[:, 1], c=merged_data['Label'], cmap=custom_cmap)\n",
        "\n",
        "# Adding legend with custom labels\n",
        "legend_labels = ['Non-TNBC', 'TNBC']\n",
        "handles, _ = scatter.legend_elements()\n",
        "plt.legend(handles=handles, title='Status', labels=legend_labels, loc='upper right')\n",
        "\n",
        "plt.xlabel('First principal component')\n",
        "plt.ylabel('Second Principal Component')\n",
        "plt.show()\n"
      ]
    },
    {
      "cell_type": "code",
      "execution_count": null,
      "metadata": {
        "colab": {
          "base_uri": "https://localhost:8080/"
        },
        "id": "6Z45ODz5GiKB",
        "outputId": "6509994b-1e25-40bc-e4ad-491341d6078d"
      },
      "outputs": [
        {
          "output_type": "stream",
          "name": "stdout",
          "text": [
            "Variance captured by each feature:\n",
            "[0.10623094 0.07856377]\n"
          ]
        },
        {
          "output_type": "stream",
          "name": "stderr",
          "text": [
            "/usr/local/lib/python3.10/dist-packages/ipykernel/ipkernel.py:283: DeprecationWarning: `should_run_async` will not call `transform_cell` automatically in the future. Please pass the result to `transformed_cell` argument and any exception that happen during thetransform in `preprocessing_exc_tuple` in IPython 7.17 and above.\n",
            "  and should_run_async(code)\n"
          ]
        }
      ],
      "source": [
        "print(\"Variance captured by each feature:\")\n",
        "print(pca.explained_variance_ratio_)"
      ]
    },
    {
      "cell_type": "markdown",
      "metadata": {
        "id": "6RSJHrTbCwTM"
      },
      "source": [
        "#Feature Selection for Supervised Learning"
      ]
    },
    {
      "cell_type": "code",
      "execution_count": null,
      "metadata": {
        "colab": {
          "base_uri": "https://localhost:8080/"
        },
        "id": "ORSw51sP2i6A",
        "outputId": "d423dfec-95de-42b3-e8c2-ebb5a1b43b43"
      },
      "outputs": [
        {
          "output_type": "stream",
          "name": "stderr",
          "text": [
            "/usr/local/lib/python3.10/dist-packages/ipykernel/ipkernel.py:283: DeprecationWarning: `should_run_async` will not call `transform_cell` automatically in the future. Please pass the result to `transformed_cell` argument and any exception that happen during thetransform in `preprocessing_exc_tuple` in IPython 7.17 and above.\n",
            "  and should_run_async(code)\n"
          ]
        },
        {
          "output_type": "execute_result",
          "data": {
            "text/plain": [
              "True"
            ]
          },
          "metadata": {},
          "execution_count": 61
        }
      ],
      "source": [
        "# Check to see if patient IDs in the 2 DataFrames match\n",
        "all(genes.index == clinical['Sample ID'])"
      ]
    },
    {
      "cell_type": "markdown",
      "metadata": {
        "id": "MNNwiLrBC96n"
      },
      "source": [
        "**Exclude genes with missing values**"
      ]
    },
    {
      "cell_type": "code",
      "execution_count": null,
      "metadata": {
        "colab": {
          "base_uri": "https://localhost:8080/"
        },
        "id": "oWGPD6rK5Fes",
        "outputId": "d7cf8154-a000-46c3-fa0d-406c8fe2752f"
      },
      "outputs": [
        {
          "output_type": "stream",
          "name": "stdout",
          "text": [
            "Percentage of missing genes: 0.02\n"
          ]
        },
        {
          "output_type": "stream",
          "name": "stderr",
          "text": [
            "/usr/local/lib/python3.10/dist-packages/ipykernel/ipkernel.py:283: DeprecationWarning: `should_run_async` will not call `transform_cell` automatically in the future. Please pass the result to `transformed_cell` argument and any exception that happen during thetransform in `preprocessing_exc_tuple` in IPython 7.17 and above.\n",
            "  and should_run_async(code)\n"
          ]
        }
      ],
      "source": [
        "missing_genes = genes.columns[genes.isna().any()].tolist()\n",
        "print(f\"Percentage of missing genes: {len(missing_genes) / genes.shape[1]:.2f}\" )"
      ]
    },
    {
      "cell_type": "code",
      "execution_count": null,
      "metadata": {
        "colab": {
          "base_uri": "https://localhost:8080/"
        },
        "id": "SE7sYUfF5Fb4",
        "outputId": "e2a17731-2ef4-433a-df98-852d88376cd3"
      },
      "outputs": [
        {
          "output_type": "stream",
          "name": "stderr",
          "text": [
            "/usr/local/lib/python3.10/dist-packages/ipykernel/ipkernel.py:283: DeprecationWarning: `should_run_async` will not call `transform_cell` automatically in the future. Please pass the result to `transformed_cell` argument and any exception that happen during thetransform in `preprocessing_exc_tuple` in IPython 7.17 and above.\n",
            "  and should_run_async(code)\n"
          ]
        },
        {
          "output_type": "execute_result",
          "data": {
            "text/plain": [
              "(999, 20183)"
            ]
          },
          "metadata": {},
          "execution_count": 63
        }
      ],
      "source": [
        "genes = genes.dropna(axis=1)\n",
        "genes.shape"
      ]
    },
    {
      "cell_type": "markdown",
      "metadata": {
        "id": "y57LFvsgByRM"
      },
      "source": [
        "**Lasso Regression for Feature Selection**"
      ]
    },
    {
      "cell_type": "code",
      "execution_count": null,
      "metadata": {
        "colab": {
          "base_uri": "https://localhost:8080/"
        },
        "id": "pej10QIq-3Ii",
        "outputId": "64f75592-b3d0-4bac-d8ac-2b433df16ca5"
      },
      "outputs": [
        {
          "output_type": "stream",
          "name": "stderr",
          "text": [
            "/usr/local/lib/python3.10/dist-packages/ipykernel/ipkernel.py:283: DeprecationWarning: `should_run_async` will not call `transform_cell` automatically in the future. Please pass the result to `transformed_cell` argument and any exception that happen during thetransform in `preprocessing_exc_tuple` in IPython 7.17 and above.\n",
            "  and should_run_async(code)\n"
          ]
        },
        {
          "output_type": "stream",
          "name": "stdout",
          "text": [
            "Shape of selected features: (999, 57)\n",
            "Selected features (Entrez Gene IDs): Int64Index([    10551,    155465,     91074,      8537,    143379,    149563,\n",
            "                57150,    401546,    401535,    158067,       771,       786,\n",
            "                55450,     54901,    729767,      1131,     22866,      1363,\n",
            "                27254,      1452,      1602,      2300,    161835,      2625,\n",
            "                 9118,     10265,      3787,    606293,      4010, 100128191,\n",
            "               285033,    164312,    116372,    284348,     79083,      9313,\n",
            "               145957,     11165,    169611,     93210,     94026,      5460,\n",
            "                25837,    255426,       388,      6017,      6627,    254122,\n",
            "               222183,      7031,      3195,      7104,    157753,     11013,\n",
            "                10103,      9654,      7368],\n",
            "           dtype='int64', name='Entrez_Gene_Id')\n"
          ]
        }
      ],
      "source": [
        "from sklearn.linear_model import Lasso\n",
        "from sklearn.feature_selection import SelectFromModel\n",
        "\n",
        "# Instantiate Lasso regression model\n",
        "lasso = Lasso(alpha=0.03)  # You can adjust the alpha parameter as needed\n",
        "\n",
        "# Fit the model\n",
        "lasso.fit(genes, clinical[\"Label\"].values)\n",
        "\n",
        "# Select features using the trained Lasso model\n",
        "model = SelectFromModel(lasso, prefit=True)\n",
        "genes_selected = model.transform(genes)\n",
        "\n",
        "# Shape of selected features\n",
        "print(\"Shape of selected features:\", genes_selected.shape)\n",
        "\n",
        "# Set aside gene features selected\n",
        "selected_features = genes.columns[model.get_support()]\n",
        "print(\"Selected features (Entrez Gene IDs):\", selected_features)\n"
      ]
    },
    {
      "cell_type": "code",
      "execution_count": null,
      "metadata": {
        "colab": {
          "base_uri": "https://localhost:8080/",
          "height": 377
        },
        "id": "RFiMb6m6F_mk",
        "outputId": "57e97ab9-7934-466d-d350-92ed672c5c44"
      },
      "outputs": [
        {
          "output_type": "stream",
          "name": "stderr",
          "text": [
            "/usr/local/lib/python3.10/dist-packages/ipykernel/ipkernel.py:283: DeprecationWarning: `should_run_async` will not call `transform_cell` automatically in the future. Please pass the result to `transformed_cell` argument and any exception that happen during thetransform in `preprocessing_exc_tuple` in IPython 7.17 and above.\n",
            "  and should_run_async(code)\n"
          ]
        },
        {
          "output_type": "execute_result",
          "data": {
            "text/plain": [
              "Entrez_Gene_Id   10551   155465  91074   8537    143379  149563  57150   \\\n",
              "TCGA-3C-AAAU-01 -0.3382  0.7440  0.8410  0.5998 -1.3485 -2.1100 -0.6921   \n",
              "TCGA-3C-AALI-01  0.9688  0.8540  0.3367  1.6893  1.1354 -0.3955 -1.0560   \n",
              "TCGA-3C-AALJ-01  0.3957  0.5845  1.1259  1.0173 -1.6026 -1.4954 -2.3766   \n",
              "TCGA-3C-AALK-01  0.6384  0.1980  0.8446  0.1889  0.3630 -0.1178  0.1833   \n",
              "TCGA-4H-AAAK-01  0.2845  0.2268  0.4394 -0.0449  0.6868  0.9287  0.1617   \n",
              "\n",
              "Entrez_Gene_Id   401546  401535  158067  ...  254122  222183  7031    3195    \\\n",
              "TCGA-3C-AAAU-01  0.6167 -1.3062  0.2543  ... -0.8150  1.7296 -0.6914  0.7391   \n",
              "TCGA-3C-AALI-01  0.4525 -0.7934  0.3772  ... -0.3699  0.7580 -0.3852 -1.1189   \n",
              "TCGA-3C-AALJ-01 -3.4345 -1.3062  0.4910  ... -0.6935  0.5507 -0.3153 -1.1189   \n",
              "TCGA-3C-AALK-01  0.8912 -0.1531  0.3688  ... -0.3610  0.6755  1.1335 -1.1189   \n",
              "TCGA-4H-AAAK-01  0.6758 -0.1323  0.9663  ...  0.8746  0.8174  0.8219 -1.1189   \n",
              "\n",
              "Entrez_Gene_Id   7104    157753  11013   10103   9654    7368    \n",
              "TCGA-3C-AAAU-01 -0.5315 -1.3784  0.6873  1.1186 -0.8691 -1.7097  \n",
              "TCGA-3C-AALI-01 -0.6382 -0.8949  0.3087  0.1801 -0.8485 -0.8453  \n",
              "TCGA-3C-AALJ-01 -1.1524 -0.2267  1.0042  0.3831 -0.7447 -1.0931  \n",
              "TCGA-3C-AALK-01  0.3251 -0.9929  0.0023  0.6662 -0.1078 -0.0454  \n",
              "TCGA-4H-AAAK-01 -0.7326 -0.4624  0.5726 -0.0912 -0.4827 -0.0001  \n",
              "\n",
              "[5 rows x 57 columns]"
            ],
            "text/html": [
              "\n",
              "  <div id=\"df-d071e8ac-9580-4542-833e-97e4a3887ced\" class=\"colab-df-container\">\n",
              "    <div>\n",
              "<style scoped>\n",
              "    .dataframe tbody tr th:only-of-type {\n",
              "        vertical-align: middle;\n",
              "    }\n",
              "\n",
              "    .dataframe tbody tr th {\n",
              "        vertical-align: top;\n",
              "    }\n",
              "\n",
              "    .dataframe thead th {\n",
              "        text-align: right;\n",
              "    }\n",
              "</style>\n",
              "<table border=\"1\" class=\"dataframe\">\n",
              "  <thead>\n",
              "    <tr style=\"text-align: right;\">\n",
              "      <th>Entrez_Gene_Id</th>\n",
              "      <th>10551</th>\n",
              "      <th>155465</th>\n",
              "      <th>91074</th>\n",
              "      <th>8537</th>\n",
              "      <th>143379</th>\n",
              "      <th>149563</th>\n",
              "      <th>57150</th>\n",
              "      <th>401546</th>\n",
              "      <th>401535</th>\n",
              "      <th>158067</th>\n",
              "      <th>...</th>\n",
              "      <th>254122</th>\n",
              "      <th>222183</th>\n",
              "      <th>7031</th>\n",
              "      <th>3195</th>\n",
              "      <th>7104</th>\n",
              "      <th>157753</th>\n",
              "      <th>11013</th>\n",
              "      <th>10103</th>\n",
              "      <th>9654</th>\n",
              "      <th>7368</th>\n",
              "    </tr>\n",
              "  </thead>\n",
              "  <tbody>\n",
              "    <tr>\n",
              "      <th>TCGA-3C-AAAU-01</th>\n",
              "      <td>-0.3382</td>\n",
              "      <td>0.7440</td>\n",
              "      <td>0.8410</td>\n",
              "      <td>0.5998</td>\n",
              "      <td>-1.3485</td>\n",
              "      <td>-2.1100</td>\n",
              "      <td>-0.6921</td>\n",
              "      <td>0.6167</td>\n",
              "      <td>-1.3062</td>\n",
              "      <td>0.2543</td>\n",
              "      <td>...</td>\n",
              "      <td>-0.8150</td>\n",
              "      <td>1.7296</td>\n",
              "      <td>-0.6914</td>\n",
              "      <td>0.7391</td>\n",
              "      <td>-0.5315</td>\n",
              "      <td>-1.3784</td>\n",
              "      <td>0.6873</td>\n",
              "      <td>1.1186</td>\n",
              "      <td>-0.8691</td>\n",
              "      <td>-1.7097</td>\n",
              "    </tr>\n",
              "    <tr>\n",
              "      <th>TCGA-3C-AALI-01</th>\n",
              "      <td>0.9688</td>\n",
              "      <td>0.8540</td>\n",
              "      <td>0.3367</td>\n",
              "      <td>1.6893</td>\n",
              "      <td>1.1354</td>\n",
              "      <td>-0.3955</td>\n",
              "      <td>-1.0560</td>\n",
              "      <td>0.4525</td>\n",
              "      <td>-0.7934</td>\n",
              "      <td>0.3772</td>\n",
              "      <td>...</td>\n",
              "      <td>-0.3699</td>\n",
              "      <td>0.7580</td>\n",
              "      <td>-0.3852</td>\n",
              "      <td>-1.1189</td>\n",
              "      <td>-0.6382</td>\n",
              "      <td>-0.8949</td>\n",
              "      <td>0.3087</td>\n",
              "      <td>0.1801</td>\n",
              "      <td>-0.8485</td>\n",
              "      <td>-0.8453</td>\n",
              "    </tr>\n",
              "    <tr>\n",
              "      <th>TCGA-3C-AALJ-01</th>\n",
              "      <td>0.3957</td>\n",
              "      <td>0.5845</td>\n",
              "      <td>1.1259</td>\n",
              "      <td>1.0173</td>\n",
              "      <td>-1.6026</td>\n",
              "      <td>-1.4954</td>\n",
              "      <td>-2.3766</td>\n",
              "      <td>-3.4345</td>\n",
              "      <td>-1.3062</td>\n",
              "      <td>0.4910</td>\n",
              "      <td>...</td>\n",
              "      <td>-0.6935</td>\n",
              "      <td>0.5507</td>\n",
              "      <td>-0.3153</td>\n",
              "      <td>-1.1189</td>\n",
              "      <td>-1.1524</td>\n",
              "      <td>-0.2267</td>\n",
              "      <td>1.0042</td>\n",
              "      <td>0.3831</td>\n",
              "      <td>-0.7447</td>\n",
              "      <td>-1.0931</td>\n",
              "    </tr>\n",
              "    <tr>\n",
              "      <th>TCGA-3C-AALK-01</th>\n",
              "      <td>0.6384</td>\n",
              "      <td>0.1980</td>\n",
              "      <td>0.8446</td>\n",
              "      <td>0.1889</td>\n",
              "      <td>0.3630</td>\n",
              "      <td>-0.1178</td>\n",
              "      <td>0.1833</td>\n",
              "      <td>0.8912</td>\n",
              "      <td>-0.1531</td>\n",
              "      <td>0.3688</td>\n",
              "      <td>...</td>\n",
              "      <td>-0.3610</td>\n",
              "      <td>0.6755</td>\n",
              "      <td>1.1335</td>\n",
              "      <td>-1.1189</td>\n",
              "      <td>0.3251</td>\n",
              "      <td>-0.9929</td>\n",
              "      <td>0.0023</td>\n",
              "      <td>0.6662</td>\n",
              "      <td>-0.1078</td>\n",
              "      <td>-0.0454</td>\n",
              "    </tr>\n",
              "    <tr>\n",
              "      <th>TCGA-4H-AAAK-01</th>\n",
              "      <td>0.2845</td>\n",
              "      <td>0.2268</td>\n",
              "      <td>0.4394</td>\n",
              "      <td>-0.0449</td>\n",
              "      <td>0.6868</td>\n",
              "      <td>0.9287</td>\n",
              "      <td>0.1617</td>\n",
              "      <td>0.6758</td>\n",
              "      <td>-0.1323</td>\n",
              "      <td>0.9663</td>\n",
              "      <td>...</td>\n",
              "      <td>0.8746</td>\n",
              "      <td>0.8174</td>\n",
              "      <td>0.8219</td>\n",
              "      <td>-1.1189</td>\n",
              "      <td>-0.7326</td>\n",
              "      <td>-0.4624</td>\n",
              "      <td>0.5726</td>\n",
              "      <td>-0.0912</td>\n",
              "      <td>-0.4827</td>\n",
              "      <td>-0.0001</td>\n",
              "    </tr>\n",
              "  </tbody>\n",
              "</table>\n",
              "<p>5 rows × 57 columns</p>\n",
              "</div>\n",
              "    <div class=\"colab-df-buttons\">\n",
              "\n",
              "  <div class=\"colab-df-container\">\n",
              "    <button class=\"colab-df-convert\" onclick=\"convertToInteractive('df-d071e8ac-9580-4542-833e-97e4a3887ced')\"\n",
              "            title=\"Convert this dataframe to an interactive table.\"\n",
              "            style=\"display:none;\">\n",
              "\n",
              "  <svg xmlns=\"http://www.w3.org/2000/svg\" height=\"24px\" viewBox=\"0 -960 960 960\">\n",
              "    <path d=\"M120-120v-720h720v720H120Zm60-500h600v-160H180v160Zm220 220h160v-160H400v160Zm0 220h160v-160H400v160ZM180-400h160v-160H180v160Zm440 0h160v-160H620v160ZM180-180h160v-160H180v160Zm440 0h160v-160H620v160Z\"/>\n",
              "  </svg>\n",
              "    </button>\n",
              "\n",
              "  <style>\n",
              "    .colab-df-container {\n",
              "      display:flex;\n",
              "      gap: 12px;\n",
              "    }\n",
              "\n",
              "    .colab-df-convert {\n",
              "      background-color: #E8F0FE;\n",
              "      border: none;\n",
              "      border-radius: 50%;\n",
              "      cursor: pointer;\n",
              "      display: none;\n",
              "      fill: #1967D2;\n",
              "      height: 32px;\n",
              "      padding: 0 0 0 0;\n",
              "      width: 32px;\n",
              "    }\n",
              "\n",
              "    .colab-df-convert:hover {\n",
              "      background-color: #E2EBFA;\n",
              "      box-shadow: 0px 1px 2px rgba(60, 64, 67, 0.3), 0px 1px 3px 1px rgba(60, 64, 67, 0.15);\n",
              "      fill: #174EA6;\n",
              "    }\n",
              "\n",
              "    .colab-df-buttons div {\n",
              "      margin-bottom: 4px;\n",
              "    }\n",
              "\n",
              "    [theme=dark] .colab-df-convert {\n",
              "      background-color: #3B4455;\n",
              "      fill: #D2E3FC;\n",
              "    }\n",
              "\n",
              "    [theme=dark] .colab-df-convert:hover {\n",
              "      background-color: #434B5C;\n",
              "      box-shadow: 0px 1px 3px 1px rgba(0, 0, 0, 0.15);\n",
              "      filter: drop-shadow(0px 1px 2px rgba(0, 0, 0, 0.3));\n",
              "      fill: #FFFFFF;\n",
              "    }\n",
              "  </style>\n",
              "\n",
              "    <script>\n",
              "      const buttonEl =\n",
              "        document.querySelector('#df-d071e8ac-9580-4542-833e-97e4a3887ced button.colab-df-convert');\n",
              "      buttonEl.style.display =\n",
              "        google.colab.kernel.accessAllowed ? 'block' : 'none';\n",
              "\n",
              "      async function convertToInteractive(key) {\n",
              "        const element = document.querySelector('#df-d071e8ac-9580-4542-833e-97e4a3887ced');\n",
              "        const dataTable =\n",
              "          await google.colab.kernel.invokeFunction('convertToInteractive',\n",
              "                                                    [key], {});\n",
              "        if (!dataTable) return;\n",
              "\n",
              "        const docLinkHtml = 'Like what you see? Visit the ' +\n",
              "          '<a target=\"_blank\" href=https://colab.research.google.com/notebooks/data_table.ipynb>data table notebook</a>'\n",
              "          + ' to learn more about interactive tables.';\n",
              "        element.innerHTML = '';\n",
              "        dataTable['output_type'] = 'display_data';\n",
              "        await google.colab.output.renderOutput(dataTable, element);\n",
              "        const docLink = document.createElement('div');\n",
              "        docLink.innerHTML = docLinkHtml;\n",
              "        element.appendChild(docLink);\n",
              "      }\n",
              "    </script>\n",
              "  </div>\n",
              "\n",
              "\n",
              "<div id=\"df-65cdcfdd-356a-4480-95e7-803e93c63898\">\n",
              "  <button class=\"colab-df-quickchart\" onclick=\"quickchart('df-65cdcfdd-356a-4480-95e7-803e93c63898')\"\n",
              "            title=\"Suggest charts\"\n",
              "            style=\"display:none;\">\n",
              "\n",
              "<svg xmlns=\"http://www.w3.org/2000/svg\" height=\"24px\"viewBox=\"0 0 24 24\"\n",
              "     width=\"24px\">\n",
              "    <g>\n",
              "        <path d=\"M19 3H5c-1.1 0-2 .9-2 2v14c0 1.1.9 2 2 2h14c1.1 0 2-.9 2-2V5c0-1.1-.9-2-2-2zM9 17H7v-7h2v7zm4 0h-2V7h2v10zm4 0h-2v-4h2v4z\"/>\n",
              "    </g>\n",
              "</svg>\n",
              "  </button>\n",
              "\n",
              "<style>\n",
              "  .colab-df-quickchart {\n",
              "      --bg-color: #E8F0FE;\n",
              "      --fill-color: #1967D2;\n",
              "      --hover-bg-color: #E2EBFA;\n",
              "      --hover-fill-color: #174EA6;\n",
              "      --disabled-fill-color: #AAA;\n",
              "      --disabled-bg-color: #DDD;\n",
              "  }\n",
              "\n",
              "  [theme=dark] .colab-df-quickchart {\n",
              "      --bg-color: #3B4455;\n",
              "      --fill-color: #D2E3FC;\n",
              "      --hover-bg-color: #434B5C;\n",
              "      --hover-fill-color: #FFFFFF;\n",
              "      --disabled-bg-color: #3B4455;\n",
              "      --disabled-fill-color: #666;\n",
              "  }\n",
              "\n",
              "  .colab-df-quickchart {\n",
              "    background-color: var(--bg-color);\n",
              "    border: none;\n",
              "    border-radius: 50%;\n",
              "    cursor: pointer;\n",
              "    display: none;\n",
              "    fill: var(--fill-color);\n",
              "    height: 32px;\n",
              "    padding: 0;\n",
              "    width: 32px;\n",
              "  }\n",
              "\n",
              "  .colab-df-quickchart:hover {\n",
              "    background-color: var(--hover-bg-color);\n",
              "    box-shadow: 0 1px 2px rgba(60, 64, 67, 0.3), 0 1px 3px 1px rgba(60, 64, 67, 0.15);\n",
              "    fill: var(--button-hover-fill-color);\n",
              "  }\n",
              "\n",
              "  .colab-df-quickchart-complete:disabled,\n",
              "  .colab-df-quickchart-complete:disabled:hover {\n",
              "    background-color: var(--disabled-bg-color);\n",
              "    fill: var(--disabled-fill-color);\n",
              "    box-shadow: none;\n",
              "  }\n",
              "\n",
              "  .colab-df-spinner {\n",
              "    border: 2px solid var(--fill-color);\n",
              "    border-color: transparent;\n",
              "    border-bottom-color: var(--fill-color);\n",
              "    animation:\n",
              "      spin 1s steps(1) infinite;\n",
              "  }\n",
              "\n",
              "  @keyframes spin {\n",
              "    0% {\n",
              "      border-color: transparent;\n",
              "      border-bottom-color: var(--fill-color);\n",
              "      border-left-color: var(--fill-color);\n",
              "    }\n",
              "    20% {\n",
              "      border-color: transparent;\n",
              "      border-left-color: var(--fill-color);\n",
              "      border-top-color: var(--fill-color);\n",
              "    }\n",
              "    30% {\n",
              "      border-color: transparent;\n",
              "      border-left-color: var(--fill-color);\n",
              "      border-top-color: var(--fill-color);\n",
              "      border-right-color: var(--fill-color);\n",
              "    }\n",
              "    40% {\n",
              "      border-color: transparent;\n",
              "      border-right-color: var(--fill-color);\n",
              "      border-top-color: var(--fill-color);\n",
              "    }\n",
              "    60% {\n",
              "      border-color: transparent;\n",
              "      border-right-color: var(--fill-color);\n",
              "    }\n",
              "    80% {\n",
              "      border-color: transparent;\n",
              "      border-right-color: var(--fill-color);\n",
              "      border-bottom-color: var(--fill-color);\n",
              "    }\n",
              "    90% {\n",
              "      border-color: transparent;\n",
              "      border-bottom-color: var(--fill-color);\n",
              "    }\n",
              "  }\n",
              "</style>\n",
              "\n",
              "  <script>\n",
              "    async function quickchart(key) {\n",
              "      const quickchartButtonEl =\n",
              "        document.querySelector('#' + key + ' button');\n",
              "      quickchartButtonEl.disabled = true;  // To prevent multiple clicks.\n",
              "      quickchartButtonEl.classList.add('colab-df-spinner');\n",
              "      try {\n",
              "        const charts = await google.colab.kernel.invokeFunction(\n",
              "            'suggestCharts', [key], {});\n",
              "      } catch (error) {\n",
              "        console.error('Error during call to suggestCharts:', error);\n",
              "      }\n",
              "      quickchartButtonEl.classList.remove('colab-df-spinner');\n",
              "      quickchartButtonEl.classList.add('colab-df-quickchart-complete');\n",
              "    }\n",
              "    (() => {\n",
              "      let quickchartButtonEl =\n",
              "        document.querySelector('#df-65cdcfdd-356a-4480-95e7-803e93c63898 button');\n",
              "      quickchartButtonEl.style.display =\n",
              "        google.colab.kernel.accessAllowed ? 'block' : 'none';\n",
              "    })();\n",
              "  </script>\n",
              "</div>\n",
              "\n",
              "    </div>\n",
              "  </div>\n"
            ]
          },
          "metadata": {},
          "execution_count": 65
        }
      ],
      "source": [
        "genes_lasso = pd.DataFrame(genes_selected)\n",
        "genes_lasso.columns = selected_features #selected features\n",
        "genes_lasso.index = genes.index #observations\n",
        "genes_lasso.head()"
      ]
    },
    {
      "cell_type": "code",
      "execution_count": null,
      "metadata": {
        "colab": {
          "base_uri": "https://localhost:8080/"
        },
        "id": "kCN-O_8O_lKV",
        "outputId": "00474c59-5c09-4b96-93b8-2476a735a371"
      },
      "outputs": [
        {
          "output_type": "stream",
          "name": "stderr",
          "text": [
            "/usr/local/lib/python3.10/dist-packages/ipykernel/ipkernel.py:283: DeprecationWarning: `should_run_async` will not call `transform_cell` automatically in the future. Please pass the result to `transformed_cell` argument and any exception that happen during thetransform in `preprocessing_exc_tuple` in IPython 7.17 and above.\n",
            "  and should_run_async(code)\n"
          ]
        },
        {
          "output_type": "execute_result",
          "data": {
            "text/plain": [
              "(999, 14)"
            ]
          },
          "metadata": {},
          "execution_count": 66
        }
      ],
      "source": [
        "clinical.index = clinical['Sample ID'].values\n",
        "clinical.shape"
      ]
    },
    {
      "cell_type": "code",
      "execution_count": null,
      "metadata": {
        "colab": {
          "base_uri": "https://localhost:8080/"
        },
        "id": "wp0xFqQzGXrs",
        "outputId": "f1b42a61-f60c-4795-d744-f72a116f848d"
      },
      "outputs": [
        {
          "output_type": "stream",
          "name": "stderr",
          "text": [
            "/usr/local/lib/python3.10/dist-packages/ipykernel/ipkernel.py:283: DeprecationWarning: `should_run_async` will not call `transform_cell` automatically in the future. Please pass the result to `transformed_cell` argument and any exception that happen during thetransform in `preprocessing_exc_tuple` in IPython 7.17 and above.\n",
            "  and should_run_async(code)\n"
          ]
        }
      ],
      "source": [
        "## Check to see if patient IDs in the 2 DataFrames match\n",
        "assert all(genes.index == clinical.index)"
      ]
    },
    {
      "cell_type": "code",
      "execution_count": null,
      "metadata": {
        "colab": {
          "base_uri": "https://localhost:8080/"
        },
        "id": "9IeibY1vGeWz",
        "outputId": "87d773a4-cd8c-4ce9-ab77-7ff1e27de8db"
      },
      "outputs": [
        {
          "output_type": "stream",
          "name": "stderr",
          "text": [
            "/usr/local/lib/python3.10/dist-packages/ipykernel/ipkernel.py:283: DeprecationWarning: `should_run_async` will not call `transform_cell` automatically in the future. Please pass the result to `transformed_cell` argument and any exception that happen during thetransform in `preprocessing_exc_tuple` in IPython 7.17 and above.\n",
            "  and should_run_async(code)\n"
          ]
        }
      ],
      "source": [
        "y_lasso = clinical[\"Label\"].astype(int)"
      ]
    },
    {
      "cell_type": "markdown",
      "metadata": {
        "id": "cIG_sGv2DF9W"
      },
      "source": [
        "**L1-based Feature Selection**"
      ]
    },
    {
      "cell_type": "code",
      "execution_count": null,
      "metadata": {
        "colab": {
          "base_uri": "https://localhost:8080/"
        },
        "id": "92KKC_7U5FXW",
        "outputId": "8285960a-b1b7-49d8-9ff0-3867a90802e2"
      },
      "outputs": [
        {
          "output_type": "stream",
          "name": "stderr",
          "text": [
            "/usr/local/lib/python3.10/dist-packages/ipykernel/ipkernel.py:283: DeprecationWarning: `should_run_async` will not call `transform_cell` automatically in the future. Please pass the result to `transformed_cell` argument and any exception that happen during thetransform in `preprocessing_exc_tuple` in IPython 7.17 and above.\n",
            "  and should_run_async(code)\n"
          ]
        }
      ],
      "source": [
        "from sklearn.svm import LinearSVC\n",
        "from sklearn.feature_selection import SelectFromModel"
      ]
    },
    {
      "cell_type": "code",
      "execution_count": null,
      "metadata": {
        "colab": {
          "base_uri": "https://localhost:8080/"
        },
        "id": "L-4FcNGd5FQ1",
        "outputId": "5adc48dd-8a1b-46e4-e316-712979f27280"
      },
      "outputs": [
        {
          "output_type": "stream",
          "name": "stderr",
          "text": [
            "/usr/local/lib/python3.10/dist-packages/ipykernel/ipkernel.py:283: DeprecationWarning: `should_run_async` will not call `transform_cell` automatically in the future. Please pass the result to `transformed_cell` argument and any exception that happen during thetransform in `preprocessing_exc_tuple` in IPython 7.17 and above.\n",
            "  and should_run_async(code)\n"
          ]
        }
      ],
      "source": [
        "lsvc = LinearSVC(C=0.01, penalty=\"l1\", dual=False)"
      ]
    },
    {
      "cell_type": "code",
      "execution_count": null,
      "metadata": {
        "colab": {
          "base_uri": "https://localhost:8080/",
          "height": 129
        },
        "id": "2NVethOc5FM7",
        "outputId": "46251945-717a-4d8f-bdae-70f0b05c4a97"
      },
      "outputs": [
        {
          "output_type": "stream",
          "name": "stderr",
          "text": [
            "/usr/local/lib/python3.10/dist-packages/ipykernel/ipkernel.py:283: DeprecationWarning: `should_run_async` will not call `transform_cell` automatically in the future. Please pass the result to `transformed_cell` argument and any exception that happen during thetransform in `preprocessing_exc_tuple` in IPython 7.17 and above.\n",
            "  and should_run_async(code)\n"
          ]
        },
        {
          "output_type": "execute_result",
          "data": {
            "text/plain": [
              "LinearSVC(C=0.01, dual=False, penalty='l1')"
            ],
            "text/html": [
              "<style>#sk-container-id-3 {color: black;background-color: white;}#sk-container-id-3 pre{padding: 0;}#sk-container-id-3 div.sk-toggleable {background-color: white;}#sk-container-id-3 label.sk-toggleable__label {cursor: pointer;display: block;width: 100%;margin-bottom: 0;padding: 0.3em;box-sizing: border-box;text-align: center;}#sk-container-id-3 label.sk-toggleable__label-arrow:before {content: \"▸\";float: left;margin-right: 0.25em;color: #696969;}#sk-container-id-3 label.sk-toggleable__label-arrow:hover:before {color: black;}#sk-container-id-3 div.sk-estimator:hover label.sk-toggleable__label-arrow:before {color: black;}#sk-container-id-3 div.sk-toggleable__content {max-height: 0;max-width: 0;overflow: hidden;text-align: left;background-color: #f0f8ff;}#sk-container-id-3 div.sk-toggleable__content pre {margin: 0.2em;color: black;border-radius: 0.25em;background-color: #f0f8ff;}#sk-container-id-3 input.sk-toggleable__control:checked~div.sk-toggleable__content {max-height: 200px;max-width: 100%;overflow: auto;}#sk-container-id-3 input.sk-toggleable__control:checked~label.sk-toggleable__label-arrow:before {content: \"▾\";}#sk-container-id-3 div.sk-estimator input.sk-toggleable__control:checked~label.sk-toggleable__label {background-color: #d4ebff;}#sk-container-id-3 div.sk-label input.sk-toggleable__control:checked~label.sk-toggleable__label {background-color: #d4ebff;}#sk-container-id-3 input.sk-hidden--visually {border: 0;clip: rect(1px 1px 1px 1px);clip: rect(1px, 1px, 1px, 1px);height: 1px;margin: -1px;overflow: hidden;padding: 0;position: absolute;width: 1px;}#sk-container-id-3 div.sk-estimator {font-family: monospace;background-color: #f0f8ff;border: 1px dotted black;border-radius: 0.25em;box-sizing: border-box;margin-bottom: 0.5em;}#sk-container-id-3 div.sk-estimator:hover {background-color: #d4ebff;}#sk-container-id-3 div.sk-parallel-item::after {content: \"\";width: 100%;border-bottom: 1px solid gray;flex-grow: 1;}#sk-container-id-3 div.sk-label:hover label.sk-toggleable__label {background-color: #d4ebff;}#sk-container-id-3 div.sk-serial::before {content: \"\";position: absolute;border-left: 1px solid gray;box-sizing: border-box;top: 0;bottom: 0;left: 50%;z-index: 0;}#sk-container-id-3 div.sk-serial {display: flex;flex-direction: column;align-items: center;background-color: white;padding-right: 0.2em;padding-left: 0.2em;position: relative;}#sk-container-id-3 div.sk-item {position: relative;z-index: 1;}#sk-container-id-3 div.sk-parallel {display: flex;align-items: stretch;justify-content: center;background-color: white;position: relative;}#sk-container-id-3 div.sk-item::before, #sk-container-id-3 div.sk-parallel-item::before {content: \"\";position: absolute;border-left: 1px solid gray;box-sizing: border-box;top: 0;bottom: 0;left: 50%;z-index: -1;}#sk-container-id-3 div.sk-parallel-item {display: flex;flex-direction: column;z-index: 1;position: relative;background-color: white;}#sk-container-id-3 div.sk-parallel-item:first-child::after {align-self: flex-end;width: 50%;}#sk-container-id-3 div.sk-parallel-item:last-child::after {align-self: flex-start;width: 50%;}#sk-container-id-3 div.sk-parallel-item:only-child::after {width: 0;}#sk-container-id-3 div.sk-dashed-wrapped {border: 1px dashed gray;margin: 0 0.4em 0.5em 0.4em;box-sizing: border-box;padding-bottom: 0.4em;background-color: white;}#sk-container-id-3 div.sk-label label {font-family: monospace;font-weight: bold;display: inline-block;line-height: 1.2em;}#sk-container-id-3 div.sk-label-container {text-align: center;}#sk-container-id-3 div.sk-container {/* jupyter's `normalize.less` sets `[hidden] { display: none; }` but bootstrap.min.css set `[hidden] { display: none !important; }` so we also need the `!important` here to be able to override the default hidden behavior on the sphinx rendered scikit-learn.org. See: https://github.com/scikit-learn/scikit-learn/issues/21755 */display: inline-block !important;position: relative;}#sk-container-id-3 div.sk-text-repr-fallback {display: none;}</style><div id=\"sk-container-id-3\" class=\"sk-top-container\"><div class=\"sk-text-repr-fallback\"><pre>LinearSVC(C=0.01, dual=False, penalty=&#x27;l1&#x27;)</pre><b>In a Jupyter environment, please rerun this cell to show the HTML representation or trust the notebook. <br />On GitHub, the HTML representation is unable to render, please try loading this page with nbviewer.org.</b></div><div class=\"sk-container\" hidden><div class=\"sk-item\"><div class=\"sk-estimator sk-toggleable\"><input class=\"sk-toggleable__control sk-hidden--visually\" id=\"sk-estimator-id-3\" type=\"checkbox\" checked><label for=\"sk-estimator-id-3\" class=\"sk-toggleable__label sk-toggleable__label-arrow\">LinearSVC</label><div class=\"sk-toggleable__content\"><pre>LinearSVC(C=0.01, dual=False, penalty=&#x27;l1&#x27;)</pre></div></div></div></div></div>"
            ]
          },
          "metadata": {},
          "execution_count": 71
        }
      ],
      "source": [
        "lsvc.fit(genes, clinical[\"Label\"].astype(int).values)"
      ]
    },
    {
      "cell_type": "code",
      "execution_count": null,
      "metadata": {
        "colab": {
          "base_uri": "https://localhost:8080/"
        },
        "id": "pWu7FZ_55FJN",
        "outputId": "97282c30-a159-4bdd-839e-d76d4639ca9b"
      },
      "outputs": [
        {
          "output_type": "stream",
          "name": "stderr",
          "text": [
            "/usr/local/lib/python3.10/dist-packages/ipykernel/ipkernel.py:283: DeprecationWarning: `should_run_async` will not call `transform_cell` automatically in the future. Please pass the result to `transformed_cell` argument and any exception that happen during thetransform in `preprocessing_exc_tuple` in IPython 7.17 and above.\n",
            "  and should_run_async(code)\n"
          ]
        }
      ],
      "source": [
        "model = SelectFromModel(lsvc, prefit=True)"
      ]
    },
    {
      "cell_type": "code",
      "execution_count": null,
      "metadata": {
        "colab": {
          "base_uri": "https://localhost:8080/"
        },
        "id": "mMNNu2PS5yvX",
        "outputId": "49d98d18-d389-43e9-d9c3-2a55e74f9f34"
      },
      "outputs": [
        {
          "output_type": "stream",
          "name": "stderr",
          "text": [
            "/usr/local/lib/python3.10/dist-packages/ipykernel/ipkernel.py:283: DeprecationWarning: `should_run_async` will not call `transform_cell` automatically in the future. Please pass the result to `transformed_cell` argument and any exception that happen during thetransform in `preprocessing_exc_tuple` in IPython 7.17 and above.\n",
            "  and should_run_async(code)\n"
          ]
        },
        {
          "output_type": "execute_result",
          "data": {
            "text/plain": [
              "(999, 43)"
            ]
          },
          "metadata": {},
          "execution_count": 73
        }
      ],
      "source": [
        "genes_l1 = model.transform(genes)\n",
        "genes_l1.shape"
      ]
    },
    {
      "cell_type": "code",
      "execution_count": null,
      "metadata": {
        "colab": {
          "base_uri": "https://localhost:8080/"
        },
        "id": "6fTzvSQM5ypV",
        "outputId": "51231916-c593-42e1-a0aa-ec19cd595380"
      },
      "outputs": [
        {
          "output_type": "stream",
          "name": "stderr",
          "text": [
            "/usr/local/lib/python3.10/dist-packages/ipykernel/ipkernel.py:283: DeprecationWarning: `should_run_async` will not call `transform_cell` automatically in the future. Please pass the result to `transformed_cell` argument and any exception that happen during thetransform in `preprocessing_exc_tuple` in IPython 7.17 and above.\n",
            "  and should_run_async(code)\n"
          ]
        },
        {
          "output_type": "execute_result",
          "data": {
            "text/plain": [
              "Int64Index([155465,  91074,    696, 143379,  83695, 149563,  57150, 401535,\n",
              "               786, 729767,  22866,   1602,  51726,   2300,   2625,   9118,\n",
              "              3787, 126823,  55915,   4010, 164312, 116372, 284348,  84789,\n",
              "              9313, 193629, 169611,  93210, 255426,   6017, 140032,   6500,\n",
              "             26781, 254122,   6725, 222183,   7031,   7104, 157753,  11013,\n",
              "            131669, 646799,   7718],\n",
              "           dtype='int64', name='Entrez_Gene_Id')"
            ]
          },
          "metadata": {},
          "execution_count": 74
        }
      ],
      "source": [
        "## Set aside gene features selected\n",
        "features_l1 = genes.columns[model.get_support()]\n",
        "features_l1 #entrez gene Ids"
      ]
    },
    {
      "cell_type": "code",
      "execution_count": null,
      "metadata": {
        "colab": {
          "base_uri": "https://localhost:8080/"
        },
        "id": "QmS8fzekkAWC",
        "outputId": "5aaddfb6-36ae-401a-babd-ede6a3de0a86"
      },
      "outputs": [
        {
          "output_type": "stream",
          "name": "stderr",
          "text": [
            "/usr/local/lib/python3.10/dist-packages/ipykernel/ipkernel.py:283: DeprecationWarning: `should_run_async` will not call `transform_cell` automatically in the future. Please pass the result to `transformed_cell` argument and any exception that happen during thetransform in `preprocessing_exc_tuple` in IPython 7.17 and above.\n",
            "  and should_run_async(code)\n"
          ]
        },
        {
          "output_type": "execute_result",
          "data": {
            "text/plain": [
              "43"
            ]
          },
          "metadata": {},
          "execution_count": 75
        }
      ],
      "source": [
        "len(features_l1) #should match genes_l1.shape[1]"
      ]
    },
    {
      "cell_type": "code",
      "execution_count": null,
      "metadata": {
        "colab": {
          "base_uri": "https://localhost:8080/",
          "height": 377
        },
        "id": "nfinuxs_kEFD",
        "outputId": "6dde9376-db16-493b-d9f2-2703eb7517c9"
      },
      "outputs": [
        {
          "output_type": "stream",
          "name": "stderr",
          "text": [
            "/usr/local/lib/python3.10/dist-packages/ipykernel/ipkernel.py:283: DeprecationWarning: `should_run_async` will not call `transform_cell` automatically in the future. Please pass the result to `transformed_cell` argument and any exception that happen during thetransform in `preprocessing_exc_tuple` in IPython 7.17 and above.\n",
            "  and should_run_async(code)\n"
          ]
        },
        {
          "output_type": "execute_result",
          "data": {
            "text/plain": [
              "Entrez_Gene_Id   155465  91074   696     143379  83695   149563  57150   \\\n",
              "TCGA-3C-AAAU-01  0.7440  0.8410 -0.5802 -1.3485  0.3491 -2.1100 -0.6921   \n",
              "TCGA-3C-AALI-01  0.8540  0.3367 -0.3288  1.1354 -0.0079 -0.3955 -1.0560   \n",
              "TCGA-3C-AALJ-01  0.5845  1.1259 -0.4364 -1.6026  0.4183 -1.4954 -2.3766   \n",
              "TCGA-3C-AALK-01  0.1980  0.8446 -0.2444  0.3630  0.1042 -0.1178  0.1833   \n",
              "TCGA-4H-AAAK-01  0.2268  0.4394 -0.7818  0.6868 -1.5104  0.9287  0.1617   \n",
              "\n",
              "Entrez_Gene_Id   401535  786      729767  ...  254122  6725    222183  7031    \\\n",
              "TCGA-3C-AAAU-01 -1.3062 -1.1856 -728.237  ... -0.8150  1.2954  1.7296 -0.6914   \n",
              "TCGA-3C-AALI-01 -0.7934  1.2827 -728.237  ... -0.3699  1.3304  0.7580 -0.3852   \n",
              "TCGA-3C-AALJ-01 -1.3062  0.1288 -728.237  ... -0.6935 -1.0511  0.5507 -0.3153   \n",
              "TCGA-3C-AALK-01 -0.1531  0.5450 -728.237  ... -0.3610  0.5627  0.6755  1.1335   \n",
              "TCGA-4H-AAAK-01 -0.1323  0.4103 -728.237  ...  0.8746 -0.1779  0.8174  0.8219   \n",
              "\n",
              "Entrez_Gene_Id   7104    157753  11013   131669  646799  7718    \n",
              "TCGA-3C-AAAU-01 -0.5315 -1.3784  0.6873  2.0565 -0.5525  1.0571  \n",
              "TCGA-3C-AALI-01 -0.6382 -0.8949  0.3087  1.0001 -0.1701 -0.6991  \n",
              "TCGA-3C-AALJ-01 -1.1524 -0.2267  1.0042 -0.1528 -1.3726 -0.0630  \n",
              "TCGA-3C-AALK-01  0.3251 -0.9929  0.0023 -0.2259 -0.4139 -0.7741  \n",
              "TCGA-4H-AAAK-01 -0.7326 -0.4624  0.5726 -1.2664 -0.3909 -0.3668  \n",
              "\n",
              "[5 rows x 43 columns]"
            ],
            "text/html": [
              "\n",
              "  <div id=\"df-ad6bf314-9b0d-460c-a4b7-5e5d3efe1dbb\" class=\"colab-df-container\">\n",
              "    <div>\n",
              "<style scoped>\n",
              "    .dataframe tbody tr th:only-of-type {\n",
              "        vertical-align: middle;\n",
              "    }\n",
              "\n",
              "    .dataframe tbody tr th {\n",
              "        vertical-align: top;\n",
              "    }\n",
              "\n",
              "    .dataframe thead th {\n",
              "        text-align: right;\n",
              "    }\n",
              "</style>\n",
              "<table border=\"1\" class=\"dataframe\">\n",
              "  <thead>\n",
              "    <tr style=\"text-align: right;\">\n",
              "      <th>Entrez_Gene_Id</th>\n",
              "      <th>155465</th>\n",
              "      <th>91074</th>\n",
              "      <th>696</th>\n",
              "      <th>143379</th>\n",
              "      <th>83695</th>\n",
              "      <th>149563</th>\n",
              "      <th>57150</th>\n",
              "      <th>401535</th>\n",
              "      <th>786</th>\n",
              "      <th>729767</th>\n",
              "      <th>...</th>\n",
              "      <th>254122</th>\n",
              "      <th>6725</th>\n",
              "      <th>222183</th>\n",
              "      <th>7031</th>\n",
              "      <th>7104</th>\n",
              "      <th>157753</th>\n",
              "      <th>11013</th>\n",
              "      <th>131669</th>\n",
              "      <th>646799</th>\n",
              "      <th>7718</th>\n",
              "    </tr>\n",
              "  </thead>\n",
              "  <tbody>\n",
              "    <tr>\n",
              "      <th>TCGA-3C-AAAU-01</th>\n",
              "      <td>0.7440</td>\n",
              "      <td>0.8410</td>\n",
              "      <td>-0.5802</td>\n",
              "      <td>-1.3485</td>\n",
              "      <td>0.3491</td>\n",
              "      <td>-2.1100</td>\n",
              "      <td>-0.6921</td>\n",
              "      <td>-1.3062</td>\n",
              "      <td>-1.1856</td>\n",
              "      <td>-728.237</td>\n",
              "      <td>...</td>\n",
              "      <td>-0.8150</td>\n",
              "      <td>1.2954</td>\n",
              "      <td>1.7296</td>\n",
              "      <td>-0.6914</td>\n",
              "      <td>-0.5315</td>\n",
              "      <td>-1.3784</td>\n",
              "      <td>0.6873</td>\n",
              "      <td>2.0565</td>\n",
              "      <td>-0.5525</td>\n",
              "      <td>1.0571</td>\n",
              "    </tr>\n",
              "    <tr>\n",
              "      <th>TCGA-3C-AALI-01</th>\n",
              "      <td>0.8540</td>\n",
              "      <td>0.3367</td>\n",
              "      <td>-0.3288</td>\n",
              "      <td>1.1354</td>\n",
              "      <td>-0.0079</td>\n",
              "      <td>-0.3955</td>\n",
              "      <td>-1.0560</td>\n",
              "      <td>-0.7934</td>\n",
              "      <td>1.2827</td>\n",
              "      <td>-728.237</td>\n",
              "      <td>...</td>\n",
              "      <td>-0.3699</td>\n",
              "      <td>1.3304</td>\n",
              "      <td>0.7580</td>\n",
              "      <td>-0.3852</td>\n",
              "      <td>-0.6382</td>\n",
              "      <td>-0.8949</td>\n",
              "      <td>0.3087</td>\n",
              "      <td>1.0001</td>\n",
              "      <td>-0.1701</td>\n",
              "      <td>-0.6991</td>\n",
              "    </tr>\n",
              "    <tr>\n",
              "      <th>TCGA-3C-AALJ-01</th>\n",
              "      <td>0.5845</td>\n",
              "      <td>1.1259</td>\n",
              "      <td>-0.4364</td>\n",
              "      <td>-1.6026</td>\n",
              "      <td>0.4183</td>\n",
              "      <td>-1.4954</td>\n",
              "      <td>-2.3766</td>\n",
              "      <td>-1.3062</td>\n",
              "      <td>0.1288</td>\n",
              "      <td>-728.237</td>\n",
              "      <td>...</td>\n",
              "      <td>-0.6935</td>\n",
              "      <td>-1.0511</td>\n",
              "      <td>0.5507</td>\n",
              "      <td>-0.3153</td>\n",
              "      <td>-1.1524</td>\n",
              "      <td>-0.2267</td>\n",
              "      <td>1.0042</td>\n",
              "      <td>-0.1528</td>\n",
              "      <td>-1.3726</td>\n",
              "      <td>-0.0630</td>\n",
              "    </tr>\n",
              "    <tr>\n",
              "      <th>TCGA-3C-AALK-01</th>\n",
              "      <td>0.1980</td>\n",
              "      <td>0.8446</td>\n",
              "      <td>-0.2444</td>\n",
              "      <td>0.3630</td>\n",
              "      <td>0.1042</td>\n",
              "      <td>-0.1178</td>\n",
              "      <td>0.1833</td>\n",
              "      <td>-0.1531</td>\n",
              "      <td>0.5450</td>\n",
              "      <td>-728.237</td>\n",
              "      <td>...</td>\n",
              "      <td>-0.3610</td>\n",
              "      <td>0.5627</td>\n",
              "      <td>0.6755</td>\n",
              "      <td>1.1335</td>\n",
              "      <td>0.3251</td>\n",
              "      <td>-0.9929</td>\n",
              "      <td>0.0023</td>\n",
              "      <td>-0.2259</td>\n",
              "      <td>-0.4139</td>\n",
              "      <td>-0.7741</td>\n",
              "    </tr>\n",
              "    <tr>\n",
              "      <th>TCGA-4H-AAAK-01</th>\n",
              "      <td>0.2268</td>\n",
              "      <td>0.4394</td>\n",
              "      <td>-0.7818</td>\n",
              "      <td>0.6868</td>\n",
              "      <td>-1.5104</td>\n",
              "      <td>0.9287</td>\n",
              "      <td>0.1617</td>\n",
              "      <td>-0.1323</td>\n",
              "      <td>0.4103</td>\n",
              "      <td>-728.237</td>\n",
              "      <td>...</td>\n",
              "      <td>0.8746</td>\n",
              "      <td>-0.1779</td>\n",
              "      <td>0.8174</td>\n",
              "      <td>0.8219</td>\n",
              "      <td>-0.7326</td>\n",
              "      <td>-0.4624</td>\n",
              "      <td>0.5726</td>\n",
              "      <td>-1.2664</td>\n",
              "      <td>-0.3909</td>\n",
              "      <td>-0.3668</td>\n",
              "    </tr>\n",
              "  </tbody>\n",
              "</table>\n",
              "<p>5 rows × 43 columns</p>\n",
              "</div>\n",
              "    <div class=\"colab-df-buttons\">\n",
              "\n",
              "  <div class=\"colab-df-container\">\n",
              "    <button class=\"colab-df-convert\" onclick=\"convertToInteractive('df-ad6bf314-9b0d-460c-a4b7-5e5d3efe1dbb')\"\n",
              "            title=\"Convert this dataframe to an interactive table.\"\n",
              "            style=\"display:none;\">\n",
              "\n",
              "  <svg xmlns=\"http://www.w3.org/2000/svg\" height=\"24px\" viewBox=\"0 -960 960 960\">\n",
              "    <path d=\"M120-120v-720h720v720H120Zm60-500h600v-160H180v160Zm220 220h160v-160H400v160Zm0 220h160v-160H400v160ZM180-400h160v-160H180v160Zm440 0h160v-160H620v160ZM180-180h160v-160H180v160Zm440 0h160v-160H620v160Z\"/>\n",
              "  </svg>\n",
              "    </button>\n",
              "\n",
              "  <style>\n",
              "    .colab-df-container {\n",
              "      display:flex;\n",
              "      gap: 12px;\n",
              "    }\n",
              "\n",
              "    .colab-df-convert {\n",
              "      background-color: #E8F0FE;\n",
              "      border: none;\n",
              "      border-radius: 50%;\n",
              "      cursor: pointer;\n",
              "      display: none;\n",
              "      fill: #1967D2;\n",
              "      height: 32px;\n",
              "      padding: 0 0 0 0;\n",
              "      width: 32px;\n",
              "    }\n",
              "\n",
              "    .colab-df-convert:hover {\n",
              "      background-color: #E2EBFA;\n",
              "      box-shadow: 0px 1px 2px rgba(60, 64, 67, 0.3), 0px 1px 3px 1px rgba(60, 64, 67, 0.15);\n",
              "      fill: #174EA6;\n",
              "    }\n",
              "\n",
              "    .colab-df-buttons div {\n",
              "      margin-bottom: 4px;\n",
              "    }\n",
              "\n",
              "    [theme=dark] .colab-df-convert {\n",
              "      background-color: #3B4455;\n",
              "      fill: #D2E3FC;\n",
              "    }\n",
              "\n",
              "    [theme=dark] .colab-df-convert:hover {\n",
              "      background-color: #434B5C;\n",
              "      box-shadow: 0px 1px 3px 1px rgba(0, 0, 0, 0.15);\n",
              "      filter: drop-shadow(0px 1px 2px rgba(0, 0, 0, 0.3));\n",
              "      fill: #FFFFFF;\n",
              "    }\n",
              "  </style>\n",
              "\n",
              "    <script>\n",
              "      const buttonEl =\n",
              "        document.querySelector('#df-ad6bf314-9b0d-460c-a4b7-5e5d3efe1dbb button.colab-df-convert');\n",
              "      buttonEl.style.display =\n",
              "        google.colab.kernel.accessAllowed ? 'block' : 'none';\n",
              "\n",
              "      async function convertToInteractive(key) {\n",
              "        const element = document.querySelector('#df-ad6bf314-9b0d-460c-a4b7-5e5d3efe1dbb');\n",
              "        const dataTable =\n",
              "          await google.colab.kernel.invokeFunction('convertToInteractive',\n",
              "                                                    [key], {});\n",
              "        if (!dataTable) return;\n",
              "\n",
              "        const docLinkHtml = 'Like what you see? Visit the ' +\n",
              "          '<a target=\"_blank\" href=https://colab.research.google.com/notebooks/data_table.ipynb>data table notebook</a>'\n",
              "          + ' to learn more about interactive tables.';\n",
              "        element.innerHTML = '';\n",
              "        dataTable['output_type'] = 'display_data';\n",
              "        await google.colab.output.renderOutput(dataTable, element);\n",
              "        const docLink = document.createElement('div');\n",
              "        docLink.innerHTML = docLinkHtml;\n",
              "        element.appendChild(docLink);\n",
              "      }\n",
              "    </script>\n",
              "  </div>\n",
              "\n",
              "\n",
              "<div id=\"df-36acbc90-3acc-437f-923b-25143d80575c\">\n",
              "  <button class=\"colab-df-quickchart\" onclick=\"quickchart('df-36acbc90-3acc-437f-923b-25143d80575c')\"\n",
              "            title=\"Suggest charts\"\n",
              "            style=\"display:none;\">\n",
              "\n",
              "<svg xmlns=\"http://www.w3.org/2000/svg\" height=\"24px\"viewBox=\"0 0 24 24\"\n",
              "     width=\"24px\">\n",
              "    <g>\n",
              "        <path d=\"M19 3H5c-1.1 0-2 .9-2 2v14c0 1.1.9 2 2 2h14c1.1 0 2-.9 2-2V5c0-1.1-.9-2-2-2zM9 17H7v-7h2v7zm4 0h-2V7h2v10zm4 0h-2v-4h2v4z\"/>\n",
              "    </g>\n",
              "</svg>\n",
              "  </button>\n",
              "\n",
              "<style>\n",
              "  .colab-df-quickchart {\n",
              "      --bg-color: #E8F0FE;\n",
              "      --fill-color: #1967D2;\n",
              "      --hover-bg-color: #E2EBFA;\n",
              "      --hover-fill-color: #174EA6;\n",
              "      --disabled-fill-color: #AAA;\n",
              "      --disabled-bg-color: #DDD;\n",
              "  }\n",
              "\n",
              "  [theme=dark] .colab-df-quickchart {\n",
              "      --bg-color: #3B4455;\n",
              "      --fill-color: #D2E3FC;\n",
              "      --hover-bg-color: #434B5C;\n",
              "      --hover-fill-color: #FFFFFF;\n",
              "      --disabled-bg-color: #3B4455;\n",
              "      --disabled-fill-color: #666;\n",
              "  }\n",
              "\n",
              "  .colab-df-quickchart {\n",
              "    background-color: var(--bg-color);\n",
              "    border: none;\n",
              "    border-radius: 50%;\n",
              "    cursor: pointer;\n",
              "    display: none;\n",
              "    fill: var(--fill-color);\n",
              "    height: 32px;\n",
              "    padding: 0;\n",
              "    width: 32px;\n",
              "  }\n",
              "\n",
              "  .colab-df-quickchart:hover {\n",
              "    background-color: var(--hover-bg-color);\n",
              "    box-shadow: 0 1px 2px rgba(60, 64, 67, 0.3), 0 1px 3px 1px rgba(60, 64, 67, 0.15);\n",
              "    fill: var(--button-hover-fill-color);\n",
              "  }\n",
              "\n",
              "  .colab-df-quickchart-complete:disabled,\n",
              "  .colab-df-quickchart-complete:disabled:hover {\n",
              "    background-color: var(--disabled-bg-color);\n",
              "    fill: var(--disabled-fill-color);\n",
              "    box-shadow: none;\n",
              "  }\n",
              "\n",
              "  .colab-df-spinner {\n",
              "    border: 2px solid var(--fill-color);\n",
              "    border-color: transparent;\n",
              "    border-bottom-color: var(--fill-color);\n",
              "    animation:\n",
              "      spin 1s steps(1) infinite;\n",
              "  }\n",
              "\n",
              "  @keyframes spin {\n",
              "    0% {\n",
              "      border-color: transparent;\n",
              "      border-bottom-color: var(--fill-color);\n",
              "      border-left-color: var(--fill-color);\n",
              "    }\n",
              "    20% {\n",
              "      border-color: transparent;\n",
              "      border-left-color: var(--fill-color);\n",
              "      border-top-color: var(--fill-color);\n",
              "    }\n",
              "    30% {\n",
              "      border-color: transparent;\n",
              "      border-left-color: var(--fill-color);\n",
              "      border-top-color: var(--fill-color);\n",
              "      border-right-color: var(--fill-color);\n",
              "    }\n",
              "    40% {\n",
              "      border-color: transparent;\n",
              "      border-right-color: var(--fill-color);\n",
              "      border-top-color: var(--fill-color);\n",
              "    }\n",
              "    60% {\n",
              "      border-color: transparent;\n",
              "      border-right-color: var(--fill-color);\n",
              "    }\n",
              "    80% {\n",
              "      border-color: transparent;\n",
              "      border-right-color: var(--fill-color);\n",
              "      border-bottom-color: var(--fill-color);\n",
              "    }\n",
              "    90% {\n",
              "      border-color: transparent;\n",
              "      border-bottom-color: var(--fill-color);\n",
              "    }\n",
              "  }\n",
              "</style>\n",
              "\n",
              "  <script>\n",
              "    async function quickchart(key) {\n",
              "      const quickchartButtonEl =\n",
              "        document.querySelector('#' + key + ' button');\n",
              "      quickchartButtonEl.disabled = true;  // To prevent multiple clicks.\n",
              "      quickchartButtonEl.classList.add('colab-df-spinner');\n",
              "      try {\n",
              "        const charts = await google.colab.kernel.invokeFunction(\n",
              "            'suggestCharts', [key], {});\n",
              "      } catch (error) {\n",
              "        console.error('Error during call to suggestCharts:', error);\n",
              "      }\n",
              "      quickchartButtonEl.classList.remove('colab-df-spinner');\n",
              "      quickchartButtonEl.classList.add('colab-df-quickchart-complete');\n",
              "    }\n",
              "    (() => {\n",
              "      let quickchartButtonEl =\n",
              "        document.querySelector('#df-36acbc90-3acc-437f-923b-25143d80575c button');\n",
              "      quickchartButtonEl.style.display =\n",
              "        google.colab.kernel.accessAllowed ? 'block' : 'none';\n",
              "    })();\n",
              "  </script>\n",
              "</div>\n",
              "\n",
              "    </div>\n",
              "  </div>\n"
            ]
          },
          "metadata": {},
          "execution_count": 76
        }
      ],
      "source": [
        "genes_l1 = pd.DataFrame(genes_l1)\n",
        "genes_l1.columns = features_l1 #selected features\n",
        "genes_l1.index = genes.index #observations\n",
        "genes_l1.head()"
      ]
    },
    {
      "cell_type": "code",
      "execution_count": null,
      "metadata": {
        "colab": {
          "base_uri": "https://localhost:8080/"
        },
        "id": "ns1KisXXkEBG",
        "outputId": "f3f1fb78-7fdb-46b0-af49-7f0a9f4eeee2"
      },
      "outputs": [
        {
          "output_type": "stream",
          "name": "stderr",
          "text": [
            "/usr/local/lib/python3.10/dist-packages/ipykernel/ipkernel.py:283: DeprecationWarning: `should_run_async` will not call `transform_cell` automatically in the future. Please pass the result to `transformed_cell` argument and any exception that happen during thetransform in `preprocessing_exc_tuple` in IPython 7.17 and above.\n",
            "  and should_run_async(code)\n"
          ]
        },
        {
          "output_type": "execute_result",
          "data": {
            "text/plain": [
              "(999, 14)"
            ]
          },
          "metadata": {},
          "execution_count": 77
        }
      ],
      "source": [
        "clinical.index = clinical['Sample ID'].values\n",
        "clinical.shape"
      ]
    },
    {
      "cell_type": "code",
      "execution_count": null,
      "metadata": {
        "colab": {
          "base_uri": "https://localhost:8080/"
        },
        "id": "8KLya4c5kD_d",
        "outputId": "4d83dd8b-4b95-40d0-86a3-2fb6f7532799"
      },
      "outputs": [
        {
          "output_type": "stream",
          "name": "stderr",
          "text": [
            "/usr/local/lib/python3.10/dist-packages/ipykernel/ipkernel.py:283: DeprecationWarning: `should_run_async` will not call `transform_cell` automatically in the future. Please pass the result to `transformed_cell` argument and any exception that happen during thetransform in `preprocessing_exc_tuple` in IPython 7.17 and above.\n",
            "  and should_run_async(code)\n"
          ]
        }
      ],
      "source": [
        "## Check to see if patient IDs in the 2 DataFrames match\n",
        "assert all(genes.index == clinical.index)"
      ]
    },
    {
      "cell_type": "code",
      "execution_count": null,
      "metadata": {
        "colab": {
          "base_uri": "https://localhost:8080/"
        },
        "id": "ehpZ996WkDz0",
        "outputId": "243d647d-ac29-42b3-9bd7-ce4808d16b55"
      },
      "outputs": [
        {
          "output_type": "stream",
          "name": "stderr",
          "text": [
            "/usr/local/lib/python3.10/dist-packages/ipykernel/ipkernel.py:283: DeprecationWarning: `should_run_async` will not call `transform_cell` automatically in the future. Please pass the result to `transformed_cell` argument and any exception that happen during thetransform in `preprocessing_exc_tuple` in IPython 7.17 and above.\n",
            "  and should_run_async(code)\n"
          ]
        }
      ],
      "source": [
        "y_l1 = clinical[\"Label\"].astype(int)"
      ]
    },
    {
      "cell_type": "markdown",
      "metadata": {
        "id": "bCj3c-CtDo39"
      },
      "source": [
        "#Supervised Learning with SVM with Hyperparameter Tuning as Benchmark"
      ]
    },
    {
      "cell_type": "code",
      "execution_count": null,
      "metadata": {
        "colab": {
          "base_uri": "https://localhost:8080/"
        },
        "id": "46MjO3yoleUE",
        "outputId": "edb8c424-c82e-46a8-c9e3-0e3fffdc3436"
      },
      "outputs": [
        {
          "output_type": "stream",
          "name": "stderr",
          "text": [
            "/usr/local/lib/python3.10/dist-packages/ipykernel/ipkernel.py:283: DeprecationWarning: `should_run_async` will not call `transform_cell` automatically in the future. Please pass the result to `transformed_cell` argument and any exception that happen during thetransform in `preprocessing_exc_tuple` in IPython 7.17 and above.\n",
            "  and should_run_async(code)\n"
          ]
        }
      ],
      "source": [
        "X_train, X_test, y_train, y_test = train_test_split(genes_l1, y_l1, test_size=0.2, random_state=0)"
      ]
    },
    {
      "cell_type": "code",
      "execution_count": null,
      "metadata": {
        "colab": {
          "base_uri": "https://localhost:8080/"
        },
        "id": "A4MhqmgZlnBR",
        "outputId": "9b0dd3e0-e52b-4625-dcdc-cf1caae71922"
      },
      "outputs": [
        {
          "output_type": "stream",
          "name": "stderr",
          "text": [
            "/usr/local/lib/python3.10/dist-packages/ipykernel/ipkernel.py:283: DeprecationWarning: `should_run_async` will not call `transform_cell` automatically in the future. Please pass the result to `transformed_cell` argument and any exception that happen during thetransform in `preprocessing_exc_tuple` in IPython 7.17 and above.\n",
            "  and should_run_async(code)\n"
          ]
        },
        {
          "output_type": "execute_result",
          "data": {
            "text/plain": [
              "array([0.56504525, 4.34347826])"
            ]
          },
          "metadata": {},
          "execution_count": 119
        }
      ],
      "source": [
        "class_weights = len(y_l1) / (2 * np.bincount(y_l1))\n",
        "class_weights #balanced class weights"
      ]
    },
    {
      "cell_type": "code",
      "execution_count": null,
      "metadata": {
        "colab": {
          "base_uri": "https://localhost:8080/"
        },
        "id": "5S31n5QElsxa",
        "outputId": "e73df554-90e5-47b8-caf5-f21b15aaf103"
      },
      "outputs": [
        {
          "output_type": "stream",
          "name": "stderr",
          "text": [
            "/usr/local/lib/python3.10/dist-packages/ipykernel/ipkernel.py:283: DeprecationWarning: `should_run_async` will not call `transform_cell` automatically in the future. Please pass the result to `transformed_cell` argument and any exception that happen during thetransform in `preprocessing_exc_tuple` in IPython 7.17 and above.\n",
            "  and should_run_async(code)\n"
          ]
        },
        {
          "output_type": "execute_result",
          "data": {
            "text/plain": [
              "7.6869565217391305"
            ]
          },
          "metadata": {},
          "execution_count": 120
        }
      ],
      "source": [
        "## Relative positive class weight\n",
        "class_weights[1] / class_weights[0]"
      ]
    },
    {
      "cell_type": "code",
      "execution_count": null,
      "metadata": {
        "colab": {
          "base_uri": "https://localhost:8080/"
        },
        "id": "ehO6Gei6lspn",
        "outputId": "0016b4d5-09ca-49de-f1f1-80e8fc9c552b"
      },
      "outputs": [
        {
          "output_type": "stream",
          "name": "stderr",
          "text": [
            "/usr/local/lib/python3.10/dist-packages/ipykernel/ipkernel.py:283: DeprecationWarning: `should_run_async` will not call `transform_cell` automatically in the future. Please pass the result to `transformed_cell` argument and any exception that happen during thetransform in `preprocessing_exc_tuple` in IPython 7.17 and above.\n",
            "  and should_run_async(code)\n"
          ]
        },
        {
          "output_type": "execute_result",
          "data": {
            "text/plain": [
              "7.6869565217391305"
            ]
          },
          "metadata": {},
          "execution_count": 121
        }
      ],
      "source": [
        "sum(y_l1 == 0) / sum(y_l1 == 1)"
      ]
    },
    {
      "cell_type": "markdown",
      "metadata": {
        "id": "Q4jKSAyAD-m1"
      },
      "source": [
        "**Train SVM with Hyperparameter Tuning**"
      ]
    },
    {
      "cell_type": "code",
      "execution_count": null,
      "metadata": {
        "colab": {
          "base_uri": "https://localhost:8080/"
        },
        "id": "rWLoVdjQlsmQ",
        "outputId": "2cc28271-accd-4627-bbbe-33b6518be982"
      },
      "outputs": [
        {
          "output_type": "stream",
          "name": "stderr",
          "text": [
            "/usr/local/lib/python3.10/dist-packages/ipykernel/ipkernel.py:283: DeprecationWarning: `should_run_async` will not call `transform_cell` automatically in the future. Please pass the result to `transformed_cell` argument and any exception that happen during thetransform in `preprocessing_exc_tuple` in IPython 7.17 and above.\n",
            "  and should_run_async(code)\n"
          ]
        }
      ],
      "source": [
        "from sklearn.svm import SVC\n",
        "from sklearn.model_selection import RandomizedSearchCV\n",
        "from sklearn import metrics\n",
        "from scipy import stats\n",
        "\n",
        "NUM_CANDIDATES = 20\n",
        "SVM_PARAMS = {'C': stats.expon(scale=100), 'gamma': stats.expon(scale=0.1)}"
      ]
    },
    {
      "cell_type": "code",
      "execution_count": null,
      "metadata": {
        "colab": {
          "base_uri": "https://localhost:8080/"
        },
        "id": "jb0VF_ZolsRM",
        "outputId": "20c672ae-b7be-46d5-eb70-9179eb93143c"
      },
      "outputs": [
        {
          "output_type": "stream",
          "name": "stderr",
          "text": [
            "/usr/local/lib/python3.10/dist-packages/ipykernel/ipkernel.py:283: DeprecationWarning: `should_run_async` will not call `transform_cell` automatically in the future. Please pass the result to `transformed_cell` argument and any exception that happen during thetransform in `preprocessing_exc_tuple` in IPython 7.17 and above.\n",
            "  and should_run_async(code)\n"
          ]
        }
      ],
      "source": [
        "idx_validation = np.random.choice(range(X_train.shape[0]), size=200)\n",
        "idx_train = np.setdiff1d(range(X_train.shape[0]), idx_validation)"
      ]
    },
    {
      "cell_type": "code",
      "execution_count": null,
      "metadata": {
        "colab": {
          "base_uri": "https://localhost:8080/",
          "height": 171
        },
        "id": "W55Dp39Jl6TS",
        "outputId": "aacb33a9-5a17-4465-ad03-beae6b136223"
      },
      "outputs": [
        {
          "output_type": "stream",
          "name": "stderr",
          "text": [
            "/usr/local/lib/python3.10/dist-packages/ipykernel/ipkernel.py:283: DeprecationWarning: `should_run_async` will not call `transform_cell` automatically in the future. Please pass the result to `transformed_cell` argument and any exception that happen during thetransform in `preprocessing_exc_tuple` in IPython 7.17 and above.\n",
            "  and should_run_async(code)\n"
          ]
        },
        {
          "output_type": "execute_result",
          "data": {
            "text/plain": [
              "RandomizedSearchCV(cv=[(array([  0,   3,   7,   9,  10,  12,  13,  14,  15,  16,  17,  19,  20,\n",
              "        21,  22,  24,  25,  27,  28,  29,  30,  31,  32,  33,  34,  36,\n",
              "        37,  38,  39,  40,  42,  45,  46,  47,  48,  51,  52,  53,  54,\n",
              "        55,  56,  57,  58,  61,  62,  64,  65,  67,  68,  69,  71,  72,\n",
              "        73,  74,  75,  76,  77,  79,  80,  81,  82,  83,  84,  85,  86,\n",
              "        87,  88,  89,  90,  92,  93,  94,  95,  96,  97,  99, 100, 101,\n",
              "       104, 105, 106, 107, 108, 110, 111, 112, 113, 114, 116, 117, 118,\n",
              "       119, 121, 122, 123, 124, 125, 127, 128, 130...\n",
              "       428, 786, 712, 378, 588, 446, 315, 237,   4, 629, 704, 563,   5,\n",
              "       595, 296, 634, 178, 485, 207, 615, 575, 289, 530,  26,  66, 598,\n",
              "       706, 545, 512, 266, 141]))],\n",
              "                   estimator=SVC(class_weight='balanced', max_iter=20),\n",
              "                   n_iter=20,\n",
              "                   param_distributions={'C': <scipy.stats._distn_infrastructure.rv_continuous_frozen object at 0x7d02eff5ee60>,\n",
              "                                        'gamma': <scipy.stats._distn_infrastructure.rv_continuous_frozen object at 0x7d02eff0ffa0>},\n",
              "                   scoring='roc_auc')"
            ],
            "text/html": [
              "<style>#sk-container-id-8 {color: black;background-color: white;}#sk-container-id-8 pre{padding: 0;}#sk-container-id-8 div.sk-toggleable {background-color: white;}#sk-container-id-8 label.sk-toggleable__label {cursor: pointer;display: block;width: 100%;margin-bottom: 0;padding: 0.3em;box-sizing: border-box;text-align: center;}#sk-container-id-8 label.sk-toggleable__label-arrow:before {content: \"▸\";float: left;margin-right: 0.25em;color: #696969;}#sk-container-id-8 label.sk-toggleable__label-arrow:hover:before {color: black;}#sk-container-id-8 div.sk-estimator:hover label.sk-toggleable__label-arrow:before {color: black;}#sk-container-id-8 div.sk-toggleable__content {max-height: 0;max-width: 0;overflow: hidden;text-align: left;background-color: #f0f8ff;}#sk-container-id-8 div.sk-toggleable__content pre {margin: 0.2em;color: black;border-radius: 0.25em;background-color: #f0f8ff;}#sk-container-id-8 input.sk-toggleable__control:checked~div.sk-toggleable__content {max-height: 200px;max-width: 100%;overflow: auto;}#sk-container-id-8 input.sk-toggleable__control:checked~label.sk-toggleable__label-arrow:before {content: \"▾\";}#sk-container-id-8 div.sk-estimator input.sk-toggleable__control:checked~label.sk-toggleable__label {background-color: #d4ebff;}#sk-container-id-8 div.sk-label input.sk-toggleable__control:checked~label.sk-toggleable__label {background-color: #d4ebff;}#sk-container-id-8 input.sk-hidden--visually {border: 0;clip: rect(1px 1px 1px 1px);clip: rect(1px, 1px, 1px, 1px);height: 1px;margin: -1px;overflow: hidden;padding: 0;position: absolute;width: 1px;}#sk-container-id-8 div.sk-estimator {font-family: monospace;background-color: #f0f8ff;border: 1px dotted black;border-radius: 0.25em;box-sizing: border-box;margin-bottom: 0.5em;}#sk-container-id-8 div.sk-estimator:hover {background-color: #d4ebff;}#sk-container-id-8 div.sk-parallel-item::after {content: \"\";width: 100%;border-bottom: 1px solid gray;flex-grow: 1;}#sk-container-id-8 div.sk-label:hover label.sk-toggleable__label {background-color: #d4ebff;}#sk-container-id-8 div.sk-serial::before {content: \"\";position: absolute;border-left: 1px solid gray;box-sizing: border-box;top: 0;bottom: 0;left: 50%;z-index: 0;}#sk-container-id-8 div.sk-serial {display: flex;flex-direction: column;align-items: center;background-color: white;padding-right: 0.2em;padding-left: 0.2em;position: relative;}#sk-container-id-8 div.sk-item {position: relative;z-index: 1;}#sk-container-id-8 div.sk-parallel {display: flex;align-items: stretch;justify-content: center;background-color: white;position: relative;}#sk-container-id-8 div.sk-item::before, #sk-container-id-8 div.sk-parallel-item::before {content: \"\";position: absolute;border-left: 1px solid gray;box-sizing: border-box;top: 0;bottom: 0;left: 50%;z-index: -1;}#sk-container-id-8 div.sk-parallel-item {display: flex;flex-direction: column;z-index: 1;position: relative;background-color: white;}#sk-container-id-8 div.sk-parallel-item:first-child::after {align-self: flex-end;width: 50%;}#sk-container-id-8 div.sk-parallel-item:last-child::after {align-self: flex-start;width: 50%;}#sk-container-id-8 div.sk-parallel-item:only-child::after {width: 0;}#sk-container-id-8 div.sk-dashed-wrapped {border: 1px dashed gray;margin: 0 0.4em 0.5em 0.4em;box-sizing: border-box;padding-bottom: 0.4em;background-color: white;}#sk-container-id-8 div.sk-label label {font-family: monospace;font-weight: bold;display: inline-block;line-height: 1.2em;}#sk-container-id-8 div.sk-label-container {text-align: center;}#sk-container-id-8 div.sk-container {/* jupyter's `normalize.less` sets `[hidden] { display: none; }` but bootstrap.min.css set `[hidden] { display: none !important; }` so we also need the `!important` here to be able to override the default hidden behavior on the sphinx rendered scikit-learn.org. See: https://github.com/scikit-learn/scikit-learn/issues/21755 */display: inline-block !important;position: relative;}#sk-container-id-8 div.sk-text-repr-fallback {display: none;}</style><div id=\"sk-container-id-8\" class=\"sk-top-container\"><div class=\"sk-text-repr-fallback\"><pre>RandomizedSearchCV(cv=[(array([  0,   3,   7,   9,  10,  12,  13,  14,  15,  16,  17,  19,  20,\n",
              "        21,  22,  24,  25,  27,  28,  29,  30,  31,  32,  33,  34,  36,\n",
              "        37,  38,  39,  40,  42,  45,  46,  47,  48,  51,  52,  53,  54,\n",
              "        55,  56,  57,  58,  61,  62,  64,  65,  67,  68,  69,  71,  72,\n",
              "        73,  74,  75,  76,  77,  79,  80,  81,  82,  83,  84,  85,  86,\n",
              "        87,  88,  89,  90,  92,  93,  94,  95,  96,  97,  99, 100, 101,\n",
              "       104, 105, 106, 107, 108, 110, 111, 112, 113, 114, 116, 117, 118,\n",
              "       119, 121, 122, 123, 124, 125, 127, 128, 130...\n",
              "       428, 786, 712, 378, 588, 446, 315, 237,   4, 629, 704, 563,   5,\n",
              "       595, 296, 634, 178, 485, 207, 615, 575, 289, 530,  26,  66, 598,\n",
              "       706, 545, 512, 266, 141]))],\n",
              "                   estimator=SVC(class_weight=&#x27;balanced&#x27;, max_iter=20),\n",
              "                   n_iter=20,\n",
              "                   param_distributions={&#x27;C&#x27;: &lt;scipy.stats._distn_infrastructure.rv_continuous_frozen object at 0x7d02eff5ee60&gt;,\n",
              "                                        &#x27;gamma&#x27;: &lt;scipy.stats._distn_infrastructure.rv_continuous_frozen object at 0x7d02eff0ffa0&gt;},\n",
              "                   scoring=&#x27;roc_auc&#x27;)</pre><b>In a Jupyter environment, please rerun this cell to show the HTML representation or trust the notebook. <br />On GitHub, the HTML representation is unable to render, please try loading this page with nbviewer.org.</b></div><div class=\"sk-container\" hidden><div class=\"sk-item sk-dashed-wrapped\"><div class=\"sk-label-container\"><div class=\"sk-label sk-toggleable\"><input class=\"sk-toggleable__control sk-hidden--visually\" id=\"sk-estimator-id-12\" type=\"checkbox\" ><label for=\"sk-estimator-id-12\" class=\"sk-toggleable__label sk-toggleable__label-arrow\">RandomizedSearchCV</label><div class=\"sk-toggleable__content\"><pre>RandomizedSearchCV(cv=[(array([  0,   3,   7,   9,  10,  12,  13,  14,  15,  16,  17,  19,  20,\n",
              "        21,  22,  24,  25,  27,  28,  29,  30,  31,  32,  33,  34,  36,\n",
              "        37,  38,  39,  40,  42,  45,  46,  47,  48,  51,  52,  53,  54,\n",
              "        55,  56,  57,  58,  61,  62,  64,  65,  67,  68,  69,  71,  72,\n",
              "        73,  74,  75,  76,  77,  79,  80,  81,  82,  83,  84,  85,  86,\n",
              "        87,  88,  89,  90,  92,  93,  94,  95,  96,  97,  99, 100, 101,\n",
              "       104, 105, 106, 107, 108, 110, 111, 112, 113, 114, 116, 117, 118,\n",
              "       119, 121, 122, 123, 124, 125, 127, 128, 130...\n",
              "       428, 786, 712, 378, 588, 446, 315, 237,   4, 629, 704, 563,   5,\n",
              "       595, 296, 634, 178, 485, 207, 615, 575, 289, 530,  26,  66, 598,\n",
              "       706, 545, 512, 266, 141]))],\n",
              "                   estimator=SVC(class_weight=&#x27;balanced&#x27;, max_iter=20),\n",
              "                   n_iter=20,\n",
              "                   param_distributions={&#x27;C&#x27;: &lt;scipy.stats._distn_infrastructure.rv_continuous_frozen object at 0x7d02eff5ee60&gt;,\n",
              "                                        &#x27;gamma&#x27;: &lt;scipy.stats._distn_infrastructure.rv_continuous_frozen object at 0x7d02eff0ffa0&gt;},\n",
              "                   scoring=&#x27;roc_auc&#x27;)</pre></div></div></div><div class=\"sk-parallel\"><div class=\"sk-parallel-item\"><div class=\"sk-item\"><div class=\"sk-label-container\"><div class=\"sk-label sk-toggleable\"><input class=\"sk-toggleable__control sk-hidden--visually\" id=\"sk-estimator-id-13\" type=\"checkbox\" ><label for=\"sk-estimator-id-13\" class=\"sk-toggleable__label sk-toggleable__label-arrow\">estimator: SVC</label><div class=\"sk-toggleable__content\"><pre>SVC(class_weight=&#x27;balanced&#x27;, max_iter=20)</pre></div></div></div><div class=\"sk-serial\"><div class=\"sk-item\"><div class=\"sk-estimator sk-toggleable\"><input class=\"sk-toggleable__control sk-hidden--visually\" id=\"sk-estimator-id-14\" type=\"checkbox\" ><label for=\"sk-estimator-id-14\" class=\"sk-toggleable__label sk-toggleable__label-arrow\">SVC</label><div class=\"sk-toggleable__content\"><pre>SVC(class_weight=&#x27;balanced&#x27;, max_iter=20)</pre></div></div></div></div></div></div></div></div></div></div>"
            ]
          },
          "metadata": {},
          "execution_count": 124
        }
      ],
      "source": [
        "random_search = RandomizedSearchCV(\n",
        "    SVC(max_iter = 20, kernel=\"rbf\", class_weight='balanced'),\n",
        "    param_distributions = SVM_PARAMS,\n",
        "    n_iter = NUM_CANDIDATES,\n",
        "    cv = [(idx_train, idx_validation)], #hold out validation\n",
        "    scoring = \"roc_auc\"\n",
        ")\n",
        "\n",
        "random_search.fit(X_train, y_train)"
      ]
    },
    {
      "cell_type": "code",
      "execution_count": null,
      "metadata": {
        "colab": {
          "base_uri": "https://localhost:8080/",
          "height": 731
        },
        "id": "62KHqwMal6P2",
        "outputId": "7a93e6e6-48ba-402c-afc7-9022a8c066f5"
      },
      "outputs": [
        {
          "output_type": "stream",
          "name": "stderr",
          "text": [
            "/usr/local/lib/python3.10/dist-packages/ipykernel/ipkernel.py:283: DeprecationWarning: `should_run_async` will not call `transform_cell` automatically in the future. Please pass the result to `transformed_cell` argument and any exception that happen during thetransform in `preprocessing_exc_tuple` in IPython 7.17 and above.\n",
            "  and should_run_async(code)\n"
          ]
        },
        {
          "output_type": "execute_result",
          "data": {
            "text/plain": [
              "   Hyperparam C Hyperparam gamma  mean_AUC_score\n",
              "19    39.575266         0.021481        0.940501\n",
              "16      9.76376         0.033594        0.932074\n",
              "11    30.461578         0.013889        0.924668\n",
              "10   221.868017         0.001509        0.920582\n",
              "17    67.548567          0.03275        0.920327\n",
              "13   104.439341         0.043107        0.915475\n",
              "9    236.524036         0.108586        0.913432\n",
              "7      4.000044         0.044859        0.912666\n",
              "1     61.846455         0.064941        0.909346\n",
              "15    83.258351         0.066039        0.908836\n",
              "18     7.698882         0.129595        0.907303\n",
              "12   239.699192          0.00683        0.903984\n",
              "0     62.880753          0.05502        0.899898\n",
              "8      9.965398         0.054532        0.899642\n",
              "2    151.448636         0.002745        0.895301\n",
              "4    140.578572         0.013506        0.893769\n",
              "14    72.639274         0.013575        0.893258\n",
              "5     78.064134         0.047895        0.848315\n",
              "6    212.994516         0.047423        0.843973\n",
              "3     10.015961         0.009522        0.841931"
            ],
            "text/html": [
              "\n",
              "  <div id=\"df-af4be83e-b6b9-443e-88b9-5f327c3364a4\" class=\"colab-df-container\">\n",
              "    <div>\n",
              "<style scoped>\n",
              "    .dataframe tbody tr th:only-of-type {\n",
              "        vertical-align: middle;\n",
              "    }\n",
              "\n",
              "    .dataframe tbody tr th {\n",
              "        vertical-align: top;\n",
              "    }\n",
              "\n",
              "    .dataframe thead th {\n",
              "        text-align: right;\n",
              "    }\n",
              "</style>\n",
              "<table border=\"1\" class=\"dataframe\">\n",
              "  <thead>\n",
              "    <tr style=\"text-align: right;\">\n",
              "      <th></th>\n",
              "      <th>Hyperparam C</th>\n",
              "      <th>Hyperparam gamma</th>\n",
              "      <th>mean_AUC_score</th>\n",
              "    </tr>\n",
              "  </thead>\n",
              "  <tbody>\n",
              "    <tr>\n",
              "      <th>19</th>\n",
              "      <td>39.575266</td>\n",
              "      <td>0.021481</td>\n",
              "      <td>0.940501</td>\n",
              "    </tr>\n",
              "    <tr>\n",
              "      <th>16</th>\n",
              "      <td>9.76376</td>\n",
              "      <td>0.033594</td>\n",
              "      <td>0.932074</td>\n",
              "    </tr>\n",
              "    <tr>\n",
              "      <th>11</th>\n",
              "      <td>30.461578</td>\n",
              "      <td>0.013889</td>\n",
              "      <td>0.924668</td>\n",
              "    </tr>\n",
              "    <tr>\n",
              "      <th>10</th>\n",
              "      <td>221.868017</td>\n",
              "      <td>0.001509</td>\n",
              "      <td>0.920582</td>\n",
              "    </tr>\n",
              "    <tr>\n",
              "      <th>17</th>\n",
              "      <td>67.548567</td>\n",
              "      <td>0.03275</td>\n",
              "      <td>0.920327</td>\n",
              "    </tr>\n",
              "    <tr>\n",
              "      <th>13</th>\n",
              "      <td>104.439341</td>\n",
              "      <td>0.043107</td>\n",
              "      <td>0.915475</td>\n",
              "    </tr>\n",
              "    <tr>\n",
              "      <th>9</th>\n",
              "      <td>236.524036</td>\n",
              "      <td>0.108586</td>\n",
              "      <td>0.913432</td>\n",
              "    </tr>\n",
              "    <tr>\n",
              "      <th>7</th>\n",
              "      <td>4.000044</td>\n",
              "      <td>0.044859</td>\n",
              "      <td>0.912666</td>\n",
              "    </tr>\n",
              "    <tr>\n",
              "      <th>1</th>\n",
              "      <td>61.846455</td>\n",
              "      <td>0.064941</td>\n",
              "      <td>0.909346</td>\n",
              "    </tr>\n",
              "    <tr>\n",
              "      <th>15</th>\n",
              "      <td>83.258351</td>\n",
              "      <td>0.066039</td>\n",
              "      <td>0.908836</td>\n",
              "    </tr>\n",
              "    <tr>\n",
              "      <th>18</th>\n",
              "      <td>7.698882</td>\n",
              "      <td>0.129595</td>\n",
              "      <td>0.907303</td>\n",
              "    </tr>\n",
              "    <tr>\n",
              "      <th>12</th>\n",
              "      <td>239.699192</td>\n",
              "      <td>0.00683</td>\n",
              "      <td>0.903984</td>\n",
              "    </tr>\n",
              "    <tr>\n",
              "      <th>0</th>\n",
              "      <td>62.880753</td>\n",
              "      <td>0.05502</td>\n",
              "      <td>0.899898</td>\n",
              "    </tr>\n",
              "    <tr>\n",
              "      <th>8</th>\n",
              "      <td>9.965398</td>\n",
              "      <td>0.054532</td>\n",
              "      <td>0.899642</td>\n",
              "    </tr>\n",
              "    <tr>\n",
              "      <th>2</th>\n",
              "      <td>151.448636</td>\n",
              "      <td>0.002745</td>\n",
              "      <td>0.895301</td>\n",
              "    </tr>\n",
              "    <tr>\n",
              "      <th>4</th>\n",
              "      <td>140.578572</td>\n",
              "      <td>0.013506</td>\n",
              "      <td>0.893769</td>\n",
              "    </tr>\n",
              "    <tr>\n",
              "      <th>14</th>\n",
              "      <td>72.639274</td>\n",
              "      <td>0.013575</td>\n",
              "      <td>0.893258</td>\n",
              "    </tr>\n",
              "    <tr>\n",
              "      <th>5</th>\n",
              "      <td>78.064134</td>\n",
              "      <td>0.047895</td>\n",
              "      <td>0.848315</td>\n",
              "    </tr>\n",
              "    <tr>\n",
              "      <th>6</th>\n",
              "      <td>212.994516</td>\n",
              "      <td>0.047423</td>\n",
              "      <td>0.843973</td>\n",
              "    </tr>\n",
              "    <tr>\n",
              "      <th>3</th>\n",
              "      <td>10.015961</td>\n",
              "      <td>0.009522</td>\n",
              "      <td>0.841931</td>\n",
              "    </tr>\n",
              "  </tbody>\n",
              "</table>\n",
              "</div>\n",
              "    <div class=\"colab-df-buttons\">\n",
              "\n",
              "  <div class=\"colab-df-container\">\n",
              "    <button class=\"colab-df-convert\" onclick=\"convertToInteractive('df-af4be83e-b6b9-443e-88b9-5f327c3364a4')\"\n",
              "            title=\"Convert this dataframe to an interactive table.\"\n",
              "            style=\"display:none;\">\n",
              "\n",
              "  <svg xmlns=\"http://www.w3.org/2000/svg\" height=\"24px\" viewBox=\"0 -960 960 960\">\n",
              "    <path d=\"M120-120v-720h720v720H120Zm60-500h600v-160H180v160Zm220 220h160v-160H400v160Zm0 220h160v-160H400v160ZM180-400h160v-160H180v160Zm440 0h160v-160H620v160ZM180-180h160v-160H180v160Zm440 0h160v-160H620v160Z\"/>\n",
              "  </svg>\n",
              "    </button>\n",
              "\n",
              "  <style>\n",
              "    .colab-df-container {\n",
              "      display:flex;\n",
              "      gap: 12px;\n",
              "    }\n",
              "\n",
              "    .colab-df-convert {\n",
              "      background-color: #E8F0FE;\n",
              "      border: none;\n",
              "      border-radius: 50%;\n",
              "      cursor: pointer;\n",
              "      display: none;\n",
              "      fill: #1967D2;\n",
              "      height: 32px;\n",
              "      padding: 0 0 0 0;\n",
              "      width: 32px;\n",
              "    }\n",
              "\n",
              "    .colab-df-convert:hover {\n",
              "      background-color: #E2EBFA;\n",
              "      box-shadow: 0px 1px 2px rgba(60, 64, 67, 0.3), 0px 1px 3px 1px rgba(60, 64, 67, 0.15);\n",
              "      fill: #174EA6;\n",
              "    }\n",
              "\n",
              "    .colab-df-buttons div {\n",
              "      margin-bottom: 4px;\n",
              "    }\n",
              "\n",
              "    [theme=dark] .colab-df-convert {\n",
              "      background-color: #3B4455;\n",
              "      fill: #D2E3FC;\n",
              "    }\n",
              "\n",
              "    [theme=dark] .colab-df-convert:hover {\n",
              "      background-color: #434B5C;\n",
              "      box-shadow: 0px 1px 3px 1px rgba(0, 0, 0, 0.15);\n",
              "      filter: drop-shadow(0px 1px 2px rgba(0, 0, 0, 0.3));\n",
              "      fill: #FFFFFF;\n",
              "    }\n",
              "  </style>\n",
              "\n",
              "    <script>\n",
              "      const buttonEl =\n",
              "        document.querySelector('#df-af4be83e-b6b9-443e-88b9-5f327c3364a4 button.colab-df-convert');\n",
              "      buttonEl.style.display =\n",
              "        google.colab.kernel.accessAllowed ? 'block' : 'none';\n",
              "\n",
              "      async function convertToInteractive(key) {\n",
              "        const element = document.querySelector('#df-af4be83e-b6b9-443e-88b9-5f327c3364a4');\n",
              "        const dataTable =\n",
              "          await google.colab.kernel.invokeFunction('convertToInteractive',\n",
              "                                                    [key], {});\n",
              "        if (!dataTable) return;\n",
              "\n",
              "        const docLinkHtml = 'Like what you see? Visit the ' +\n",
              "          '<a target=\"_blank\" href=https://colab.research.google.com/notebooks/data_table.ipynb>data table notebook</a>'\n",
              "          + ' to learn more about interactive tables.';\n",
              "        element.innerHTML = '';\n",
              "        dataTable['output_type'] = 'display_data';\n",
              "        await google.colab.output.renderOutput(dataTable, element);\n",
              "        const docLink = document.createElement('div');\n",
              "        docLink.innerHTML = docLinkHtml;\n",
              "        element.appendChild(docLink);\n",
              "      }\n",
              "    </script>\n",
              "  </div>\n",
              "\n",
              "\n",
              "<div id=\"df-6b8804fc-177a-4555-a997-db35c6cdcd90\">\n",
              "  <button class=\"colab-df-quickchart\" onclick=\"quickchart('df-6b8804fc-177a-4555-a997-db35c6cdcd90')\"\n",
              "            title=\"Suggest charts\"\n",
              "            style=\"display:none;\">\n",
              "\n",
              "<svg xmlns=\"http://www.w3.org/2000/svg\" height=\"24px\"viewBox=\"0 0 24 24\"\n",
              "     width=\"24px\">\n",
              "    <g>\n",
              "        <path d=\"M19 3H5c-1.1 0-2 .9-2 2v14c0 1.1.9 2 2 2h14c1.1 0 2-.9 2-2V5c0-1.1-.9-2-2-2zM9 17H7v-7h2v7zm4 0h-2V7h2v10zm4 0h-2v-4h2v4z\"/>\n",
              "    </g>\n",
              "</svg>\n",
              "  </button>\n",
              "\n",
              "<style>\n",
              "  .colab-df-quickchart {\n",
              "      --bg-color: #E8F0FE;\n",
              "      --fill-color: #1967D2;\n",
              "      --hover-bg-color: #E2EBFA;\n",
              "      --hover-fill-color: #174EA6;\n",
              "      --disabled-fill-color: #AAA;\n",
              "      --disabled-bg-color: #DDD;\n",
              "  }\n",
              "\n",
              "  [theme=dark] .colab-df-quickchart {\n",
              "      --bg-color: #3B4455;\n",
              "      --fill-color: #D2E3FC;\n",
              "      --hover-bg-color: #434B5C;\n",
              "      --hover-fill-color: #FFFFFF;\n",
              "      --disabled-bg-color: #3B4455;\n",
              "      --disabled-fill-color: #666;\n",
              "  }\n",
              "\n",
              "  .colab-df-quickchart {\n",
              "    background-color: var(--bg-color);\n",
              "    border: none;\n",
              "    border-radius: 50%;\n",
              "    cursor: pointer;\n",
              "    display: none;\n",
              "    fill: var(--fill-color);\n",
              "    height: 32px;\n",
              "    padding: 0;\n",
              "    width: 32px;\n",
              "  }\n",
              "\n",
              "  .colab-df-quickchart:hover {\n",
              "    background-color: var(--hover-bg-color);\n",
              "    box-shadow: 0 1px 2px rgba(60, 64, 67, 0.3), 0 1px 3px 1px rgba(60, 64, 67, 0.15);\n",
              "    fill: var(--button-hover-fill-color);\n",
              "  }\n",
              "\n",
              "  .colab-df-quickchart-complete:disabled,\n",
              "  .colab-df-quickchart-complete:disabled:hover {\n",
              "    background-color: var(--disabled-bg-color);\n",
              "    fill: var(--disabled-fill-color);\n",
              "    box-shadow: none;\n",
              "  }\n",
              "\n",
              "  .colab-df-spinner {\n",
              "    border: 2px solid var(--fill-color);\n",
              "    border-color: transparent;\n",
              "    border-bottom-color: var(--fill-color);\n",
              "    animation:\n",
              "      spin 1s steps(1) infinite;\n",
              "  }\n",
              "\n",
              "  @keyframes spin {\n",
              "    0% {\n",
              "      border-color: transparent;\n",
              "      border-bottom-color: var(--fill-color);\n",
              "      border-left-color: var(--fill-color);\n",
              "    }\n",
              "    20% {\n",
              "      border-color: transparent;\n",
              "      border-left-color: var(--fill-color);\n",
              "      border-top-color: var(--fill-color);\n",
              "    }\n",
              "    30% {\n",
              "      border-color: transparent;\n",
              "      border-left-color: var(--fill-color);\n",
              "      border-top-color: var(--fill-color);\n",
              "      border-right-color: var(--fill-color);\n",
              "    }\n",
              "    40% {\n",
              "      border-color: transparent;\n",
              "      border-right-color: var(--fill-color);\n",
              "      border-top-color: var(--fill-color);\n",
              "    }\n",
              "    60% {\n",
              "      border-color: transparent;\n",
              "      border-right-color: var(--fill-color);\n",
              "    }\n",
              "    80% {\n",
              "      border-color: transparent;\n",
              "      border-right-color: var(--fill-color);\n",
              "      border-bottom-color: var(--fill-color);\n",
              "    }\n",
              "    90% {\n",
              "      border-color: transparent;\n",
              "      border-bottom-color: var(--fill-color);\n",
              "    }\n",
              "  }\n",
              "</style>\n",
              "\n",
              "  <script>\n",
              "    async function quickchart(key) {\n",
              "      const quickchartButtonEl =\n",
              "        document.querySelector('#' + key + ' button');\n",
              "      quickchartButtonEl.disabled = true;  // To prevent multiple clicks.\n",
              "      quickchartButtonEl.classList.add('colab-df-spinner');\n",
              "      try {\n",
              "        const charts = await google.colab.kernel.invokeFunction(\n",
              "            'suggestCharts', [key], {});\n",
              "      } catch (error) {\n",
              "        console.error('Error during call to suggestCharts:', error);\n",
              "      }\n",
              "      quickchartButtonEl.classList.remove('colab-df-spinner');\n",
              "      quickchartButtonEl.classList.add('colab-df-quickchart-complete');\n",
              "    }\n",
              "    (() => {\n",
              "      let quickchartButtonEl =\n",
              "        document.querySelector('#df-6b8804fc-177a-4555-a997-db35c6cdcd90 button');\n",
              "      quickchartButtonEl.style.display =\n",
              "        google.colab.kernel.accessAllowed ? 'block' : 'none';\n",
              "    })();\n",
              "  </script>\n",
              "</div>\n",
              "\n",
              "  <div id=\"id_e89d130c-c43f-43d2-9d9b-6dfa6b1c2d91\">\n",
              "    <style>\n",
              "      .colab-df-generate {\n",
              "        background-color: #E8F0FE;\n",
              "        border: none;\n",
              "        border-radius: 50%;\n",
              "        cursor: pointer;\n",
              "        display: none;\n",
              "        fill: #1967D2;\n",
              "        height: 32px;\n",
              "        padding: 0 0 0 0;\n",
              "        width: 32px;\n",
              "      }\n",
              "\n",
              "      .colab-df-generate:hover {\n",
              "        background-color: #E2EBFA;\n",
              "        box-shadow: 0px 1px 2px rgba(60, 64, 67, 0.3), 0px 1px 3px 1px rgba(60, 64, 67, 0.15);\n",
              "        fill: #174EA6;\n",
              "      }\n",
              "\n",
              "      [theme=dark] .colab-df-generate {\n",
              "        background-color: #3B4455;\n",
              "        fill: #D2E3FC;\n",
              "      }\n",
              "\n",
              "      [theme=dark] .colab-df-generate:hover {\n",
              "        background-color: #434B5C;\n",
              "        box-shadow: 0px 1px 3px 1px rgba(0, 0, 0, 0.15);\n",
              "        filter: drop-shadow(0px 1px 2px rgba(0, 0, 0, 0.3));\n",
              "        fill: #FFFFFF;\n",
              "      }\n",
              "    </style>\n",
              "    <button class=\"colab-df-generate\" onclick=\"generateWithVariable('df_tune')\"\n",
              "            title=\"Generate code using this dataframe.\"\n",
              "            style=\"display:none;\">\n",
              "\n",
              "  <svg xmlns=\"http://www.w3.org/2000/svg\" height=\"24px\"viewBox=\"0 0 24 24\"\n",
              "       width=\"24px\">\n",
              "    <path d=\"M7,19H8.4L18.45,9,17,7.55,7,17.6ZM5,21V16.75L18.45,3.32a2,2,0,0,1,2.83,0l1.4,1.43a1.91,1.91,0,0,1,.58,1.4,1.91,1.91,0,0,1-.58,1.4L9.25,21ZM18.45,9,17,7.55Zm-12,3A5.31,5.31,0,0,0,4.9,8.1,5.31,5.31,0,0,0,1,6.5,5.31,5.31,0,0,0,4.9,4.9,5.31,5.31,0,0,0,6.5,1,5.31,5.31,0,0,0,8.1,4.9,5.31,5.31,0,0,0,12,6.5,5.46,5.46,0,0,0,6.5,12Z\"/>\n",
              "  </svg>\n",
              "    </button>\n",
              "    <script>\n",
              "      (() => {\n",
              "      const buttonEl =\n",
              "        document.querySelector('#id_e89d130c-c43f-43d2-9d9b-6dfa6b1c2d91 button.colab-df-generate');\n",
              "      buttonEl.style.display =\n",
              "        google.colab.kernel.accessAllowed ? 'block' : 'none';\n",
              "\n",
              "      buttonEl.onclick = () => {\n",
              "        google.colab.notebook.generateWithVariable('df_tune');\n",
              "      }\n",
              "      })();\n",
              "    </script>\n",
              "  </div>\n",
              "\n",
              "    </div>\n",
              "  </div>\n"
            ]
          },
          "metadata": {},
          "execution_count": 125
        }
      ],
      "source": [
        "df_tune = pd.DataFrame({\n",
        "    \"Hyperparam C\": random_search.cv_results_[\"param_C\"],\n",
        "    \"Hyperparam gamma\": random_search.cv_results_[\"param_gamma\"],\n",
        "    \"mean_AUC_score\": random_search.cv_results_['mean_test_score']\n",
        "})\n",
        "\n",
        "df_tune.sort_values(by=\"mean_AUC_score\", ascending=False, inplace=True)\n",
        "df_tune"
      ]
    },
    {
      "cell_type": "code",
      "execution_count": null,
      "metadata": {
        "colab": {
          "base_uri": "https://localhost:8080/"
        },
        "id": "Bis0G1Ajl6M4",
        "outputId": "50d8d483-3c28-4cdf-f5b6-f50f4c7ea5da"
      },
      "outputs": [
        {
          "output_type": "stream",
          "name": "stderr",
          "text": [
            "/usr/local/lib/python3.10/dist-packages/ipykernel/ipkernel.py:283: DeprecationWarning: `should_run_async` will not call `transform_cell` automatically in the future. Please pass the result to `transformed_cell` argument and any exception that happen during thetransform in `preprocessing_exc_tuple` in IPython 7.17 and above.\n",
            "  and should_run_async(code)\n"
          ]
        },
        {
          "output_type": "execute_result",
          "data": {
            "text/plain": [
              "0.9405005107252299"
            ]
          },
          "metadata": {},
          "execution_count": 126
        }
      ],
      "source": [
        "#Verification\n",
        "random_search.best_score_"
      ]
    },
    {
      "cell_type": "markdown",
      "metadata": {
        "id": "Z1k1n5kTEI4F"
      },
      "source": [
        "**Evaluation metrics on the Test Set**"
      ]
    },
    {
      "cell_type": "code",
      "execution_count": null,
      "metadata": {
        "colab": {
          "base_uri": "https://localhost:8080/"
        },
        "id": "6RAz_-jgmXFN",
        "outputId": "1512f011-72a8-4903-da2c-fc193dc480fb"
      },
      "outputs": [
        {
          "output_type": "stream",
          "name": "stderr",
          "text": [
            "/usr/local/lib/python3.10/dist-packages/ipykernel/ipkernel.py:283: DeprecationWarning: `should_run_async` will not call `transform_cell` automatically in the future. Please pass the result to `transformed_cell` argument and any exception that happen during thetransform in `preprocessing_exc_tuple` in IPython 7.17 and above.\n",
            "  and should_run_async(code)\n"
          ]
        }
      ],
      "source": [
        "## Retrieve the best model:\n",
        "svm = random_search.best_estimator_\n",
        "yTestScore = svm.predict(X_test)\n",
        "yTestPred = svm.predict(X_test)"
      ]
    },
    {
      "cell_type": "code",
      "execution_count": null,
      "metadata": {
        "colab": {
          "base_uri": "https://localhost:8080/"
        },
        "id": "orseupyimWvP",
        "outputId": "198c707d-fd10-4939-8793-63cab3a0a57c"
      },
      "outputs": [
        {
          "output_type": "stream",
          "name": "stdout",
          "text": [
            "              precision    recall  f1-score   support\n",
            "\n",
            "           0       0.97      0.95      0.96       179\n",
            "           1       0.62      0.71      0.67        21\n",
            "\n",
            "    accuracy                           0.93       200\n",
            "   macro avg       0.80      0.83      0.81       200\n",
            "weighted avg       0.93      0.93      0.93       200\n",
            "\n"
          ]
        },
        {
          "output_type": "stream",
          "name": "stderr",
          "text": [
            "/usr/local/lib/python3.10/dist-packages/ipykernel/ipkernel.py:283: DeprecationWarning: `should_run_async` will not call `transform_cell` automatically in the future. Please pass the result to `transformed_cell` argument and any exception that happen during thetransform in `preprocessing_exc_tuple` in IPython 7.17 and above.\n",
            "  and should_run_async(code)\n"
          ]
        }
      ],
      "source": [
        "print(metrics.classification_report(y_test, yTestPred))"
      ]
    },
    {
      "cell_type": "code",
      "execution_count": null,
      "metadata": {
        "colab": {
          "base_uri": "https://localhost:8080/"
        },
        "id": "jocOlRLvFyw1",
        "outputId": "9a29bed3-3fab-4668-ea34-d95b6157eb06"
      },
      "outputs": [
        {
          "output_type": "stream",
          "name": "stdout",
          "text": [
            "SVM model accuracy score: 0.9250\n"
          ]
        },
        {
          "output_type": "stream",
          "name": "stderr",
          "text": [
            "/usr/local/lib/python3.10/dist-packages/ipykernel/ipkernel.py:283: DeprecationWarning: `should_run_async` will not call `transform_cell` automatically in the future. Please pass the result to `transformed_cell` argument and any exception that happen during thetransform in `preprocessing_exc_tuple` in IPython 7.17 and above.\n",
            "  and should_run_async(code)\n"
          ]
        }
      ],
      "source": [
        "from sklearn.metrics import accuracy_score\n",
        "print('SVM model accuracy score: {0:0.4f}'. format(accuracy_score(y_test, yTestPred)))"
      ]
    },
    {
      "cell_type": "code",
      "execution_count": null,
      "metadata": {
        "colab": {
          "base_uri": "https://localhost:8080/"
        },
        "id": "5B57Xadcm60E",
        "outputId": "bff69a59-fe1d-4d13-c21f-e09867925e40"
      },
      "outputs": [
        {
          "output_type": "stream",
          "name": "stderr",
          "text": [
            "/usr/local/lib/python3.10/dist-packages/ipykernel/ipkernel.py:283: DeprecationWarning: `should_run_async` will not call `transform_cell` automatically in the future. Please pass the result to `transformed_cell` argument and any exception that happen during thetransform in `preprocessing_exc_tuple` in IPython 7.17 and above.\n",
            "  and should_run_async(code)\n"
          ]
        },
        {
          "output_type": "execute_result",
          "data": {
            "text/plain": [
              "array([[170,   9],\n",
              "       [  6,  15]])"
            ]
          },
          "metadata": {},
          "execution_count": 130
        }
      ],
      "source": [
        "## Confusion matrix\n",
        "metrics.confusion_matrix(y_test, yTestPred)"
      ]
    },
    {
      "cell_type": "code",
      "execution_count": null,
      "metadata": {
        "colab": {
          "base_uri": "https://localhost:8080/"
        },
        "id": "K8WSPUahxFr3",
        "outputId": "1da23e3a-d350-4e1c-c185-150d47836e9b"
      },
      "outputs": [
        {
          "output_type": "stream",
          "name": "stderr",
          "text": [
            "/usr/local/lib/python3.10/dist-packages/ipykernel/ipkernel.py:283: DeprecationWarning: `should_run_async` will not call `transform_cell` automatically in the future. Please pass the result to `transformed_cell` argument and any exception that happen during thetransform in `preprocessing_exc_tuple` in IPython 7.17 and above.\n",
            "  and should_run_async(code)\n"
          ]
        }
      ],
      "source": [
        "from sklearn import datasets\n",
        "from sklearn.tree import DecisionTreeClassifier\n",
        "from sklearn.linear_model import LogisticRegression\n",
        "from sklearn.metrics import roc_curve, roc_auc_score"
      ]
    },
    {
      "cell_type": "code",
      "execution_count": null,
      "metadata": {
        "colab": {
          "base_uri": "https://localhost:8080/"
        },
        "id": "NaDIGZBkyECJ",
        "outputId": "7f0a225d-fd06-4b33-b6b5-1a251672c669"
      },
      "outputs": [
        {
          "output_type": "stream",
          "name": "stderr",
          "text": [
            "/usr/local/lib/python3.10/dist-packages/ipykernel/ipkernel.py:283: DeprecationWarning: `should_run_async` will not call `transform_cell` automatically in the future. Please pass the result to `transformed_cell` argument and any exception that happen during thetransform in `preprocessing_exc_tuple` in IPython 7.17 and above.\n",
            "  and should_run_async(code)\n"
          ]
        }
      ],
      "source": [
        "# pip install scikit-plot"
      ]
    },
    {
      "cell_type": "code",
      "execution_count": null,
      "metadata": {
        "colab": {
          "base_uri": "https://localhost:8080/"
        },
        "id": "PRAjoSxFiMAS",
        "outputId": "6877180a-dcd4-4b9d-967f-a2a48ec4bf23"
      },
      "outputs": [
        {
          "output_type": "stream",
          "name": "stdout",
          "text": [
            "[0 0 0 0 0 0 0 0 0 1 0 0 0 0 0 0 0 0 0 0 0 0 0 0 0 0 0 0 0 0 0 0 0 1 0 0 0\n",
            " 0 0 0 0 0 0 1 0 1 0 0 1 0 1 0 0 0 0 0 0 0 0 0 0 0 0 0 1 0 0 0 0 0 0 1 0 0\n",
            " 0 0 0 0 0 0 0 0 0 0 0 0 0 0 0 0 1 0 0 0 0 0 1 0 0 0 0 0 0 0 0 0 0 0 1 0 0\n",
            " 0 0 0 0 0 0 0 0 0 0 0 0 1 0 0 0 0 0 0 0 0 0 0 0 0 0 1 0 1 1 1 0 0 0 0 0 0\n",
            " 0 0 1 1 0 0 0 0 0 0 0 0 0 0 0 1 0 1 0 0 0 0 1 0 0 1 0 0 0 0 0 0 1 0 0 0 0\n",
            " 0 0 0 0 0 0 1 0 0 0 0 0 0 0 0]\n"
          ]
        },
        {
          "output_type": "stream",
          "name": "stderr",
          "text": [
            "/usr/local/lib/python3.10/dist-packages/ipykernel/ipkernel.py:283: DeprecationWarning: `should_run_async` will not call `transform_cell` automatically in the future. Please pass the result to `transformed_cell` argument and any exception that happen during thetransform in `preprocessing_exc_tuple` in IPython 7.17 and above.\n",
            "  and should_run_async(code)\n"
          ]
        }
      ],
      "source": [
        "print(yTestScore)"
      ]
    },
    {
      "cell_type": "code",
      "execution_count": null,
      "metadata": {
        "colab": {
          "base_uri": "https://localhost:8080/"
        },
        "id": "nXpmzxhGNSp4",
        "outputId": "1429c024-cfc3-44c7-ffd0-1033da25e8c1"
      },
      "outputs": [
        {
          "output_type": "stream",
          "name": "stderr",
          "text": [
            "/usr/local/lib/python3.10/dist-packages/ipykernel/ipkernel.py:283: DeprecationWarning: `should_run_async` will not call `transform_cell` automatically in the future. Please pass the result to `transformed_cell` argument and any exception that happen during thetransform in `preprocessing_exc_tuple` in IPython 7.17 and above.\n",
            "  and should_run_async(code)\n"
          ]
        }
      ],
      "source": [
        "def plot_roc(ytrue, yscore):\n",
        "    \"\"\" Wrapper to plot ROC curve for binary classification \"\"\"\n",
        "    from sklearn import metrics\n",
        "\n",
        "    plt.figure(dpi=100)\n",
        "\n",
        "    fpr, tpr, _ = metrics.roc_curve(ytrue, yscore)\n",
        "    auc = metrics.roc_auc_score(ytrue, yscore)\n",
        "    plt.plot(fpr,tpr,label=\"AUC=%.3f\" % auc)\n",
        "    plt.legend(loc=4)\n",
        "\n",
        "    plt.show()"
      ]
    },
    {
      "cell_type": "code",
      "execution_count": null,
      "metadata": {
        "colab": {
          "base_uri": "https://localhost:8080/",
          "height": 485
        },
        "id": "1V_raDoJzqTW",
        "outputId": "f0198b87-f9ca-41d3-cd96-85cd41db6ae7"
      },
      "outputs": [
        {
          "output_type": "stream",
          "name": "stderr",
          "text": [
            "/usr/local/lib/python3.10/dist-packages/ipykernel/ipkernel.py:283: DeprecationWarning: `should_run_async` will not call `transform_cell` automatically in the future. Please pass the result to `transformed_cell` argument and any exception that happen during thetransform in `preprocessing_exc_tuple` in IPython 7.17 and above.\n",
            "  and should_run_async(code)\n"
          ]
        },
        {
          "output_type": "display_data",
          "data": {
            "text/plain": [
              "<Figure size 640x480 with 1 Axes>"
            ],
            "image/png": "[encoded data removed]"
          },
          "metadata": {}
        }
      ],
      "source": [
        "plot_roc(y_test, yTestScore)"
      ]
    },
    {
      "cell_type": "markdown",
      "metadata": {
        "id": "UZ8ExtLzElCi"
      },
      "source": [
        "#Supervised Learning with XGBoost"
      ]
    },
    {
      "cell_type": "code",
      "execution_count": null,
      "metadata": {
        "colab": {
          "base_uri": "https://localhost:8080/"
        },
        "id": "Y5XSEeLGm6uU",
        "outputId": "727a82f2-063e-43f3-ebb0-160bc139dfa6"
      },
      "outputs": [
        {
          "output_type": "stream",
          "name": "stderr",
          "text": [
            "/usr/local/lib/python3.10/dist-packages/ipykernel/ipkernel.py:283: DeprecationWarning: `should_run_async` will not call `transform_cell` automatically in the future. Please pass the result to `transformed_cell` argument and any exception that happen during thetransform in `preprocessing_exc_tuple` in IPython 7.17 and above.\n",
            "  and should_run_async(code)\n"
          ]
        }
      ],
      "source": [
        "## Check to see if patient IDs in the 2 DataFrames match\n",
        "assert all(genes_lasso.index == clinical.index)\n",
        "y = clinical[\"Label\"].astype(int)"
      ]
    },
    {
      "cell_type": "code",
      "execution_count": null,
      "metadata": {
        "colab": {
          "base_uri": "https://localhost:8080/"
        },
        "id": "O9i-Q98phWLX",
        "outputId": "ad931ea2-c5de-4e25-e189-2296e8c1f691"
      },
      "outputs": [
        {
          "output_type": "stream",
          "name": "stderr",
          "text": [
            "/usr/local/lib/python3.10/dist-packages/ipykernel/ipkernel.py:283: DeprecationWarning: `should_run_async` will not call `transform_cell` automatically in the future. Please pass the result to `transformed_cell` argument and any exception that happen during thetransform in `preprocessing_exc_tuple` in IPython 7.17 and above.\n",
            "  and should_run_async(code)\n"
          ]
        }
      ],
      "source": [
        "# genes = genes.loc[:,~genes.columns.duplicated()]\n",
        "# X_train, X_val_test, y_train, y_val_test = train_test_split(genes, y_l1, test_size=0.2, random_state=42)\n",
        "# X_val, X_test, y_val, y_test = train_test_split(X_val_test, y_val_test, test_size=100, random_state=42)"
      ]
    },
    {
      "cell_type": "code",
      "execution_count": null,
      "metadata": {
        "colab": {
          "base_uri": "https://localhost:8080/"
        },
        "id": "hvR-4qbDr7FH",
        "outputId": "b2ec4dee-c9c1-47b6-bd9f-998ddb79af63"
      },
      "outputs": [
        {
          "output_type": "stream",
          "name": "stderr",
          "text": [
            "/usr/local/lib/python3.10/dist-packages/ipykernel/ipkernel.py:283: DeprecationWarning: `should_run_async` will not call `transform_cell` automatically in the future. Please pass the result to `transformed_cell` argument and any exception that happen during thetransform in `preprocessing_exc_tuple` in IPython 7.17 and above.\n",
            "  and should_run_async(code)\n"
          ]
        }
      ],
      "source": [
        "genes_lasso = genes_lasso.loc[:,~genes_lasso.columns.duplicated()]\n",
        "X_train, X_test, y_train, y_test = train_test_split(genes_l1, y, test_size=0.2, random_state=0)"
      ]
    },
    {
      "cell_type": "code",
      "execution_count": null,
      "metadata": {
        "colab": {
          "base_uri": "https://localhost:8080/"
        },
        "id": "oW_HUyPNl_4e",
        "outputId": "4b405214-b955-4d3d-f31d-3ad8de1142ce"
      },
      "outputs": [
        {
          "output_type": "stream",
          "name": "stderr",
          "text": [
            "/usr/local/lib/python3.10/dist-packages/ipykernel/ipkernel.py:283: DeprecationWarning: `should_run_async` will not call `transform_cell` automatically in the future. Please pass the result to `transformed_cell` argument and any exception that happen during thetransform in `preprocessing_exc_tuple` in IPython 7.17 and above.\n",
            "  and should_run_async(code)\n"
          ]
        }
      ],
      "source": [
        "# 2nd split to get validation set\n",
        "X_train, X_val, y_train, y_val = train_test_split(X_train, y_train.astype(int), test_size=0.2)"
      ]
    },
    {
      "cell_type": "code",
      "execution_count": null,
      "metadata": {
        "colab": {
          "base_uri": "https://localhost:8080/"
        },
        "id": "QLHhIkEzs2bb",
        "outputId": "f71382a6-2e16-4dba-992f-33880e64b1cb"
      },
      "outputs": [
        {
          "output_type": "stream",
          "name": "stdout",
          "text": [
            "Positive class weight = 7.69\n"
          ]
        },
        {
          "output_type": "stream",
          "name": "stderr",
          "text": [
            "/usr/local/lib/python3.10/dist-packages/ipykernel/ipkernel.py:283: DeprecationWarning: `should_run_async` will not call `transform_cell` automatically in the future. Please pass the result to `transformed_cell` argument and any exception that happen during thetransform in `preprocessing_exc_tuple` in IPython 7.17 and above.\n",
            "  and should_run_async(code)\n"
          ]
        }
      ],
      "source": [
        "scale_pos_weight = sum(y== 0) / sum(y == 1)\n",
        "print(\"Positive class weight = %.2f\" % scale_pos_weight)"
      ]
    },
    {
      "cell_type": "code",
      "execution_count": null,
      "metadata": {
        "colab": {
          "base_uri": "https://localhost:8080/"
        },
        "id": "pSGiQDO7s2Xv",
        "outputId": "81b34d54-5285-4b28-9d38-df261e26186b"
      },
      "outputs": [
        {
          "output_type": "stream",
          "name": "stdout",
          "text": [
            "weight_0=0.57, weight_1=4.34\n",
            "sklearn version of class 1 weight 7.69\n"
          ]
        },
        {
          "output_type": "stream",
          "name": "stderr",
          "text": [
            "/usr/local/lib/python3.10/dist-packages/ipykernel/ipkernel.py:283: DeprecationWarning: `should_run_async` will not call `transform_cell` automatically in the future. Please pass the result to `transformed_cell` argument and any exception that happen during thetransform in `preprocessing_exc_tuple` in IPython 7.17 and above.\n",
            "  and should_run_async(code)\n"
          ]
        }
      ],
      "source": [
        "class_weights = len(y) / (2 * np.bincount(y))\n",
        "print(\"weight_0=%.2f, weight_1=%.2f\" % tuple(class_weights))\n",
        "print(\"sklearn version of class 1 weight %.2f\" % (class_weights[1] / class_weights[0])) #should equal value in the cell above"
      ]
    },
    {
      "cell_type": "code",
      "execution_count": null,
      "metadata": {
        "colab": {
          "base_uri": "https://localhost:8080/"
        },
        "id": "WmYMYP1huZen",
        "outputId": "1baf871f-7e27-4857-ab55-655d734dff01"
      },
      "outputs": [
        {
          "output_type": "stream",
          "name": "stderr",
          "text": [
            "/usr/local/lib/python3.10/dist-packages/ipykernel/ipkernel.py:283: DeprecationWarning: `should_run_async` will not call `transform_cell` automatically in the future. Please pass the result to `transformed_cell` argument and any exception that happen during thetransform in `preprocessing_exc_tuple` in IPython 7.17 and above.\n",
            "  and should_run_async(code)\n"
          ]
        }
      ],
      "source": [
        "# import machine learning libraries\n",
        "import xgboost as xgb\n",
        "from sklearn.metrics import accuracy_score"
      ]
    },
    {
      "cell_type": "code",
      "execution_count": null,
      "metadata": {
        "colab": {
          "base_uri": "https://localhost:8080/"
        },
        "id": "3GaJt-uNs2U1",
        "outputId": "5bdc6590-02e0-430e-eccc-708ca69b3ba0"
      },
      "outputs": [
        {
          "output_type": "stream",
          "name": "stderr",
          "text": [
            "/usr/local/lib/python3.10/dist-packages/ipykernel/ipkernel.py:283: DeprecationWarning: `should_run_async` will not call `transform_cell` automatically in the future. Please pass the result to `transformed_cell` argument and any exception that happen during thetransform in `preprocessing_exc_tuple` in IPython 7.17 and above.\n",
            "  and should_run_async(code)\n"
          ]
        }
      ],
      "source": [
        "params = {\n",
        "    'max_depth':range(0,20),\n",
        "    'eta':np.arange(0.05,0.5),\n",
        "    'gamma':np.arange(0,2),\n",
        "    'min_child_weight':range(2,10),\n",
        "    'subsample':np.arange(0.5,0.9),\n",
        "}"
      ]
    },
    {
      "cell_type": "markdown",
      "metadata": {
        "id": "4w1JEdcSEzQt"
      },
      "source": [
        "**Run Hyperparameter Tuning via Random Search**"
      ]
    },
    {
      "cell_type": "code",
      "execution_count": null,
      "metadata": {
        "colab": {
          "base_uri": "https://localhost:8080/",
          "height": 883
        },
        "id": "fAzyn72XbtCZ",
        "outputId": "760a071c-3dde-492c-e933-e37aac72723f"
      },
      "outputs": [
        {
          "output_type": "stream",
          "name": "stderr",
          "text": [
            "/usr/local/lib/python3.10/dist-packages/ipykernel/ipkernel.py:283: DeprecationWarning: `should_run_async` will not call `transform_cell` automatically in the future. Please pass the result to `transformed_cell` argument and any exception that happen during thetransform in `preprocessing_exc_tuple` in IPython 7.17 and above.\n",
            "  and should_run_async(code)\n"
          ]
        },
        {
          "output_type": "stream",
          "name": "stdout",
          "text": [
            "Fitting 5 folds for each of 8 candidates, totalling 40 fits\n",
            "[CV 1/5] END eta=0.05, gamma=0, max_depth=15, min_child_weight=8, subsample=0.5;, score=0.981 total time=   0.1s\n",
            "[CV 2/5] END eta=0.05, gamma=0, max_depth=15, min_child_weight=8, subsample=0.5;, score=0.942 total time=   0.1s\n",
            "[CV 3/5] END eta=0.05, gamma=0, max_depth=15, min_child_weight=8, subsample=0.5;, score=0.941 total time=   0.1s\n",
            "[CV 4/5] END eta=0.05, gamma=0, max_depth=15, min_child_weight=8, subsample=0.5;, score=0.975 total time=   0.1s\n",
            "[CV 5/5] END eta=0.05, gamma=0, max_depth=15, min_child_weight=8, subsample=0.5;, score=0.973 total time=   0.1s\n",
            "[CV 1/5] END eta=0.05, gamma=0, max_depth=13, min_child_weight=7, subsample=0.5;, score=0.971 total time=   0.1s\n",
            "[CV 2/5] END eta=0.05, gamma=0, max_depth=13, min_child_weight=7, subsample=0.5;, score=0.939 total time=   0.1s\n",
            "[CV 3/5] END eta=0.05, gamma=0, max_depth=13, min_child_weight=7, subsample=0.5;, score=0.946 total time=   0.1s\n",
            "[CV 4/5] END eta=0.05, gamma=0, max_depth=13, min_child_weight=7, subsample=0.5;, score=0.979 total time=   0.1s\n",
            "[CV 5/5] END eta=0.05, gamma=0, max_depth=13, min_child_weight=7, subsample=0.5;, score=0.971 total time=   0.1s\n",
            "[CV 1/5] END eta=0.05, gamma=0, max_depth=17, min_child_weight=8, subsample=0.5;, score=0.981 total time=   0.1s\n",
            "[CV 2/5] END eta=0.05, gamma=0, max_depth=17, min_child_weight=8, subsample=0.5;, score=0.942 total time=   0.1s\n",
            "[CV 3/5] END eta=0.05, gamma=0, max_depth=17, min_child_weight=8, subsample=0.5;, score=0.941 total time=   0.1s\n",
            "[CV 4/5] END eta=0.05, gamma=0, max_depth=17, min_child_weight=8, subsample=0.5;, score=0.975 total time=   0.1s\n",
            "[CV 5/5] END eta=0.05, gamma=0, max_depth=17, min_child_weight=8, subsample=0.5;, score=0.973 total time=   0.1s\n",
            "[CV 1/5] END eta=0.05, gamma=1, max_depth=13, min_child_weight=9, subsample=0.5;, score=0.982 total time=   0.1s\n",
            "[CV 2/5] END eta=0.05, gamma=1, max_depth=13, min_child_weight=9, subsample=0.5;, score=0.941 total time=   0.1s\n",
            "[CV 3/5] END eta=0.05, gamma=1, max_depth=13, min_child_weight=9, subsample=0.5;, score=0.945 total time=   0.1s\n",
            "[CV 4/5] END eta=0.05, gamma=1, max_depth=13, min_child_weight=9, subsample=0.5;, score=0.974 total time=   0.1s\n",
            "[CV 5/5] END eta=0.05, gamma=1, max_depth=13, min_child_weight=9, subsample=0.5;, score=0.973 total time=   0.1s\n",
            "[CV 1/5] END eta=0.05, gamma=0, max_depth=11, min_child_weight=6, subsample=0.5;, score=0.969 total time=   0.1s\n",
            "[CV 2/5] END eta=0.05, gamma=0, max_depth=11, min_child_weight=6, subsample=0.5;, score=0.945 total time=   0.1s\n",
            "[CV 3/5] END eta=0.05, gamma=0, max_depth=11, min_child_weight=6, subsample=0.5;, score=0.949 total time=   0.1s\n",
            "[CV 4/5] END eta=0.05, gamma=0, max_depth=11, min_child_weight=6, subsample=0.5;, score=0.980 total time=   0.1s\n",
            "[CV 5/5] END eta=0.05, gamma=0, max_depth=11, min_child_weight=6, subsample=0.5;, score=0.973 total time=   0.1s\n",
            "[CV 1/5] END eta=0.05, gamma=0, max_depth=2, min_child_weight=7, subsample=0.5;, score=0.971 total time=   0.1s\n",
            "[CV 2/5] END eta=0.05, gamma=0, max_depth=2, min_child_weight=7, subsample=0.5;, score=0.939 total time=   0.1s\n",
            "[CV 3/5] END eta=0.05, gamma=0, max_depth=2, min_child_weight=7, subsample=0.5;, score=0.946 total time=   0.1s\n",
            "[CV 4/5] END eta=0.05, gamma=0, max_depth=2, min_child_weight=7, subsample=0.5;, score=0.979 total time=   0.1s\n",
            "[CV 5/5] END eta=0.05, gamma=0, max_depth=2, min_child_weight=7, subsample=0.5;, score=0.971 total time=   0.1s\n",
            "[CV 1/5] END eta=0.05, gamma=1, max_depth=15, min_child_weight=7, subsample=0.5;, score=0.972 total time=   0.1s\n",
            "[CV 2/5] END eta=0.05, gamma=1, max_depth=15, min_child_weight=7, subsample=0.5;, score=0.941 total time=   0.1s\n",
            "[CV 3/5] END eta=0.05, gamma=1, max_depth=15, min_child_weight=7, subsample=0.5;, score=0.949 total time=   0.1s\n",
            "[CV 4/5] END eta=0.05, gamma=1, max_depth=15, min_child_weight=7, subsample=0.5;, score=0.978 total time=   0.1s\n",
            "[CV 5/5] END eta=0.05, gamma=1, max_depth=15, min_child_weight=7, subsample=0.5;, score=0.970 total time=   0.1s\n",
            "[CV 1/5] END eta=0.05, gamma=1, max_depth=2, min_child_weight=3, subsample=0.5;, score=0.972 total time=   0.1s\n",
            "[CV 2/5] END eta=0.05, gamma=1, max_depth=2, min_child_weight=3, subsample=0.5;, score=0.949 total time=   0.1s\n",
            "[CV 3/5] END eta=0.05, gamma=1, max_depth=2, min_child_weight=3, subsample=0.5;, score=0.953 total time=   0.1s\n",
            "[CV 4/5] END eta=0.05, gamma=1, max_depth=2, min_child_weight=3, subsample=0.5;, score=0.984 total time=   0.1s\n",
            "[CV 5/5] END eta=0.05, gamma=1, max_depth=2, min_child_weight=3, subsample=0.5;, score=0.965 total time=   0.1s\n"
          ]
        },
        {
          "output_type": "execute_result",
          "data": {
            "text/plain": [
              "RandomizedSearchCV(error_score='raise',\n",
              "                   estimator=XGBClassifier(base_score=None, booster=None,\n",
              "                                           callbacks=None,\n",
              "                                           colsample_bylevel=None,\n",
              "                                           colsample_bynode=None,\n",
              "                                           colsample_bytree=None, device=None,\n",
              "                                           early_stopping_rounds=None,\n",
              "                                           enable_categorical=False,\n",
              "                                           eval_metric=None, feature_types=None,\n",
              "                                           gamma=None, grow_policy=None,\n",
              "                                           importance_type=None,\n",
              "                                           interaction_constraints=Non...\n",
              "                                           max_leaves=None,\n",
              "                                           min_child_weight=None, missing=nan,\n",
              "                                           monotone_constraints=None,\n",
              "                                           multi_strategy=None,\n",
              "                                           n_estimators=None, n_jobs=None,\n",
              "                                           num_parallel_tree=None,\n",
              "                                           random_state=None, ...),\n",
              "                   n_iter=8,\n",
              "                   param_distributions={'eta': array([0.05]),\n",
              "                                        'gamma': array([0, 1]),\n",
              "                                        'max_depth': range(0, 20),\n",
              "                                        'min_child_weight': range(2, 10),\n",
              "                                        'subsample': array([0.5])},\n",
              "                   scoring='roc_auc', verbose=3)"
            ],
            "text/html": [
              "<style>#sk-container-id-9 {color: black;background-color: white;}#sk-container-id-9 pre{padding: 0;}#sk-container-id-9 div.sk-toggleable {background-color: white;}#sk-container-id-9 label.sk-toggleable__label {cursor: pointer;display: block;width: 100%;margin-bottom: 0;padding: 0.3em;box-sizing: border-box;text-align: center;}#sk-container-id-9 label.sk-toggleable__label-arrow:before {content: \"▸\";float: left;margin-right: 0.25em;color: #696969;}#sk-container-id-9 label.sk-toggleable__label-arrow:hover:before {color: black;}#sk-container-id-9 div.sk-estimator:hover label.sk-toggleable__label-arrow:before {color: black;}#sk-container-id-9 div.sk-toggleable__content {max-height: 0;max-width: 0;overflow: hidden;text-align: left;background-color: #f0f8ff;}#sk-container-id-9 div.sk-toggleable__content pre {margin: 0.2em;color: black;border-radius: 0.25em;background-color: #f0f8ff;}#sk-container-id-9 input.sk-toggleable__control:checked~div.sk-toggleable__content {max-height: 200px;max-width: 100%;overflow: auto;}#sk-container-id-9 input.sk-toggleable__control:checked~label.sk-toggleable__label-arrow:before {content: \"▾\";}#sk-container-id-9 div.sk-estimator input.sk-toggleable__control:checked~label.sk-toggleable__label {background-color: #d4ebff;}#sk-container-id-9 div.sk-label input.sk-toggleable__control:checked~label.sk-toggleable__label {background-color: #d4ebff;}#sk-container-id-9 input.sk-hidden--visually {border: 0;clip: rect(1px 1px 1px 1px);clip: rect(1px, 1px, 1px, 1px);height: 1px;margin: -1px;overflow: hidden;padding: 0;position: absolute;width: 1px;}#sk-container-id-9 div.sk-estimator {font-family: monospace;background-color: #f0f8ff;border: 1px dotted black;border-radius: 0.25em;box-sizing: border-box;margin-bottom: 0.5em;}#sk-container-id-9 div.sk-estimator:hover {background-color: #d4ebff;}#sk-container-id-9 div.sk-parallel-item::after {content: \"\";width: 100%;border-bottom: 1px solid gray;flex-grow: 1;}#sk-container-id-9 div.sk-label:hover label.sk-toggleable__label {background-color: #d4ebff;}#sk-container-id-9 div.sk-serial::before {content: \"\";position: absolute;border-left: 1px solid gray;box-sizing: border-box;top: 0;bottom: 0;left: 50%;z-index: 0;}#sk-container-id-9 div.sk-serial {display: flex;flex-direction: column;align-items: center;background-color: white;padding-right: 0.2em;padding-left: 0.2em;position: relative;}#sk-container-id-9 div.sk-item {position: relative;z-index: 1;}#sk-container-id-9 div.sk-parallel {display: flex;align-items: stretch;justify-content: center;background-color: white;position: relative;}#sk-container-id-9 div.sk-item::before, #sk-container-id-9 div.sk-parallel-item::before {content: \"\";position: absolute;border-left: 1px solid gray;box-sizing: border-box;top: 0;bottom: 0;left: 50%;z-index: -1;}#sk-container-id-9 div.sk-parallel-item {display: flex;flex-direction: column;z-index: 1;position: relative;background-color: white;}#sk-container-id-9 div.sk-parallel-item:first-child::after {align-self: flex-end;width: 50%;}#sk-container-id-9 div.sk-parallel-item:last-child::after {align-self: flex-start;width: 50%;}#sk-container-id-9 div.sk-parallel-item:only-child::after {width: 0;}#sk-container-id-9 div.sk-dashed-wrapped {border: 1px dashed gray;margin: 0 0.4em 0.5em 0.4em;box-sizing: border-box;padding-bottom: 0.4em;background-color: white;}#sk-container-id-9 div.sk-label label {font-family: monospace;font-weight: bold;display: inline-block;line-height: 1.2em;}#sk-container-id-9 div.sk-label-container {text-align: center;}#sk-container-id-9 div.sk-container {/* jupyter's `normalize.less` sets `[hidden] { display: none; }` but bootstrap.min.css set `[hidden] { display: none !important; }` so we also need the `!important` here to be able to override the default hidden behavior on the sphinx rendered scikit-learn.org. See: https://github.com/scikit-learn/scikit-learn/issues/21755 */display: inline-block !important;position: relative;}#sk-container-id-9 div.sk-text-repr-fallback {display: none;}</style><div id=\"sk-container-id-9\" class=\"sk-top-container\"><div class=\"sk-text-repr-fallback\"><pre>RandomizedSearchCV(error_score=&#x27;raise&#x27;,\n",
              "                   estimator=XGBClassifier(base_score=None, booster=None,\n",
              "                                           callbacks=None,\n",
              "                                           colsample_bylevel=None,\n",
              "                                           colsample_bynode=None,\n",
              "                                           colsample_bytree=None, device=None,\n",
              "                                           early_stopping_rounds=None,\n",
              "                                           enable_categorical=False,\n",
              "                                           eval_metric=None, feature_types=None,\n",
              "                                           gamma=None, grow_policy=None,\n",
              "                                           importance_type=None,\n",
              "                                           interaction_constraints=Non...\n",
              "                                           max_leaves=None,\n",
              "                                           min_child_weight=None, missing=nan,\n",
              "                                           monotone_constraints=None,\n",
              "                                           multi_strategy=None,\n",
              "                                           n_estimators=None, n_jobs=None,\n",
              "                                           num_parallel_tree=None,\n",
              "                                           random_state=None, ...),\n",
              "                   n_iter=8,\n",
              "                   param_distributions={&#x27;eta&#x27;: array([0.05]),\n",
              "                                        &#x27;gamma&#x27;: array([0, 1]),\n",
              "                                        &#x27;max_depth&#x27;: range(0, 20),\n",
              "                                        &#x27;min_child_weight&#x27;: range(2, 10),\n",
              "                                        &#x27;subsample&#x27;: array([0.5])},\n",
              "                   scoring=&#x27;roc_auc&#x27;, verbose=3)</pre><b>In a Jupyter environment, please rerun this cell to show the HTML representation or trust the notebook. <br />On GitHub, the HTML representation is unable to render, please try loading this page with nbviewer.org.</b></div><div class=\"sk-container\" hidden><div class=\"sk-item sk-dashed-wrapped\"><div class=\"sk-label-container\"><div class=\"sk-label sk-toggleable\"><input class=\"sk-toggleable__control sk-hidden--visually\" id=\"sk-estimator-id-15\" type=\"checkbox\" ><label for=\"sk-estimator-id-15\" class=\"sk-toggleable__label sk-toggleable__label-arrow\">RandomizedSearchCV</label><div class=\"sk-toggleable__content\"><pre>RandomizedSearchCV(error_score=&#x27;raise&#x27;,\n",
              "                   estimator=XGBClassifier(base_score=None, booster=None,\n",
              "                                           callbacks=None,\n",
              "                                           colsample_bylevel=None,\n",
              "                                           colsample_bynode=None,\n",
              "                                           colsample_bytree=None, device=None,\n",
              "                                           early_stopping_rounds=None,\n",
              "                                           enable_categorical=False,\n",
              "                                           eval_metric=None, feature_types=None,\n",
              "                                           gamma=None, grow_policy=None,\n",
              "                                           importance_type=None,\n",
              "                                           interaction_constraints=Non...\n",
              "                                           max_leaves=None,\n",
              "                                           min_child_weight=None, missing=nan,\n",
              "                                           monotone_constraints=None,\n",
              "                                           multi_strategy=None,\n",
              "                                           n_estimators=None, n_jobs=None,\n",
              "                                           num_parallel_tree=None,\n",
              "                                           random_state=None, ...),\n",
              "                   n_iter=8,\n",
              "                   param_distributions={&#x27;eta&#x27;: array([0.05]),\n",
              "                                        &#x27;gamma&#x27;: array([0, 1]),\n",
              "                                        &#x27;max_depth&#x27;: range(0, 20),\n",
              "                                        &#x27;min_child_weight&#x27;: range(2, 10),\n",
              "                                        &#x27;subsample&#x27;: array([0.5])},\n",
              "                   scoring=&#x27;roc_auc&#x27;, verbose=3)</pre></div></div></div><div class=\"sk-parallel\"><div class=\"sk-parallel-item\"><div class=\"sk-item\"><div class=\"sk-label-container\"><div class=\"sk-label sk-toggleable\"><input class=\"sk-toggleable__control sk-hidden--visually\" id=\"sk-estimator-id-16\" type=\"checkbox\" ><label for=\"sk-estimator-id-16\" class=\"sk-toggleable__label sk-toggleable__label-arrow\">estimator: XGBClassifier</label><div class=\"sk-toggleable__content\"><pre>XGBClassifier(base_score=None, booster=None, callbacks=None,\n",
              "              colsample_bylevel=None, colsample_bynode=None,\n",
              "              colsample_bytree=None, device=None, early_stopping_rounds=None,\n",
              "              enable_categorical=False, eval_metric=None, feature_types=None,\n",
              "              gamma=None, grow_policy=None, importance_type=None,\n",
              "              interaction_constraints=None, learning_rate=None, max_bin=None,\n",
              "              max_cat_threshold=None, max_cat_to_onehot=None,\n",
              "              max_delta_step=None, max_depth=None, max_leaves=None,\n",
              "              min_child_weight=None, missing=nan, monotone_constraints=None,\n",
              "              multi_strategy=None, n_estimators=None, n_jobs=None,\n",
              "              num_parallel_tree=None, random_state=None, ...)</pre></div></div></div><div class=\"sk-serial\"><div class=\"sk-item\"><div class=\"sk-estimator sk-toggleable\"><input class=\"sk-toggleable__control sk-hidden--visually\" id=\"sk-estimator-id-17\" type=\"checkbox\" ><label for=\"sk-estimator-id-17\" class=\"sk-toggleable__label sk-toggleable__label-arrow\">XGBClassifier</label><div class=\"sk-toggleable__content\"><pre>XGBClassifier(base_score=None, booster=None, callbacks=None,\n",
              "              colsample_bylevel=None, colsample_bynode=None,\n",
              "              colsample_bytree=None, device=None, early_stopping_rounds=None,\n",
              "              enable_categorical=False, eval_metric=None, feature_types=None,\n",
              "              gamma=None, grow_policy=None, importance_type=None,\n",
              "              interaction_constraints=None, learning_rate=None, max_bin=None,\n",
              "              max_cat_threshold=None, max_cat_to_onehot=None,\n",
              "              max_delta_step=None, max_depth=None, max_leaves=None,\n",
              "              min_child_weight=None, missing=nan, monotone_constraints=None,\n",
              "              multi_strategy=None, n_estimators=None, n_jobs=None,\n",
              "              num_parallel_tree=None, random_state=None, ...)</pre></div></div></div></div></div></div></div></div></div></div>"
            ]
          },
          "metadata": {},
          "execution_count": 144
        }
      ],
      "source": [
        "#Hyperparameter optimization using RandomizedSearchCV\n",
        "from sklearn.model_selection import RandomizedSearchCV\n",
        "import xgboost\n",
        "classifier = xgboost.XGBClassifier()\n",
        "rs_model=RandomizedSearchCV(classifier, param_distributions=params,n_iter=8,scoring='roc_auc',verbose=3,error_score='raise')\n",
        "#model fitting\n",
        "rs_model.fit(X_train,y_train)"
      ]
    },
    {
      "cell_type": "code",
      "execution_count": null,
      "metadata": {
        "colab": {
          "base_uri": "https://localhost:8080/",
          "height": 303
        },
        "id": "-5GbsGSYdYow",
        "outputId": "6d375b79-9ad2-4843-803f-a40fa965aad0"
      },
      "outputs": [
        {
          "output_type": "stream",
          "name": "stderr",
          "text": [
            "/usr/local/lib/python3.10/dist-packages/ipykernel/ipkernel.py:283: DeprecationWarning: `should_run_async` will not call `transform_cell` automatically in the future. Please pass the result to `transformed_cell` argument and any exception that happen during thetransform in `preprocessing_exc_tuple` in IPython 7.17 and above.\n",
            "  and should_run_async(code)\n"
          ]
        },
        {
          "output_type": "execute_result",
          "data": {
            "text/plain": [
              "XGBClassifier(base_score=None, booster=None, callbacks=None,\n",
              "              colsample_bylevel=None, colsample_bynode=None,\n",
              "              colsample_bytree=None, device=None, early_stopping_rounds=None,\n",
              "              enable_categorical=False, eta=0.05, eval_metric=None,\n",
              "              feature_types=None, gamma=1, grow_policy=None,\n",
              "              importance_type=None, interaction_constraints=None,\n",
              "              learning_rate=None, max_bin=None, max_cat_threshold=None,\n",
              "              max_cat_to_onehot=None, max_delta_step=None, max_depth=2,\n",
              "              max_leaves=None, min_child_weight=3, missing=nan,\n",
              "              monotone_constraints=None, multi_strategy=None, n_estimators=None,\n",
              "              n_jobs=None, num_parallel_tree=None, ...)"
            ],
            "text/html": [
              "<style>#sk-container-id-10 {color: black;background-color: white;}#sk-container-id-10 pre{padding: 0;}#sk-container-id-10 div.sk-toggleable {background-color: white;}#sk-container-id-10 label.sk-toggleable__label {cursor: pointer;display: block;width: 100%;margin-bottom: 0;padding: 0.3em;box-sizing: border-box;text-align: center;}#sk-container-id-10 label.sk-toggleable__label-arrow:before {content: \"▸\";float: left;margin-right: 0.25em;color: #696969;}#sk-container-id-10 label.sk-toggleable__label-arrow:hover:before {color: black;}#sk-container-id-10 div.sk-estimator:hover label.sk-toggleable__label-arrow:before {color: black;}#sk-container-id-10 div.sk-toggleable__content {max-height: 0;max-width: 0;overflow: hidden;text-align: left;background-color: #f0f8ff;}#sk-container-id-10 div.sk-toggleable__content pre {margin: 0.2em;color: black;border-radius: 0.25em;background-color: #f0f8ff;}#sk-container-id-10 input.sk-toggleable__control:checked~div.sk-toggleable__content {max-height: 200px;max-width: 100%;overflow: auto;}#sk-container-id-10 input.sk-toggleable__control:checked~label.sk-toggleable__label-arrow:before {content: \"▾\";}#sk-container-id-10 div.sk-estimator input.sk-toggleable__control:checked~label.sk-toggleable__label {background-color: #d4ebff;}#sk-container-id-10 div.sk-label input.sk-toggleable__control:checked~label.sk-toggleable__label {background-color: #d4ebff;}#sk-container-id-10 input.sk-hidden--visually {border: 0;clip: rect(1px 1px 1px 1px);clip: rect(1px, 1px, 1px, 1px);height: 1px;margin: -1px;overflow: hidden;padding: 0;position: absolute;width: 1px;}#sk-container-id-10 div.sk-estimator {font-family: monospace;background-color: #f0f8ff;border: 1px dotted black;border-radius: 0.25em;box-sizing: border-box;margin-bottom: 0.5em;}#sk-container-id-10 div.sk-estimator:hover {background-color: #d4ebff;}#sk-container-id-10 div.sk-parallel-item::after {content: \"\";width: 100%;border-bottom: 1px solid gray;flex-grow: 1;}#sk-container-id-10 div.sk-label:hover label.sk-toggleable__label {background-color: #d4ebff;}#sk-container-id-10 div.sk-serial::before {content: \"\";position: absolute;border-left: 1px solid gray;box-sizing: border-box;top: 0;bottom: 0;left: 50%;z-index: 0;}#sk-container-id-10 div.sk-serial {display: flex;flex-direction: column;align-items: center;background-color: white;padding-right: 0.2em;padding-left: 0.2em;position: relative;}#sk-container-id-10 div.sk-item {position: relative;z-index: 1;}#sk-container-id-10 div.sk-parallel {display: flex;align-items: stretch;justify-content: center;background-color: white;position: relative;}#sk-container-id-10 div.sk-item::before, #sk-container-id-10 div.sk-parallel-item::before {content: \"\";position: absolute;border-left: 1px solid gray;box-sizing: border-box;top: 0;bottom: 0;left: 50%;z-index: -1;}#sk-container-id-10 div.sk-parallel-item {display: flex;flex-direction: column;z-index: 1;position: relative;background-color: white;}#sk-container-id-10 div.sk-parallel-item:first-child::after {align-self: flex-end;width: 50%;}#sk-container-id-10 div.sk-parallel-item:last-child::after {align-self: flex-start;width: 50%;}#sk-container-id-10 div.sk-parallel-item:only-child::after {width: 0;}#sk-container-id-10 div.sk-dashed-wrapped {border: 1px dashed gray;margin: 0 0.4em 0.5em 0.4em;box-sizing: border-box;padding-bottom: 0.4em;background-color: white;}#sk-container-id-10 div.sk-label label {font-family: monospace;font-weight: bold;display: inline-block;line-height: 1.2em;}#sk-container-id-10 div.sk-label-container {text-align: center;}#sk-container-id-10 div.sk-container {/* jupyter's `normalize.less` sets `[hidden] { display: none; }` but bootstrap.min.css set `[hidden] { display: none !important; }` so we also need the `!important` here to be able to override the default hidden behavior on the sphinx rendered scikit-learn.org. See: https://github.com/scikit-learn/scikit-learn/issues/21755 */display: inline-block !important;position: relative;}#sk-container-id-10 div.sk-text-repr-fallback {display: none;}</style><div id=\"sk-container-id-10\" class=\"sk-top-container\"><div class=\"sk-text-repr-fallback\"><pre>XGBClassifier(base_score=None, booster=None, callbacks=None,\n",
              "              colsample_bylevel=None, colsample_bynode=None,\n",
              "              colsample_bytree=None, device=None, early_stopping_rounds=None,\n",
              "              enable_categorical=False, eta=0.05, eval_metric=None,\n",
              "              feature_types=None, gamma=1, grow_policy=None,\n",
              "              importance_type=None, interaction_constraints=None,\n",
              "              learning_rate=None, max_bin=None, max_cat_threshold=None,\n",
              "              max_cat_to_onehot=None, max_delta_step=None, max_depth=2,\n",
              "              max_leaves=None, min_child_weight=3, missing=nan,\n",
              "              monotone_constraints=None, multi_strategy=None, n_estimators=None,\n",
              "              n_jobs=None, num_parallel_tree=None, ...)</pre><b>In a Jupyter environment, please rerun this cell to show the HTML representation or trust the notebook. <br />On GitHub, the HTML representation is unable to render, please try loading this page with nbviewer.org.</b></div><div class=\"sk-container\" hidden><div class=\"sk-item\"><div class=\"sk-estimator sk-toggleable\"><input class=\"sk-toggleable__control sk-hidden--visually\" id=\"sk-estimator-id-18\" type=\"checkbox\" checked><label for=\"sk-estimator-id-18\" class=\"sk-toggleable__label sk-toggleable__label-arrow\">XGBClassifier</label><div class=\"sk-toggleable__content\"><pre>XGBClassifier(base_score=None, booster=None, callbacks=None,\n",
              "              colsample_bylevel=None, colsample_bynode=None,\n",
              "              colsample_bytree=None, device=None, early_stopping_rounds=None,\n",
              "              enable_categorical=False, eta=0.05, eval_metric=None,\n",
              "              feature_types=None, gamma=1, grow_policy=None,\n",
              "              importance_type=None, interaction_constraints=None,\n",
              "              learning_rate=None, max_bin=None, max_cat_threshold=None,\n",
              "              max_cat_to_onehot=None, max_delta_step=None, max_depth=2,\n",
              "              max_leaves=None, min_child_weight=3, missing=nan,\n",
              "              monotone_constraints=None, multi_strategy=None, n_estimators=None,\n",
              "              n_jobs=None, num_parallel_tree=None, ...)</pre></div></div></div></div></div>"
            ]
          },
          "metadata": {},
          "execution_count": 145
        }
      ],
      "source": [
        "#parameters selected\n",
        "rs_model.best_estimator_"
      ]
    },
    {
      "cell_type": "code",
      "execution_count": null,
      "metadata": {
        "colab": {
          "base_uri": "https://localhost:8080/"
        },
        "id": "bUYURnYsX2pj",
        "outputId": "73d99266-44e8-418d-fc48-ab6d6082f8cc"
      },
      "outputs": [
        {
          "output_type": "stream",
          "name": "stderr",
          "text": [
            "/usr/local/lib/python3.10/dist-packages/ipykernel/ipkernel.py:283: DeprecationWarning: `should_run_async` will not call `transform_cell` automatically in the future. Please pass the result to `transformed_cell` argument and any exception that happen during thetransform in `preprocessing_exc_tuple` in IPython 7.17 and above.\n",
            "  and should_run_async(code)\n"
          ]
        },
        {
          "output_type": "execute_result",
          "data": {
            "text/plain": [
              "0.9645446165191741"
            ]
          },
          "metadata": {},
          "execution_count": 146
        }
      ],
      "source": [
        "rs_model.best_score_"
      ]
    },
    {
      "cell_type": "code",
      "execution_count": null,
      "metadata": {
        "colab": {
          "base_uri": "https://localhost:8080/"
        },
        "id": "sZbwGVA9f-la",
        "outputId": "d7af4f52-0b03-4a3b-fefb-1bd15ec2387a"
      },
      "outputs": [
        {
          "output_type": "stream",
          "name": "stderr",
          "text": [
            "/usr/local/lib/python3.10/dist-packages/ipykernel/ipkernel.py:283: DeprecationWarning: `should_run_async` will not call `transform_cell` automatically in the future. Please pass the result to `transformed_cell` argument and any exception that happen during thetransform in `preprocessing_exc_tuple` in IPython 7.17 and above.\n",
            "  and should_run_async(code)\n"
          ]
        }
      ],
      "source": [
        "#Building final classifier model\n",
        "classifier=xgboost.XGBClassifier(base_score=None, booster=None, callbacks=None,\n",
        "              colsample_bylevel=None, colsample_bynode=None,\n",
        "              colsample_bytree=None, early_stopping_rounds=None,\n",
        "              enable_categorical=False, eta=0.03, eval_metric=None,\n",
        "              feature_types=None, gamma=0, gpu_id=None, grow_policy=None,\n",
        "              importance_type=None, interaction_constraints=None,\n",
        "              learning_rate=None, max_bin=None, max_cat_threshold=None,\n",
        "              max_cat_to_onehot=None, max_delta_step=None, max_depth=30,\n",
        "              max_leaves=None, min_child_weight=9,\n",
        "              monotone_constraints=None, n_estimators=250, n_jobs=None,\n",
        "              num_parallel_tree=None, predictor=None)"
      ]
    },
    {
      "cell_type": "code",
      "execution_count": null,
      "metadata": {
        "colab": {
          "base_uri": "https://localhost:8080/"
        },
        "id": "qbzvIloaq5yB",
        "outputId": "28d46743-051f-4a87-f8a3-c29f45f06d5c"
      },
      "outputs": [
        {
          "output_type": "stream",
          "name": "stderr",
          "text": [
            "/usr/local/lib/python3.10/dist-packages/ipykernel/ipkernel.py:283: DeprecationWarning: `should_run_async` will not call `transform_cell` automatically in the future. Please pass the result to `transformed_cell` argument and any exception that happen during thetransform in `preprocessing_exc_tuple` in IPython 7.17 and above.\n",
            "  and should_run_async(code)\n"
          ]
        }
      ],
      "source": [
        "from sklearn.model_selection import cross_val_score\n",
        "score=cross_val_score(classifier,X_val,y_val)"
      ]
    },
    {
      "cell_type": "code",
      "execution_count": null,
      "metadata": {
        "colab": {
          "base_uri": "https://localhost:8080/"
        },
        "id": "KUJQyzC5q5hI",
        "outputId": "a465711c-435e-4402-ec49-f7d6b415936c"
      },
      "outputs": [
        {
          "output_type": "stream",
          "name": "stdout",
          "text": [
            "[0.90625 0.90625 0.90625 0.90625 0.875  ]\n"
          ]
        },
        {
          "output_type": "stream",
          "name": "stderr",
          "text": [
            "/usr/local/lib/python3.10/dist-packages/ipykernel/ipkernel.py:283: DeprecationWarning: `should_run_async` will not call `transform_cell` automatically in the future. Please pass the result to `transformed_cell` argument and any exception that happen during thetransform in `preprocessing_exc_tuple` in IPython 7.17 and above.\n",
            "  and should_run_async(code)\n"
          ]
        }
      ],
      "source": [
        "print(score)"
      ]
    },
    {
      "cell_type": "code",
      "execution_count": null,
      "metadata": {
        "colab": {
          "base_uri": "https://localhost:8080/",
          "height": 303
        },
        "id": "H1UqjhvixHmJ",
        "outputId": "eb4857cc-b7a1-4e55-8979-32aa418d6660"
      },
      "outputs": [
        {
          "output_type": "stream",
          "name": "stderr",
          "text": [
            "/usr/local/lib/python3.10/dist-packages/ipykernel/ipkernel.py:283: DeprecationWarning: `should_run_async` will not call `transform_cell` automatically in the future. Please pass the result to `transformed_cell` argument and any exception that happen during thetransform in `preprocessing_exc_tuple` in IPython 7.17 and above.\n",
            "  and should_run_async(code)\n"
          ]
        },
        {
          "output_type": "execute_result",
          "data": {
            "text/plain": [
              "XGBClassifier(base_score=None, booster=None, callbacks=None,\n",
              "              colsample_bylevel=None, colsample_bynode=None,\n",
              "              colsample_bytree=None, device=None, early_stopping_rounds=None,\n",
              "              enable_categorical=False, eta=0.03, eval_metric=None,\n",
              "              feature_types=None, gamma=0, gpu_id=None, grow_policy=None,\n",
              "              importance_type=None, interaction_constraints=None,\n",
              "              learning_rate=None, max_bin=None, max_cat_threshold=None,\n",
              "              max_cat_to_onehot=None, max_delta_step=None, max_depth=30,\n",
              "              max_leaves=None, min_child_weight=9, missing=nan,\n",
              "              monotone_constraints=None, multi_strategy=None, n_estimators=250,\n",
              "              n_jobs=None, ...)"
            ],
            "text/html": [
              "<style>#sk-container-id-11 {color: black;background-color: white;}#sk-container-id-11 pre{padding: 0;}#sk-container-id-11 div.sk-toggleable {background-color: white;}#sk-container-id-11 label.sk-toggleable__label {cursor: pointer;display: block;width: 100%;margin-bottom: 0;padding: 0.3em;box-sizing: border-box;text-align: center;}#sk-container-id-11 label.sk-toggleable__label-arrow:before {content: \"▸\";float: left;margin-right: 0.25em;color: #696969;}#sk-container-id-11 label.sk-toggleable__label-arrow:hover:before {color: black;}#sk-container-id-11 div.sk-estimator:hover label.sk-toggleable__label-arrow:before {color: black;}#sk-container-id-11 div.sk-toggleable__content {max-height: 0;max-width: 0;overflow: hidden;text-align: left;background-color: #f0f8ff;}#sk-container-id-11 div.sk-toggleable__content pre {margin: 0.2em;color: black;border-radius: 0.25em;background-color: #f0f8ff;}#sk-container-id-11 input.sk-toggleable__control:checked~div.sk-toggleable__content {max-height: 200px;max-width: 100%;overflow: auto;}#sk-container-id-11 input.sk-toggleable__control:checked~label.sk-toggleable__label-arrow:before {content: \"▾\";}#sk-container-id-11 div.sk-estimator input.sk-toggleable__control:checked~label.sk-toggleable__label {background-color: #d4ebff;}#sk-container-id-11 div.sk-label input.sk-toggleable__control:checked~label.sk-toggleable__label {background-color: #d4ebff;}#sk-container-id-11 input.sk-hidden--visually {border: 0;clip: rect(1px 1px 1px 1px);clip: rect(1px, 1px, 1px, 1px);height: 1px;margin: -1px;overflow: hidden;padding: 0;position: absolute;width: 1px;}#sk-container-id-11 div.sk-estimator {font-family: monospace;background-color: #f0f8ff;border: 1px dotted black;border-radius: 0.25em;box-sizing: border-box;margin-bottom: 0.5em;}#sk-container-id-11 div.sk-estimator:hover {background-color: #d4ebff;}#sk-container-id-11 div.sk-parallel-item::after {content: \"\";width: 100%;border-bottom: 1px solid gray;flex-grow: 1;}#sk-container-id-11 div.sk-label:hover label.sk-toggleable__label {background-color: #d4ebff;}#sk-container-id-11 div.sk-serial::before {content: \"\";position: absolute;border-left: 1px solid gray;box-sizing: border-box;top: 0;bottom: 0;left: 50%;z-index: 0;}#sk-container-id-11 div.sk-serial {display: flex;flex-direction: column;align-items: center;background-color: white;padding-right: 0.2em;padding-left: 0.2em;position: relative;}#sk-container-id-11 div.sk-item {position: relative;z-index: 1;}#sk-container-id-11 div.sk-parallel {display: flex;align-items: stretch;justify-content: center;background-color: white;position: relative;}#sk-container-id-11 div.sk-item::before, #sk-container-id-11 div.sk-parallel-item::before {content: \"\";position: absolute;border-left: 1px solid gray;box-sizing: border-box;top: 0;bottom: 0;left: 50%;z-index: -1;}#sk-container-id-11 div.sk-parallel-item {display: flex;flex-direction: column;z-index: 1;position: relative;background-color: white;}#sk-container-id-11 div.sk-parallel-item:first-child::after {align-self: flex-end;width: 50%;}#sk-container-id-11 div.sk-parallel-item:last-child::after {align-self: flex-start;width: 50%;}#sk-container-id-11 div.sk-parallel-item:only-child::after {width: 0;}#sk-container-id-11 div.sk-dashed-wrapped {border: 1px dashed gray;margin: 0 0.4em 0.5em 0.4em;box-sizing: border-box;padding-bottom: 0.4em;background-color: white;}#sk-container-id-11 div.sk-label label {font-family: monospace;font-weight: bold;display: inline-block;line-height: 1.2em;}#sk-container-id-11 div.sk-label-container {text-align: center;}#sk-container-id-11 div.sk-container {/* jupyter's `normalize.less` sets `[hidden] { display: none; }` but bootstrap.min.css set `[hidden] { display: none !important; }` so we also need the `!important` here to be able to override the default hidden behavior on the sphinx rendered scikit-learn.org. See: https://github.com/scikit-learn/scikit-learn/issues/21755 */display: inline-block !important;position: relative;}#sk-container-id-11 div.sk-text-repr-fallback {display: none;}</style><div id=\"sk-container-id-11\" class=\"sk-top-container\"><div class=\"sk-text-repr-fallback\"><pre>XGBClassifier(base_score=None, booster=None, callbacks=None,\n",
              "              colsample_bylevel=None, colsample_bynode=None,\n",
              "              colsample_bytree=None, device=None, early_stopping_rounds=None,\n",
              "              enable_categorical=False, eta=0.03, eval_metric=None,\n",
              "              feature_types=None, gamma=0, gpu_id=None, grow_policy=None,\n",
              "              importance_type=None, interaction_constraints=None,\n",
              "              learning_rate=None, max_bin=None, max_cat_threshold=None,\n",
              "              max_cat_to_onehot=None, max_delta_step=None, max_depth=30,\n",
              "              max_leaves=None, min_child_weight=9, missing=nan,\n",
              "              monotone_constraints=None, multi_strategy=None, n_estimators=250,\n",
              "              n_jobs=None, ...)</pre><b>In a Jupyter environment, please rerun this cell to show the HTML representation or trust the notebook. <br />On GitHub, the HTML representation is unable to render, please try loading this page with nbviewer.org.</b></div><div class=\"sk-container\" hidden><div class=\"sk-item\"><div class=\"sk-estimator sk-toggleable\"><input class=\"sk-toggleable__control sk-hidden--visually\" id=\"sk-estimator-id-19\" type=\"checkbox\" checked><label for=\"sk-estimator-id-19\" class=\"sk-toggleable__label sk-toggleable__label-arrow\">XGBClassifier</label><div class=\"sk-toggleable__content\"><pre>XGBClassifier(base_score=None, booster=None, callbacks=None,\n",
              "              colsample_bylevel=None, colsample_bynode=None,\n",
              "              colsample_bytree=None, device=None, early_stopping_rounds=None,\n",
              "              enable_categorical=False, eta=0.03, eval_metric=None,\n",
              "              feature_types=None, gamma=0, gpu_id=None, grow_policy=None,\n",
              "              importance_type=None, interaction_constraints=None,\n",
              "              learning_rate=None, max_bin=None, max_cat_threshold=None,\n",
              "              max_cat_to_onehot=None, max_delta_step=None, max_depth=30,\n",
              "              max_leaves=None, min_child_weight=9, missing=nan,\n",
              "              monotone_constraints=None, multi_strategy=None, n_estimators=250,\n",
              "              n_jobs=None, ...)</pre></div></div></div></div></div>"
            ]
          },
          "metadata": {},
          "execution_count": 150
        }
      ],
      "source": [
        "classifier.fit(X_train,y_train)"
      ]
    },
    {
      "cell_type": "code",
      "execution_count": null,
      "metadata": {
        "colab": {
          "base_uri": "https://localhost:8080/"
        },
        "id": "9X1LsFpBwaL6",
        "outputId": "7e938f4e-2a6d-48d8-ea71-5d4a2106f644"
      },
      "outputs": [
        {
          "output_type": "stream",
          "name": "stderr",
          "text": [
            "/usr/local/lib/python3.10/dist-packages/ipykernel/ipkernel.py:283: DeprecationWarning: `should_run_async` will not call `transform_cell` automatically in the future. Please pass the result to `transformed_cell` argument and any exception that happen during thetransform in `preprocessing_exc_tuple` in IPython 7.17 and above.\n",
            "  and should_run_async(code)\n"
          ]
        }
      ],
      "source": [
        "yTestPred = classifier.predict(X_test)"
      ]
    },
    {
      "cell_type": "markdown",
      "metadata": {
        "id": "w1vWhXVcFDe7"
      },
      "source": [
        "**Evaluation metrics on the Test Set**"
      ]
    },
    {
      "cell_type": "code",
      "execution_count": null,
      "metadata": {
        "colab": {
          "base_uri": "https://localhost:8080/"
        },
        "id": "zqXF_B0GL5NC",
        "outputId": "498a0667-888d-49ab-e9ef-e0f64f45eca2"
      },
      "outputs": [
        {
          "output_type": "stream",
          "name": "stdout",
          "text": [
            "XGBoost model accuracy score: 0.9550\n"
          ]
        },
        {
          "output_type": "stream",
          "name": "stderr",
          "text": [
            "/usr/local/lib/python3.10/dist-packages/ipykernel/ipkernel.py:283: DeprecationWarning: `should_run_async` will not call `transform_cell` automatically in the future. Please pass the result to `transformed_cell` argument and any exception that happen during thetransform in `preprocessing_exc_tuple` in IPython 7.17 and above.\n",
            "  and should_run_async(code)\n"
          ]
        }
      ],
      "source": [
        "# compute and print accuracy score\n",
        "from sklearn.metrics import accuracy_score\n",
        "print('XGBoost model accuracy score: {0:0.4f}'. format(accuracy_score(y_test, yTestPred)))"
      ]
    },
    {
      "cell_type": "code",
      "execution_count": null,
      "metadata": {
        "colab": {
          "base_uri": "https://localhost:8080/"
        },
        "id": "q87NqbW-q5Sd",
        "outputId": "995d9cda-c3b3-4893-f253-a937b1c94a83"
      },
      "outputs": [
        {
          "output_type": "stream",
          "name": "stdout",
          "text": [
            "              precision    recall  f1-score   support\n",
            "\n",
            "           0       0.97      0.98      0.98       179\n",
            "           1       0.83      0.71      0.77        21\n",
            "\n",
            "    accuracy                           0.95       200\n",
            "   macro avg       0.90      0.85      0.87       200\n",
            "weighted avg       0.95      0.95      0.95       200\n",
            "\n"
          ]
        },
        {
          "output_type": "stream",
          "name": "stderr",
          "text": [
            "/usr/local/lib/python3.10/dist-packages/ipykernel/ipkernel.py:283: DeprecationWarning: `should_run_async` will not call `transform_cell` automatically in the future. Please pass the result to `transformed_cell` argument and any exception that happen during thetransform in `preprocessing_exc_tuple` in IPython 7.17 and above.\n",
            "  and should_run_async(code)\n"
          ]
        }
      ],
      "source": [
        "from sklearn import metrics\n",
        "\n",
        "## Table of classification metrics\n",
        "print(metrics.classification_report(y_test, yTestPred))"
      ]
    },
    {
      "cell_type": "code",
      "execution_count": null,
      "metadata": {
        "colab": {
          "base_uri": "https://localhost:8080/"
        },
        "id": "VBW0_bkhzeDD",
        "outputId": "2abf0bab-b87e-43c8-94fa-839ce899f3ea"
      },
      "outputs": [
        {
          "output_type": "stream",
          "name": "stdout",
          "text": [
            "[0 0 1 0 0 0 0 0 0 1 0 0 0 0 0 0 0 0 0 0 0 0 0 0 0 0 0 0 0 0 0 0 0 1 0 0 0\n",
            " 0 0 0 0 0 0 1 0 1 0 0 1 0 0 0 0 0 0 0 0 0 0 0 0 0 0 0 1 0 0 0 0 0 0 1 0 0\n",
            " 0 0 0 0 0 0 0 0 0 0 1 0 0 0 0 0 0 1 1 0 0 0 0 0 0 0 0 0 0 0 0 0 0 0 0 0 0\n",
            " 0 0 0 0 0 0 0 0 0 0 0 1 0 0 0 0 0 0 0 0 0 0 0 1 0 0 0 0 1 1 0 0 0 0 0 0 0\n",
            " 0 0 1 0 0 0 0 0 0 0 0 0 0 0 0 1 0 0 0 0 0 0 1 0 0 0 0 0 0 0 0 0 0 0 0 0 0\n",
            " 0 0 0 0 0 0 0 0 0 0 0 0 0 0 0]\n"
          ]
        },
        {
          "output_type": "stream",
          "name": "stderr",
          "text": [
            "/usr/local/lib/python3.10/dist-packages/ipykernel/ipkernel.py:283: DeprecationWarning: `should_run_async` will not call `transform_cell` automatically in the future. Please pass the result to `transformed_cell` argument and any exception that happen during thetransform in `preprocessing_exc_tuple` in IPython 7.17 and above.\n",
            "  and should_run_async(code)\n"
          ]
        }
      ],
      "source": [
        "print(yTestPred)"
      ]
    },
    {
      "cell_type": "code",
      "execution_count": null,
      "metadata": {
        "colab": {
          "base_uri": "https://localhost:8080/",
          "height": 485
        },
        "id": "ye01Y9VQzkI2",
        "outputId": "2869d78c-3165-49a1-a783-7c92578489aa"
      },
      "outputs": [
        {
          "output_type": "stream",
          "name": "stderr",
          "text": [
            "/usr/local/lib/python3.10/dist-packages/ipykernel/ipkernel.py:283: DeprecationWarning: `should_run_async` will not call `transform_cell` automatically in the future. Please pass the result to `transformed_cell` argument and any exception that happen during thetransform in `preprocessing_exc_tuple` in IPython 7.17 and above.\n",
            "  and should_run_async(code)\n"
          ]
        },
        {
          "output_type": "display_data",
          "data": {
            "text/plain": [
              "<Figure size 640x480 with 1 Axes>"
            ],
            "image/png": "[encoded data removed]"
          },
          "metadata": {}
        }
      ],
      "source": [
        "plot_roc(y_test, yTestPred)"
      ]
    },
    {
      "cell_type": "code",
      "source": [],
      "metadata": {
        "colab": {
          "base_uri": "https://localhost:8080/"
        },
        "id": "VUzyB_gGhV7l",
        "outputId": "bd136f12-4156-4bf3-a697-b7eb63db35be"
      },
      "execution_count": null,
      "outputs": [
        {
          "output_type": "stream",
          "name": "stderr",
          "text": [
            "/usr/local/lib/python3.10/dist-packages/ipykernel/ipkernel.py:283: DeprecationWarning: `should_run_async` will not call `transform_cell` automatically in the future. Please pass the result to `transformed_cell` argument and any exception that happen during thetransform in `preprocessing_exc_tuple` in IPython 7.17 and above.\n",
            "  and should_run_async(code)\n"
          ]
        }
      ]
    }
  ],
  "metadata": {
    "colab": {
      "provenance": [],
      "include_colab_link": true
    },
    "kernelspec": {
      "display_name": "Python 3",
      "name": "python3"
    },
    "language_info": {
      "name": "python"
    }
  },
  "nbformat": 4,
  "nbformat_minor": 0
}